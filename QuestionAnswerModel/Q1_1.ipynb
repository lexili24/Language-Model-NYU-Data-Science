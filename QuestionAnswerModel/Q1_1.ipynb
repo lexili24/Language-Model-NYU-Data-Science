{
 "cells": [
  {
   "cell_type": "markdown",
   "metadata": {},
   "source": [
    "## 1. Random QA"
   ]
  },
  {
   "cell_type": "markdown",
   "metadata": {},
   "source": [
    "### 1.1\n",
    "What is the probability $p_k$,n that our random QA system will output an answer with k tokens when given a context paragraph with n token as input?\n",
    "\n",
    "$$p_{k,n} = \\frac{n-k+1}{n(n+1)}$$"
   ]
  },
  {
   "cell_type": "markdown",
   "metadata": {},
   "source": [
    "### 1.2\n",
    "For a ﬁxed n of 100, produce a plot of $p_k$,$n$ and $\\hat{p_k}$,$n$ vs $k$. Design a monte-carlo experiment to estimate the values for $\\hat{p_k}$,$n$ ."
   ]
  },
  {
   "cell_type": "code",
   "execution_count": 1,
   "metadata": {},
   "outputs": [],
   "source": [
    "import matplotlib.pyplot as plt\n",
    "import matplotlib as mpl\n",
    "import numpy as np\n",
    "import datetime\n",
    "import pickle\n",
    "import warnings\n",
    "warnings.filterwarnings('ignore')\n",
    "plt.style.use('classic')\n",
    "%matplotlib inline\n",
    "import seaborn as sns\n",
    "sns.set()\n",
    "plt.rcParams['figure.figsize'] = (8.0, 5.0)"
   ]
  },
  {
   "cell_type": "code",
   "execution_count": 2,
   "metadata": {},
   "outputs": [],
   "source": [
    "def compute_p_given_n_k(n,k):\n",
    "    return 2*(n-k+1)/(n*(n+1))"
   ]
  },
  {
   "cell_type": "code",
   "execution_count": 3,
   "metadata": {},
   "outputs": [],
   "source": [
    "def mc_p_given_n_k(n, k, exp = 10e5):\n",
    "    '''\n",
    "    num_occurance = n - k + 1\n",
    "    q = num_occurance\n",
    "    s: position of length =k in num_total set \n",
    "    (1+q)*q / 2 = s  -- s: the position of where length = k should be in num_total \n",
    "    q = (-1 +/- sqrt(8s + 1))/2\n",
    "    q = n - k +1\n",
    "    k = n - q + 1\n",
    "    k = n - (-1 + sqrt(8s + 1))/2 + 1\n",
    "    k = n - sqrt(8s+1)/2 + 3/2\n",
    "    '''\n",
    "    count = 0\n",
    "    num_total = n * (n+1)/2\n",
    "    for i in range(int(exp)):\n",
    "        s = np.random.randint(1, num_total+1)\n",
    "        length = np.floor(n - (1/2) * (np.sqrt(8*s +1) ) + 3/2)\n",
    "        if length == k:\n",
    "            count += 1\n",
    "    return count/exp"
   ]
  },
  {
   "cell_type": "code",
   "execution_count": 4,
   "metadata": {
    "scrolled": true
   },
   "outputs": [
    {
     "data": {
      "text/plain": [
       "Text(0.5, 1.0, 'probability of QA system output k tokens given context n')"
      ]
     },
     "execution_count": 4,
     "metadata": {},
     "output_type": "execute_result"
    },
    {
     "data": {
      "image/png": "[encoded data removed]",
      "text/plain": [
       "<Figure size 432x288 with 1 Axes>"
      ]
     },
     "metadata": {
      "needs_background": "light"
     },
     "output_type": "display_data"
    }
   ],
   "source": [
    "x = np.arange(1,101,10)\n",
    "prob = [compute_p_given_n_k(100, i) for i in x]\n",
    "mc_prob = [mc_p_given_n_k(100, i) for i in x]\n",
    "plt.plot(x, prob, label = 'emp')\n",
    "plt.plot(x, mc_prob, label = 'mc')\n",
    "plt.legend()\n",
    "plt.title('probability of QA system output k tokens given context n')"
   ]
  },
  {
   "cell_type": "code",
   "execution_count": 2,
   "metadata": {
    "ExecuteTime": {
     "end_time": "2019-12-03T19:39:14.105782Z",
     "start_time": "2019-12-03T19:39:13.631457Z"
    }
   },
   "outputs": [],
   "source": [
    "import numpy as np\n",
    "import matplotlib.pyplot as plt"
   ]
  },
  {
   "cell_type": "code",
   "execution_count": 2,
   "metadata": {},
   "outputs": [],
   "source": [
    "def p_k_n(k, n):\n",
    "    #implement answer from part 1 here\n",
    "    p_k_n = 0.5\n",
    "    return p_k_n"
   ]
  },
  {
   "cell_type": "code",
   "execution_count": 3,
   "metadata": {},
   "outputs": [],
   "source": [
    "def monte_carlo_p_k_n(k, n, T = int(1e5)):\n",
    "    #T is the number of times you run experiment\n",
    "    p_k_n_hat = 1\n",
    "    return p_k_n_hat"
   ]
  },
  {
   "cell_type": "code",
   "execution_count": 4,
   "metadata": {},
   "outputs": [],
   "source": [
    "k_array = np.arange(1, 100, 5)\n",
    "p_k_n_hat = [monte_carlo_p_k_n(k, n=100, T = int(1e5)) for k in k_array]\n",
    "p_k_n = [p_k_n(k, n=100) for k in k_array]"
   ]
  },
  {
   "cell_type": "code",
   "execution_count": 5,
   "metadata": {},
   "outputs": [
    {
     "data": {
      "text/plain": [
       "<matplotlib.legend.Legend at 0x120a7a128>"
      ]
     },
     "execution_count": 5,
     "metadata": {},
     "output_type": "execute_result"
    },
    {
     "data": {
      "image/png": "[encoded data removed]",
      "text/plain": [
       "<Figure size 432x288 with 1 Axes>"
      ]
     },
     "metadata": {
      "needs_background": "light"
     },
     "output_type": "display_data"
    }
   ],
   "source": [
    "plt.plot(k_array, p_k_n_hat, label = r'$\\hat{p_{k,n}}$')\n",
    "plt.plot(k_array, p_k_n, label = r'$p_{k, n}$')\n",
    "plt.legend()"
   ]
  },
  {
   "cell_type": "markdown",
   "metadata": {},
   "source": [
    "### 1.3\n",
    "Calculate the expected length of the answer given by your random QA system. i,e write an expression for $L_n = E[K]$ (It's fine to leave it as a summation)."
   ]
  },
  {
   "cell_type": "markdown",
   "metadata": {},
   "source": [
    "$$ L_n = \\frac{1}{n^2} \\sum_1^n \\sum_1^{e-1} (e - s + 1) + \\frac{1}{n^2} \\sum_1^n \\sum_e^n (s - e + 1)$$"
   ]
  },
  {
   "cell_type": "markdown",
   "metadata": {},
   "source": [
    "### 1.4\n",
    "Plot $\\hat{L_n}$ estimated through monte-carlo simulations and $L_n$ for $n = 5, 10, 25, 50, 100, 250$ and $500$."
   ]
  },
  {
   "cell_type": "code",
   "execution_count": 33,
   "metadata": {
    "ExecuteTime": {
     "end_time": "2019-12-04T00:50:27.327195Z",
     "start_time": "2019-12-04T00:50:27.300356Z"
    }
   },
   "outputs": [],
   "source": [
    "def L_n(n):\n",
    "    #implement answer from above\n",
    "    # Idea is s(start) and e(end) all come from a discrete uniform \n",
    "    # distribution has pmf 1/n, and we want to calculate |s - e + 1|\n",
    "    # So we have \\sum_1^n \\sum_1^e (e - s + 1) 1 / n**2 \n",
    "    # + \\sum_1^n \\sum_e^n (s - e + 1) 1 / n**2\n",
    "    first_term = 0\n",
    "    for e in range(1, n + 1):\n",
    "        for s in range(1, e):\n",
    "            first_term += e - s + 1\n",
    "    second_term = 0\n",
    "    for e in range(1, n + 1):\n",
    "        for s in range(e, n + 1):\n",
    "            first_term += s - e + 1\n",
    "    l_n = (first_term + second_term) / n ** 2\n",
    "    \n",
    "    return l_n\n",
    "\n",
    "def monte_carlo_L_n(n, T = int(1e5)):\n",
    "    #T is the number of times you run experiment\n",
    "    length_list = []\n",
    "    for i in range(T):\n",
    "        while True:\n",
    "            start_loc = np.random.randint(1, n+1)\n",
    "            end_loc = np.random.randint(1, n+1)\n",
    "            if start_loc <= end_loc:\n",
    "                length_list.append(end_loc - start_loc + 1)\n",
    "                break\n",
    "    return length_list"
   ]
  },
  {
   "cell_type": "code",
   "execution_count": 34,
   "metadata": {
    "ExecuteTime": {
     "end_time": "2019-12-04T00:50:34.072142Z",
     "start_time": "2019-12-04T00:50:29.461621Z"
    }
   },
   "outputs": [],
   "source": [
    "n_array = [5, 10, 25, 50, 100, 250, 500]\n",
    "l_n_hat = [np.mean(monte_carlo_L_n(n, T = int(1e5))) for n in n_array]\n",
    "l_n = [L_n( n) for n in n_array]"
   ]
  },
  {
   "cell_type": "code",
   "execution_count": 37,
   "metadata": {
    "ExecuteTime": {
     "end_time": "2019-12-04T00:52:04.428959Z",
     "start_time": "2019-12-04T00:52:04.175084Z"
    }
   },
   "outputs": [
    {
     "data": {
      "image/png": "[encoded data removed]",
      "text/plain": [
       "<Figure size 864x576 with 1 Axes>"
      ]
     },
     "metadata": {},
     "output_type": "display_data"
    }
   ],
   "source": [
    "fig = plt.figure(figsize = (12, 8))\n",
    "plt.plot(n_array, l_n_hat, '-o', label = r'$\\hat{L_n}$')\n",
    "plt.plot(n_array, l_n,  '-*', label = r'$L_n$')\n",
    "plt.legend()\n",
    "plt.show()"
   ]
  },
  {
   "cell_type": "code",
   "execution_count": 2,
   "metadata": {
    "colab": {
     "base_uri": "https://localhost:8080/",
     "height": 87
    },
    "colab_type": "code",
    "id": "Y2YTTWd-KYmy",
    "outputId": "87d50413-8da3-4bf8-a765-3e177569884e"
   },
   "outputs": [
    {
     "name": "stdout",
     "output_type": "stream",
     "text": [
      "Cloning into 'squad'...\n",
      "remote: Enumerating objects: 47, done.\u001b[K\n",
      "remote: Total 47 (delta 0), reused 0 (delta 0), pack-reused 47\u001b[K\n",
      "Unpacking objects: 100% (47/47), done.\n"
     ]
    }
   ],
   "source": [
    "! git clone https://github.com/williamFalcon/squad.git"
   ]
  },
  {
   "cell_type": "code",
   "execution_count": 3,
   "metadata": {
    "colab": {
     "base_uri": "https://localhost:8080/",
     "height": 34
    },
    "colab_type": "code",
    "id": "V9DFSLeSK8nm",
    "outputId": "637603c1-8595-4454-ddf8-d36154cc49d3"
   },
   "outputs": [
    {
     "name": "stdout",
     "output_type": "stream",
     "text": [
      "Already up to date.\n"
     ]
    }
   ],
   "source": [
    "! cd squad/ && git pull"
   ]
  },
  {
   "cell_type": "code",
   "execution_count": 4,
   "metadata": {
    "colab": {
     "base_uri": "https://localhost:8080/",
     "height": 374
    },
    "colab_type": "code",
    "id": "uhDOIpo6K_XE",
    "outputId": "a8495566-492a-408e-b48d-b6b291da4577"
   },
   "outputs": [
    {
     "name": "stdout",
     "output_type": "stream",
     "text": [
      "Collecting ujson\n",
      "\u001b[?25l  Downloading https://files.pythonhosted.org/packages/16/c4/79f3409bc710559015464e5f49b9879430d8f87498ecdc335899732e5377/ujson-1.35.tar.gz (192kB)\n",
      "\u001b[K     |████████████████████████████████| 194kB 4.8MB/s eta 0:00:01\n",
      "\u001b[?25hBuilding wheels for collected packages: ujson\n",
      "  Building wheel for ujson (setup.py) ... \u001b[?25l\u001b[?25hdone\n",
      "  Created wheel for ujson: filename=ujson-1.35-cp36-cp36m-linux_x86_64.whl size=68037 sha256=010a67d8e753da2ae84e424c417692f5334a90f77ff88a722668355b5c3cc19a\n",
      "  Stored in directory: /root/.cache/pip/wheels/28/77/e4/0311145b9c2e2f01470e744855131f9e34d6919687550f87d1\n",
      "Successfully built ujson\n",
      "Installing collected packages: ujson\n",
      "Successfully installed ujson-1.35\n",
      "Collecting tensorboardX\n",
      "\u001b[?25l  Downloading https://files.pythonhosted.org/packages/a6/5c/e918d9f190baab8d55bad52840d8091dd5114cc99f03eaa6d72d404503cc/tensorboardX-1.9-py2.py3-none-any.whl (190kB)\n",
      "\u001b[K     |████████████████████████████████| 194kB 4.9MB/s \n",
      "\u001b[?25hRequirement already satisfied: protobuf>=3.8.0 in /usr/local/lib/python3.6/dist-packages (from tensorboardX) (3.10.0)\n",
      "Requirement already satisfied: six in /usr/local/lib/python3.6/dist-packages (from tensorboardX) (1.12.0)\n",
      "Requirement already satisfied: numpy in /usr/local/lib/python3.6/dist-packages (from tensorboardX) (1.17.4)\n",
      "Requirement already satisfied: setuptools in /usr/local/lib/python3.6/dist-packages (from protobuf>=3.8.0->tensorboardX) (41.6.0)\n",
      "Installing collected packages: tensorboardX\n",
      "Successfully installed tensorboardX-1.9\n"
     ]
    }
   ],
   "source": [
    "! pip install ujson\n",
    "! pip install tensorboardX"
   ]
  },
  {
   "cell_type": "code",
   "execution_count": 5,
   "metadata": {
    "colab": {
     "base_uri": "https://localhost:8080/",
     "height": 818
    },
    "colab_type": "code",
    "id": "bXOjKxKPLWoj",
    "outputId": "9307019e-38b3-4f0b-9c75-ad517e41ab93"
   },
   "outputs": [
    {
     "name": "stdout",
     "output_type": "stream",
     "text": [
      "Downloading GloVe word vectors...\n",
      "glove.840B.300d.zip: 2.18GB [16:55, 2.14MB/s]                \n",
      "Unzipping GloVe word vectors...\n",
      "Downloading spacy language model...\n",
      "Requirement already satisfied: en_core_web_sm==2.1.0 from https://github.com/explosion/spacy-models/releases/download/en_core_web_sm-2.1.0/en_core_web_sm-2.1.0.tar.gz#egg=en_core_web_sm==2.1.0 in /usr/local/lib/python3.6/dist-packages (2.1.0)\n",
      "\u001b[38;5;2m✔ Download and installation successful\u001b[0m\n",
      "You can now load the model via spacy.load('en_core_web_sm')\n",
      "\u001b[38;5;2m✔ Linking successful\u001b[0m\n",
      "/usr/local/lib/python3.6/dist-packages/en_core_web_sm -->\n",
      "/usr/local/lib/python3.6/dist-packages/spacy/data/en\n",
      "You can now load the model via spacy.load('en')\n",
      "Pre-processing train examples...\n",
      "100% 442/442 [01:32<00:00,  1.82it/s]\n",
      "130319 questions in total\n",
      "Pre-processing word vectors...\n",
      "2196018it [03:03, 11964.64it/s]                 \n",
      "88744 / 107454 tokens have corresponding word embedding vector\n",
      "Pre-processing char vectors...\n",
      "1374 tokens have corresponding char embedding vector\n",
      "Pre-processing dev examples...\n",
      "100% 16/16 [00:04<00:00,  3.82it/s]\n",
      "6078 questions in total\n",
      "Converting train examples to indices...\n",
      "130319it [00:42, 3079.60it/s]\n",
      "tcmalloc: large alloc 3326009344 bytes == 0x138fb2000 @  0x7f5f8c7321e7 0x7f5f8a211f71 0x7f5f8a27555d 0x7f5f8a278e28 0x7f5f8a2793e5 0x7f5f8a30ffc2 0x50abc5 0x50c549 0x5081d5 0x50a020 0x50aa1d 0x50c549 0x509ce8 0x50aa1d 0x50c549 0x5081d5 0x50b3a3 0x635082 0x635137 0x6388ef 0x639491 0x4b0f60 0x7f5f8c32fb97 0x5b2eaa\n",
      "Built 129922 / 130319 instances of features in total\n",
      "Converting dev examples to indices...\n",
      "6078it [00:01, 3123.00it/s]\n",
      "Built 5951 / 6078 instances of features in total\n",
      "Pre-processing test examples...\n",
      "100% 20/20 [00:03<00:00,  5.97it/s]\n",
      "5915 questions in total\n",
      "Saving test eval...\n",
      "Converting test examples to indices...\n",
      "5915it [00:01, 3022.51it/s]\n",
      "Built 5915 / 5915 instances of features in total\n",
      "Saving test meta...\n",
      "Saving word embedding...\n",
      "Saving char embedding...\n",
      "Saving train eval...\n",
      "Saving dev eval...\n",
      "Saving word dictionary...\n",
      "Saving char dictionary...\n",
      "Saving dev meta...\n"
     ]
    }
   ],
   "source": [
    "! cd squad/ && python setup.py"
   ]
  },
  {
   "cell_type": "code",
   "execution_count": null,
   "metadata": {
    "colab": {},
    "colab_type": "code",
    "id": "eeZenk5XLBZI"
   },
   "outputs": [],
   "source": [
    "import numpy.random as random\n",
    "import numpy as np\n",
    "seed = 224\n",
    "random.seed(seed)\n",
    "import torch\n",
    "np.random.seed(seed)\n",
    "torch.manual_seed(seed)\n",
    "torch.cuda.manual_seed_all(seed)"
   ]
  },
  {
   "cell_type": "code",
   "execution_count": null,
   "metadata": {
    "colab": {},
    "colab_type": "code",
    "id": "gXBd083BLPmM"
   },
   "outputs": [],
   "source": [
    "import os\n",
    "import sys\n",
    "module_path = os.path.abspath(os.path.join('..'))\n",
    "if module_path not in sys.path:\n",
    "    sys.path.append(module_path)\n",
    "    \n",
    "import numpy as np\n",
    "import random\n",
    "import torch\n",
    "import torch.nn as nn\n",
    "import torch.nn.functional as F\n",
    "import torch.optim as optim\n",
    "import torch.optim.lr_scheduler as sched\n",
    "import torch.utils.data as data\n",
    "\n",
    "from squad.util import collate_fn, SQuAD\n",
    "from collections import OrderedDict\n",
    "from json import dumps\n",
    "from tqdm import tqdm\n",
    "from ujson import load as json_load\n",
    "\n",
    "from squad import layers, util\n",
    "import os"
   ]
  },
  {
   "cell_type": "markdown",
   "metadata": {},
   "source": [
    "### 1.5 \n",
    "Calculate the probability, $p_n$ that Random QA system outputs the correct answer to your question(Assume that there only one occurence of your answer string in the context paragraph).\n",
    "\n",
    "$$p_n = \\frac{2}{(n*(n+1))}$$"
   ]
  },
  {
   "cell_type": "markdown",
   "metadata": {},
   "source": [
    "### 1.6\n",
    "In SQuAD 2.0 data set, the answer for your question can either lie within the context paragraph or there could be no answer within the given paragraph. Let α represent the fraction of questions for which the answer does not lie within the paragraph.\n",
    "\n",
    "(1) Estimate $\\hat{\\alpha}$ from the dataset."
   ]
  },
  {
   "cell_type": "code",
   "execution_count": null,
   "metadata": {
    "colab": {},
    "colab_type": "code",
    "id": "fv_wbBnlYj3w"
   },
   "outputs": [],
   "source": [
    "train_path = os.path.join(DIR, 'squad/data/train.npz')\n",
    "train_loader = data.DataLoader(SQuAD(train_path),\n",
    "                               batch_size=64,\n",
    "                               shuffle=True,\n",
    "                               drop_last=True,\n",
    "                               collate_fn=collate_fn)\n",
    "dev_path = os.path.join(DIR, 'squad/data/dev.npz')\n",
    "dev_loader = data.DataLoader(SQuAD(dev_path),\n",
    "                               batch_size=64,\n",
    "                               shuffle=True,\n",
    "                               drop_last=True,\n",
    "                               collate_fn=collate_fn)\n",
    "test_path = os.path.join(DIR, 'squad/data/test.npz')\n",
    "test_loader = data.DataLoader(SQuAD(test_path),\n",
    "                               batch_size=64,\n",
    "                               shuffle=True,\n",
    "                               drop_last=True,\n",
    "                               collate_fn=collate_fn)"
   ]
  },
  {
   "cell_type": "code",
   "execution_count": null,
   "metadata": {
    "colab": {},
    "colab_type": "code",
    "id": "FtL26vFWYrjF"
   },
   "outputs": [],
   "source": [
    "def estimate_alpha(data_loader):\n",
    "    no_answer = 0\n",
    "    total = 0\n",
    "    for batch in data_loader:\n",
    "        cw_idxs, cc_idxs, qw_idxs, qc_idxs, y1, y2, ids = batch\n",
    "        no_answer += sum(y1 == 0).item()\n",
    "        total += y1.size(-1)    \n",
    "        return no_answer/total"
   ]
  },
  {
   "cell_type": "code",
   "execution_count": null,
   "metadata": {
    "colab": {
     "base_uri": "https://localhost:8080/",
     "height": 34
    },
    "colab_type": "code",
    "id": "mtRPNlKUZAyD",
    "outputId": "50039cb6-03e9-4f08-e975-e7bfe5957213"
   },
   "outputs": [
    {
     "name": "stdout",
     "output_type": "stream",
     "text": [
      "alpha:  0.33364378078817736\n"
     ]
    }
   ],
   "source": [
    "print(\"alpha: \",estimate_alpha(train_loader))"
   ]
  },
  {
   "cell_type": "code",
   "execution_count": null,
   "metadata": {
    "colab": {},
    "colab_type": "code",
    "id": "KSO1t1J5ZI23"
   },
   "outputs": [],
   "source": [
    "\n",
    "## implement random QA model\n",
    "## load dataset \n",
    "## find F1 and EM on Dev Set\n",
    "\n",
    "dev_dataset = SQuAD(dev_path)\n",
    "\n",
    "f1_list = []\n",
    "em_list = []\n",
    "\n",
    "for i in range(100):\n",
    "  f1 = 0.0\n",
    "  em = 0.0\n",
    "  for cw_idxs, cc_idxs, qw_idxs, qc_idxs, y1, y2, ids in dev_dataset:\n",
    "    real_len = sum(cw_idxs != 0).item()\n",
    "    test = np.random.rand()\n",
    "    if test <= alpha:\n",
    "      if y1.item() == 0:\n",
    "        f1 += 1\n",
    "        em += 1\n",
    "    else:\n",
    "      if y1.item() != 0 and y2.item() != 0:\n",
    "        while True:\n",
    "          start_idx = np.random.randint(0,real_len)\n",
    "          end_idx = np.random.randint(0,real_len)\n",
    "          if end_idx >= start_idx:\n",
    "            preds_ids = cw_idxs[start_idx:end_idx+1].tolist()\n",
    "            preds = \" \".join([str(id) for id in preds_ids])\n",
    "            answer_ids = cw_idxs[y1.item():y2.item()+1].tolist()\n",
    "            answer = \" \".join([str(id) for id in answer_ids])\n",
    "            f1 += util.compute_f1(answer,preds)\n",
    "            em += util.compute_em(answer,preds)\n",
    "            break\n",
    "\n",
    "  f1_score = f1/len(dev_dataset)\n",
    "  em_score = em/len(dev_dataset)  \n",
    "  f1_list.append(f1_score)\n",
    "  em_list.append(em_score)"
   ]
  },
  {
   "cell_type": "code",
   "execution_count": null,
   "metadata": {
    "colab": {
     "base_uri": "https://localhost:8080/",
     "height": 87
    },
    "colab_type": "code",
    "id": "Xw4Tc50UZVzt",
    "outputId": "50134e1f-9d02-49bc-b2b0-ff60a473d848"
   },
   "outputs": [
    {
     "name": "stdout",
     "output_type": "stream",
     "text": [
      "mean F1:  0.1941990820614662\n",
      "F1 std:  0.0043236481269492725\n",
      "mean EM:  0.1739539573180978\n",
      "EN std:  0.004376310750118215\n"
     ]
    }
   ],
   "source": [
    "print(\"mean F1: \",np.mean(f1_list))\n",
    "print(\"F1 std: \", np.std(f1_list))\n",
    "print(\"mean EM: \",np.mean(em_list))\n",
    "print(\"EN std: \", np.std(em_list))"
   ]
  }
 ],
 "metadata": {
  "accelerator": "GPU",
  "colab": {
   "collapsed_sections": [],
   "machine_shape": "hm",
   "name": "1+2.1_multiple_final.ipynb",
   "provenance": []
  },
  "kernelspec": {
   "display_name": "Python 3",
   "language": "python",
   "name": "python3"
  },
  "language_info": {
   "codemirror_mode": {
    "name": "ipython",
    "version": 3
   },
   "file_extension": ".py",
   "mimetype": "text/x-python",
   "name": "python",
   "nbconvert_exporter": "python",
   "pygments_lexer": "ipython3",
   "version": "3.7.4"
  }
 },
 "nbformat": 4,
 "nbformat_minor": 4
}
