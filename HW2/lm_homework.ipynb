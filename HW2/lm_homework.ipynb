{
 "cells": [
  {
   "cell_type": "markdown",
   "metadata": {},
   "source": [
    "# DS-GA 1011 Homework 2\n",
    "## N-Gram and Neural Language Modeling"
   ]
  },
  {
   "cell_type": "code",
   "execution_count": 1,
   "metadata": {
    "collapsed": true
   },
   "outputs": [],
   "source": [
    "import os\n",
    "import json\n",
    "import jsonlines\n",
    "import numpy as np\n",
    "from collections import defaultdict\n",
    "import itertools\n",
    "import operator\n",
    "from tqdm import tqdm\n",
    "import torch"
   ]
  },
  {
   "cell_type": "markdown",
   "metadata": {},
   "source": [
    "## I. N-Gram Language Modeling"
   ]
  },
  {
   "cell_type": "markdown",
   "metadata": {},
   "source": [
    "#### Utilities"
   ]
  },
  {
   "cell_type": "code",
   "execution_count": 2,
   "metadata": {
    "collapsed": true
   },
   "outputs": [],
   "source": [
    "def load_wikitext(filename='wikitext2-sentencized.json'):\n",
    "    if not os.path.exists(filename):\n",
    "        !wget \"https://nyu.box.com/shared/static/9kb7l7ci30hb6uahhbssjlq0kctr5ii4.json\" -O $filename\n",
    "    \n",
    "    datasets = json.load(open(filename, 'r'))\n",
    "    for name in datasets:\n",
    "        datasets[name] = [x.split() for x in datasets[name]]\n",
    "    vocab = list(set([t for ts in datasets['train'] for t in ts]))      \n",
    "    print(\"Vocab size: %d\" % (len(vocab)))\n",
    "    return datasets, vocab\n",
    "\n",
    "def perplexity(model, sequences):\n",
    "    n_total = 0\n",
    "    logp_total = 0\n",
    "    for sequence in sequences:\n",
    "        logp_total += model.sequence_logp(sequence)\n",
    "        n_total += len(sequence) + 1  \n",
    "    ppl = 2 ** (- (1.0 / n_total) * logp_total)  \n",
    "    return ppl"
   ]
  },
  {
   "cell_type": "code",
   "execution_count": 3,
   "metadata": {},
   "outputs": [
    {
     "name": "stdout",
     "output_type": "stream",
     "text": [
      "Vocab size: 33175\n"
     ]
    }
   ],
   "source": [
    "datasets, vocab = load_wikitext()"
   ]
  },
  {
   "cell_type": "markdown",
   "metadata": {},
   "source": [
    "### Additive Smoothing"
   ]
  },
  {
   "cell_type": "code",
   "execution_count": 4,
   "metadata": {
    "collapsed": true
   },
   "outputs": [],
   "source": [
    "class NGramAdditive(object):\n",
    "    def __init__(self, n, delta, vsize):\n",
    "        self.n = n\n",
    "        self.delta = delta\n",
    "        self.count = defaultdict(lambda: defaultdict(float))\n",
    "        self.total = defaultdict(float)\n",
    "        self.vsize = vsize\n",
    "    \n",
    "    def estimate(self, sequences):\n",
    "        for sequence in sequences:\n",
    "            padded_sequence = ['<bos>']*(self.n-1) + sequence + ['<eos>']\n",
    "            for i in range(len(padded_sequence) - self.n+1):\n",
    "                ngram = tuple(padded_sequence[i:i+self.n])\n",
    "                prefix, word = ngram[:-1], ngram[-1]\n",
    "                self.count[prefix][word] += 1\n",
    "                self.total[prefix] += 1\n",
    "                \n",
    "    def sequence_logp(self, sequence):\n",
    "        padded_sequence = ['<bos>']*(self.n-1) + sequence + ['<eos>']\n",
    "        total_logp = 0\n",
    "        for i in range(len(padded_sequence) - self.n+1):\n",
    "            ngram = tuple(padded_sequence[i:i+self.n])\n",
    "            total_logp += np.log2(self.ngram_prob(ngram))\n",
    "        return total_logp\n",
    "\n",
    "    def ngram_prob(self, ngram):\n",
    "        prefix = ngram[:-1]\n",
    "        word = ngram[-1]\n",
    "        prob = ((self.delta + self.count[prefix][word]) / \n",
    "                (self.total[prefix] + self.delta*self.vsize))\n",
    "        return prob"
   ]
  },
  {
   "cell_type": "code",
   "execution_count": null,
   "metadata": {
    "collapsed": true
   },
   "outputs": [],
   "source": [
    "\n",
    "# delta = 0.0005\n",
    "# for n in [2, 3, 4]:\n",
    "#     lm = NGramAdditive(n=n, delta=delta, vsize=len(vocab)+1)  # +1 is for <eos>\n",
    "#     lm.estimate(datasets['train'])\n",
    "\n",
    "#     print(\"Baseline (Additive smoothing, n=%d, delta=%.4f)) Train Perplexity: %.3f\" % (n, delta, perplexity(lm, datasets['train'])))\n",
    "#     print(\"Baseline (Additive smoothing, n=%d, delta=%.4f)) Valid Perplexity: %.3f\" % (n, delta, perplexity(lm, datasets['valid'])))"
   ]
  },
  {
   "cell_type": "code",
   "execution_count": null,
   "metadata": {
    "collapsed": true
   },
   "outputs": [],
   "source": [
    "type(vocab)"
   ]
  },
  {
   "cell_type": "code",
   "execution_count": null,
   "metadata": {
    "collapsed": true
   },
   "outputs": [],
   "source": [
    "vocab[:10]"
   ]
  },
  {
   "cell_type": "code",
   "execution_count": null,
   "metadata": {
    "collapsed": true
   },
   "outputs": [],
   "source": [
    "'<unk>' in vocab"
   ]
  },
  {
   "cell_type": "markdown",
   "metadata": {},
   "source": [
    "### I.1 Interpolation"
   ]
  },
  {
   "cell_type": "code",
   "execution_count": null,
   "metadata": {
    "collapsed": true
   },
   "outputs": [],
   "source": [
    "class NGramInterpolation(object):\n",
    "    pass"
   ]
  },
  {
   "cell_type": "markdown",
   "metadata": {},
   "source": [
    "#### Results (showing $\\lambda_0,\\ldots,\\lambda_n$ values):"
   ]
  },
  {
   "cell_type": "code",
   "execution_count": null,
   "metadata": {
    "collapsed": true
   },
   "outputs": [],
   "source": []
  },
  {
   "cell_type": "markdown",
   "metadata": {},
   "source": [
    "## II. Neural Language Modeling with a Recurrent Neural Network"
   ]
  },
  {
   "cell_type": "code",
   "execution_count": 5,
   "metadata": {
    "collapsed": true
   },
   "outputs": [],
   "source": [
    "import torch\n",
    "import torch.nn as nn\n",
    "from torch.utils.data import Dataset, RandomSampler, SequentialSampler,DataLoader\n",
    "import matplotlib.pyplot as plt"
   ]
  },
  {
   "cell_type": "markdown",
   "metadata": {},
   "source": [
    "### Utilities"
   ]
  },
  {
   "cell_type": "code",
   "execution_count": 6,
   "metadata": {
    "collapsed": true
   },
   "outputs": [],
   "source": [
    "class Dictionary(object):\n",
    "    def __init__(self, datasets, include_valid=False):\n",
    "        self.tokens = []\n",
    "        self.ids = {}\n",
    "        self.counts = {}\n",
    "        \n",
    "        # add special tokens\n",
    "        self.add_token('<bos>')\n",
    "        self.add_token('<eos>')\n",
    "        self.add_token('<pad>')\n",
    "        self.add_token('<unk>') # validation token is not seen in the training dataset\n",
    "        \n",
    "        for line in tqdm(datasets['train']):\n",
    "            for w in line:\n",
    "                self.add_token(w)\n",
    "                    \n",
    "        if include_valid is True:\n",
    "            for line in tqdm(datasets['valid']):\n",
    "                for w in line:\n",
    "                    self.add_token(w)\n",
    "                            \n",
    "    def add_token(self, w):\n",
    "        if w not in self.tokens:\n",
    "            self.tokens.append(w)\n",
    "            _w_id = len(self.tokens) - 1\n",
    "            self.ids[w] = _w_id\n",
    "            self.counts[w] = 1\n",
    "        else:\n",
    "            self.counts[w] += 1\n",
    "\n",
    "    def get_id(self, w):\n",
    "        return self.ids[w]\n",
    "    \n",
    "    def get_token(self, idx):\n",
    "        return self.tokens[idx]\n",
    "    \n",
    "    def decode_idx_seq(self, l):\n",
    "        return [self.tokens[i] for i in l]\n",
    "    \n",
    "    def encode_token_seq(self, l):\n",
    "        return [self.ids[i] if i in self.ids else self.ids['<unk>'] for i in l]\n",
    "    \n",
    "    def __len__(self):\n",
    "        return len(self.tokens)"
   ]
  },
  {
   "cell_type": "code",
   "execution_count": 7,
   "metadata": {},
   "outputs": [
    {
     "name": "stderr",
     "output_type": "stream",
     "text": [
      "100%|██████████| 78274/78274 [02:25<00:00, 537.27it/s]"
     ]
    },
    {
     "name": "stdout",
     "output_type": "stream",
     "text": [
      "A description of the dance appears in The Pirate by Sir Walter Scott .\n",
      "\n",
      " encoded - [264, 2526, 5, 6, 3551, 3463, 33, 75, 21527, 28, 1996, 1912, 2767, 39]\n",
      "\n",
      " decoded - ['A', 'description', 'of', 'the', 'dance', 'appears', 'in', 'The', 'Pirate', 'by', 'Sir', 'Walter', 'Scott', '.']\n",
      "length of train_dict is  33178\n",
      "unique words in training dataset is  33175\n"
     ]
    },
    {
     "name": "stderr",
     "output_type": "stream",
     "text": [
      "\n"
     ]
    }
   ],
   "source": [
    "train_dict=Dictionary(datasets) # excluding validation dataset #109\n",
    "#all_dict=Dictionary(datasets, include_valid = True)\n",
    "\n",
    "# example\n",
    "rand_int = np.random.randint(1, len(datasets['valid']))\n",
    "print(' '.join(datasets['valid'][rand_int]))\n",
    "encoded = train_dict.encode_token_seq(datasets['valid'][rand_int])\n",
    "print(f'\\n encoded - {encoded}')\n",
    "decoded = train_dict.decode_idx_seq(encoded)\n",
    "print(f'\\n decoded - {decoded}')\n",
    "\n",
    "# checking\n",
    "print('length of train_dict is ', len(train_dict)) # that's because <unk> is already in the dataset \n",
    "print('unique words in training dataset is ', len(vocab))"
   ]
  },
  {
   "cell_type": "code",
   "execution_count": 8,
   "metadata": {
    "collapsed": true
   },
   "outputs": [],
   "source": [
    "# given the dictionary from above, now write a function that tokenize the all datasets into id's\n",
    "def tokenize_dataset(datasets, dictionary, ngram_order=2):\n",
    "    tokenized_datasets = {}\n",
    "    for split, dataset in datasets.items():\n",
    "        _current_dictified = []\n",
    "        for l in tqdm(dataset):\n",
    "            l = ['<bos>']*(ngram_order-1) + l + ['<eos>']\n",
    "            encoded_l = dictionary.encode_token_seq(l)\n",
    "            _current_dictified.append(encoded_l)\n",
    "        tokenized_datasets[split] = _current_dictified\n",
    "        \n",
    "    return tokenized_datasets\n",
    "\n",
    "# Given a tokenzied dataset with ngram defined, slice the input sequences into n-grams \n",
    "# [0,1,2,3,4,5], 2 -> [0,1], [1,2], [2,3], [3,4], [4,5]\n",
    "def slice_sequences_given_order(tokenized_dataset_with_spec, ngram_order=2):\n",
    "    sliced_datasets = {}\n",
    "    for split, dataset in tokenized_dataset_with_spec.items():\n",
    "        _list_of_sliced_ngrams = []\n",
    "        for seq in tqdm(dataset):\n",
    "            ngrams = [seq[i:i+ngram_order] for i in range(len(seq)-ngram_order+1)]\n",
    "            _list_of_sliced_ngrams.extend(ngrams)\n",
    "        sliced_datasets[split] = _list_of_sliced_ngrams\n",
    "\n",
    "    return sliced_datasets\n",
    "\n",
    "# # Now we create a dataset\n",
    "class NgramDataset(Dataset):\n",
    "    def __init__(self, sliced_dataset_split):\n",
    "        super().__init__()\n",
    "\n",
    "        # for each sample: [:-1] is input, [-1] is target\n",
    "        self.sequences = [torch.tensor(i, dtype=torch.long) for i in sliced_dataset_split]\n",
    "    \n",
    "    def __getitem__(self, i):\n",
    "        sample = self.sequences[i]\n",
    "        return sample\n",
    "\n",
    "    def __len__(self):\n",
    "        return len(self.sequences)\n",
    "\n",
    "def batchify(list_minibatch):\n",
    "    inp_list = [i[:-1] for i in list_minibatch]\n",
    "    tar_list = [i[-1] for i in list_minibatch]\n",
    "\n",
    "    inp_tensor = torch.stack(inp_list, dim=0) # list of tensors and create a new tensor a u-dimension specified by dim\n",
    "    tar_tensor = torch.stack(tar_list, dim=0)\n",
    "    # cat: take a list of tensors and use existing dimension to concatent. Cannot create a new u-dimension speicfied. \n",
    "\n",
    "    return inp_tensor, tar_tensor"
   ]
  },
  {
   "cell_type": "code",
   "execution_count": 9,
   "metadata": {},
   "outputs": [
    {
     "name": "stderr",
     "output_type": "stream",
     "text": [
      "100%|██████████| 78274/78274 [00:00<00:00, 97887.40it/s] \n",
      "100%|██████████| 8464/8464 [00:00<00:00, 111415.29it/s]\n",
      "100%|██████████| 9708/9708 [00:00<00:00, 115366.95it/s]\n",
      "100%|██████████| 78274/78274 [00:02<00:00, 37097.85it/s]\n",
      "100%|██████████| 8464/8464 [00:00<00:00, 129570.81it/s]\n",
      "100%|██████████| 9708/9708 [00:00<00:00, 25977.35it/s]\n"
     ]
    },
    {
     "name": "stdout",
     "output_type": "stream",
     "text": [
      "\n",
      " decoded with spec - ['<bos>', 'The', 'Nataraja', 'and', 'Ardhanarishvara', 'sculptures', 'are', 'also', 'attributed', 'to', 'the', 'Rashtrakutas', '.', '<eos>']\n"
     ]
    }
   ],
   "source": [
    "#  returns dictionary of three items with 'train', 'valid' and 'test' with lists of token ids \n",
    "tokenized_ngram = tokenize_dataset(datasets, train_dict, ngram_order=2)\n",
    "\n",
    "# returns dictionary of three and lists of sliced n-grams\n",
    "sliced_ngram = slice_sequences_given_order(tokenized_ngram, ngram_order=2)\n",
    "\n",
    "# check that the sentence is encoded with (n-1)<bos> and can be decoded back to tokens \n",
    "decoded_with_spec = train_dict.decode_idx_seq(tokenized_ngram['train'][3010])\n",
    "print(f'\\n decoded with spec - {decoded_with_spec}')\n",
    "\n",
    "ngram_datasets = {}\n",
    "ngram_loaders = {}\n",
    "for split, dataset_sliced in sliced_ngram.items():\n",
    "    if split == 'train':\n",
    "        shuffle_ = True\n",
    "    else:\n",
    "        shuffle_ = False\n",
    "    dataset_ = NgramDataset(dataset_sliced)\n",
    "    ngram_datasets[split] = dataset_\n",
    "    ngram_loaders[split] = DataLoader(dataset_, batch_size=2048, shuffle=shuffle_, collate_fn=batchify)"
   ]
  },
  {
   "cell_type": "code",
   "execution_count": 10,
   "metadata": {},
   "outputs": [
    {
     "name": "stdout",
     "output_type": "stream",
     "text": [
      "The length of original training dataset is:  78274\n",
      "The length of tokenzied training dataset is:  78274\n",
      "Slided_ngram for training dataset now has length of  2003028\n"
     ]
    }
   ],
   "source": [
    "print('The length of original training dataset is: ', len(datasets['train']))\n",
    "print('The length of tokenzied training dataset is: ', len(tokenized_ngram['train']))\n",
    "print('Slided_ngram for training dataset now has length of ', len(sliced_ngram['train']))"
   ]
  },
  {
   "cell_type": "code",
   "execution_count": 11,
   "metadata": {},
   "outputs": [
    {
     "name": "stdout",
     "output_type": "stream",
     "text": [
      "[0, 504, 1506, 7106, 741, 459, 20, 140, 98, 432, 19366, 10, 150, 15605, 13, 260, 3748, 955, 1826, 1384, 1145, 98, 1722, 4303, 39, 1]\n",
      "['<bos>', 'This', 'may', 'occur', 'several', 'times', 'a', 'year', 'for', 'young', 'lobsters', ',', 'but', 'decreases', 'to', 'once', 'every', '1', '–', '2', 'years', 'for', 'larger', 'animals', '.', '<eos>']\n"
     ]
    }
   ],
   "source": [
    "print(tokenized_ngram['valid'][10])\n",
    "print(train_dict.decode_idx_seq(tokenized_ngram['valid'][10]))"
   ]
  },
  {
   "cell_type": "code",
   "execution_count": 12,
   "metadata": {
    "collapsed": true
   },
   "outputs": [],
   "source": [
    "class TensoredDataset(Dataset):\n",
    "    def __init__(self, list_of_lists_of_tokens):\n",
    "        self.input_tensors = []\n",
    "        self.target_tensors = []\n",
    "        \n",
    "        for sample in list_of_lists_of_tokens:\n",
    "            self.input_tensors.append(torch.tensor([sample[:-1]], dtype=torch.long))\n",
    "            self.target_tensors.append(torch.tensor([sample[1:]], dtype=torch.long))\n",
    "    \n",
    "    def __len__(self):\n",
    "        return len(self.input_tensors)\n",
    "    \n",
    "    def __getitem__(self, idx):\n",
    "        # return a (input, target) tuple\n",
    "        return (self.input_tensors[idx], self.target_tensors[idx])\n",
    "    \n",
    "def pad_list_of_tensors(list_of_tensors, pad_token):\n",
    "    max_length = max([t.size(-1) for t in list_of_tensors])\n",
    "    padded_list = []\n",
    "    \n",
    "    for t in list_of_tensors:\n",
    "        padded_tensor = torch.cat([t, torch.tensor([[pad_token]*(max_length - t.size(-1))], dtype=torch.long)], dim = -1)\n",
    "        padded_list.append(padded_tensor)\n",
    "        \n",
    "    padded_tensor = torch.cat(padded_list, dim=0)\n",
    "    \n",
    "    return padded_tensor\n",
    "\n",
    "def pad_collate_fn(batch):\n",
    "    # batch is a list of sample tuples\n",
    "    input_list = [s[0] for s in batch]\n",
    "    target_list = [s[1] for s in batch]\n",
    "    \n",
    "    #pad_token = persona_dict.get_id('<pad>')\n",
    "    pad_token = 2\n",
    "    \n",
    "    input_tensor = pad_list_of_tensors(input_list, pad_token)\n",
    "    target_tensor = pad_list_of_tensors(target_list, pad_token)\n",
    "    \n",
    "    return input_tensor, target_tensor\n",
    "\n"
   ]
  },
  {
   "cell_type": "code",
   "execution_count": 13,
   "metadata": {},
   "outputs": [
    {
     "data": {
      "text/plain": [
       "(tensor([[  0, 282,  13, 283, 181, 194, 195, 284,  13,  20, 285, 286,  39]]),\n",
       " tensor([[282,  13, 283, 181, 194, 195, 284,  13,  20, 285, 286,  39,   1]]))"
      ]
     },
     "execution_count": 13,
     "metadata": {},
     "output_type": "execute_result"
    }
   ],
   "source": [
    "tensor_dataset = {}\n",
    "\n",
    "for split, listoflists in tokenized_ngram.items():\n",
    "    tensor_dataset[split] = TensoredDataset(listoflists)\n",
    "    \n",
    "# check the first example\n",
    "tensor_dataset['train'][24]"
   ]
  },
  {
   "cell_type": "code",
   "execution_count": 14,
   "metadata": {
    "collapsed": true
   },
   "outputs": [],
   "source": [
    "loaders = {}\n",
    "batch_size = 32\n",
    "for split, dataset in tensor_dataset.items():\n",
    "    loaders[split] = DataLoader(dataset, batch_size=batch_size, shuffle=True, collate_fn=pad_collate_fn)"
   ]
  },
  {
   "cell_type": "markdown",
   "metadata": {},
   "source": [
    "### Baseline Model: RNN"
   ]
  },
  {
   "cell_type": "code",
   "execution_count": 15,
   "metadata": {
    "collapsed": true
   },
   "outputs": [],
   "source": [
    "from torch.nn import RNNBase, RNN\n",
    "from torch.nn import Embedding\n",
    "from torch.nn import Linear, functional\n",
    "import torch.optim as optim"
   ]
  },
  {
   "cell_type": "code",
   "execution_count": 19,
   "metadata": {},
   "outputs": [
    {
     "data": {
      "text/plain": [
       "torch.Size([33178, 64])"
      ]
     },
     "execution_count": 19,
     "metadata": {},
     "output_type": "execute_result"
    }
   ],
   "source": [
    "# example embedding layer\n",
    "lookup = Embedding(num_embeddings=len(train_dict), embedding_dim=64, padding_idx=train_dict.get_id('<pad>'))\n",
    "lookup.weight.size()\n",
    "# train_dict = vocab size + 4"
   ]
  },
  {
   "cell_type": "code",
   "execution_count": 20,
   "metadata": {},
   "outputs": [
    {
     "name": "stdout",
     "output_type": "stream",
     "text": [
      "discrete input: [[3, 693]]\n",
      "continious input size: torch.Size([1, 2, 64])\n"
     ]
    }
   ],
   "source": [
    "# Example input\n",
    "input_ = train_dict.encode_token_seq('hello world'.split(' '))\n",
    "print(f'discrete input: {[input_]}')\n",
    "\n",
    "input_continious = lookup(torch.tensor([input_], dtype=torch.long))\n",
    "print(f'continious input size: {input_continious.size()}')"
   ]
  },
  {
   "cell_type": "code",
   "execution_count": 21,
   "metadata": {},
   "outputs": [
    {
     "ename": "NameError",
     "evalue": "name 'options' is not defined",
     "output_type": "error",
     "traceback": [
      "\u001b[0;31m---------------------------------------------------------------------------\u001b[0m",
      "\u001b[0;31mNameError\u001b[0m                                 Traceback (most recent call last)",
      "\u001b[0;32m<ipython-input-21-b99a783c755f>\u001b[0m in \u001b[0;36m<module>\u001b[0;34m()\u001b[0m\n\u001b[0;32m----> 1\u001b[0;31m \u001b[0mlookup\u001b[0m \u001b[0;34m=\u001b[0m \u001b[0mnn\u001b[0m\u001b[0;34m.\u001b[0m\u001b[0mEmbedding\u001b[0m\u001b[0;34m(\u001b[0m\u001b[0mnum_embeddings\u001b[0m\u001b[0;34m=\u001b[0m\u001b[0moptions\u001b[0m\u001b[0;34m[\u001b[0m\u001b[0;34m'num_embeddings'\u001b[0m\u001b[0;34m]\u001b[0m\u001b[0;34m,\u001b[0m \u001b[0membedding_dim\u001b[0m\u001b[0;34m=\u001b[0m\u001b[0moptions\u001b[0m\u001b[0;34m[\u001b[0m\u001b[0;34m'embedding_dim'\u001b[0m\u001b[0;34m]\u001b[0m\u001b[0;34m,\u001b[0m \u001b[0mpadding_idx\u001b[0m\u001b[0;34m=\u001b[0m\u001b[0moptions\u001b[0m\u001b[0;34m[\u001b[0m\u001b[0;34m'padding_idx'\u001b[0m\u001b[0;34m]\u001b[0m\u001b[0;34m)\u001b[0m\u001b[0;34m\u001b[0m\u001b[0m\n\u001b[0m\u001b[1;32m      2\u001b[0m \u001b[0;31m# before nn.RNN is hidden\u001b[0m\u001b[0;34m\u001b[0m\u001b[0;34m\u001b[0m\u001b[0m\n\u001b[1;32m      3\u001b[0m \u001b[0;31m# Now: you do lookup table, and returns the tensors of sequence. No need of concat, becuase RNN naturally takes care of this\u001b[0m\u001b[0;34m\u001b[0m\u001b[0;34m\u001b[0m\u001b[0m\n\u001b[1;32m      4\u001b[0m \u001b[0;31m# RNN natrually takes multi sentence inputs and outputs hidden_size\u001b[0m\u001b[0;34m\u001b[0m\u001b[0;34m\u001b[0m\u001b[0m\n\u001b[1;32m      5\u001b[0m \u001b[0mrnn\u001b[0m \u001b[0;34m=\u001b[0m \u001b[0mnn\u001b[0m\u001b[0;34m.\u001b[0m\u001b[0mRNN\u001b[0m\u001b[0;34m(\u001b[0m\u001b[0moptions\u001b[0m\u001b[0;34m[\u001b[0m\u001b[0;34m'input_size'\u001b[0m\u001b[0;34m]\u001b[0m\u001b[0;34m,\u001b[0m \u001b[0moptions\u001b[0m\u001b[0;34m[\u001b[0m\u001b[0;34m'hidden_size'\u001b[0m\u001b[0;34m]\u001b[0m\u001b[0;34m,\u001b[0m \u001b[0moptions\u001b[0m\u001b[0;34m[\u001b[0m\u001b[0;34m'num_layers'\u001b[0m\u001b[0;34m]\u001b[0m\u001b[0;34m,\u001b[0m \u001b[0mdropout\u001b[0m\u001b[0;34m=\u001b[0m\u001b[0moptions\u001b[0m\u001b[0;34m[\u001b[0m\u001b[0;34m'rnn_dropout'\u001b[0m\u001b[0;34m]\u001b[0m\u001b[0;34m,\u001b[0m \u001b[0mbatch_first\u001b[0m\u001b[0;34m=\u001b[0m\u001b[0;32mTrue\u001b[0m\u001b[0;34m)\u001b[0m\u001b[0;34m\u001b[0m\u001b[0m\n",
      "\u001b[0;31mNameError\u001b[0m: name 'options' is not defined"
     ]
    }
   ],
   "source": [
    "lookup = nn.Embedding(num_embeddings=options['num_embeddings'], embedding_dim=options['embedding_dim'], padding_idx=options['padding_idx'])\n",
    "# before nn.RNN is hidden\n",
    "# Now: you do lookup table, and returns the tensors of sequence. No need of concat, becuase RNN naturally takes care of this\n",
    "# RNN natrually takes multi sentence inputs and outputs hidden_size \n",
    "rnn = nn.RNN(options['input_size'], options['hidden_size'], options['num_layers'], dropout=options['rnn_dropout'], batch_first=True)\n",
    "projection = nn.Linear(options['hidden_size'], options['num_embeddings'])"
   ]
  },
  {
   "cell_type": "code",
   "execution_count": 20,
   "metadata": {
    "collapsed": true
   },
   "outputs": [],
   "source": [
    "import torch.nn as nn\n",
    "\n",
    "class RNNLanguageModel(nn.Module):\n",
    "    \"\"\"\n",
    "    This model combines embedding, rnn and projection layer into a single model\n",
    "    \"\"\"\n",
    "    def __init__(self, options):\n",
    "        super().__init__()\n",
    "        \n",
    "        # create each LM part here \n",
    "        self.lookup = nn.Embedding(num_embeddings=options['num_embeddings'], embedding_dim=options['embedding_dim'], padding_idx=options['padding_idx'])\n",
    "        # before nn.RNN is hidden\n",
    "        # Now: you do lookup table, and returns the tensors of sequence. No need of concat, becuase RNN naturally takes care of this\n",
    "        # RNN natrually takes multi sentence inputs and outputs hidden_size \n",
    "        self.rnn = nn.RNN(options['input_size'], options['hidden_size'], options['num_layers'], dropout=options['rnn_dropout'], batch_first=True)\n",
    "        self.projection = nn.Linear(options['hidden_size'], options['num_embeddings'])\n",
    "        \n",
    "    def forward(self, encoded_input_sequence):\n",
    "        \"\"\"\n",
    "        Forward method process the input from token ids to logits\n",
    "        \"\"\"\n",
    "        embeddings = self.lookup(encoded_input_sequence)\n",
    "        rnn_outputs = self.rnn(embeddings)\n",
    "        # project of outputs \n",
    "        # rnn_outputs: tupple with second element being last hidden state. \n",
    "        logits = self.projection(rnn_outputs[0])\n",
    "        \n",
    "        return logits"
   ]
  },
  {
   "cell_type": "code",
   "execution_count": 23,
   "metadata": {
    "collapsed": true
   },
   "outputs": [],
   "source": [
    "load_pretrained = False\n",
    "\n",
    "num_gpus = torch.cuda.device_count()\n",
    "if num_gpus > 0:\n",
    "    current_device = 'cuda'\n",
    "else:\n",
    "    current_device = 'cpu'\n",
    "\n",
    "if load_pretrained:\n",
    "    if not os.path.exists('personachat_rnn_lm.pt'):\n",
    "        raise EOFError('Download pretrained model!')\n",
    "    model_dict = torch.load('personachat_rnn_lm.pt')\n",
    "    \n",
    "    options = model_dict['options']\n",
    "    model = RNNLanguageModel(options).to(current_device)\n",
    "    model.load_state_dict(model_dict['model_dict'])\n",
    "    \n",
    "else:\n",
    "    embedding_size = 64\n",
    "    hidden_size = 128 # output of dimension \n",
    "    num_layers = 2\n",
    "    rnn_dropout = 0.1\n",
    "    input_size = lookup.weight.size(1)\n",
    "    vocab_size = lookup.weight.size(0)\n",
    "    \n",
    "    options = {\n",
    "        'num_embeddings': len(train_dict),\n",
    "        'embedding_dim': embedding_size,\n",
    "        'padding_idx': train_dict.get_id('<pad>'),\n",
    "        'input_size': embedding_size,\n",
    "        'hidden_size': hidden_size,\n",
    "        'num_layers': num_layers,\n",
    "        'rnn_dropout': rnn_dropout,\n",
    "    }\n",
    "\n",
    "    \n",
    "    model = RNNLanguageModel(options).to(current_device)\n",
    "\n",
    "# same as previous nn based \n",
    "criterion = nn.CrossEntropyLoss(ignore_index=train_dict.get_id('<pad>'))\n",
    "\n",
    "model_parameters = [p for p in model.parameters() if p.requires_grad]\n",
    "optimizer = optim.Adam(model_parameters, lr=0.001)\n",
    "\n"
   ]
  },
  {
   "cell_type": "code",
   "execution_count": null,
   "metadata": {
    "collapsed": true
   },
   "outputs": [],
   "source": [
    "# check model\n",
    "model"
   ]
  },
  {
   "cell_type": "code",
   "execution_count": null,
   "metadata": {
    "collapsed": true
   },
   "outputs": [],
   "source": [
    "plot_cache = []\n",
    "min_val_loss = 30\n",
    "\n",
    "for epoch_number in range(30):\n",
    "    avg_loss=0\n",
    "    \n",
    "    if not load_pretrained:\n",
    "        model.train()\n",
    "        train_log_cache = []\n",
    "        for i, (inp, target) in enumerate(loaders['train']):\n",
    "            optimizer.zero_grad()\n",
    "            inp = inp.to(current_device)\n",
    "            target = target.to(current_device)\n",
    "            logits = model(inp)\n",
    "            \n",
    "            loss = criterion(logits.view(-1, logits.size(-1)), target.view(-1))\n",
    "            \n",
    "            loss.backward()\n",
    "            optimizer.step()\n",
    "            \n",
    "            train_log_cache.append(loss.item())\n",
    "            \n",
    "            if i % 100 == 0:\n",
    "                avg_loss = sum(train_log_cache)/len(train_log_cache)\n",
    "                print('Step {} avg train loss = {:.{prec}f}'.format(i, avg_loss, prec=4))\n",
    "                train_log_cache = []\n",
    "            \n",
    "    #do valid\n",
    "    valid_losses = []\n",
    "    model.eval()\n",
    "    with torch.no_grad():\n",
    "        for i, (inp, target) in enumerate(loaders['valid']):\n",
    "            inp = inp.to(current_device)\n",
    "            target = target.to(current_device)\n",
    "            logits = model(inp)\n",
    "\n",
    "            loss = criterion(logits.view(-1, logits.size(-1)), target.view(-1))\n",
    "            valid_losses.append(loss.item())\n",
    "        avg_val_loss = sum(valid_losses) / len(valid_losses)\n",
    "        print('Validation loss after {} epoch = {:.{prec}f}'.format(epoch_number, avg_val_loss, prec=4))\n",
    "        \n",
    "    best = avg_val_loss < min_val_loss\n",
    "    if best:\n",
    "        min_val_loss = avg_val_loss\n",
    "        best_model = model\n",
    "\n",
    "    plot_cache.append((avg_loss, avg_val_loss))\n",
    "\n",
    "    if load_pretrained:\n",
    "        break\n",
    "    \n",
    "print('Saving best model...')\n",
    "torch.save({\n",
    "'options': options,\n",
    "'loss_cache': plot_cache,\n",
    "'model_dict': best_model.state_dict()\n",
    "        }, './baseline_RNN.pt')\n",
    "\n"
   ]
  },
  {
   "cell_type": "code",
   "execution_count": null,
   "metadata": {
    "collapsed": true
   },
   "outputs": [],
   "source": [
    "plot_cache = torch.load('baseline_RNN.pt')['loss_cache']"
   ]
  },
  {
   "cell_type": "code",
   "execution_count": null,
   "metadata": {
    "collapsed": true
   },
   "outputs": [],
   "source": [
    "epochs = np.array(list(range(len(plot_cache))))\n",
    "plt.plot(epochs, [2**(i[0]/np.log(2)) for i in plot_cache], label='Train ppl')\n",
    "plt.plot(epochs, [2**(i[1]/np.log(2)) for i in plot_cache], label='Valid ppl')\n",
    "\n",
    "plt.legend()\n",
    "plt.title('PPL curves of RNN baseline model')\n",
    "plt.show()"
   ]
  },
  {
   "cell_type": "code",
   "execution_count": null,
   "metadata": {
    "collapsed": true
   },
   "outputs": [],
   "source": [
    "perp_rnn = [2**(i[1]/np.log(2)) for i in plot_cache] \n",
    "print('The minimum validation loss occurred at {} and it is {}'.format(perp_rnn.index(min(perp_rnn)),min(perp_rnn)))"
   ]
  },
  {
   "cell_type": "markdown",
   "metadata": {},
   "source": [
    "### II.1 LSTM and Hyper-Parameters"
   ]
  },
  {
   "cell_type": "code",
   "execution_count": 16,
   "metadata": {
    "collapsed": true
   },
   "outputs": [],
   "source": [
    "from torch.nn import LSTM\n",
    "# input_size, hidden_size, num_layers. \n",
    "# Optional: bias = False, dropout = 0 (probability of dropout)\n",
    "# bidirectional = False. \n",
    "rnn = nn.LSTM(10, 20, 2)\n",
    "\n",
    "# input: tensor containing feature of the input sequence \n",
    "# shape: seq_len, batch, input_size\n",
    "input = torch.randn(5,3,10)\n",
    "\n",
    "#h0: tensor contain hidden state for t = seq_len\n",
    "# shape: num_layers * num*directions, batch, hidden_size\n",
    "h0 = torch.randn(2,3,20)\n",
    "\n",
    "#c0: tensor contain cell state for t = seq_length\n",
    "# shape: num_layers * num_directions, batch, hidden_size \n",
    "c0 = torch.randn(2,3,20)\n",
    "\n",
    "# output: shape (seq_len, batch, num_direction * hidden size)\n",
    "output, (hn,cn) = rnn(input, (h0,c0))"
   ]
  },
  {
   "cell_type": "code",
   "execution_count": null,
   "metadata": {
    "collapsed": true
   },
   "outputs": [],
   "source": [
    "# example embedding layer\n",
    "lookup = Embedding(num_embeddings=len(train_dict), embedding_dim=64, padding_idx=train_dict.get_id('<pad>'))\n",
    "lookup.weight.size()\n",
    "# train_dict = vocab size + 3"
   ]
  },
  {
   "cell_type": "code",
   "execution_count": 21,
   "metadata": {
    "collapsed": true
   },
   "outputs": [],
   "source": [
    "# From the baseline, we will stop the epoch around 20 \n",
    "class LSTMModel(nn.Module):\n",
    "    \"\"\"\n",
    "    This model combines embedding, rnn and projection layer into a single model\n",
    "    \"\"\"\n",
    "    def __init__(self, options):\n",
    "        super().__init__()\n",
    "        \n",
    "        # create each LM part here \n",
    "        self.lookup = nn.Embedding(num_embeddings=options['num_embeddings'], embedding_dim=options['embedding_dim'], padding_idx=options['padding_idx'])\n",
    "        self.lstm = nn.LSTM(options['input_size'], options['hidden_size'], options['num_layers'], \n",
    "                            dropout=options['lstm_dropout'], batch_first=True, bias = options['bias'],\n",
    "                           bidirectional = options['bid'])\n",
    "        self.projection = nn.Linear(options['hidden_size'], options['num_embeddings'])\n",
    "        \n",
    "    def forward(self, encoded_input_sequence):\n",
    "        \"\"\"\n",
    "        Forward method process the input from token ids to logits\n",
    "        \"\"\"\n",
    "        embeddings = self.lookup(encoded_input_sequence)\n",
    "        lstm_outputs = self.lstm(embeddings)\n",
    "        # project of outputs \n",
    "        # rnn_outputs: tupple with second element being last hidden state. \n",
    "        logits = self.projection(lstm_outputs[0])\n",
    "        \n",
    "        return logits"
   ]
  },
  {
   "cell_type": "code",
   "execution_count": 17,
   "metadata": {
    "collapsed": true
   },
   "outputs": [],
   "source": [
    "load_pretrained = False\n",
    "\n",
    "num_gpus = torch.cuda.device_count()\n",
    "if num_gpus > 0:\n",
    "    current_device = 'cuda'\n",
    "else:\n",
    "    current_device = 'cpu'\n",
    "\n",
    "if load_pretrained:\n",
    "    if not os.path.exists('personachat_rnn_lm.pt'):\n",
    "        raise EOFError('Download pretrained model!')\n",
    "    model_dict = torch.load('personachat_rnn_lm.pt')\n",
    "    \n",
    "    options = model_dict['options']\n",
    "    model = LSTMModel(options).to(current_device)\n",
    "    model.load_state_dict(model_dict['model_dict'])\n",
    "    \n",
    "else:\n",
    "    embedding_size = 64\n",
    "    hidden_size = 128 # output of dimension \n",
    "    num_layers = 2\n",
    "    lstm_dropout = 0.1\n",
    "#     input_size = lookup.weight.size(1)\n",
    "    vocab_size = len(train_dict)\n",
    "    \n",
    "    options = {\n",
    "        'num_embeddings': len(train_dict),\n",
    "        'embedding_dim': embedding_size,\n",
    "        'padding_idx': train_dict.get_id('<pad>'),\n",
    "        'input_size': embedding_size,\n",
    "        'hidden_size': hidden_size,\n",
    "        'num_layers': num_layers,\n",
    "        'lstm_dropout': lstm_dropout,\n",
    "        'bias': True,\n",
    "        'bid': False \n",
    "    }\n",
    "\n",
    "    \n",
    "    model = LSTMModel(options).to(current_device)\n",
    "\n",
    "# same as previous nn based \n",
    "criterion = nn.CrossEntropyLoss(ignore_index=train_dict.get_id('<pad>'))\n",
    "\n",
    "model_parameters = [p for p in model.parameters() if p.requires_grad]\n",
    "optimizer = optim.Adam(model_parameters, lr=0.001)"
   ]
  },
  {
   "cell_type": "code",
   "execution_count": null,
   "metadata": {
    "collapsed": true
   },
   "outputs": [],
   "source": [
    "#model = LSTMModel(options).to(current_device)\n",
    "\n",
    "plot_cache = []\n",
    "min_val_loss = 20 \n",
    "for epoch_number in range(20):\n",
    "    avg_loss=0\n",
    "    if not load_pretrained:\n",
    "        model.train()\n",
    "        train_log_cache = []\n",
    "        for i, (inp, target) in enumerate(loaders['train']):\n",
    "            optimizer.zero_grad()\n",
    "            inp = inp.to(current_device)\n",
    "            target = target.to(current_device)\n",
    "            logits = model(inp) # we are initializing hidden layer to zeros in each batch \n",
    "            \n",
    "            loss = criterion(logits.view(-1, logits.size(-1)), target.view(-1))\n",
    "            \n",
    "            loss.backward()\n",
    "            optimizer.step()\n",
    "            \n",
    "            train_log_cache.append(loss.item())\n",
    "            \n",
    "            if i % 100 == 0:\n",
    "                avg_loss = sum(train_log_cache)/len(train_log_cache)\n",
    "                print('Step {} avg train loss = {:.{prec}f}'.format(i, avg_loss, prec=4))\n",
    "                train_log_cache = []\n",
    "            \n",
    "    #do valid\n",
    "    valid_losses = []\n",
    "    model.eval()\n",
    "    with torch.no_grad():\n",
    "        for i, (inp, target) in enumerate(loaders['valid']):\n",
    "            inp = inp.to(current_device)\n",
    "            target = target.to(current_device)\n",
    "            logits = model(inp)\n",
    "\n",
    "            loss = criterion(logits.view(-1, logits.size(-1)), target.view(-1))\n",
    "            valid_losses.append(loss.item())\n",
    "        avg_val_loss = sum(valid_losses) / len(valid_losses)\n",
    "        print('Validation loss after {} epoch = {:.{prec}f}'.format(epoch_number, avg_val_loss, prec=4))\n",
    "        best = avg_val_loss < min_val_loss\n",
    "        if best:\n",
    "            min_val_loss = avg_val_loss\n",
    "            best_model = model\n",
    "           \n",
    "    plot_cache.append((avg_loss, avg_val_loss))\n",
    "\n",
    "    if load_pretrained:\n",
    "        break\n",
    "        \n",
    "print('Saving best model...')\n",
    "torch.save({\n",
    "'options': options,\n",
    "'loss_cache': plot_cache,\n",
    "'model_dict': best_model.state_dict()\n",
    "        }, './LSTM_baseline.pt')\n",
    "\n"
   ]
  },
  {
   "cell_type": "code",
   "execution_count": null,
   "metadata": {
    "collapsed": true
   },
   "outputs": [],
   "source": [
    "best_model.parameters()"
   ]
  },
  {
   "cell_type": "code",
   "execution_count": null,
   "metadata": {
    "collapsed": true
   },
   "outputs": [],
   "source": [
    "epochs = np.array(list(range(len(plot_cache))))\n",
    "plt.plot(epochs, [2**(i[0]/np.log(2)) for i in plot_cache], label='Train ppl')\n",
    "plt.plot(epochs, [2**(i[1]/np.log(2)) for i in plot_cache], label='Valid ppl')\n",
    "\n",
    "plt.legend()\n",
    "plt.title('PPL curves of LSTM model')\n",
    "plt.show()"
   ]
  },
  {
   "cell_type": "code",
   "execution_count": null,
   "metadata": {
    "collapsed": true
   },
   "outputs": [],
   "source": [
    "perp = [2**(i[1]/np.log(2)) for i in plot_cache] \n",
    "print('The minimum validation loss occurred at {} and it is {}'.format(perp.index(min(perp)),min(perp)))"
   ]
  },
  {
   "cell_type": "markdown",
   "metadata": {},
   "source": [
    "#### Results (LSTM vs. Baseline)"
   ]
  },
  {
   "cell_type": "code",
   "execution_count": 22,
   "metadata": {
    "collapsed": true
   },
   "outputs": [],
   "source": [
    "import torch\n",
    "import matplotlib.pyplot as plt\n",
    "import numpy as np"
   ]
  },
  {
   "cell_type": "code",
   "execution_count": 28,
   "metadata": {},
   "outputs": [
    {
     "name": "stdout",
     "output_type": "stream",
     "text": [
      "The minimum perplexity of RNN model occurred at 6 and it is 206.36485696272948\n",
      "The minimum perplexity of LSTM model occurred at 3 and it is 168.0075867791675\n"
     ]
    }
   ],
   "source": [
    "# RNN\n",
    "baseline = torch.load('baseline_RNN.pt')['loss_cache']\n",
    "perp_rnn = [2**(i[1]/np.log(2)) for i in baseline] \n",
    "print('The minimum perplexity of RNN model occurred at {} and it is {}'.format(perp_rnn.index(min(perp_rnn)),min(perp_rnn)))\n",
    "\n",
    "#LSTM\n",
    "lstm_loss = torch.load('finetune_LSTM.pt')['loss_cache']\n",
    "perp_lstm = [2**(i[1]/np.log(2)) for i in lstm_loss] \n",
    "print('The minimum perplexity of LSTM model occurred at {} and it is {}'.format(perp_lstm.index(min(perp_lstm)),min(perp_lstm)))\n"
   ]
  },
  {
   "cell_type": "code",
   "execution_count": 37,
   "metadata": {
    "collapsed": true
   },
   "outputs": [],
   "source": [
    "torch.load('finetune_LSTM.pt');"
   ]
  },
  {
   "cell_type": "markdown",
   "metadata": {},
   "source": [
    "#### Performance Variation Based on Hyperparameter Values"
   ]
  },
  {
   "cell_type": "code",
   "execution_count": null,
   "metadata": {
    "collapsed": true
   },
   "outputs": [],
   "source": []
  },
  {
   "cell_type": "markdown",
   "metadata": {},
   "source": [
    "### II.2 Learned Embeddings"
   ]
  },
  {
   "cell_type": "markdown",
   "metadata": {},
   "source": [
    "#### Utilities\n",
    "\n",
    "Below is code to use [UMAP](https://umap-learn.readthedocs.io/en/latest/) to find a 2-dimensional representation of a weight matrix, and plot the resulting 2-dimensional points that correspond to certain words.\n",
    "\n",
    "Use `!pip install umap-learn` to install UMAP."
   ]
  },
  {
   "cell_type": "code",
   "execution_count": 38,
   "metadata": {},
   "outputs": [
    {
     "data": {
      "text/plain": [
       "LSTMModel(\n",
       "  (lookup): Embedding(33178, 300, padding_idx=2)\n",
       "  (lstm): LSTM(300, 300, num_layers=2, batch_first=True, dropout=0.1)\n",
       "  (projection): Linear(in_features=300, out_features=33178, bias=True)\n",
       ")"
      ]
     },
     "execution_count": 38,
     "metadata": {},
     "output_type": "execute_result"
    }
   ],
   "source": [
    "# best parameter: \n",
    "options = {'bias': True,\n",
    "  'bid': False,\n",
    "  'embedding_dim': 300,\n",
    "  'hidden_size': 300,\n",
    "  'input_size': 300,\n",
    "  'lstm_dropout': 0.1,\n",
    "  'num_embeddings': 33178,\n",
    "  'num_layers': 2,\n",
    "  'padding_idx': 2}\n",
    "    \n",
    "model = LSTMModel(options)\n",
    "model.load_state_dict(torch.load('finetune_LSTM.pt')['model_dict'])\n",
    "model.eval()"
   ]
  },
  {
   "cell_type": "code",
   "execution_count": 39,
   "metadata": {},
   "outputs": [
    {
     "name": "stdout",
     "output_type": "stream",
     "text": [
      "Populating the interactive namespace from numpy and matplotlib\n"
     ]
    },
    {
     "name": "stderr",
     "output_type": "stream",
     "text": [
      "/home/sl7085/.conda/envs/myenv/lib/python3.6/site-packages/IPython/core/magics/pylab.py:160: UserWarning: pylab import has clobbered these variables: ['split']\n",
      "`%matplotlib` prevents importing * from pylab and numpy\n",
      "  \"\\n`%matplotlib` prevents importing * from pylab and numpy\"\n"
     ]
    }
   ],
   "source": [
    "%pylab inline \n",
    "import umap\n",
    "import matplotlib.pyplot as plt\n",
    "\n",
    "def umap_plot(weight_matrix, word_ids, words):\n",
    "    \"\"\"Run UMAP on the entire Vxd `weight_matrix` (e.g. model.lookup.weight or model.projection.weight),\n",
    "    And plot the points corresponding to the given `word_ids`. \"\"\"\n",
    "    reduced = umap.UMAP(min_dist=0.0001).fit_transform(weight_matrix.detach().cpu().numpy()) \n",
    "    # transfer tensor back to cpu\n",
    "    plt.figure(figsize=(20,20))\n",
    "\n",
    "    to_plot = reduced[word_ids, :]\n",
    "    plt.scatter(to_plot[:, 0], to_plot[:, 1])\n",
    "    for i, word_id in enumerate(word_ids):\n",
    "        current_point = to_plot[i]\n",
    "        plt.annotate(words[i], (current_point[0], current_point[1]))\n",
    "\n",
    "    plt.grid()\n",
    "    plt.show()"
   ]
  },
  {
   "cell_type": "markdown",
   "metadata": {},
   "source": [
    "#### II.2.1 Word Similarity"
   ]
  },
  {
   "cell_type": "code",
   "execution_count": 40,
   "metadata": {
    "collapsed": true
   },
   "outputs": [],
   "source": [
    "def cos_similarity(weight_matrix, words):\n",
    "#make sure at least appear in the text once \n",
    "    whole_word = list()\n",
    "    for word in words:\n",
    "        if word not in vocab:\n",
    "            raise NotImplementedError(\"selected token must appeared in the corpus once, please replace {}\".format(word))\n",
    "            \n",
    "    # define my cosine similarity. each input is 1 x emb_dim. Therefore evaluate along x'axis returns a scalar \n",
    "    cos = nn.CosineSimilarity(dim = 0, eps = 1e-6)\n",
    "\n",
    "    dis_list = defaultdict(lambda: defaultdict(float))\n",
    "\n",
    "    for w in words:\n",
    "        wid = train_dict.get_id(w)\n",
    "        temp_list = list()\n",
    "        for i in range(len(weight_matrix)):\n",
    "            if i == wid:\n",
    "                continue\n",
    "            else: \n",
    "                dis = cos(weight_matrix[wid], weight_matrix[i])\n",
    "                temp_list.append(tuple((train_dict.get_token(i), dis.item())))\n",
    "        temp_list = sorted(temp_list, key = lambda x: x[-1])\n",
    "        dis_list[w]['worst'] = temp_list[:10]\n",
    "        dis_list[w]['best'] = temp_list[-10:]\n",
    "        worst_words = [x[0] for x in temp_list[:10]]\n",
    "        best_words = [x[0] for x in temp_list[-10:]]\n",
    "        whole_word += worst_words + best_words\n",
    "    return dis_list, whole_word + words"
   ]
  },
  {
   "cell_type": "markdown",
   "metadata": {},
   "source": [
    "#### II.2.2 Embedding Layer"
   ]
  },
  {
   "cell_type": "code",
   "execution_count": 41,
   "metadata": {
    "collapsed": true
   },
   "outputs": [],
   "source": [
    "weight_matrix_lkup = model.lookup.weight\n",
    "words = ['productive', 'teenage','south','antelope','smart']\n",
    "# some verbs, and nouns\n",
    "lkup_list, whole_words_lkup = cos_similarity(weight_matrix_lkup, words)"
   ]
  },
  {
   "cell_type": "code",
   "execution_count": 203,
   "metadata": {},
   "outputs": [
    {
     "data": {
      "text/plain": [
       "[('north', 0.20690467953681946),\n",
       " ('Schadla', 0.20818588137626648),\n",
       " ('portrait', 0.20968344807624817),\n",
       " ('BC', 0.21006181836128235),\n",
       " ('portrayal', 0.21079318225383759),\n",
       " ('restricted', 0.2154316008090973),\n",
       " ('paraspeckles', 0.22105197608470917),\n",
       " ('ardent', 0.22451041638851166),\n",
       " ('southwest', 0.22748103737831116),\n",
       " ('vis', 0.2316005378961563)]"
      ]
     },
     "execution_count": 203,
     "metadata": {},
     "output_type": "execute_result"
    }
   ],
   "source": [
    "lkup_list['south']['best']"
   ]
  },
  {
   "cell_type": "code",
   "execution_count": 204,
   "metadata": {},
   "outputs": [
    {
     "data": {
      "text/plain": [
       "[('U.', -0.23116368055343628),\n",
       " ('Schilling', -0.22379030287265778),\n",
       " ('uncle', -0.2139098346233368),\n",
       " ('cyclone', -0.2102586179971695),\n",
       " ('Torres', -0.20781837403774261),\n",
       " ('Barfleur', -0.20123137533664703),\n",
       " ('Maccabi', -0.20115862786769867),\n",
       " ('hospitalised', -0.1955558955669403),\n",
       " ('pretends', -0.19545026123523712),\n",
       " ('Gen.', -0.19538426399230957)]"
      ]
     },
     "execution_count": 204,
     "metadata": {},
     "output_type": "execute_result"
    }
   ],
   "source": [
    "lkup_list['south']['worst']"
   ]
  },
  {
   "cell_type": "code",
   "execution_count": 44,
   "metadata": {},
   "outputs": [
    {
     "name": "stderr",
     "output_type": "stream",
     "text": [
      "/home/sl7085/.conda/envs/myenv/lib/python3.6/site-packages/numba/compiler.py:602: NumbaPerformanceWarning: \n",
      "The keyword argument 'parallel=True' was specified but no transformation for parallel execution was possible.\n",
      "\n",
      "To find out why, try turning on parallel diagnostics, see http://numba.pydata.org/numba-doc/latest/user/parallel.html#diagnostics for help.\n",
      "\n",
      "File \"../../.conda/envs/myenv/lib/python3.6/site-packages/umap/rp_tree.py\", line 135:\n",
      "@numba.njit(fastmath=True, nogil=True, parallel=True)\n",
      "def euclidean_random_projection_split(data, indices, rng_state):\n",
      "^\n",
      "\n",
      "  self.func_ir.loc))\n",
      "/home/sl7085/.conda/envs/myenv/lib/python3.6/site-packages/umap/nndescent.py:92: NumbaPerformanceWarning: \n",
      "The keyword argument 'parallel=True' was specified but no transformation for parallel execution was possible.\n",
      "\n",
      "To find out why, try turning on parallel diagnostics, see http://numba.pydata.org/numba-doc/latest/user/parallel.html#diagnostics for help.\n",
      "\n",
      "File \"../../.conda/envs/myenv/lib/python3.6/site-packages/umap/utils.py\", line 409:\n",
      "@numba.njit(parallel=True)\n",
      "def build_candidates(current_graph, n_vertices, n_neighbors, max_candidates, rng_state):\n",
      "^\n",
      "\n",
      "  current_graph, n_vertices, n_neighbors, max_candidates, rng_state\n",
      "/home/sl7085/.conda/envs/myenv/lib/python3.6/site-packages/numba/compiler.py:602: NumbaPerformanceWarning: \n",
      "The keyword argument 'parallel=True' was specified but no transformation for parallel execution was possible.\n",
      "\n",
      "To find out why, try turning on parallel diagnostics, see http://numba.pydata.org/numba-doc/latest/user/parallel.html#diagnostics for help.\n",
      "\n",
      "File \"../../.conda/envs/myenv/lib/python3.6/site-packages/umap/nndescent.py\", line 47:\n",
      "    @numba.njit(parallel=True)\n",
      "    def nn_descent(\n",
      "    ^\n",
      "\n",
      "  self.func_ir.loc))\n"
     ]
    },
    {
     "data": {
      "image/png": "[encoded data removed]",
      "text/plain": [
       "<matplotlib.figure.Figure at 0x2ac6c4881fd0>"
      ]
     },
     "metadata": {},
     "output_type": "display_data"
    }
   ],
   "source": [
    "whole_word_ids_lkup = train_dict.encode_token_seq(whole_words_lkup)   # e.g. use dictionary.get_id on a list of words\n",
    "\n",
    "umap_plot(weight_matrix_lkup, whole_word_ids_lkup, whole_words_lkup)"
   ]
  },
  {
   "cell_type": "markdown",
   "metadata": {},
   "source": [
    "#### II.2.3 Projection Layer"
   ]
  },
  {
   "cell_type": "code",
   "execution_count": 45,
   "metadata": {
    "collapsed": true
   },
   "outputs": [],
   "source": [
    "weight_matrix_proj = model.projection.weight\n",
    "words = ['productive', 'teenage','south','antelope','smart']\n",
    "# some verbs, and nouns\n",
    "proj_list, whole_words_proj = cos_similarity(weight_matrix_proj, words)"
   ]
  },
  {
   "cell_type": "code",
   "execution_count": 205,
   "metadata": {},
   "outputs": [
    {
     "data": {
      "text/plain": [
       "[('760', 0.5613622069358826),\n",
       " ('Text', 0.5618151426315308),\n",
       " ('M4', 0.5642557144165039),\n",
       " ('inland', 0.5960940718650818),\n",
       " ('<pad>', 0.5999826192855835),\n",
       " ('<bos>', 0.6068246960639954),\n",
       " ('southeast', 0.6182494759559631),\n",
       " ('northeast', 0.6421924233436584),\n",
       " ('east', 0.7251694202423096),\n",
       " ('north', 0.7630549073219299)]"
      ]
     },
     "execution_count": 205,
     "metadata": {},
     "output_type": "execute_result"
    }
   ],
   "source": [
    "proj_list['south']['best']"
   ]
  },
  {
   "cell_type": "code",
   "execution_count": 206,
   "metadata": {},
   "outputs": [
    {
     "data": {
      "text/plain": [
       "[('deliberately', 0.16700315475463867),\n",
       " ('repeatedly', 0.17614781856536865),\n",
       " ('of', 0.18152759969234467),\n",
       " ('triangle', 0.1911519467830658),\n",
       " ('Utah', 0.1929181069135666),\n",
       " ('triggered', 0.20502281188964844),\n",
       " ('Knight', 0.20585858821868896),\n",
       " ('blacks', 0.2063133865594864),\n",
       " ('spun', 0.20835702121257782),\n",
       " ('viewed', 0.2097426950931549)]"
      ]
     },
     "execution_count": 206,
     "metadata": {},
     "output_type": "execute_result"
    }
   ],
   "source": [
    "proj_list['south']['worst']"
   ]
  },
  {
   "cell_type": "code",
   "execution_count": 51,
   "metadata": {},
   "outputs": [
    {
     "name": "stderr",
     "output_type": "stream",
     "text": [
      "/home/sl7085/.conda/envs/myenv/lib/python3.6/site-packages/numba/compiler.py:602: NumbaPerformanceWarning: \n",
      "The keyword argument 'parallel=True' was specified but no transformation for parallel execution was possible.\n",
      "\n",
      "To find out why, try turning on parallel diagnostics, see http://numba.pydata.org/numba-doc/latest/user/parallel.html#diagnostics for help.\n",
      "\n",
      "File \"../../.conda/envs/myenv/lib/python3.6/site-packages/umap/nndescent.py\", line 47:\n",
      "    @numba.njit(parallel=True)\n",
      "    def nn_descent(\n",
      "    ^\n",
      "\n",
      "  self.func_ir.loc))\n"
     ]
    },
    {
     "data": {
      "image/png": "[encoded data removed]",
      "text/plain": [
       "<matplotlib.figure.Figure at 0x2ac7023bac18>"
      ]
     },
     "metadata": {},
     "output_type": "display_data"
    }
   ],
   "source": [
    "whole_word_ids_proj = train_dict.encode_token_seq(whole_words_proj)  \n",
    "umap_plot(weight_matrix_proj, whole_word_ids_proj, whole_words_proj)"
   ]
  },
  {
   "cell_type": "markdown",
   "metadata": {},
   "source": [
    "From the graph we can see that the embedding and projection layer visualizations are significantly different. The embedding layer cannot really differentiate each word, therefore no cluster is really formed as all words are scattered in the graph. However in the projection layer, words are clustered into groups. Taken for an example, we see a group of 'Utah, Bright, Tokyo, Kansas, Aden, and Oregon', which to me are ideally as the model seems to correctly seperates objectives with location names. However, not all best, worst of words selected are interpretable. For a full list of words produced from a list of words we chose from, reference below: "
   ]
  },
  {
   "cell_type": "code",
   "execution_count": 208,
   "metadata": {},
   "outputs": [
    {
     "name": "stdout",
     "output_type": "stream",
     "text": [
      "Five words we chose are:  ['productive', 'teenage', 'south', 'antelope', 'smart']\n",
      "The words we selected from embedding layers are ['Raonic', 'heel', 'volley', 'upstaged', 'counsel', 'Amalthea', 'shares', 'reliquary', 'Bronson', 'Djedkare', 'love', 'Stanisław', 'Margin', 'LeSportsac', 'flocked', '1738', 'Mariah', 'Giuseppe', 'disregard', 'greenish', 'Press', 'gallons', 'poisoned', 'doses', 'staring', 'belief', 'imitating', 'pavilion', 'morality', 'opinionated', 'heightened', 'Balkan', 'midsummer', 'slender', 'Jelly', 'seventeenth', 'sixteenth', 'pest', 'sixteen', 'strategic', 'U.', 'Schilling', 'uncle', 'cyclone', 'Torres', 'Barfleur', 'Maccabi', 'hospitalised', 'pretends', 'Gen.', 'north', 'Schadla', 'portrait', 'BC', 'portrayal', 'restricted', 'paraspeckles', 'ardent', 'southwest', 'vis', 'Rafael', 'extended', 'Carlos', 'Laughing', 'announce', 'utter', 'forgive', 'Gustav', 'Want', 'postwar', 'aircrew', 'urgency', 'infiltrates', 'sleep', 'disbandment', 'rift', 'wound', 'doping', 'Punch', 'Exit', 'Stephanie', 'Precinct', 'forget', 'sparkling', 'Hibari.', 'pareiasaur', 'permanence', 'odes', 'Statistics', 'artist', 'adequately', 'electroplating', '1623', 'Bolton', 'Walking', 'Ackroyd', 'seasonal', 'uptempo', 'Kurt', '13', 'productive', 'teenage', 'south', 'antelope', 'smart']\n",
      "The words we selected from project layers are ['Kansas', 'Oregon', 'Cloud', 'Bright', 'Aden', 'Vietnamese', 'Tokyo', 'Cruise', 'Rhodesia', 'Heritage', 'lifesize', 'defensible', 'sprawling', 'willed', 'clockwise', 'dose', 'cutaway', 'precaution', 'minded', 'soundstage', 'V.', 'whereas', ',', 'Pine', 'Madonna', 'Jonathan', 'R.', 'Berg', '/', 'Austria', 'disciples', 'revolutionaries', 'younger', 'delivery', 'preacher', 'ethical', 'kiss', 'conversation', 'spy', 'brain', 'deliberately', 'repeatedly', 'of', 'triangle', 'Utah', 'triggered', 'Knight', 'blacks', 'spun', 'viewed', '760', 'Text', 'M4', 'inland', '<pad>', '<bos>', 'southeast', 'northeast', 'east', 'north', 'strictly', 'stripped', '07', 'accordingly', 'Beyond', '145', 'Jamie', 'Madonna', 'Fritt', 'Internationalist', 'lament', 'ferrets', 'myelodysplastic', 'Darcsen', 'apse', 'drawback', 'Esquisses', 'tinge', 'Italianate', 'coloration', ':', ',', 'failures', 'interference', '64', '59', 'cannons', 'scoreless', '/', 'Victory', 'curious', 'incidental', 'villainous', 'eerie', 'irresistible', 'ruthless', 'manses', 'revised', 'melancholy', 'soft', 'productive', 'teenage', 'south', 'antelope', 'smart']\n"
     ]
    }
   ],
   "source": [
    "print('Five words we chose are: ', words)\n",
    "print('The words we selected from embedding layers are', whole_words_lkup)\n",
    "print('The words we selected from project layers are', whole_words_proj)"
   ]
  },
  {
   "cell_type": "markdown",
   "metadata": {},
   "source": [
    "### II.3 Scoring"
   ]
  },
  {
   "cell_type": "code",
   "execution_count": null,
   "metadata": {
    "collapsed": true
   },
   "outputs": [],
   "source": []
  },
  {
   "cell_type": "markdown",
   "metadata": {},
   "source": [
    "#### II.3.2 Highest and Lowest scoring sequences"
   ]
  },
  {
   "cell_type": "code",
   "execution_count": null,
   "metadata": {
    "collapsed": true
   },
   "outputs": [],
   "source": []
  },
  {
   "cell_type": "markdown",
   "metadata": {},
   "source": [
    "#### II.3.3 Modified sequences"
   ]
  },
  {
   "cell_type": "code",
   "execution_count": null,
   "metadata": {
    "collapsed": true
   },
   "outputs": [],
   "source": []
  },
  {
   "cell_type": "markdown",
   "metadata": {},
   "source": [
    "### II.4 Sampling"
   ]
  },
  {
   "cell_type": "code",
   "execution_count": 56,
   "metadata": {
    "collapsed": true
   },
   "outputs": [],
   "source": [
    "class LSTMModelHidden(nn.Module):\n",
    "    \"\"\"\n",
    "    This model Integrate from the previous LSTM model and has a hidden layer as input\n",
    "    \"\"\"\n",
    "    def __init__(self, options):\n",
    "        super().__init__()\n",
    "        \n",
    "        # create each LM part here \n",
    "        self.lookup = nn.Embedding(num_embeddings=options['num_embeddings'], embedding_dim=options['embedding_dim'], padding_idx=options['padding_idx'])\n",
    "        self.lstm = nn.LSTM(options['input_size'], options['hidden_size'], options['num_layers'], \n",
    "                            dropout=options['lstm_dropout'], batch_first=True, bias = options['bias'],\n",
    "                           bidirectional = options['bid'])\n",
    "        self.projection = nn.Linear(options['hidden_size'], options['num_embeddings'])\n",
    "        \n",
    "    def forward(self, encoded_input_sequence, hidden):\n",
    "        \"\"\"\n",
    "        Forward method process the input from token ids to logits\n",
    "        \"\"\"\n",
    "        embeddings = self.lookup(encoded_input_sequence)\n",
    "        lstm_outputs,hidden = self.lstm(embeddings,hidden)\n",
    "        # project of outputs \n",
    "        # rnn_outputs: tupple with second element being last hidden state. \n",
    "        logits = self.projection(lstm_outputs)\n",
    "        \n",
    "        return logits, hidden"
   ]
  },
  {
   "cell_type": "code",
   "execution_count": 57,
   "metadata": {},
   "outputs": [
    {
     "data": {
      "text/plain": [
       "LSTMModelHidden(\n",
       "  (lookup): Embedding(33178, 300, padding_idx=2)\n",
       "  (lstm): LSTM(300, 300, num_layers=2, batch_first=True, dropout=0.1)\n",
       "  (projection): Linear(in_features=300, out_features=33178, bias=True)\n",
       ")"
      ]
     },
     "execution_count": 57,
     "metadata": {},
     "output_type": "execute_result"
    }
   ],
   "source": [
    "# Load the best model\n",
    "num_gpus = torch.cuda.device_count()\n",
    "if num_gpus > 0:\n",
    "    current_device = 'cuda'\n",
    "else:\n",
    "    current_device = 'cpu'\n",
    "\n",
    "options = {'bias': True,\n",
    "  'bid': False,\n",
    "  'embedding_dim': 300,\n",
    "  'hidden_size': 300,\n",
    "  'input_size': 300,\n",
    "  'lstm_dropout': 0.1,\n",
    "  'num_embeddings': 33178,\n",
    "  'num_layers': 2,\n",
    "  'padding_idx': 2}\n",
    "    \n",
    "model = LSTMModelHidden(options)\n",
    "model.load_state_dict(torch.load('finetune_LSTM.pt')['model_dict'])\n",
    "model.eval()"
   ]
  },
  {
   "cell_type": "code",
   "execution_count": 120,
   "metadata": {
    "collapsed": true
   },
   "outputs": [],
   "source": [
    "#from torch.distributions.multinomial import Multinomial\n",
    "\n",
    "def generate_sentence():\n",
    "    # We always begin with <bos> and end at <eos>\n",
    "    begin_id = torch.tensor(train_dict.get_id('<bos>'))\n",
    "    end_id = torch.tensor(train_dict.get_id('<eos>'))\n",
    "\n",
    "    # this is the initialized hidden layer with all zeros\n",
    "    h = torch.zeros(options['num_layers'],1,options['hidden_size'])\n",
    "    c = torch.zeros(options['num_layers'],1,options['hidden_size'])\n",
    "\n",
    "    next_word = begin_id\n",
    "    tokens = list()\n",
    "    tokens.append(next_word)\n",
    "\n",
    "    while next_word != end_id:  # make sure both are type tensor\n",
    "        # Feeding in the hidden states at each state\n",
    "        output, (h,c) = model.forward(next_word.view(1,-1), (h,c)) \n",
    "        \n",
    "        # initialize a softmax function\n",
    "        m = nn.Softmax(dim=-1)\n",
    "        prob = m(output.view(-1))\n",
    "\n",
    "        # use multinomial to predict the next token\n",
    "        next_word = torch.multinomial(prob,1)\n",
    "        \n",
    "        tokens.append(next_word.item())\n",
    "\n",
    "    sentence = train_dict.decode_idx_seq(tokens)\n",
    "    return ' '.join(sentence)"
   ]
  },
  {
   "cell_type": "code",
   "execution_count": 121,
   "metadata": {},
   "outputs": [
    {
     "name": "stderr",
     "output_type": "stream",
     "text": [
      "/home/sl7085/.conda/envs/myenv/lib/python3.6/site-packages/ipykernel_launcher.py:18: UserWarning: To copy construct from a tensor, it is recommended to use sourceTensor.clone().detach() or sourceTensor.clone().detach().requires_grad_(True), rather than torch.tensor(sourceTensor).\n"
     ]
    }
   ],
   "source": [
    "sentences = list()\n",
    "for _ in range(1000):\n",
    "    st = generate_sentence()\n",
    "    sentences.append(st)"
   ]
  },
  {
   "cell_type": "code",
   "execution_count": 155,
   "metadata": {},
   "outputs": [
    {
     "data": {
      "text/plain": [
       "'<bos> = = = Hurricane Brenda and Meteorological News = = <eos>'"
      ]
     },
     "execution_count": 155,
     "metadata": {},
     "output_type": "execute_result"
    }
   ],
   "source": [
    "item = np.random.randint(1000)\n",
    "sentences[item]"
   ]
  },
  {
   "cell_type": "markdown",
   "metadata": {},
   "source": [
    "#### II.4.3 Compare with sequences from validation datasets"
   ]
  },
  {
   "cell_type": "code",
   "execution_count": 177,
   "metadata": {
    "collapsed": true
   },
   "outputs": [],
   "source": [
    "# find the first 1000 sentences from validation samples\n",
    "valid_sentences = []\n",
    "samples = np.arange(len(datasets['valid']))\n",
    "np.random.shuffle(samples)\n",
    "for i in range(1000):\n",
    "    valid_sentences.append('<bos> '+' '.join(datasets['valid'][samples[i]])+' <eos>')"
   ]
  },
  {
   "cell_type": "code",
   "execution_count": 181,
   "metadata": {},
   "outputs": [
    {
     "name": "stdout",
     "output_type": "stream",
     "text": [
      "Number of unique words in the validation sentence is  98\n",
      "Number of unique words in the validation sentence is  104\n"
     ]
    }
   ],
   "source": [
    "# unique set of validation sample\n",
    "unique_valid = len(set(' '.join(valid_sentences)))\n",
    "print('Number of unique words in the validation sequences is ', unique_valid)\n",
    "unique_generate = len(set(' '.join(sentences)))\n",
    "print('Number of unique words from sampling sequences is ', unique_generate)"
   ]
  },
  {
   "cell_type": "code",
   "execution_count": 191,
   "metadata": {},
   "outputs": [
    {
     "name": "stdout",
     "output_type": "stream",
     "text": [
      "Avg length of validation sequences is  132.103\n",
      "Avg length of sampling sequences is 136.238\n"
     ]
    }
   ],
   "source": [
    "print('Avg length of validation sequences is ', sum([len(i) for i in valid_sentences])/len(valid_sentences))\n",
    "print('Avg length of sampling sequences is', sum([len(i) for i in sentences])/len(sentences))"
   ]
  },
  {
   "cell_type": "markdown",
   "metadata": {},
   "source": [
    "From the comparision we can see that for both unique words and average length, validation and sampling sequences are almost similar, although average validation sequence length and number of unique words are lower than sampling sequences overall. "
   ]
  },
  {
   "cell_type": "markdown",
   "metadata": {},
   "source": [
    "#### II.4.4 Example Samples"
   ]
  },
  {
   "cell_type": "code",
   "execution_count": 200,
   "metadata": {},
   "outputs": [
    {
     "name": "stdout",
     "output_type": "stream",
     "text": [
      "<bos> in Hadar of a Celtic shrine ( the \" Shrine \" blood body \" ) from Jain sculpture were known for this house , providing the placard 's original monologue underneath the condensation of a public becoming an acceptance that is questionable . <eos>\n",
      "<bos> Tech received a Miami pass on both St. Louis Cardinals , United States , Big Power Crystal field , and Norwich ( 13 m ) , and then cutting through a broken manner in the intake of control . <eos>\n",
      "<bos> At the site a partial order increase , 52 feet ( 2 @.@ 2 m ) and 36 ft 1 ( 4 @.@ 55 m ) were flooded , and much greater wing moves in that another broadside or passed . <eos>\n"
     ]
    }
   ],
   "source": [
    "samples = np.arange(1000)\n",
    "np.random.shuffle(samples)\n",
    "print(sentences[samples[0]])\n",
    "print(sentences[samples[1]])\n",
    "print(sentences[samples[2]])"
   ]
  },
  {
   "cell_type": "markdown",
   "metadata": {},
   "source": [
    "From those samples above, although the property of unique word and sentence length are consistent with human-generated sentences, but I can still tell that there are model generated since they hardly stay on topic, although they seem to be grammatically correct as the position of the word make sense. "
   ]
  }
 ],
 "metadata": {
  "kernelspec": {
   "display_name": "Python 3",
   "language": "python",
   "name": "python3"
  },
  "language_info": {
   "codemirror_mode": {
    "name": "ipython",
    "version": 3
   },
   "file_extension": ".py",
   "mimetype": "text/x-python",
   "name": "python",
   "nbconvert_exporter": "python",
   "pygments_lexer": "ipython3",
   "version": "3.6.2"
  }
 },
 "nbformat": 4,
 "nbformat_minor": 2
}
