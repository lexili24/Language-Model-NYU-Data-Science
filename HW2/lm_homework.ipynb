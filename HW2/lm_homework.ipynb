{
 "cells": [
  {
   "cell_type": "markdown",
   "metadata": {},
   "source": [
    "# DS-GA 1011 Homework 2\n",
    "## N-Gram and Neural Language Modeling"
   ]
  },
  {
   "cell_type": "code",
   "execution_count": 1,
   "metadata": {
    "collapsed": true
   },
   "outputs": [],
   "source": [
    "import os\n",
    "import json\n",
    "import jsonlines\n",
    "import numpy as np\n",
    "from collections import defaultdict\n",
    "import itertools\n",
    "import operator\n",
    "from tqdm import tqdm"
   ]
  },
  {
   "cell_type": "markdown",
   "metadata": {},
   "source": [
    "## I. N-Gram Language Modeling"
   ]
  },
  {
   "cell_type": "markdown",
   "metadata": {},
   "source": [
    "#### Utilities"
   ]
  },
  {
   "cell_type": "code",
   "execution_count": 2,
   "metadata": {
    "collapsed": true
   },
   "outputs": [],
   "source": [
    "def load_wikitext(filename='wikitext2-sentencized.json'):\n",
    "    if not os.path.exists(filename):\n",
    "        !wget \"https://nyu.box.com/shared/static/9kb7l7ci30hb6uahhbssjlq0kctr5ii4.json\" -O $filename\n",
    "    \n",
    "    datasets = json.load(open(filename, 'r'))\n",
    "    for name in datasets:\n",
    "        datasets[name] = [x.split() for x in datasets[name]]\n",
    "    vocab = list(set([t for ts in datasets['train'] for t in ts]))      \n",
    "    print(\"Vocab size: %d\" % (len(vocab)))\n",
    "    return datasets, vocab\n",
    "\n",
    "def perplexity(model, sequences):\n",
    "    n_total = 0\n",
    "    logp_total = 0\n",
    "    for sequence in sequences:\n",
    "        logp_total += model.sequence_logp(sequence)\n",
    "        n_total += len(sequence) + 1  \n",
    "    ppl = 2 ** (- (1.0 / n_total) * logp_total)  \n",
    "    return ppl"
   ]
  },
  {
   "cell_type": "code",
   "execution_count": 3,
   "metadata": {},
   "outputs": [
    {
     "name": "stdout",
     "output_type": "stream",
     "text": [
      "Vocab size: 33175\n"
     ]
    }
   ],
   "source": [
    "datasets, vocab = load_wikitext()"
   ]
  },
  {
   "cell_type": "markdown",
   "metadata": {},
   "source": [
    "### Additive Smoothing"
   ]
  },
  {
   "cell_type": "code",
   "execution_count": null,
   "metadata": {
    "collapsed": true
   },
   "outputs": [],
   "source": [
    "class NGramAdditive(object):\n",
    "    def __init__(self, n, delta, vsize):\n",
    "        self.n = n\n",
    "        self.delta = delta\n",
    "        self.count = defaultdict(lambda: defaultdict(float))\n",
    "        self.total = defaultdict(float)\n",
    "        self.vsize = vsize\n",
    "    \n",
    "    def estimate(self, sequences):\n",
    "        for sequence in sequences:\n",
    "            padded_sequence = ['<bos>']*(self.n-1) + sequence + ['<eos>']\n",
    "            for i in range(len(padded_sequence) - self.n+1):\n",
    "                ngram = tuple(padded_sequence[i:i+self.n])\n",
    "                prefix, word = ngram[:-1], ngram[-1]\n",
    "                self.count[prefix][word] += 1\n",
    "                self.total[prefix] += 1\n",
    "                \n",
    "    def sequence_logp(self, sequence):\n",
    "        padded_sequence = ['<bos>']*(self.n-1) + sequence + ['<eos>']\n",
    "        total_logp = 0\n",
    "        for i in range(len(padded_sequence) - self.n+1):\n",
    "            ngram = tuple(padded_sequence[i:i+self.n])\n",
    "            total_logp += np.log2(self.ngram_prob(ngram))\n",
    "        return total_logp\n",
    "\n",
    "    def ngram_prob(self, ngram):\n",
    "        prefix = ngram[:-1]\n",
    "        word = ngram[-1]\n",
    "        prob = ((self.delta + self.count[prefix][word]) / \n",
    "                (self.total[prefix] + self.delta*self.vsize))\n",
    "        return prob"
   ]
  },
  {
   "cell_type": "code",
   "execution_count": null,
   "metadata": {},
   "outputs": [],
   "source": [
    "\n",
    "# delta = 0.0005\n",
    "# for n in [2, 3, 4]:\n",
    "#     lm = NGramAdditive(n=n, delta=delta, vsize=len(vocab)+1)  # +1 is for <eos>\n",
    "#     lm.estimate(datasets['train'])\n",
    "\n",
    "#     print(\"Baseline (Additive smoothing, n=%d, delta=%.4f)) Train Perplexity: %.3f\" % (n, delta, perplexity(lm, datasets['train'])))\n",
    "#     print(\"Baseline (Additive smoothing, n=%d, delta=%.4f)) Valid Perplexity: %.3f\" % (n, delta, perplexity(lm, datasets['valid'])))"
   ]
  },
  {
   "cell_type": "code",
   "execution_count": null,
   "metadata": {
    "collapsed": true
   },
   "outputs": [],
   "source": [
    "type(vocab)"
   ]
  },
  {
   "cell_type": "code",
   "execution_count": null,
   "metadata": {
    "collapsed": true
   },
   "outputs": [],
   "source": [
    "vocab[:10]"
   ]
  },
  {
   "cell_type": "code",
   "execution_count": null,
   "metadata": {
    "collapsed": true
   },
   "outputs": [],
   "source": [
    "'<unk>' in vocab"
   ]
  },
  {
   "cell_type": "markdown",
   "metadata": {},
   "source": [
    "### I.1 Interpolation"
   ]
  },
  {
   "cell_type": "code",
   "execution_count": null,
   "metadata": {
    "collapsed": true
   },
   "outputs": [],
   "source": [
    "class NGramInterpolation(object):\n",
    "    pass"
   ]
  },
  {
   "cell_type": "markdown",
   "metadata": {},
   "source": [
    "#### Results (showing $\\lambda_0,\\ldots,\\lambda_n$ values):"
   ]
  },
  {
   "cell_type": "code",
   "execution_count": null,
   "metadata": {
    "collapsed": true
   },
   "outputs": [],
   "source": []
  },
  {
   "cell_type": "markdown",
   "metadata": {},
   "source": [
    "## II. Neural Language Modeling with a Recurrent Neural Network"
   ]
  },
  {
   "cell_type": "code",
   "execution_count": 4,
   "metadata": {
    "collapsed": true
   },
   "outputs": [],
   "source": [
    "import torch\n",
    "import torch.nn as nn\n",
    "from torch.utils.data import Dataset, RandomSampler, SequentialSampler,DataLoader\n",
    "import matplotlib.pyplot as plt"
   ]
  },
  {
   "cell_type": "markdown",
   "metadata": {},
   "source": [
    "### Utilities"
   ]
  },
  {
   "cell_type": "code",
   "execution_count": 5,
   "metadata": {
    "collapsed": true
   },
   "outputs": [],
   "source": [
    "class Dictionary(object):\n",
    "    def __init__(self, datasets, include_valid=False):\n",
    "        self.tokens = []\n",
    "        self.ids = {}\n",
    "        self.counts = {}\n",
    "        \n",
    "        # add special tokens\n",
    "        self.add_token('<bos>')\n",
    "        self.add_token('<eos>')\n",
    "        self.add_token('<pad>')\n",
    "        self.add_token('<unk>') # validation token is not seen in the training dataset\n",
    "        \n",
    "        for line in tqdm(datasets['train']):\n",
    "            for w in line:\n",
    "                self.add_token(w)\n",
    "                    \n",
    "        if include_valid is True:\n",
    "            for line in tqdm(datasets['valid']):\n",
    "                for w in line:\n",
    "                    self.add_token(w)\n",
    "                            \n",
    "    def add_token(self, w):\n",
    "        if w not in self.tokens:\n",
    "            self.tokens.append(w)\n",
    "            _w_id = len(self.tokens) - 1\n",
    "            self.ids[w] = _w_id\n",
    "            self.counts[w] = 1\n",
    "        else:\n",
    "            self.counts[w] += 1\n",
    "\n",
    "    def get_id(self, w):\n",
    "        return self.ids[w]\n",
    "    \n",
    "    def get_token(self, idx):\n",
    "        return self.tokens[idx]\n",
    "    \n",
    "    def decode_idx_seq(self, l):\n",
    "        return [self.tokens[i] for i in l]\n",
    "    \n",
    "    def encode_token_seq(self, l):\n",
    "        return [self.ids[i] if i in self.ids else self.ids['<unk>'] for i in l]\n",
    "    \n",
    "    def __len__(self):\n",
    "        return len(self.tokens)"
   ]
  },
  {
   "cell_type": "code",
   "execution_count": 6,
   "metadata": {},
   "outputs": [
    {
     "name": "stderr",
     "output_type": "stream",
     "text": [
      "100%|██████████| 78274/78274 [03:06<00:00, 420.77it/s]"
     ]
    },
    {
     "name": "stdout",
     "output_type": "stream",
     "text": [
      "The writing staff used their individual childhood experiences as inspirations to come up with much of the story lines for this episode .\n",
      "\n",
      " encoded - [75, 3524, 593, 332, 280, 205, 2157, 8263, 14, 11814, 13, 610, 408, 111, 705, 5, 6, 48, 1245, 98, 460, 933, 39]\n",
      "\n",
      " decoded - ['The', 'writing', 'staff', 'used', 'their', 'individual', 'childhood', 'experiences', 'as', 'inspirations', 'to', 'come', 'up', 'with', 'much', 'of', 'the', 'story', 'lines', 'for', 'this', 'episode', '.']\n",
      "length of train_dict is  33178\n",
      "unique words in training dataset is  33175\n"
     ]
    },
    {
     "name": "stderr",
     "output_type": "stream",
     "text": [
      "\n"
     ]
    }
   ],
   "source": [
    "train_dict=Dictionary(datasets) # excluding validation dataset #109\n",
    "#all_dict=Dictionary(datasets, include_valid = True)\n",
    "\n",
    "# example\n",
    "rand_int = np.random.randint(1, len(datasets['valid']))\n",
    "print(' '.join(datasets['valid'][rand_int]))\n",
    "encoded = train_dict.encode_token_seq(datasets['valid'][rand_int])\n",
    "print(f'\\n encoded - {encoded}')\n",
    "decoded = train_dict.decode_idx_seq(encoded)\n",
    "print(f'\\n decoded - {decoded}')\n",
    "\n",
    "# checking\n",
    "print('length of train_dict is ', len(train_dict)) # that's because <unk> is already in the dataset \n",
    "print('unique words in training dataset is ', len(vocab))"
   ]
  },
  {
   "cell_type": "code",
   "execution_count": 7,
   "metadata": {
    "collapsed": true
   },
   "outputs": [],
   "source": [
    "# given the dictionary from above, now write a function that tokenize the all datasets into id's\n",
    "def tokenize_dataset(datasets, dictionary, ngram_order=2):\n",
    "    tokenized_datasets = {}\n",
    "    for split, dataset in datasets.items():\n",
    "        _current_dictified = []\n",
    "        for l in tqdm(dataset):\n",
    "            l = ['<bos>']*(ngram_order-1) + l + ['<eos>']\n",
    "            encoded_l = dictionary.encode_token_seq(l)\n",
    "            _current_dictified.append(encoded_l)\n",
    "        tokenized_datasets[split] = _current_dictified\n",
    "        \n",
    "    return tokenized_datasets\n",
    "\n",
    "# Given a tokenzied dataset with ngram defined, slice the input sequences into n-grams \n",
    "# [0,1,2,3,4,5], 2 -> [0,1], [1,2], [2,3], [3,4], [4,5]\n",
    "def slice_sequences_given_order(tokenized_dataset_with_spec, ngram_order=2):\n",
    "    sliced_datasets = {}\n",
    "    for split, dataset in tokenized_dataset_with_spec.items():\n",
    "        _list_of_sliced_ngrams = []\n",
    "        for seq in tqdm(dataset):\n",
    "            ngrams = [seq[i:i+ngram_order] for i in range(len(seq)-ngram_order+1)]\n",
    "            _list_of_sliced_ngrams.extend(ngrams)\n",
    "        sliced_datasets[split] = _list_of_sliced_ngrams\n",
    "\n",
    "    return sliced_datasets\n",
    "\n",
    "# # Now we create a dataset\n",
    "class NgramDataset(Dataset):\n",
    "    def __init__(self, sliced_dataset_split):\n",
    "        super().__init__()\n",
    "\n",
    "        # for each sample: [:-1] is input, [-1] is target\n",
    "        self.sequences = [torch.tensor(i, dtype=torch.long) for i in sliced_dataset_split]\n",
    "    \n",
    "    def __getitem__(self, i):\n",
    "        sample = self.sequences[i]\n",
    "        return sample\n",
    "\n",
    "    def __len__(self):\n",
    "        return len(self.sequences)\n",
    "\n",
    "def batchify(list_minibatch):\n",
    "    inp_list = [i[:-1] for i in list_minibatch]\n",
    "    tar_list = [i[-1] for i in list_minibatch]\n",
    "\n",
    "    inp_tensor = torch.stack(inp_list, dim=0) # list of tensors and create a new tensor a u-dimension specified by dim\n",
    "    tar_tensor = torch.stack(tar_list, dim=0)\n",
    "    # cat: take a list of tensors and use existing dimension to concatent. Cannot create a new u-dimension speicfied. \n",
    "\n",
    "    return inp_tensor, tar_tensor"
   ]
  },
  {
   "cell_type": "code",
   "execution_count": 8,
   "metadata": {},
   "outputs": [
    {
     "name": "stderr",
     "output_type": "stream",
     "text": [
      "100%|██████████| 78274/78274 [00:01<00:00, 77126.26it/s]\n",
      "100%|██████████| 8464/8464 [00:00<00:00, 86192.84it/s]\n",
      "100%|██████████| 9708/9708 [00:00<00:00, 87176.48it/s]\n",
      "100%|██████████| 78274/78274 [00:02<00:00, 33204.60it/s]\n",
      "100%|██████████| 8464/8464 [00:00<00:00, 90892.68it/s]\n",
      "100%|██████████| 9708/9708 [00:00<00:00, 23673.10it/s]\n"
     ]
    },
    {
     "name": "stdout",
     "output_type": "stream",
     "text": [
      "\n",
      " decoded with spec - ['<bos>', 'The', 'Nataraja', 'and', 'Ardhanarishvara', 'sculptures', 'are', 'also', 'attributed', 'to', 'the', 'Rashtrakutas', '.', '<eos>']\n"
     ]
    }
   ],
   "source": [
    "#  returns dictionary of three items with 'train', 'valid' and 'test' with lists of token ids \n",
    "tokenized_ngram = tokenize_dataset(datasets, train_dict, ngram_order=2)\n",
    "\n",
    "# returns dictionary of three and lists of sliced n-grams\n",
    "sliced_ngram = slice_sequences_given_order(tokenized_ngram, ngram_order=2)\n",
    "\n",
    "# check that the sentence is encoded with (n-1)<bos> and can be decoded back to tokens \n",
    "decoded_with_spec = train_dict.decode_idx_seq(tokenized_ngram['train'][3010])\n",
    "print(f'\\n decoded with spec - {decoded_with_spec}')\n",
    "\n",
    "ngram_datasets = {}\n",
    "ngram_loaders = {}\n",
    "for split, dataset_sliced in sliced_ngram.items():\n",
    "    if split == 'train':\n",
    "        shuffle_ = True\n",
    "    else:\n",
    "        shuffle_ = False\n",
    "    dataset_ = NgramDataset(dataset_sliced)\n",
    "    ngram_datasets[split] = dataset_\n",
    "    ngram_loaders[split] = DataLoader(dataset_, batch_size=2048, shuffle=shuffle_, collate_fn=batchify)"
   ]
  },
  {
   "cell_type": "code",
   "execution_count": 9,
   "metadata": {},
   "outputs": [
    {
     "name": "stdout",
     "output_type": "stream",
     "text": [
      "The length of original training dataset is:  78274\n",
      "The length of tokenzied training dataset is:  78274\n",
      "Slided_ngram for training dataset now has length of  2003028\n"
     ]
    }
   ],
   "source": [
    "print('The length of original training dataset is: ', len(datasets['train']))\n",
    "print('The length of tokenzied training dataset is: ', len(tokenized_ngram['train']))\n",
    "print('Slided_ngram for training dataset now has length of ', len(sliced_ngram['train']))"
   ]
  },
  {
   "cell_type": "code",
   "execution_count": 10,
   "metadata": {},
   "outputs": [
    {
     "name": "stdout",
     "output_type": "stream",
     "text": [
      "[0, 504, 1506, 7106, 741, 459, 20, 140, 98, 432, 19366, 10, 150, 15605, 13, 260, 3748, 955, 1826, 1384, 1145, 98, 1722, 4303, 39, 1]\n",
      "['<bos>', 'This', 'may', 'occur', 'several', 'times', 'a', 'year', 'for', 'young', 'lobsters', ',', 'but', 'decreases', 'to', 'once', 'every', '1', '–', '2', 'years', 'for', 'larger', 'animals', '.', '<eos>']\n"
     ]
    }
   ],
   "source": [
    "print(tokenized_ngram['valid'][10])\n",
    "print(train_dict.decode_idx_seq(tokenized_ngram['valid'][10]))"
   ]
  },
  {
   "cell_type": "code",
   "execution_count": 11,
   "metadata": {
    "collapsed": true
   },
   "outputs": [],
   "source": [
    "class TensoredDataset(Dataset):\n",
    "    def __init__(self, list_of_lists_of_tokens):\n",
    "        self.input_tensors = []\n",
    "        self.target_tensors = []\n",
    "        \n",
    "        for sample in list_of_lists_of_tokens:\n",
    "            self.input_tensors.append(torch.tensor([sample[:-1]], dtype=torch.long))\n",
    "            self.target_tensors.append(torch.tensor([sample[1:]], dtype=torch.long))\n",
    "    \n",
    "    def __len__(self):\n",
    "        return len(self.input_tensors)\n",
    "    \n",
    "    def __getitem__(self, idx):\n",
    "        # return a (input, target) tuple\n",
    "        return (self.input_tensors[idx], self.target_tensors[idx])\n",
    "    \n",
    "def pad_list_of_tensors(list_of_tensors, pad_token):\n",
    "    max_length = max([t.size(-1) for t in list_of_tensors])\n",
    "    padded_list = []\n",
    "    \n",
    "    for t in list_of_tensors:\n",
    "        padded_tensor = torch.cat([t, torch.tensor([[pad_token]*(max_length - t.size(-1))], dtype=torch.long)], dim = -1)\n",
    "        padded_list.append(padded_tensor)\n",
    "        \n",
    "    padded_tensor = torch.cat(padded_list, dim=0)\n",
    "    \n",
    "    return padded_tensor\n",
    "\n",
    "def pad_collate_fn(batch):\n",
    "    # batch is a list of sample tuples\n",
    "    input_list = [s[0] for s in batch]\n",
    "    target_list = [s[1] for s in batch]\n",
    "    \n",
    "    #pad_token = persona_dict.get_id('<pad>')\n",
    "    pad_token = 2\n",
    "    \n",
    "    input_tensor = pad_list_of_tensors(input_list, pad_token)\n",
    "    target_tensor = pad_list_of_tensors(target_list, pad_token)\n",
    "    \n",
    "    return input_tensor, target_tensor\n",
    "\n"
   ]
  },
  {
   "cell_type": "code",
   "execution_count": 12,
   "metadata": {},
   "outputs": [
    {
     "data": {
      "text/plain": [
       "(tensor([[  0, 282,  13, 283, 181, 194, 195, 284,  13,  20, 285, 286,  39]]),\n",
       " tensor([[282,  13, 283, 181, 194, 195, 284,  13,  20, 285, 286,  39,   1]]))"
      ]
     },
     "execution_count": 12,
     "metadata": {},
     "output_type": "execute_result"
    }
   ],
   "source": [
    "tensor_dataset = {}\n",
    "\n",
    "for split, listoflists in tokenized_ngram.items():\n",
    "    tensor_dataset[split] = TensoredDataset(listoflists)\n",
    "    \n",
    "# check the first example\n",
    "tensor_dataset['train'][24]"
   ]
  },
  {
   "cell_type": "code",
   "execution_count": 13,
   "metadata": {
    "collapsed": true
   },
   "outputs": [],
   "source": [
    "loaders = {}\n",
    "batch_size = 32\n",
    "for split, dataset in tensor_dataset.items():\n",
    "    loaders[split] = DataLoader(dataset, batch_size=batch_size, shuffle=True, collate_fn=pad_collate_fn)"
   ]
  },
  {
   "cell_type": "markdown",
   "metadata": {},
   "source": [
    "### Baseline Model: RNN"
   ]
  },
  {
   "cell_type": "code",
   "execution_count": 14,
   "metadata": {
    "collapsed": true
   },
   "outputs": [],
   "source": [
    "from torch.nn import RNNBase, RNN\n",
    "from torch.nn import Embedding\n",
    "from torch.nn import Linear, functional\n",
    "import torch.optim as optim"
   ]
  },
  {
   "cell_type": "code",
   "execution_count": null,
   "metadata": {
    "collapsed": true
   },
   "outputs": [],
   "source": [
    "# example embedding layer\n",
    "lookup = Embedding(num_embeddings=len(train_dict), embedding_dim=64, padding_idx=train_dict.get_id('<pad>'))\n",
    "lookup.weight.size()\n",
    "# train_dict = vocab size + 4"
   ]
  },
  {
   "cell_type": "code",
   "execution_count": null,
   "metadata": {
    "collapsed": true
   },
   "outputs": [],
   "source": [
    "# Example input\n",
    "input_ = train_dict.encode_token_seq('hello world'.split(' '))\n",
    "print(f'discrete input: {[input_]}')\n",
    "\n",
    "input_continious = lookup(torch.tensor([input_], dtype=torch.long))\n",
    "print(f'continious input size: {input_continious.size()}')"
   ]
  },
  {
   "cell_type": "code",
   "execution_count": null,
   "metadata": {
    "collapsed": true
   },
   "outputs": [],
   "source": [
    "lookup = nn.Embedding(num_embeddings=options['num_embeddings'], embedding_dim=options['embedding_dim'], padding_idx=options['padding_idx'])\n",
    "# before nn.RNN is hidden\n",
    "# Now: you do lookup table, and returns the tensors of sequence. No need of concat, becuase RNN naturally takes care of this\n",
    "# RNN natrually takes multi sentence inputs and outputs hidden_size \n",
    "rnn = nn.RNN(options['input_size'], options['hidden_size'], options['num_layers'], dropout=options['rnn_dropout'], batch_first=True)\n",
    "projection = nn.Linear(options['hidden_size'], options['num_embeddings'])"
   ]
  },
  {
   "cell_type": "code",
   "execution_count": null,
   "metadata": {
    "collapsed": true
   },
   "outputs": [],
   "source": [
    "lookup"
   ]
  },
  {
   "cell_type": "code",
   "execution_count": null,
   "metadata": {
    "collapsed": true
   },
   "outputs": [],
   "source": [
    "rnn"
   ]
  },
  {
   "cell_type": "code",
   "execution_count": null,
   "metadata": {
    "collapsed": true
   },
   "outputs": [],
   "source": [
    "projection"
   ]
  },
  {
   "cell_type": "code",
   "execution_count": null,
   "metadata": {
    "collapsed": true
   },
   "outputs": [],
   "source": [
    "import torch.nn as nn\n",
    "\n",
    "class RNNLanguageModel(nn.Module):\n",
    "    \"\"\"\n",
    "    This model combines embedding, rnn and projection layer into a single model\n",
    "    \"\"\"\n",
    "    def __init__(self, options):\n",
    "        super().__init__()\n",
    "        \n",
    "        # create each LM part here \n",
    "        self.lookup = nn.Embedding(num_embeddings=options['num_embeddings'], embedding_dim=options['embedding_dim'], padding_idx=options['padding_idx'])\n",
    "        # before nn.RNN is hidden\n",
    "        # Now: you do lookup table, and returns the tensors of sequence. No need of concat, becuase RNN naturally takes care of this\n",
    "        # RNN natrually takes multi sentence inputs and outputs hidden_size \n",
    "        self.rnn = nn.RNN(options['input_size'], options['hidden_size'], options['num_layers'], dropout=options['rnn_dropout'], batch_first=True)\n",
    "        self.projection = nn.Linear(options['hidden_size'], options['num_embeddings'])\n",
    "        \n",
    "    def forward(self, encoded_input_sequence):\n",
    "        \"\"\"\n",
    "        Forward method process the input from token ids to logits\n",
    "        \"\"\"\n",
    "        embeddings = self.lookup(encoded_input_sequence)\n",
    "        rnn_outputs = self.rnn(embeddings)\n",
    "        # project of outputs \n",
    "        # rnn_outputs: tupple with second element being last hidden state. \n",
    "        logits = self.projection(rnn_outputs[0])\n",
    "        \n",
    "        return logits"
   ]
  },
  {
   "cell_type": "code",
   "execution_count": null,
   "metadata": {
    "collapsed": true
   },
   "outputs": [],
   "source": [
    "load_pretrained = False\n",
    "\n",
    "num_gpus = torch.cuda.device_count()\n",
    "if num_gpus > 0:\n",
    "    current_device = 'cuda'\n",
    "else:\n",
    "    current_device = 'cpu'\n",
    "\n",
    "if load_pretrained:\n",
    "    if not os.path.exists('personachat_rnn_lm.pt'):\n",
    "        raise EOFError('Download pretrained model!')\n",
    "    model_dict = torch.load('personachat_rnn_lm.pt')\n",
    "    \n",
    "    options = model_dict['options']\n",
    "    model = RNNLanguageModel(options).to(current_device)\n",
    "    model.load_state_dict(model_dict['model_dict'])\n",
    "    \n",
    "else:\n",
    "    embedding_size = 64\n",
    "    hidden_size = 128 # output of dimension \n",
    "    num_layers = 2\n",
    "    rnn_dropout = 0.1\n",
    "    input_size = lookup.weight.size(1)\n",
    "    vocab_size = lookup.weight.size(0)\n",
    "    \n",
    "    options = {\n",
    "        'num_embeddings': len(train_dict),\n",
    "        'embedding_dim': embedding_size,\n",
    "        'padding_idx': train_dict.get_id('<pad>'),\n",
    "        'input_size': embedding_size,\n",
    "        'hidden_size': hidden_size,\n",
    "        'num_layers': num_layers,\n",
    "        'rnn_dropout': rnn_dropout,\n",
    "    }\n",
    "\n",
    "    \n",
    "    model = RNNLanguageModel(options).to(current_device)\n",
    "\n",
    "# same as previous nn based \n",
    "criterion = nn.CrossEntropyLoss(ignore_index=train_dict.get_id('<pad>'))\n",
    "\n",
    "model_parameters = [p for p in model.parameters() if p.requires_grad]\n",
    "optimizer = optim.Adam(model_parameters, lr=0.001)\n",
    "\n"
   ]
  },
  {
   "cell_type": "code",
   "execution_count": null,
   "metadata": {
    "collapsed": true
   },
   "outputs": [],
   "source": [
    "# check model\n",
    "model"
   ]
  },
  {
   "cell_type": "code",
   "execution_count": null,
   "metadata": {
    "collapsed": true
   },
   "outputs": [],
   "source": [
    "plot_cache = []\n",
    "\n",
    "for epoch_number in range(100):\n",
    "    avg_loss=0\n",
    "    if not load_pretrained:\n",
    "        model.train()\n",
    "        train_log_cache = []\n",
    "        for i, (inp, target) in enumerate(loaders['train']):\n",
    "            optimizer.zero_grad()\n",
    "            inp = inp.to(current_device)\n",
    "            target = target.to(current_device)\n",
    "            logits = model(inp)\n",
    "            \n",
    "            loss = criterion(logits.view(-1, logits.size(-1)), target.view(-1))\n",
    "            \n",
    "            loss.backward()\n",
    "            optimizer.step()\n",
    "            \n",
    "            train_log_cache.append(loss.item())\n",
    "            \n",
    "            if i % 100 == 0:\n",
    "                avg_loss = sum(train_log_cache)/len(train_log_cache)\n",
    "                print('Step {} avg train loss = {:.{prec}f}'.format(i, avg_loss, prec=4))\n",
    "                train_log_cache = []\n",
    "            \n",
    "    #do valid\n",
    "    valid_losses = []\n",
    "    model.eval()\n",
    "    with torch.no_grad():\n",
    "        for i, (inp, target) in enumerate(loaders['valid']):\n",
    "            inp = inp.to(current_device)\n",
    "            target = target.to(current_device)\n",
    "            logits = model(inp)\n",
    "\n",
    "            loss = criterion(logits.view(-1, logits.size(-1)), target.view(-1))\n",
    "            valid_losses.append(loss.item())\n",
    "        avg_val_loss = sum(valid_losses) / len(valid_losses)\n",
    "        print('Validation loss after {} epoch = {:.{prec}f}'.format(epoch_number, avg_val_loss, prec=4))\n",
    "        \n",
    "    plot_cache.append((avg_loss, avg_val_loss))\n",
    "\n",
    "    if load_pretrained:\n",
    "        break"
   ]
  },
  {
   "cell_type": "code",
   "execution_count": null,
   "metadata": {
    "collapsed": true
   },
   "outputs": [],
   "source": [
    "epochs = np.array(list(range(len(plot_cache))))\n",
    "plt.plot(epochs, [2**(i[0]/np.log(2)) for i in plot_cache], label='Train ppl')\n",
    "plt.plot(epochs, [2**(i[1]/np.log(2)) for i in plot_cache], label='Valid ppl')\n",
    "\n",
    "plt.legend()\n",
    "plt.title('PPL curves of RNN baseline model')\n",
    "plt.show()"
   ]
  },
  {
   "cell_type": "markdown",
   "metadata": {},
   "source": [
    "### II.1 LSTM and Hyper-Parameters"
   ]
  },
  {
   "cell_type": "code",
   "execution_count": 45,
   "metadata": {
    "collapsed": true
   },
   "outputs": [],
   "source": [
    "from torch.nn import LSTM\n",
    "# input_size, hidden_size, num_layers. \n",
    "# Optional: bias = False, dropout = 0 (probability of dropout)\n",
    "# bidirectional = False. \n",
    "rnn = nn.LSTM(10, 20, 2)\n",
    "\n",
    "# input: tensor containing feature of the input sequence \n",
    "# shape: seq_len, batch, input_size\n",
    "input = torch.randn(5,3,10)\n",
    "\n",
    "#h0: tensor contain hidden state for t = seq_len\n",
    "# shape: num_layers * num*directions, batch, hidden_size\n",
    "h0 = torch.randn(2,3,20)\n",
    "\n",
    "#c0: tensor contain cell state for t = seq_length\n",
    "# shape: num_layers * num_directions, batch, hidden_size \n",
    "c0 = torch.randn(2,3,20)\n",
    "\n",
    "# output: shape (seq_len, batch, num_direction * hidden size)\n",
    "output, (hn,cn) = rnn(input, (h0,c0))"
   ]
  },
  {
   "cell_type": "code",
   "execution_count": 46,
   "metadata": {},
   "outputs": [
    {
     "data": {
      "text/plain": [
       "torch.Size([33178, 64])"
      ]
     },
     "execution_count": 46,
     "metadata": {},
     "output_type": "execute_result"
    }
   ],
   "source": [
    "# example embedding layer\n",
    "lookup = Embedding(num_embeddings=len(train_dict), embedding_dim=64, padding_idx=train_dict.get_id('<pad>'))\n",
    "lookup.weight.size()\n",
    "# train_dict = vocab size + 3"
   ]
  },
  {
   "cell_type": "code",
   "execution_count": 47,
   "metadata": {
    "collapsed": true
   },
   "outputs": [],
   "source": [
    "# From the baseline, we will stop the epoch around 20 \n",
    "class LSTMModel(nn.Module):\n",
    "    \"\"\"\n",
    "    This model combines embedding, rnn and projection layer into a single model\n",
    "    \"\"\"\n",
    "    def __init__(self, options):\n",
    "        super().__init__()\n",
    "        \n",
    "        # create each LM part here \n",
    "        self.lookup = nn.Embedding(num_embeddings=options['num_embeddings'], embedding_dim=options['embedding_dim'], padding_idx=options['padding_idx'])\n",
    "        self.lstm = nn.LSTM(options['input_size'], options['hidden_size'], options['num_layers'], \n",
    "                            dropout=options['lstm_dropout'], batch_first=True, bias = options['bias'],\n",
    "                           bidirectional = options['bid'])\n",
    "        self.projection = nn.Linear(options['hidden_size'], options['num_embeddings'])\n",
    "        \n",
    "    def forward(self, encoded_input_sequence):\n",
    "        \"\"\"\n",
    "        Forward method process the input from token ids to logits\n",
    "        \"\"\"\n",
    "        embeddings = self.lookup(encoded_input_sequence)\n",
    "        lstm_outputs = self.lstm(embeddings)\n",
    "        # project of outputs \n",
    "        # rnn_outputs: tupple with second element being last hidden state. \n",
    "        logits = self.projection(lstm_outputs[0])\n",
    "        \n",
    "        return logits"
   ]
  },
  {
   "cell_type": "code",
   "execution_count": 48,
   "metadata": {
    "collapsed": true
   },
   "outputs": [],
   "source": [
    "load_pretrained = False\n",
    "\n",
    "num_gpus = torch.cuda.device_count()\n",
    "if num_gpus > 0:\n",
    "    current_device = 'cuda'\n",
    "else:\n",
    "    current_device = 'cpu'\n",
    "\n",
    "if load_pretrained:\n",
    "    if not os.path.exists('personachat_rnn_lm.pt'):\n",
    "        raise EOFError('Download pretrained model!')\n",
    "    model_dict = torch.load('personachat_rnn_lm.pt')\n",
    "    \n",
    "    options = model_dict['options']\n",
    "    model = LSTMModel(options).to(current_device)\n",
    "    model.load_state_dict(model_dict['model_dict'])\n",
    "    \n",
    "else:\n",
    "    embedding_size = 64\n",
    "    hidden_size = 128 # output of dimension \n",
    "    num_layers = 2\n",
    "    lstm_dropout = 0.1\n",
    "#     input_size = lookup.weight.size(1)\n",
    "    vocab_size = len(train_dict)\n",
    "    \n",
    "    options = {\n",
    "        'num_embeddings': len(train_dict),\n",
    "        'embedding_dim': embedding_size,\n",
    "        'padding_idx': train_dict.get_id('<pad>'),\n",
    "        'input_size': embedding_size,\n",
    "        'hidden_size': hidden_size,\n",
    "        'num_layers': num_layers,\n",
    "        'lstm_dropout': lstm_dropout,\n",
    "        'bias': True,\n",
    "        'bid': False \n",
    "    }\n",
    "\n",
    "    \n",
    "    model = LSTMModel(options).to(current_device)\n",
    "\n",
    "# same as previous nn based \n",
    "criterion = nn.CrossEntropyLoss(ignore_index=train_dict.get_id('<pad>'))\n",
    "\n",
    "model_parameters = [p for p in model.parameters() if p.requires_grad]\n",
    "optimizer = optim.Adam(model_parameters, lr=0.001)"
   ]
  },
  {
   "cell_type": "code",
   "execution_count": 49,
   "metadata": {},
   "outputs": [
    {
     "data": {
      "text/plain": [
       "LSTMModel(\n",
       "  (lookup): Embedding(33178, 64, padding_idx=2)\n",
       "  (lstm): LSTM(64, 128, num_layers=2, batch_first=True, dropout=0.1)\n",
       "  (projection): Linear(in_features=128, out_features=33178, bias=True)\n",
       ")"
      ]
     },
     "execution_count": 49,
     "metadata": {},
     "output_type": "execute_result"
    }
   ],
   "source": [
    "model"
   ]
  },
  {
   "cell_type": "code",
   "execution_count": 50,
   "metadata": {},
   "outputs": [
    {
     "name": "stdout",
     "output_type": "stream",
     "text": [
      "Step 0 avg train loss = 10.4060\n",
      "Step 100 avg train loss = 7.8699\n",
      "Step 200 avg train loss = 7.1763\n",
      "Step 300 avg train loss = 7.1076\n",
      "Step 400 avg train loss = 6.9702\n",
      "Step 500 avg train loss = 6.8883\n",
      "Step 600 avg train loss = 6.7907\n",
      "Step 700 avg train loss = 6.7140\n",
      "Step 800 avg train loss = 6.6353\n",
      "Step 900 avg train loss = 6.5812\n",
      "Step 1000 avg train loss = 6.5333\n",
      "Step 1100 avg train loss = 6.4966\n",
      "Step 1200 avg train loss = 6.4512\n",
      "Step 1300 avg train loss = 6.3924\n",
      "Step 1400 avg train loss = 6.3674\n",
      "Step 1500 avg train loss = 6.3263\n",
      "Step 1600 avg train loss = 6.3149\n",
      "Step 1700 avg train loss = 6.2736\n",
      "Step 1800 avg train loss = 6.2472\n",
      "Step 1900 avg train loss = 6.2287\n",
      "Step 2000 avg train loss = 6.1511\n",
      "Step 2100 avg train loss = 6.1485\n",
      "Step 2200 avg train loss = 6.1383\n",
      "Step 2300 avg train loss = 6.1131\n",
      "Step 2400 avg train loss = 6.0794\n",
      "Validation loss after 0 epoch = 5.8925\n",
      "Step 0 avg train loss = 6.0716\n",
      "Step 100 avg train loss = 5.9752\n",
      "Step 200 avg train loss = 5.9664\n",
      "Step 300 avg train loss = 5.9575\n",
      "Step 400 avg train loss = 5.9495\n",
      "Step 500 avg train loss = 5.9405\n",
      "Step 600 avg train loss = 5.9189\n",
      "Step 700 avg train loss = 5.8995\n",
      "Step 800 avg train loss = 5.8885\n",
      "Step 900 avg train loss = 5.8741\n",
      "Step 1000 avg train loss = 5.8450\n",
      "Step 1100 avg train loss = 5.8524\n",
      "Step 1200 avg train loss = 5.8466\n",
      "Step 1300 avg train loss = 5.8176\n",
      "Step 1400 avg train loss = 5.8111\n",
      "Step 1500 avg train loss = 5.8131\n",
      "Step 1600 avg train loss = 5.7949\n",
      "Step 1700 avg train loss = 5.7766\n",
      "Step 1800 avg train loss = 5.7862\n",
      "Step 1900 avg train loss = 5.7605\n",
      "Step 2000 avg train loss = 5.7250\n",
      "Step 2100 avg train loss = 5.7261\n",
      "Step 2200 avg train loss = 5.7443\n",
      "Step 2300 avg train loss = 5.7507\n",
      "Step 2400 avg train loss = 5.7028\n",
      "Validation loss after 1 epoch = 5.5950\n",
      "Step 0 avg train loss = 5.6530\n",
      "Step 100 avg train loss = 5.6226\n",
      "Step 200 avg train loss = 5.5984\n",
      "Step 300 avg train loss = 5.6400\n",
      "Step 400 avg train loss = 5.5909\n",
      "Step 500 avg train loss = 5.5837\n",
      "Step 600 avg train loss = 5.5893\n",
      "Step 700 avg train loss = 5.5719\n",
      "Step 800 avg train loss = 5.5836\n",
      "Step 900 avg train loss = 5.5658\n",
      "Step 1000 avg train loss = 5.5732\n",
      "Step 1100 avg train loss = 5.5468\n",
      "Step 1200 avg train loss = 5.5753\n",
      "Step 1300 avg train loss = 5.5451\n",
      "Step 1400 avg train loss = 5.5317\n",
      "Step 1500 avg train loss = 5.5347\n",
      "Step 1600 avg train loss = 5.5288\n",
      "Step 1700 avg train loss = 5.5199\n",
      "Step 1800 avg train loss = 5.5299\n",
      "Step 1900 avg train loss = 5.5020\n",
      "Step 2000 avg train loss = 5.5165\n",
      "Step 2100 avg train loss = 5.5214\n",
      "Step 2200 avg train loss = 5.5016\n",
      "Step 2300 avg train loss = 5.5190\n",
      "Step 2400 avg train loss = 5.4967\n",
      "Validation loss after 2 epoch = 5.4597\n",
      "Step 0 avg train loss = 5.4675\n",
      "Step 100 avg train loss = 5.4049\n",
      "Step 200 avg train loss = 5.3959\n",
      "Step 300 avg train loss = 5.3738\n",
      "Step 400 avg train loss = 5.3888\n",
      "Step 500 avg train loss = 5.3840\n",
      "Step 600 avg train loss = 5.3741\n",
      "Step 700 avg train loss = 5.3759\n",
      "Step 800 avg train loss = 5.3670\n",
      "Step 900 avg train loss = 5.3577\n",
      "Step 1000 avg train loss = 5.3652\n",
      "Step 1100 avg train loss = 5.3736\n",
      "Step 1200 avg train loss = 5.3346\n",
      "Step 1300 avg train loss = 5.3473\n",
      "Step 1400 avg train loss = 5.3824\n",
      "Step 1500 avg train loss = 5.3769\n",
      "Step 1600 avg train loss = 5.3235\n",
      "Step 1700 avg train loss = 5.3450\n",
      "Step 1800 avg train loss = 5.3305\n",
      "Step 1900 avg train loss = 5.3410\n",
      "Step 2000 avg train loss = 5.3200\n",
      "Step 2100 avg train loss = 5.3321\n",
      "Step 2200 avg train loss = 5.3253\n",
      "Step 2300 avg train loss = 5.3317\n",
      "Step 2400 avg train loss = 5.3162\n",
      "Validation loss after 3 epoch = 5.3842\n",
      "Step 0 avg train loss = 5.1662\n",
      "Step 100 avg train loss = 5.2009\n",
      "Step 200 avg train loss = 5.2030\n",
      "Step 300 avg train loss = 5.2097\n",
      "Step 400 avg train loss = 5.2110\n",
      "Step 500 avg train loss = 5.2060\n",
      "Step 600 avg train loss = 5.1913\n",
      "Step 700 avg train loss = 5.2098\n",
      "Step 800 avg train loss = 5.2189\n",
      "Step 900 avg train loss = 5.1861\n",
      "Step 1000 avg train loss = 5.2130\n",
      "Step 1100 avg train loss = 5.1950\n",
      "Step 1200 avg train loss = 5.2249\n",
      "Step 1300 avg train loss = 5.1921\n",
      "Step 1400 avg train loss = 5.1995\n",
      "Step 1500 avg train loss = 5.2008\n",
      "Step 1600 avg train loss = 5.1970\n",
      "Step 1700 avg train loss = 5.1758\n",
      "Step 1800 avg train loss = 5.2046\n",
      "Step 1900 avg train loss = 5.1825\n",
      "Step 2000 avg train loss = 5.1891\n",
      "Step 2100 avg train loss = 5.1961\n",
      "Step 2200 avg train loss = 5.1978\n",
      "Step 2300 avg train loss = 5.1904\n",
      "Step 2400 avg train loss = 5.1960\n",
      "Validation loss after 4 epoch = 5.3363\n",
      "Step 0 avg train loss = 5.1751\n",
      "Step 100 avg train loss = 5.0514\n",
      "Step 200 avg train loss = 5.0722\n",
      "Step 300 avg train loss = 5.0706\n",
      "Step 400 avg train loss = 5.0782\n",
      "Step 500 avg train loss = 5.0725\n",
      "Step 600 avg train loss = 5.0768\n",
      "Step 700 avg train loss = 5.0823\n",
      "Step 800 avg train loss = 5.0781\n",
      "Step 900 avg train loss = 5.0916\n",
      "Step 1000 avg train loss = 5.0767\n",
      "Step 1100 avg train loss = 5.0782\n",
      "Step 1200 avg train loss = 5.0674\n",
      "Step 1300 avg train loss = 5.0752\n",
      "Step 1400 avg train loss = 5.0842\n",
      "Step 1500 avg train loss = 5.0649\n",
      "Step 1600 avg train loss = 5.0630\n",
      "Step 1700 avg train loss = 5.0597\n",
      "Step 1800 avg train loss = 5.0724\n",
      "Step 1900 avg train loss = 5.0751\n",
      "Step 2000 avg train loss = 5.0768\n",
      "Step 2100 avg train loss = 5.0552\n",
      "Step 2200 avg train loss = 5.0875\n",
      "Step 2300 avg train loss = 5.0639\n",
      "Step 2400 avg train loss = 5.0532\n",
      "Validation loss after 5 epoch = 5.3081\n",
      "Step 0 avg train loss = 5.0745\n",
      "Step 100 avg train loss = 4.9700\n",
      "Step 200 avg train loss = 4.9552\n",
      "Step 300 avg train loss = 4.9445\n",
      "Step 400 avg train loss = 4.9720\n",
      "Step 500 avg train loss = 4.9644\n",
      "Step 600 avg train loss = 4.9616\n",
      "Step 700 avg train loss = 4.9802\n",
      "Step 800 avg train loss = 4.9347\n",
      "Step 900 avg train loss = 4.9726\n",
      "Step 1000 avg train loss = 4.9645\n",
      "Step 1100 avg train loss = 4.9833\n",
      "Step 1200 avg train loss = 4.9835\n",
      "Step 1300 avg train loss = 4.9730\n",
      "Step 1400 avg train loss = 4.9544\n",
      "Step 1500 avg train loss = 4.9848\n",
      "Step 1600 avg train loss = 4.9835\n",
      "Step 1700 avg train loss = 4.9663\n",
      "Step 1800 avg train loss = 4.9786\n",
      "Step 1900 avg train loss = 4.9709\n",
      "Step 2000 avg train loss = 4.9828\n",
      "Step 2100 avg train loss = 4.9663\n",
      "Step 2200 avg train loss = 4.9535\n",
      "Step 2300 avg train loss = 4.9378\n",
      "Step 2400 avg train loss = 4.9537\n",
      "Validation loss after 6 epoch = 5.3023\n",
      "Step 0 avg train loss = 4.9138\n",
      "Step 100 avg train loss = 4.8381\n",
      "Step 200 avg train loss = 4.8705\n",
      "Step 300 avg train loss = 4.8442\n",
      "Step 400 avg train loss = 4.8921\n",
      "Step 500 avg train loss = 4.8617\n",
      "Step 600 avg train loss = 4.8497\n",
      "Step 700 avg train loss = 4.8689\n",
      "Step 800 avg train loss = 4.8651\n",
      "Step 900 avg train loss = 4.8914\n",
      "Step 1000 avg train loss = 4.8843\n",
      "Step 1100 avg train loss = 4.8785\n",
      "Step 1200 avg train loss = 4.8760\n",
      "Step 1300 avg train loss = 4.8868\n",
      "Step 1400 avg train loss = 4.8809\n",
      "Step 1500 avg train loss = 4.8797\n",
      "Step 1600 avg train loss = 4.8794\n",
      "Step 1700 avg train loss = 4.8765\n",
      "Step 1800 avg train loss = 4.8967\n",
      "Step 1900 avg train loss = 4.8833\n",
      "Step 2000 avg train loss = 4.8971\n",
      "Step 2100 avg train loss = 4.8691\n",
      "Step 2200 avg train loss = 4.8954\n",
      "Step 2300 avg train loss = 4.8917\n",
      "Step 2400 avg train loss = 4.8939\n",
      "Validation loss after 7 epoch = 5.3055\n",
      "Step 0 avg train loss = 4.6135\n",
      "Step 100 avg train loss = 4.7512\n",
      "Step 200 avg train loss = 4.7906\n",
      "Step 300 avg train loss = 4.7834\n",
      "Step 400 avg train loss = 4.7859\n",
      "Step 500 avg train loss = 4.7798\n",
      "Step 600 avg train loss = 4.7876\n",
      "Step 700 avg train loss = 4.7953\n",
      "Step 800 avg train loss = 4.7898\n",
      "Step 900 avg train loss = 4.7975\n",
      "Step 1000 avg train loss = 4.7930\n",
      "Step 1100 avg train loss = 4.7932\n",
      "Step 1200 avg train loss = 4.8244\n",
      "Step 1300 avg train loss = 4.8169\n",
      "Step 1400 avg train loss = 4.8002\n",
      "Step 1500 avg train loss = 4.8234\n",
      "Step 1600 avg train loss = 4.8093\n",
      "Step 1700 avg train loss = 4.8324\n",
      "Step 1800 avg train loss = 4.7994\n",
      "Step 1900 avg train loss = 4.8109\n",
      "Step 2000 avg train loss = 4.8156\n",
      "Step 2100 avg train loss = 4.8233\n",
      "Step 2200 avg train loss = 4.8079\n",
      "Step 2300 avg train loss = 4.8066\n",
      "Step 2400 avg train loss = 4.8272\n",
      "Validation loss after 8 epoch = 5.3147\n",
      "Step 0 avg train loss = 4.7021\n",
      "Step 100 avg train loss = 4.7078\n",
      "Step 200 avg train loss = 4.7086\n",
      "Step 300 avg train loss = 4.7090\n",
      "Step 400 avg train loss = 4.6824\n",
      "Step 500 avg train loss = 4.7377\n",
      "Step 600 avg train loss = 4.7213\n",
      "Step 700 avg train loss = 4.7318\n",
      "Step 800 avg train loss = 4.7280\n",
      "Step 900 avg train loss = 4.7113\n"
     ]
    },
    {
     "name": "stdout",
     "output_type": "stream",
     "text": [
      "Step 1000 avg train loss = 4.7478\n",
      "Step 1100 avg train loss = 4.7368\n",
      "Step 1200 avg train loss = 4.7281\n",
      "Step 1300 avg train loss = 4.7294\n",
      "Step 1400 avg train loss = 4.7569\n",
      "Step 1500 avg train loss = 4.7407\n",
      "Step 1600 avg train loss = 4.7300\n",
      "Step 1700 avg train loss = 4.7645\n",
      "Step 1800 avg train loss = 4.7147\n",
      "Step 1900 avg train loss = 4.7582\n",
      "Step 2000 avg train loss = 4.7614\n",
      "Step 2100 avg train loss = 4.7549\n",
      "Step 2200 avg train loss = 4.7525\n",
      "Step 2300 avg train loss = 4.7465\n",
      "Step 2400 avg train loss = 4.7664\n",
      "Validation loss after 9 epoch = 5.3211\n",
      "Step 0 avg train loss = 4.7181\n",
      "Step 100 avg train loss = 4.6306\n",
      "Step 200 avg train loss = 4.6371\n",
      "Step 300 avg train loss = 4.6668\n",
      "Step 400 avg train loss = 4.6301\n",
      "Step 500 avg train loss = 4.6591\n",
      "Step 600 avg train loss = 4.6616\n",
      "Step 700 avg train loss = 4.6551\n",
      "Step 800 avg train loss = 4.6549\n",
      "Step 900 avg train loss = 4.6798\n",
      "Step 1000 avg train loss = 4.6563\n",
      "Step 1100 avg train loss = 4.6669\n",
      "Step 1200 avg train loss = 4.6705\n",
      "Step 1300 avg train loss = 4.6734\n",
      "Step 1400 avg train loss = 4.6729\n",
      "Step 1500 avg train loss = 4.6820\n",
      "Step 1600 avg train loss = 4.6904\n",
      "Step 1700 avg train loss = 4.6989\n",
      "Step 1800 avg train loss = 4.7055\n",
      "Step 1900 avg train loss = 4.6838\n",
      "Step 2000 avg train loss = 4.6898\n",
      "Step 2100 avg train loss = 4.6834\n",
      "Step 2200 avg train loss = 4.7033\n",
      "Step 2300 avg train loss = 4.7189\n",
      "Step 2400 avg train loss = 4.7046\n",
      "Validation loss after 10 epoch = 5.3375\n",
      "Step 0 avg train loss = 4.6356\n",
      "Step 100 avg train loss = 4.5630\n",
      "Step 200 avg train loss = 4.5894\n",
      "Step 300 avg train loss = 4.5955\n",
      "Step 400 avg train loss = 4.5884\n",
      "Step 500 avg train loss = 4.5929\n",
      "Step 600 avg train loss = 4.6173\n",
      "Step 700 avg train loss = 4.5970\n",
      "Step 800 avg train loss = 4.6113\n",
      "Step 900 avg train loss = 4.6219\n",
      "Step 1000 avg train loss = 4.6095\n",
      "Step 1100 avg train loss = 4.6225\n",
      "Step 1200 avg train loss = 4.6144\n",
      "Step 1300 avg train loss = 4.6150\n",
      "Step 1400 avg train loss = 4.6455\n",
      "Step 1500 avg train loss = 4.6428\n",
      "Step 1600 avg train loss = 4.6613\n",
      "Step 1700 avg train loss = 4.6300\n",
      "Step 1800 avg train loss = 4.6486\n",
      "Step 1900 avg train loss = 4.6372\n",
      "Step 2000 avg train loss = 4.6370\n",
      "Step 2100 avg train loss = 4.6444\n",
      "Step 2200 avg train loss = 4.6291\n",
      "Step 2300 avg train loss = 4.6389\n",
      "Step 2400 avg train loss = 4.6464\n",
      "Validation loss after 11 epoch = 5.3598\n",
      "Step 0 avg train loss = 4.8225\n",
      "Step 100 avg train loss = 4.5121\n",
      "Step 200 avg train loss = 4.5268\n",
      "Step 300 avg train loss = 4.5572\n",
      "Step 400 avg train loss = 4.5474\n",
      "Step 500 avg train loss = 4.5391\n",
      "Step 600 avg train loss = 4.5502\n",
      "Step 700 avg train loss = 4.5531\n",
      "Step 800 avg train loss = 4.5554\n",
      "Step 900 avg train loss = 4.5747\n",
      "Step 1000 avg train loss = 4.5771\n",
      "Step 1100 avg train loss = 4.5678\n",
      "Step 1200 avg train loss = 4.6042\n",
      "Step 1300 avg train loss = 4.5593\n",
      "Step 1400 avg train loss = 4.6089\n",
      "Step 1500 avg train loss = 4.5899\n",
      "Step 1600 avg train loss = 4.5852\n",
      "Step 1700 avg train loss = 4.5678\n",
      "Step 1800 avg train loss = 4.6047\n",
      "Step 1900 avg train loss = 4.5838\n",
      "Step 2000 avg train loss = 4.5857\n",
      "Step 2100 avg train loss = 4.6047\n",
      "Step 2200 avg train loss = 4.5998\n",
      "Step 2300 avg train loss = 4.5778\n",
      "Step 2400 avg train loss = 4.5960\n",
      "Validation loss after 12 epoch = 5.3717\n",
      "Step 0 avg train loss = 4.4941\n",
      "Step 100 avg train loss = 4.5065\n",
      "Step 200 avg train loss = 4.4678\n",
      "Step 300 avg train loss = 4.4938\n",
      "Step 400 avg train loss = 4.5076\n",
      "Step 500 avg train loss = 4.4910\n",
      "Step 600 avg train loss = 4.5144\n",
      "Step 700 avg train loss = 4.5061\n",
      "Step 800 avg train loss = 4.5125\n",
      "Step 900 avg train loss = 4.5236\n",
      "Step 1000 avg train loss = 4.5114\n",
      "Step 1100 avg train loss = 4.5220\n",
      "Step 1200 avg train loss = 4.5301\n",
      "Step 1300 avg train loss = 4.5268\n",
      "Step 1400 avg train loss = 4.5501\n",
      "Step 1500 avg train loss = 4.5522\n",
      "Step 1600 avg train loss = 4.5311\n",
      "Step 1700 avg train loss = 4.5349\n",
      "Step 1800 avg train loss = 4.5572\n",
      "Step 1900 avg train loss = 4.5420\n",
      "Step 2000 avg train loss = 4.5403\n",
      "Step 2100 avg train loss = 4.5605\n",
      "Step 2200 avg train loss = 4.5657\n",
      "Step 2300 avg train loss = 4.5561\n",
      "Step 2400 avg train loss = 4.5651\n",
      "Validation loss after 13 epoch = 5.3928\n",
      "Step 0 avg train loss = 4.2954\n",
      "Step 100 avg train loss = 4.4383\n",
      "Step 200 avg train loss = 4.4315\n",
      "Step 300 avg train loss = 4.4579\n",
      "Step 400 avg train loss = 4.4590\n",
      "Step 500 avg train loss = 4.4631\n",
      "Step 600 avg train loss = 4.4666\n",
      "Step 700 avg train loss = 4.4633\n",
      "Step 800 avg train loss = 4.4827\n",
      "Step 900 avg train loss = 4.4719\n",
      "Step 1000 avg train loss = 4.4885\n",
      "Step 1100 avg train loss = 4.4960\n",
      "Step 1200 avg train loss = 4.4928\n",
      "Step 1300 avg train loss = 4.4698\n",
      "Step 1400 avg train loss = 4.4706\n",
      "Step 1500 avg train loss = 4.4958\n",
      "Step 1600 avg train loss = 4.5216\n",
      "Step 1700 avg train loss = 4.5091\n",
      "Step 1800 avg train loss = 4.4919\n",
      "Step 1900 avg train loss = 4.5210\n",
      "Step 2000 avg train loss = 4.5129\n",
      "Step 2100 avg train loss = 4.5221\n",
      "Step 2200 avg train loss = 4.5251\n",
      "Step 2300 avg train loss = 4.5347\n",
      "Step 2400 avg train loss = 4.5064\n",
      "Validation loss after 14 epoch = 5.4043\n",
      "Step 0 avg train loss = 4.2082\n",
      "Step 100 avg train loss = 4.4103\n",
      "Step 200 avg train loss = 4.3988\n",
      "Step 300 avg train loss = 4.3914\n",
      "Step 400 avg train loss = 4.4247\n",
      "Step 500 avg train loss = 4.4227\n",
      "Step 600 avg train loss = 4.4433\n",
      "Step 700 avg train loss = 4.4258\n",
      "Step 800 avg train loss = 4.4119\n",
      "Step 900 avg train loss = 4.4440\n",
      "Step 1000 avg train loss = 4.4378\n",
      "Step 1100 avg train loss = 4.4412\n",
      "Step 1200 avg train loss = 4.4723\n",
      "Step 1300 avg train loss = 4.4492\n",
      "Step 1400 avg train loss = 4.4286\n",
      "Step 1500 avg train loss = 4.4768\n",
      "Step 1600 avg train loss = 4.4450\n",
      "Step 1700 avg train loss = 4.4795\n",
      "Step 1800 avg train loss = 4.4628\n",
      "Step 1900 avg train loss = 4.4910\n",
      "Step 2000 avg train loss = 4.4773\n",
      "Step 2100 avg train loss = 4.4888\n",
      "Step 2200 avg train loss = 4.4875\n",
      "Step 2300 avg train loss = 4.4760\n",
      "Step 2400 avg train loss = 4.4910\n",
      "Validation loss after 15 epoch = 5.4263\n",
      "Step 0 avg train loss = 4.4119\n",
      "Step 100 avg train loss = 4.3795\n",
      "Step 200 avg train loss = 4.3578\n",
      "Step 300 avg train loss = 4.3803\n",
      "Step 400 avg train loss = 4.3913\n",
      "Step 500 avg train loss = 4.3963\n",
      "Step 600 avg train loss = 4.4126\n",
      "Step 700 avg train loss = 4.4118\n",
      "Step 800 avg train loss = 4.3970\n",
      "Step 900 avg train loss = 4.3935\n",
      "Step 1000 avg train loss = 4.4160\n",
      "Step 1100 avg train loss = 4.4222\n",
      "Step 1200 avg train loss = 4.4146\n",
      "Step 1300 avg train loss = 4.4256\n",
      "Step 1400 avg train loss = 4.4193\n",
      "Step 1500 avg train loss = 4.4331\n",
      "Step 1600 avg train loss = 4.4165\n",
      "Step 1700 avg train loss = 4.4346\n",
      "Step 1800 avg train loss = 4.4119\n",
      "Step 1900 avg train loss = 4.4239\n",
      "Step 2000 avg train loss = 4.4546\n",
      "Step 2100 avg train loss = 4.4353\n",
      "Step 2200 avg train loss = 4.4240\n",
      "Step 2300 avg train loss = 4.4517\n",
      "Step 2400 avg train loss = 4.4578\n",
      "Validation loss after 16 epoch = 5.4486\n",
      "Step 0 avg train loss = 4.4853\n",
      "Step 100 avg train loss = 4.3311\n",
      "Step 200 avg train loss = 4.3472\n",
      "Step 300 avg train loss = 4.3353\n",
      "Step 400 avg train loss = 4.3469\n",
      "Step 500 avg train loss = 4.3414\n",
      "Step 600 avg train loss = 4.3733\n",
      "Step 700 avg train loss = 4.3582\n",
      "Step 800 avg train loss = 4.3783\n",
      "Step 900 avg train loss = 4.3782\n",
      "Step 1000 avg train loss = 4.3734\n",
      "Step 1100 avg train loss = 4.3781\n",
      "Step 1200 avg train loss = 4.4079\n",
      "Step 1300 avg train loss = 4.4022\n",
      "Step 1400 avg train loss = 4.3822\n",
      "Step 1500 avg train loss = 4.4020\n",
      "Step 1600 avg train loss = 4.3905\n",
      "Step 1700 avg train loss = 4.3875\n",
      "Step 1800 avg train loss = 4.4114\n",
      "Step 1900 avg train loss = 4.3966\n",
      "Step 2000 avg train loss = 4.4075\n",
      "Step 2100 avg train loss = 4.4185\n",
      "Step 2200 avg train loss = 4.3929\n",
      "Step 2300 avg train loss = 4.4232\n",
      "Step 2400 avg train loss = 4.3969\n",
      "Validation loss after 17 epoch = 5.4716\n",
      "Step 0 avg train loss = 4.1712\n",
      "Step 100 avg train loss = 4.3000\n",
      "Step 200 avg train loss = 4.3041\n",
      "Step 300 avg train loss = 4.3053\n",
      "Step 400 avg train loss = 4.3276\n",
      "Step 500 avg train loss = 4.3043\n",
      "Step 600 avg train loss = 4.3412\n",
      "Step 700 avg train loss = 4.3374\n",
      "Step 800 avg train loss = 4.3295\n",
      "Step 900 avg train loss = 4.3627\n",
      "Step 1000 avg train loss = 4.3371\n",
      "Step 1100 avg train loss = 4.3480\n",
      "Step 1200 avg train loss = 4.3521\n",
      "Step 1300 avg train loss = 4.3601\n",
      "Step 1400 avg train loss = 4.3778\n",
      "Step 1500 avg train loss = 4.3728\n",
      "Step 1600 avg train loss = 4.3707\n",
      "Step 1700 avg train loss = 4.3694\n",
      "Step 1800 avg train loss = 4.3475\n"
     ]
    },
    {
     "name": "stdout",
     "output_type": "stream",
     "text": [
      "Step 1900 avg train loss = 4.3763\n",
      "Step 2000 avg train loss = 4.3975\n",
      "Step 2100 avg train loss = 4.3788\n",
      "Step 2200 avg train loss = 4.3939\n",
      "Step 2300 avg train loss = 4.3656\n",
      "Step 2400 avg train loss = 4.3851\n",
      "Validation loss after 18 epoch = 5.4908\n",
      "Step 0 avg train loss = 4.3250\n",
      "Step 100 avg train loss = 4.2666\n",
      "Step 200 avg train loss = 4.2716\n",
      "Step 300 avg train loss = 4.2754\n",
      "Step 400 avg train loss = 4.2739\n",
      "Step 500 avg train loss = 4.2708\n",
      "Step 600 avg train loss = 4.3067\n",
      "Step 700 avg train loss = 4.3038\n",
      "Step 800 avg train loss = 4.2989\n",
      "Step 900 avg train loss = 4.3370\n",
      "Step 1000 avg train loss = 4.3338\n",
      "Step 1100 avg train loss = 4.3216\n",
      "Step 1200 avg train loss = 4.3315\n",
      "Step 1300 avg train loss = 4.3147\n",
      "Step 1400 avg train loss = 4.3264\n",
      "Step 1500 avg train loss = 4.3177\n",
      "Step 1600 avg train loss = 4.3412\n",
      "Step 1700 avg train loss = 4.3423\n",
      "Step 1800 avg train loss = 4.3503\n",
      "Step 1900 avg train loss = 4.3479\n",
      "Step 2000 avg train loss = 4.3595\n",
      "Step 2100 avg train loss = 4.3619\n",
      "Step 2200 avg train loss = 4.3740\n",
      "Step 2300 avg train loss = 4.3608\n",
      "Step 2400 avg train loss = 4.3579\n",
      "Validation loss after 19 epoch = 5.5120\n",
      "Saving best model...\n"
     ]
    }
   ],
   "source": [
    "#model = LSTMModel(options).to(current_device)\n",
    "plot_cache = []\n",
    "min_val_loss = 20 \n",
    "for epoch_number in range(20):\n",
    "    avg_loss=0\n",
    "    if not load_pretrained:\n",
    "        model.train()\n",
    "        train_log_cache = []\n",
    "        for i, (inp, target) in enumerate(loaders['train']):\n",
    "            optimizer.zero_grad()\n",
    "            inp = inp.to(current_device)\n",
    "            target = target.to(current_device)\n",
    "            logits = model(inp)\n",
    "            \n",
    "            loss = criterion(logits.view(-1, logits.size(-1)), target.view(-1))\n",
    "            \n",
    "            loss.backward()\n",
    "            optimizer.step()\n",
    "            \n",
    "            train_log_cache.append(loss.item())\n",
    "            \n",
    "            if i % 100 == 0:\n",
    "                avg_loss = sum(train_log_cache)/len(train_log_cache)\n",
    "                print('Step {} avg train loss = {:.{prec}f}'.format(i, avg_loss, prec=4))\n",
    "                train_log_cache = []\n",
    "            \n",
    "    #do valid\n",
    "    valid_losses = []\n",
    "    model.eval()\n",
    "    with torch.no_grad():\n",
    "        for i, (inp, target) in enumerate(loaders['valid']):\n",
    "            inp = inp.to(current_device)\n",
    "            target = target.to(current_device)\n",
    "            logits = model(inp)\n",
    "\n",
    "            loss = criterion(logits.view(-1, logits.size(-1)), target.view(-1))\n",
    "            valid_losses.append(loss.item())\n",
    "        avg_val_loss = sum(valid_losses) / len(valid_losses)\n",
    "        print('Validation loss after {} epoch = {:.{prec}f}'.format(epoch_number, avg_val_loss, prec=4))\n",
    "        best = avg_val_loss < min_val_loss\n",
    "        if best:\n",
    "            min_val_loss = avg_val_loss\n",
    "            best_model = model\n",
    "                        \n",
    "    plot_cache.append((avg_loss, avg_val_loss))\n",
    "\n",
    "    if load_pretrained:\n",
    "        break\n",
    "        \n",
    "print('Saving best model...')\n",
    "torch.save({\n",
    "'options': options,\n",
    "'loss_cache': plot_cache,\n",
    "'model_dict': best_model.state_dict()\n",
    "        }, './baseline_LSTM.pt')\n",
    "\n"
   ]
  },
  {
   "cell_type": "code",
   "execution_count": 51,
   "metadata": {},
   "outputs": [
    {
     "data": {
      "image/png": "[encoded data removed]",
      "text/plain": [
       "<matplotlib.figure.Figure at 0x2ab173d86940>"
      ]
     },
     "metadata": {},
     "output_type": "display_data"
    }
   ],
   "source": [
    "epochs = np.array(list(range(len(plot_cache))))\n",
    "plt.plot(epochs, [2**(i[0]/np.log(2)) for i in plot_cache], label='Train ppl')\n",
    "plt.plot(epochs, [2**(i[1]/np.log(2)) for i in plot_cache], label='Valid ppl')\n",
    "\n",
    "plt.legend()\n",
    "plt.title('PPL curves of LSTM model')\n",
    "plt.show()"
   ]
  },
  {
   "cell_type": "code",
   "execution_count": 58,
   "metadata": {},
   "outputs": [
    {
     "name": "stdout",
     "output_type": "stream",
     "text": [
      "The minimum validation loss occurred at 6 and it is 200.8033153315227\n"
     ]
    }
   ],
   "source": [
    "perp = [2**(i[1]/np.log(2)) for i in plot_cache] \n",
    "print('The minimum validation loss occurred at {} and it is {}'.format(perp.index(min(perp)),min(perp)))"
   ]
  },
  {
   "cell_type": "markdown",
   "metadata": {},
   "source": [
    "#### Results (LSTM vs. Baseline)"
   ]
  },
  {
   "cell_type": "code",
   "execution_count": null,
   "metadata": {
    "collapsed": true
   },
   "outputs": [],
   "source": []
  },
  {
   "cell_type": "markdown",
   "metadata": {},
   "source": [
    "#### Performance Variation Based on Hyperparameter Values"
   ]
  },
  {
   "cell_type": "code",
   "execution_count": null,
   "metadata": {
    "collapsed": true
   },
   "outputs": [],
   "source": []
  },
  {
   "cell_type": "markdown",
   "metadata": {},
   "source": [
    "### II.2 Learned Embeddings"
   ]
  },
  {
   "cell_type": "markdown",
   "metadata": {},
   "source": [
    "#### Utilities\n",
    "\n",
    "Below is code to use [UMAP](https://umap-learn.readthedocs.io/en/latest/) to find a 2-dimensional representation of a weight matrix, and plot the resulting 2-dimensional points that correspond to certain words.\n",
    "\n",
    "Use `!pip install umap-learn` to install UMAP."
   ]
  },
  {
   "cell_type": "code",
   "execution_count": 64,
   "metadata": {},
   "outputs": [
    {
     "data": {
      "text/plain": [
       "LSTMModel(\n",
       "  (lookup): Embedding(33178, 64, padding_idx=2)\n",
       "  (lstm): LSTM(64, 128, num_layers=2, batch_first=True, dropout=0.1)\n",
       "  (projection): Linear(in_features=128, out_features=33178, bias=True)\n",
       ")"
      ]
     },
     "execution_count": 64,
     "metadata": {},
     "output_type": "execute_result"
    }
   ],
   "source": [
    "# TODO: Get the best model parameter from 1.2.1 \n",
    "options = {\n",
    "        'num_embeddings': len(train_dict),\n",
    "        'embedding_dim': embedding_size,\n",
    "        'padding_idx': train_dict.get_id('<pad>'),\n",
    "        'input_size': embedding_size,\n",
    "        'hidden_size': hidden_size,\n",
    "        'num_layers': num_layers,\n",
    "        'lstm_dropout': lstm_dropout,\n",
    "        'bias': True,\n",
    "        'bid': False \n",
    "    }\n",
    "model = LSTMModel(options)\n",
    "model.load_state_dict(torch.load('baseline_LSTM.pt')['model_dict'])\n",
    "model.eval()"
   ]
  },
  {
   "cell_type": "code",
   "execution_count": 20,
   "metadata": {},
   "outputs": [
    {
     "name": "stdout",
     "output_type": "stream",
     "text": [
      "Populating the interactive namespace from numpy and matplotlib\n"
     ]
    },
    {
     "name": "stderr",
     "output_type": "stream",
     "text": [
      "/home/sl7085/.conda/envs/myenv/lib/python3.6/site-packages/IPython/core/magics/pylab.py:160: UserWarning: pylab import has clobbered these variables: ['split']\n",
      "`%matplotlib` prevents importing * from pylab and numpy\n",
      "  \"\\n`%matplotlib` prevents importing * from pylab and numpy\"\n"
     ]
    }
   ],
   "source": [
    "%pylab inline \n",
    "import umap\n",
    "import matplotlib.pyplot as plt\n",
    "\n",
    "def umap_plot(weight_matrix, word_ids, words):\n",
    "    \"\"\"Run UMAP on the entire Vxd `weight_matrix` (e.g. model.lookup.weight or model.projection.weight),\n",
    "    And plot the points corresponding to the given `word_ids`. \"\"\"\n",
    "    reduced = umap.UMAP(min_dist=0.0001).fit_transform(weight_matrix.detach().cpu().numpy()) \n",
    "    # transfer tensor back to cpu\n",
    "    plt.figure(figsize=(20,20))\n",
    "\n",
    "    to_plot = reduced[word_ids, :]\n",
    "    plt.scatter(to_plot[:, 0], to_plot[:, 1])\n",
    "    for i, word_id in enumerate(word_ids):\n",
    "        current_point = to_plot[i]\n",
    "        plt.annotate(words[i], (current_point[0], current_point[1]))\n",
    "\n",
    "    plt.grid()\n",
    "    plt.show()"
   ]
  },
  {
   "cell_type": "markdown",
   "metadata": {},
   "source": [
    "#### II.2.1 Word Similarity"
   ]
  },
  {
   "cell_type": "code",
   "execution_count": 21,
   "metadata": {
    "collapsed": true
   },
   "outputs": [],
   "source": [
    "def cos_similarity(weight_matrix, words):\n",
    "#make sure at least appear in the text once \n",
    "    whole_word = list()\n",
    "    for word in words:\n",
    "        if word not in vocab:\n",
    "            raise NotImplementedError(\"selected token must appeared in the corpus once, please replace {}\".format(word))\n",
    "            \n",
    "    # define my cosine similarity. each input is 1 x 64. Therefore evaluate along x'axis returns a scalar \n",
    "    cos = nn.CosineSimilarity(dim = 0, eps = 1e-6)\n",
    "\n",
    "    dis_list = defaultdict(lambda: defaultdict(float))\n",
    "\n",
    "    for w in words:\n",
    "        wid = train_dict.get_id(w)\n",
    "        temp_list = list()\n",
    "        for i in range(len(weight_matrix)):\n",
    "            if i == wid:\n",
    "                continue\n",
    "            else: \n",
    "                dis = cos(weight_matrix[wid], weight_matrix[i])\n",
    "                temp_list.append(tuple((train_dict.get_token(i), dis.item())))\n",
    "        temp_list = sorted(temp_list, key = lambda x: x[-1])\n",
    "        dis_list[w]['worst'] = temp_list[:10]\n",
    "        dis_list[w]['best'] = temp_list[-10:]\n",
    "        worst_words = [x[0] for x in temp_list[:10]]\n",
    "        best_words = [x[0] for x in temp_list[-10:]]\n",
    "        whole_word += worst_words + best_words\n",
    "    return dis_list, whole_word + words"
   ]
  },
  {
   "cell_type": "markdown",
   "metadata": {},
   "source": [
    "#### II.2.2 Embedding Layer"
   ]
  },
  {
   "cell_type": "code",
   "execution_count": 23,
   "metadata": {},
   "outputs": [],
   "source": [
    "weight_matrix_lkup = model.lookup.weight\n",
    "words = ['productive', 'teenage','south','antelope','smart']\n",
    "# some verbs, and nouns\n",
    "lkup_list, whole_words_lkup = cos_similarity(weight_matrix_lkup, words)"
   ]
  },
  {
   "cell_type": "code",
   "execution_count": 34,
   "metadata": {},
   "outputs": [
    {
     "data": {
      "text/plain": [
       "[('fuelled', 0.4145849049091339),\n",
       " ('Bethlehem', 0.4171598553657532),\n",
       " ('window', 0.42124074697494507),\n",
       " ('drills', 0.4226926565170288),\n",
       " ('gamma', 0.4253535270690918),\n",
       " ('Trujillo', 0.4524407684803009),\n",
       " ('Helikopter', 0.45847856998443604),\n",
       " ('sufficient', 0.4664282500743866),\n",
       " ('gorgeously', 0.472387433052063),\n",
       " ('pyrite', 0.4758983552455902)]"
      ]
     },
     "execution_count": 34,
     "metadata": {},
     "output_type": "execute_result"
    }
   ],
   "source": [
    "lkup_list['smart']['best']"
   ]
  },
  {
   "cell_type": "code",
   "execution_count": 35,
   "metadata": {},
   "outputs": [
    {
     "data": {
      "text/plain": [
       "[('Hartington', -0.4613579511642456),\n",
       " ('astonished', -0.45143312215805054),\n",
       " ('none', -0.446800172328949),\n",
       " ('Kannada', -0.4442085027694702),\n",
       " ('508', -0.43341436982154846),\n",
       " ('Moltke', -0.42936182022094727),\n",
       " ('ambush', -0.42904070019721985),\n",
       " ('ligand', -0.4222765266895294),\n",
       " ('skyline', -0.4182506203651428),\n",
       " ('surge', -0.4146639108657837)]"
      ]
     },
     "execution_count": 35,
     "metadata": {},
     "output_type": "execute_result"
    }
   ],
   "source": [
    "lkup_list['smart']['worst']"
   ]
  },
  {
   "cell_type": "code",
   "execution_count": 26,
   "metadata": {},
   "outputs": [
    {
     "name": "stderr",
     "output_type": "stream",
     "text": [
      "/home/sl7085/.conda/envs/myenv/lib/python3.6/site-packages/numba/compiler.py:602: NumbaPerformanceWarning: \n",
      "The keyword argument 'parallel=True' was specified but no transformation for parallel execution was possible.\n",
      "\n",
      "To find out why, try turning on parallel diagnostics, see http://numba.pydata.org/numba-doc/latest/user/parallel.html#diagnostics for help.\n",
      "\n",
      "File \"../../.conda/envs/myenv/lib/python3.6/site-packages/umap/rp_tree.py\", line 135:\n",
      "@numba.njit(fastmath=True, nogil=True, parallel=True)\n",
      "def euclidean_random_projection_split(data, indices, rng_state):\n",
      "^\n",
      "\n",
      "  self.func_ir.loc))\n",
      "/home/sl7085/.conda/envs/myenv/lib/python3.6/site-packages/umap/nndescent.py:92: NumbaPerformanceWarning: \n",
      "The keyword argument 'parallel=True' was specified but no transformation for parallel execution was possible.\n",
      "\n",
      "To find out why, try turning on parallel diagnostics, see http://numba.pydata.org/numba-doc/latest/user/parallel.html#diagnostics for help.\n",
      "\n",
      "File \"../../.conda/envs/myenv/lib/python3.6/site-packages/umap/utils.py\", line 409:\n",
      "@numba.njit(parallel=True)\n",
      "def build_candidates(current_graph, n_vertices, n_neighbors, max_candidates, rng_state):\n",
      "^\n",
      "\n",
      "  current_graph, n_vertices, n_neighbors, max_candidates, rng_state\n",
      "/home/sl7085/.conda/envs/myenv/lib/python3.6/site-packages/numba/compiler.py:602: NumbaPerformanceWarning: \n",
      "The keyword argument 'parallel=True' was specified but no transformation for parallel execution was possible.\n",
      "\n",
      "To find out why, try turning on parallel diagnostics, see http://numba.pydata.org/numba-doc/latest/user/parallel.html#diagnostics for help.\n",
      "\n",
      "File \"../../.conda/envs/myenv/lib/python3.6/site-packages/umap/nndescent.py\", line 47:\n",
      "    @numba.njit(parallel=True)\n",
      "    def nn_descent(\n",
      "    ^\n",
      "\n",
      "  self.func_ir.loc))\n"
     ]
    },
    {
     "data": {
      "image/png": "[encoded data removed]",
      "text/plain": [
       "<matplotlib.figure.Figure at 0x2ab173bbb908>"
      ]
     },
     "metadata": {},
     "output_type": "display_data"
    }
   ],
   "source": [
    "whole_word_ids_lkup = train_dict.encode_token_seq(whole_words_lkup)   # e.g. use dictionary.get_id on a list of words\n",
    "\n",
    "umap_plot(weight_matrix_lkup, whole_word_ids_lkup, whole_words_lkup)"
   ]
  },
  {
   "cell_type": "markdown",
   "metadata": {},
   "source": [
    "#### II.2.3 Projection Layer"
   ]
  },
  {
   "cell_type": "code",
   "execution_count": 27,
   "metadata": {
    "collapsed": true
   },
   "outputs": [],
   "source": [
    "weight_matrix_proj = model.projection.weight\n",
    "words = ['productive', 'teenage','south','antelope','smart']\n",
    "# some verbs, and nouns\n",
    "proj_list, whole_words_proj = cos_similarity(weight_matrix_proj, words)"
   ]
  },
  {
   "cell_type": "code",
   "execution_count": 40,
   "metadata": {},
   "outputs": [
    {
     "data": {
      "text/plain": [
       "[('rudders', 0.7861390113830566),\n",
       " ('dihedral', 0.7878164052963257),\n",
       " ('cruciform', 0.7883051633834839),\n",
       " ('webisode', 0.7900282144546509),\n",
       " ('dose', 0.7945231795310974),\n",
       " ('recourse', 0.7983407974243164),\n",
       " ('cun', 0.8006885647773743),\n",
       " ('moult', 0.8121520280838013),\n",
       " ('epidemic', 0.8251773715019226),\n",
       " ('smile', 0.8261529207229614)]"
      ]
     },
     "execution_count": 40,
     "metadata": {},
     "output_type": "execute_result"
    }
   ],
   "source": [
    "proj_list['productive']['best']"
   ]
  },
  {
   "cell_type": "code",
   "execution_count": 41,
   "metadata": {},
   "outputs": [
    {
     "data": {
      "text/plain": [
       "[('and', -0.34913504123687744),\n",
       " ('was', -0.26380446553230286),\n",
       " ('is', -0.23950541019439697),\n",
       " ('\"', -0.22181227803230286),\n",
       " ('the', -0.18868812918663025),\n",
       " ('<unk>', -0.17997287213802338),\n",
       " ('The', -0.16852892935276031),\n",
       " (',', -0.15113075077533722),\n",
       " ('it', -0.12440523505210876),\n",
       " ('<eos>', -0.11839520931243896)]"
      ]
     },
     "execution_count": 41,
     "metadata": {},
     "output_type": "execute_result"
    }
   ],
   "source": [
    "proj_list['productive']['worst']"
   ]
  },
  {
   "cell_type": "code",
   "execution_count": 28,
   "metadata": {},
   "outputs": [
    {
     "name": "stderr",
     "output_type": "stream",
     "text": [
      "/home/sl7085/.conda/envs/myenv/lib/python3.6/site-packages/numba/compiler.py:602: NumbaPerformanceWarning: \n",
      "The keyword argument 'parallel=True' was specified but no transformation for parallel execution was possible.\n",
      "\n",
      "To find out why, try turning on parallel diagnostics, see http://numba.pydata.org/numba-doc/latest/user/parallel.html#diagnostics for help.\n",
      "\n",
      "File \"../../.conda/envs/myenv/lib/python3.6/site-packages/umap/nndescent.py\", line 47:\n",
      "    @numba.njit(parallel=True)\n",
      "    def nn_descent(\n",
      "    ^\n",
      "\n",
      "  self.func_ir.loc))\n"
     ]
    },
    {
     "data": {
      "image/png": "[encoded data removed]",
      "text/plain": [
       "<matplotlib.figure.Figure at 0x2ab172a061d0>"
      ]
     },
     "metadata": {},
     "output_type": "display_data"
    }
   ],
   "source": [
    "whole_word_ids_proj = train_dict.encode_token_seq(whole_words_proj)   # e.g. use dictionary.get_id on a list of words\n",
    "umap_plot(weight_matrix_proj, whole_word_ids, whole_words_proj)"
   ]
  },
  {
   "cell_type": "markdown",
   "metadata": {},
   "source": [
    "### II.3 Scoring"
   ]
  },
  {
   "cell_type": "code",
   "execution_count": null,
   "metadata": {
    "collapsed": true
   },
   "outputs": [],
   "source": []
  },
  {
   "cell_type": "markdown",
   "metadata": {},
   "source": [
    "#### II.3.2 Highest and Lowest scoring sequences"
   ]
  },
  {
   "cell_type": "code",
   "execution_count": null,
   "metadata": {
    "collapsed": true
   },
   "outputs": [],
   "source": []
  },
  {
   "cell_type": "markdown",
   "metadata": {},
   "source": [
    "#### II.3.3 Modified sequences"
   ]
  },
  {
   "cell_type": "code",
   "execution_count": null,
   "metadata": {
    "collapsed": true
   },
   "outputs": [],
   "source": []
  },
  {
   "cell_type": "markdown",
   "metadata": {},
   "source": [
    "### II.4 Sampling"
   ]
  },
  {
   "cell_type": "code",
   "execution_count": null,
   "metadata": {
    "collapsed": true
   },
   "outputs": [],
   "source": []
  },
  {
   "cell_type": "markdown",
   "metadata": {},
   "source": [
    "#### II.4.3 Number of unique tokens and sequence length \n",
    "\n",
    "(1,000 samples vs. 1,000 randomly selected validation-set sequences)"
   ]
  },
  {
   "cell_type": "code",
   "execution_count": null,
   "metadata": {
    "collapsed": true
   },
   "outputs": [],
   "source": []
  },
  {
   "cell_type": "markdown",
   "metadata": {},
   "source": [
    "#### II.4.4 Example Samples"
   ]
  },
  {
   "cell_type": "code",
   "execution_count": null,
   "metadata": {
    "collapsed": true
   },
   "outputs": [],
   "source": []
  }
 ],
 "metadata": {
  "kernelspec": {
   "display_name": "Python 3",
   "language": "python",
   "name": "python3"
  },
  "language_info": {
   "codemirror_mode": {
    "name": "ipython",
    "version": 3
   },
   "file_extension": ".py",
   "mimetype": "text/x-python",
   "name": "python",
   "nbconvert_exporter": "python",
   "pygments_lexer": "ipython3",
   "version": "3.6.2"
  }
 },
 "nbformat": 4,
 "nbformat_minor": 2
}
