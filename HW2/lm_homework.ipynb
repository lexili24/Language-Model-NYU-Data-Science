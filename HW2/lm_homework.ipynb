{
 "cells": [
  {
   "cell_type": "markdown",
   "metadata": {},
   "source": [
    "# DS-GA 1011 Homework 2\n",
    "## N-Gram and Neural Language Modeling"
   ]
  },
  {
   "cell_type": "code",
   "execution_count": 1,
   "metadata": {
    "collapsed": true
   },
   "outputs": [],
   "source": [
    "import os\n",
    "import json\n",
    "import jsonlines\n",
    "import numpy as np\n",
    "from collections import defaultdict\n",
    "import itertools\n",
    "import operator\n",
    "from tqdm import tqdm"
   ]
  },
  {
   "cell_type": "markdown",
   "metadata": {},
   "source": [
    "## I. N-Gram Language Modeling"
   ]
  },
  {
   "cell_type": "markdown",
   "metadata": {},
   "source": [
    "#### Utilities"
   ]
  },
  {
   "cell_type": "code",
   "execution_count": 2,
   "metadata": {
    "collapsed": true
   },
   "outputs": [],
   "source": [
    "def load_wikitext(filename='wikitext2-sentencized.json'):\n",
    "    if not os.path.exists(filename):\n",
    "        !wget \"https://nyu.box.com/shared/static/9kb7l7ci30hb6uahhbssjlq0kctr5ii4.json\" -O $filename\n",
    "    \n",
    "    datasets = json.load(open(filename, 'r'))\n",
    "    for name in datasets:\n",
    "        datasets[name] = [x.split() for x in datasets[name]]\n",
    "    vocab = list(set([t for ts in datasets['train'] for t in ts]))      \n",
    "    print(\"Vocab size: %d\" % (len(vocab)))\n",
    "    return datasets, vocab\n",
    "\n",
    "def perplexity(model, sequences):\n",
    "    n_total = 0\n",
    "    logp_total = 0\n",
    "    for sequence in sequences:\n",
    "        logp_total += model.sequence_logp(sequence)\n",
    "        n_total += len(sequence) + 1  \n",
    "    ppl = 2 ** (- (1.0 / n_total) * logp_total)  \n",
    "    return ppl"
   ]
  },
  {
   "cell_type": "markdown",
   "metadata": {},
   "source": [
    "### Additive Smoothing"
   ]
  },
  {
   "cell_type": "code",
   "execution_count": 3,
   "metadata": {
    "collapsed": true
   },
   "outputs": [],
   "source": [
    "class NGramAdditive(object):\n",
    "    def __init__(self, n, delta, vsize):\n",
    "        self.n = n\n",
    "        self.delta = delta\n",
    "        self.count = defaultdict(lambda: defaultdict(float))\n",
    "        self.total = defaultdict(float)\n",
    "        self.vsize = vsize\n",
    "    \n",
    "    def estimate(self, sequences):\n",
    "        for sequence in sequences:\n",
    "            padded_sequence = ['<bos>']*(self.n-1) + sequence + ['<eos>']\n",
    "            for i in range(len(padded_sequence) - self.n+1):\n",
    "                ngram = tuple(padded_sequence[i:i+self.n])\n",
    "                prefix, word = ngram[:-1], ngram[-1]\n",
    "                self.count[prefix][word] += 1\n",
    "                self.total[prefix] += 1\n",
    "                \n",
    "    def sequence_logp(self, sequence):\n",
    "        padded_sequence = ['<bos>']*(self.n-1) + sequence + ['<eos>']\n",
    "        total_logp = 0\n",
    "        for i in range(len(padded_sequence) - self.n+1):\n",
    "            ngram = tuple(padded_sequence[i:i+self.n])\n",
    "            total_logp += np.log2(self.ngram_prob(ngram))\n",
    "        return total_logp\n",
    "\n",
    "    def ngram_prob(self, ngram):\n",
    "        prefix = ngram[:-1]\n",
    "        word = ngram[-1]\n",
    "        prob = ((self.delta + self.count[prefix][word]) / \n",
    "                (self.total[prefix] + self.delta*self.vsize))\n",
    "        return prob"
   ]
  },
  {
   "cell_type": "code",
   "execution_count": 4,
   "metadata": {},
   "outputs": [
    {
     "name": "stdout",
     "output_type": "stream",
     "text": [
      "Vocab size: 33175\n"
     ]
    }
   ],
   "source": [
    "datasets, vocab = load_wikitext()\n",
    "\n",
    "# delta = 0.0005\n",
    "# for n in [2, 3, 4]:\n",
    "#     lm = NGramAdditive(n=n, delta=delta, vsize=len(vocab)+1)  # +1 is for <eos>\n",
    "#     lm.estimate(datasets['train'])\n",
    "\n",
    "#     print(\"Baseline (Additive smoothing, n=%d, delta=%.4f)) Train Perplexity: %.3f\" % (n, delta, perplexity(lm, datasets['train'])))\n",
    "#     print(\"Baseline (Additive smoothing, n=%d, delta=%.4f)) Valid Perplexity: %.3f\" % (n, delta, perplexity(lm, datasets['valid'])))"
   ]
  },
  {
   "cell_type": "code",
   "execution_count": null,
   "metadata": {},
   "outputs": [],
   "source": [
    "type(vocab)"
   ]
  },
  {
   "cell_type": "code",
   "execution_count": null,
   "metadata": {},
   "outputs": [],
   "source": [
    "vocab[:10]"
   ]
  },
  {
   "cell_type": "code",
   "execution_count": null,
   "metadata": {},
   "outputs": [],
   "source": [
    "'<unk>' in vocab"
   ]
  },
  {
   "cell_type": "markdown",
   "metadata": {},
   "source": [
    "### I.1 Interpolation"
   ]
  },
  {
   "cell_type": "code",
   "execution_count": null,
   "metadata": {
    "collapsed": true
   },
   "outputs": [],
   "source": [
    "class NGramInterpolation(object):\n",
    "    pass"
   ]
  },
  {
   "cell_type": "markdown",
   "metadata": {},
   "source": [
    "#### Results (showing $\\lambda_0,\\ldots,\\lambda_n$ values):"
   ]
  },
  {
   "cell_type": "code",
   "execution_count": null,
   "metadata": {
    "collapsed": true
   },
   "outputs": [],
   "source": []
  },
  {
   "cell_type": "markdown",
   "metadata": {},
   "source": [
    "## II. Neural Language Modeling with a Recurrent Neural Network"
   ]
  },
  {
   "cell_type": "code",
   "execution_count": 5,
   "metadata": {
    "collapsed": true
   },
   "outputs": [],
   "source": [
    "import torch\n",
    "import torch.nn as nn\n",
    "from torch.utils.data import Dataset, RandomSampler, SequentialSampler,DataLoader\n",
    "import matplotlib.pyplot as plt"
   ]
  },
  {
   "cell_type": "markdown",
   "metadata": {},
   "source": [
    "### Utilities"
   ]
  },
  {
   "cell_type": "code",
   "execution_count": 6,
   "metadata": {
    "collapsed": true
   },
   "outputs": [],
   "source": [
    "class Dictionary(object):\n",
    "    def __init__(self, datasets, include_valid=False):\n",
    "        self.tokens = []\n",
    "        self.ids = {}\n",
    "        self.counts = {}\n",
    "        \n",
    "        # add special tokens\n",
    "        self.add_token('<bos>')\n",
    "        self.add_token('<eos>')\n",
    "        self.add_token('<pad>')\n",
    "        self.add_token('<unk>') # validation token is not seen in the training dataset\n",
    "        \n",
    "        for line in tqdm(datasets['train']):\n",
    "            for w in line:\n",
    "                self.add_token(w)\n",
    "                    \n",
    "        if include_valid is True:\n",
    "            for line in tqdm(datasets['valid']):\n",
    "                for w in line:\n",
    "                    self.add_token(w)\n",
    "                            \n",
    "    def add_token(self, w):\n",
    "        if w not in self.tokens:\n",
    "            self.tokens.append(w)\n",
    "            _w_id = len(self.tokens) - 1\n",
    "            self.ids[w] = _w_id\n",
    "            self.counts[w] = 1\n",
    "        else:\n",
    "            self.counts[w] += 1\n",
    "\n",
    "    def get_id(self, w):\n",
    "        return self.ids[w]\n",
    "    \n",
    "    def get_token(self, idx):\n",
    "        return self.tokens[idx]\n",
    "    \n",
    "    def decode_idx_seq(self, l):\n",
    "        return [self.tokens[i] for i in l]\n",
    "    \n",
    "    def encode_token_seq(self, l):\n",
    "        return [self.ids[i] if i in self.ids else self.ids['<unk>'] for i in l]\n",
    "    \n",
    "    def __len__(self):\n",
    "        return len(self.tokens)"
   ]
  },
  {
   "cell_type": "code",
   "execution_count": 9,
   "metadata": {},
   "outputs": [
    {
     "name": "stderr",
     "output_type": "stream",
     "text": [
      "100%|██████████| 78274/78274 [03:09<00:00, 412.12it/s]"
     ]
    },
    {
     "name": "stdout",
     "output_type": "stream",
     "text": [
      "By 7 September , most of <unk> 's troops had started marching from <\n",
      "\n",
      " encoded - [830, 2280, 753, 10, 402, 5, 3, 115, 1225, 510, 1360, 7393, 107, 361]\n",
      "\n",
      " decoded - ['By', '7', 'September', ',', 'most', 'of', '<unk>', \"'s\", 'troops', 'had', 'started', 'marching', 'from', '<']\n",
      "length of train_dict is  33178\n",
      "unique words in training dataset is  33175\n"
     ]
    },
    {
     "name": "stderr",
     "output_type": "stream",
     "text": [
      "\n"
     ]
    }
   ],
   "source": [
    "train_dict=Dictionary(datasets) # excluding validation dataset #109\n",
    "#all_dict=Dictionary(datasets, include_valid = True)\n",
    "\n",
    "# example\n",
    "rand_int = np.random.randint(1, len(datasets['valid']))\n",
    "print(' '.join(datasets['valid'][rand_int]))\n",
    "encoded = train_dict.encode_token_seq(datasets['valid'][rand_int])\n",
    "print(f'\\n encoded - {encoded}')\n",
    "decoded = train_dict.decode_idx_seq(encoded)\n",
    "print(f'\\n decoded - {decoded}')\n",
    "\n",
    "# checking\n",
    "print('length of train_dict is ', len(train_dict)) # that's because <unk> is already in the dataset \n",
    "print('unique words in training dataset is ', len(vocab))"
   ]
  },
  {
   "cell_type": "code",
   "execution_count": 17,
   "metadata": {
    "collapsed": true
   },
   "outputs": [],
   "source": [
    "# given the dictionary from above, now write a function that tokenize the all datasets into id's\n",
    "def tokenize_dataset(datasets, dictionary, ngram_order=2):\n",
    "    tokenized_datasets = {}\n",
    "    for split, dataset in datasets.items():\n",
    "        _current_dictified = []\n",
    "        for l in tqdm(dataset):\n",
    "            l = ['<bos>']*(ngram_order-1) + l + ['<eos>']\n",
    "            encoded_l = dictionary.encode_token_seq(l)\n",
    "            _current_dictified.append(encoded_l)\n",
    "        tokenized_datasets[split] = _current_dictified\n",
    "        \n",
    "    return tokenized_datasets\n",
    "\n",
    "# Given a tokenzied dataset with ngram defined, slice the input sequences into n-grams \n",
    "# [0,1,2,3,4,5], 2 -> [0,1], [1,2], [2,3], [3,4], [4,5]\n",
    "def slice_sequences_given_order(tokenized_dataset_with_spec, ngram_order=2):\n",
    "    sliced_datasets = {}\n",
    "    for split, dataset in tokenized_dataset_with_spec.items():\n",
    "        _list_of_sliced_ngrams = []\n",
    "        for seq in tqdm(dataset):\n",
    "            ngrams = [seq[i:i+ngram_order] for i in range(len(seq)-ngram_order+1)]\n",
    "            _list_of_sliced_ngrams.extend(ngrams)\n",
    "        sliced_datasets[split] = _list_of_sliced_ngrams\n",
    "\n",
    "    return sliced_datasets\n",
    "\n",
    "# # Now we create a dataset\n",
    "class NgramDataset(Dataset):\n",
    "    def __init__(self, sliced_dataset_split):\n",
    "        super().__init__()\n",
    "\n",
    "        # for each sample: [:-1] is input, [-1] is target\n",
    "        self.sequences = [torch.tensor(i, dtype=torch.long) for i in sliced_dataset_split]\n",
    "    \n",
    "    def __getitem__(self, i):\n",
    "        sample = self.sequences[i]\n",
    "        return sample\n",
    "\n",
    "    def __len__(self):\n",
    "        return len(self.sequences)\n",
    "\n",
    "def batchify(list_minibatch):\n",
    "    inp_list = [i[:-1] for i in list_minibatch]\n",
    "    tar_list = [i[-1] for i in list_minibatch]\n",
    "\n",
    "    inp_tensor = torch.stack(inp_list, dim=0) # list of tensors and create a new tensor a u-dimension specified by dim\n",
    "    tar_tensor = torch.stack(tar_list, dim=0)\n",
    "    # cat: take a list of tensors and use existing dimension to concatent. Cannot create a new u-dimension speicfied. \n",
    "\n",
    "    return inp_tensor, tar_tensor"
   ]
  },
  {
   "cell_type": "code",
   "execution_count": 11,
   "metadata": {},
   "outputs": [
    {
     "name": "stderr",
     "output_type": "stream",
     "text": [
      "100%|██████████| 78274/78274 [00:01<00:00, 76501.93it/s]\n",
      "100%|██████████| 8464/8464 [00:00<00:00, 80940.14it/s]\n",
      "100%|██████████| 9708/9708 [00:00<00:00, 84714.55it/s]\n",
      "100%|██████████| 78274/78274 [00:02<00:00, 33064.56it/s]\n",
      "100%|██████████| 8464/8464 [00:00<00:00, 97930.77it/s]\n",
      "100%|██████████| 9708/9708 [00:00<00:00, 23711.95it/s]\n"
     ]
    },
    {
     "name": "stdout",
     "output_type": "stream",
     "text": [
      "\n",
      " decoded with spec - ['<bos>', 'The', 'Nataraja', 'and', 'Ardhanarishvara', 'sculptures', 'are', 'also', 'attributed', 'to', 'the', 'Rashtrakutas', '.', '<eos>']\n"
     ]
    }
   ],
   "source": [
    "#  returns dictionary of three items with 'train', 'valid' and 'test' with lists of token ids \n",
    "tokenized_ngram = tokenize_dataset(datasets, train_dict, ngram_order=2)\n",
    "\n",
    "# returns dictionary of three and lists of sliced n-grams\n",
    "sliced_ngram = slice_sequences_given_order(tokenized_ngram, ngram_order=2)\n",
    "\n",
    "# check that the sentence is encoded with (n-1)<bos> and can be decoded back to tokens \n",
    "decoded_with_spec = train_dict.decode_idx_seq(tokenized_ngram['train'][3010])\n",
    "print(f'\\n decoded with spec - {decoded_with_spec}')\n",
    "\n",
    "ngram_datasets = {}\n",
    "ngram_loaders = {}\n",
    "for split, dataset_sliced in sliced_ngram.items():\n",
    "    if split == 'train':\n",
    "        shuffle_ = True\n",
    "    else:\n",
    "        shuffle_ = False\n",
    "    dataset_ = NgramDataset(dataset_sliced)\n",
    "    ngram_datasets[split] = dataset_\n",
    "    ngram_loaders[split] = DataLoader(dataset_, batch_size=2048, shuffle=shuffle_, collate_fn=batchify)"
   ]
  },
  {
   "cell_type": "code",
   "execution_count": 12,
   "metadata": {},
   "outputs": [
    {
     "name": "stdout",
     "output_type": "stream",
     "text": [
      "The length of original training dataset is:  78274\n",
      "The length of tokenzied training dataset is:  78274\n",
      "Slided_ngram for training dataset now has length of  2003028\n"
     ]
    }
   ],
   "source": [
    "print('The length of original training dataset is: ', len(datasets['train']))\n",
    "print('The length of tokenzied training dataset is: ', len(tokenized_ngram['train']))\n",
    "print('Slided_ngram for training dataset now has length of ', len(sliced_ngram['train']))"
   ]
  },
  {
   "cell_type": "code",
   "execution_count": 13,
   "metadata": {},
   "outputs": [
    {
     "name": "stdout",
     "output_type": "stream",
     "text": [
      "[0, 504, 1506, 7106, 741, 459, 20, 140, 98, 432, 19366, 10, 150, 15605, 13, 260, 3748, 955, 1826, 1384, 1145, 98, 1722, 4303, 39, 1]\n",
      "['<bos>', 'This', 'may', 'occur', 'several', 'times', 'a', 'year', 'for', 'young', 'lobsters', ',', 'but', 'decreases', 'to', 'once', 'every', '1', '–', '2', 'years', 'for', 'larger', 'animals', '.', '<eos>']\n"
     ]
    }
   ],
   "source": [
    "print(tokenized_ngram['valid'][10])\n",
    "print(train_dict.decode_idx_seq(tokenized_ngram['valid'][10]))"
   ]
  },
  {
   "cell_type": "code",
   "execution_count": 14,
   "metadata": {
    "collapsed": true
   },
   "outputs": [],
   "source": [
    "class TensoredDataset(Dataset):\n",
    "    def __init__(self, list_of_lists_of_tokens):\n",
    "        self.input_tensors = []\n",
    "        self.target_tensors = []\n",
    "        \n",
    "        for sample in list_of_lists_of_tokens:\n",
    "            self.input_tensors.append(torch.tensor([sample[:-1]], dtype=torch.long))\n",
    "            self.target_tensors.append(torch.tensor([sample[1:]], dtype=torch.long))\n",
    "    \n",
    "    def __len__(self):\n",
    "        return len(self.input_tensors)\n",
    "    \n",
    "    def __getitem__(self, idx):\n",
    "        # return a (input, target) tuple\n",
    "        return (self.input_tensors[idx], self.target_tensors[idx])\n",
    "    \n",
    "def pad_list_of_tensors(list_of_tensors, pad_token):\n",
    "    max_length = max([t.size(-1) for t in list_of_tensors])\n",
    "    padded_list = []\n",
    "    \n",
    "    for t in list_of_tensors:\n",
    "        padded_tensor = torch.cat([t, torch.tensor([[pad_token]*(max_length - t.size(-1))], dtype=torch.long)], dim = -1)\n",
    "        padded_list.append(padded_tensor)\n",
    "        \n",
    "    padded_tensor = torch.cat(padded_list, dim=0)\n",
    "    \n",
    "    return padded_tensor\n",
    "\n",
    "def pad_collate_fn(batch):\n",
    "    # batch is a list of sample tuples\n",
    "    input_list = [s[0] for s in batch]\n",
    "    target_list = [s[1] for s in batch]\n",
    "    \n",
    "    #pad_token = persona_dict.get_id('<pad>')\n",
    "    pad_token = 2\n",
    "    \n",
    "    input_tensor = pad_list_of_tensors(input_list, pad_token)\n",
    "    target_tensor = pad_list_of_tensors(target_list, pad_token)\n",
    "    \n",
    "    return input_tensor, target_tensor\n",
    "\n"
   ]
  },
  {
   "cell_type": "code",
   "execution_count": 15,
   "metadata": {},
   "outputs": [
    {
     "data": {
      "text/plain": [
       "(tensor([[  0, 282,  13, 283, 181, 194, 195, 284,  13,  20, 285, 286,  39]]),\n",
       " tensor([[282,  13, 283, 181, 194, 195, 284,  13,  20, 285, 286,  39,   1]]))"
      ]
     },
     "execution_count": 15,
     "metadata": {},
     "output_type": "execute_result"
    }
   ],
   "source": [
    "tensor_dataset = {}\n",
    "\n",
    "for split, listoflists in tokenized_ngram.items():\n",
    "    tensor_dataset[split] = TensoredDataset(listoflists)\n",
    "    \n",
    "# check the first example\n",
    "tensor_dataset['train'][24]"
   ]
  },
  {
   "cell_type": "code",
   "execution_count": 16,
   "metadata": {
    "collapsed": true
   },
   "outputs": [],
   "source": [
    "loaders = {}\n",
    "batch_size = 32\n",
    "for split, dataset in tensor_dataset.items():\n",
    "    loaders[split] = DataLoader(dataset, batch_size=batch_size, shuffle=True, collate_fn=pad_collate_fn)"
   ]
  },
  {
   "cell_type": "markdown",
   "metadata": {},
   "source": [
    "### Baseline Model: RNN"
   ]
  },
  {
   "cell_type": "code",
   "execution_count": 20,
   "metadata": {
    "collapsed": true
   },
   "outputs": [],
   "source": [
    "from torch.nn import RNNBase, RNN\n",
    "from torch.nn import Embedding\n",
    "from torch.nn import Linear, functional\n",
    "import torch.optim as optim"
   ]
  },
  {
   "cell_type": "code",
   "execution_count": null,
   "metadata": {},
   "outputs": [],
   "source": [
    "# example embedding layer\n",
    "lookup = Embedding(num_embeddings=len(train_dict), embedding_dim=64, padding_idx=train_dict.get_id('<pad>'))\n",
    "lookup.weight.size()\n",
    "# train_dict = vocab size + 4"
   ]
  },
  {
   "cell_type": "code",
   "execution_count": null,
   "metadata": {},
   "outputs": [],
   "source": [
    "# Example input\n",
    "input_ = train_dict.encode_token_seq('hello world'.split(' '))\n",
    "print(f'discrete input: {[input_]}')\n",
    "\n",
    "input_continious = lookup(torch.tensor([input_], dtype=torch.long))\n",
    "print(f'continious input size: {input_continious.size()}')"
   ]
  },
  {
   "cell_type": "code",
   "execution_count": null,
   "metadata": {},
   "outputs": [],
   "source": [
    "lookup = nn.Embedding(num_embeddings=options['num_embeddings'], embedding_dim=options['embedding_dim'], padding_idx=options['padding_idx'])\n",
    "# before nn.RNN is hidden\n",
    "# Now: you do lookup table, and returns the tensors of sequence. No need of concat, becuase RNN naturally takes care of this\n",
    "# RNN natrually takes multi sentence inputs and outputs hidden_size \n",
    "rnn = nn.RNN(options['input_size'], options['hidden_size'], options['num_layers'], dropout=options['rnn_dropout'], batch_first=True)\n",
    "projection = nn.Linear(options['hidden_size'], options['num_embeddings'])"
   ]
  },
  {
   "cell_type": "code",
   "execution_count": null,
   "metadata": {},
   "outputs": [],
   "source": [
    "lookup"
   ]
  },
  {
   "cell_type": "code",
   "execution_count": null,
   "metadata": {},
   "outputs": [],
   "source": [
    "rnn"
   ]
  },
  {
   "cell_type": "code",
   "execution_count": null,
   "metadata": {},
   "outputs": [],
   "source": [
    "projection"
   ]
  },
  {
   "cell_type": "code",
   "execution_count": null,
   "metadata": {
    "collapsed": true
   },
   "outputs": [],
   "source": [
    "import torch.nn as nn\n",
    "\n",
    "class RNNLanguageModel(nn.Module):\n",
    "    \"\"\"\n",
    "    This model combines embedding, rnn and projection layer into a single model\n",
    "    \"\"\"\n",
    "    def __init__(self, options):\n",
    "        super().__init__()\n",
    "        \n",
    "        # create each LM part here \n",
    "        self.lookup = nn.Embedding(num_embeddings=options['num_embeddings'], embedding_dim=options['embedding_dim'], padding_idx=options['padding_idx'])\n",
    "        # before nn.RNN is hidden\n",
    "        # Now: you do lookup table, and returns the tensors of sequence. No need of concat, becuase RNN naturally takes care of this\n",
    "        # RNN natrually takes multi sentence inputs and outputs hidden_size \n",
    "        self.rnn = nn.RNN(options['input_size'], options['hidden_size'], options['num_layers'], dropout=options['rnn_dropout'], batch_first=True)\n",
    "        self.projection = nn.Linear(options['hidden_size'], options['num_embeddings'])\n",
    "        \n",
    "    def forward(self, encoded_input_sequence):\n",
    "        \"\"\"\n",
    "        Forward method process the input from token ids to logits\n",
    "        \"\"\"\n",
    "        embeddings = self.lookup(encoded_input_sequence)\n",
    "        rnn_outputs = self.rnn(embeddings)\n",
    "        # project of outputs \n",
    "        # rnn_outputs: tupple with second element being last hidden state. \n",
    "        logits = self.projection(rnn_outputs[0])\n",
    "        \n",
    "        return logits"
   ]
  },
  {
   "cell_type": "code",
   "execution_count": null,
   "metadata": {
    "collapsed": true
   },
   "outputs": [],
   "source": [
    "load_pretrained = False\n",
    "\n",
    "num_gpus = torch.cuda.device_count()\n",
    "if num_gpus > 0:\n",
    "    current_device = 'cuda'\n",
    "else:\n",
    "    current_device = 'cpu'\n",
    "\n",
    "if load_pretrained:\n",
    "    if not os.path.exists('personachat_rnn_lm.pt'):\n",
    "        raise EOFError('Download pretrained model!')\n",
    "    model_dict = torch.load('personachat_rnn_lm.pt')\n",
    "    \n",
    "    options = model_dict['options']\n",
    "    model = RNNLanguageModel(options).to(current_device)\n",
    "    model.load_state_dict(model_dict['model_dict'])\n",
    "    \n",
    "else:\n",
    "    embedding_size = 64\n",
    "    hidden_size = 128 # output of dimension \n",
    "    num_layers = 2\n",
    "    rnn_dropout = 0.1\n",
    "    input_size = lookup.weight.size(1)\n",
    "    vocab_size = lookup.weight.size(0)\n",
    "    \n",
    "    options = {\n",
    "        'num_embeddings': len(train_dict),\n",
    "        'embedding_dim': embedding_size,\n",
    "        'padding_idx': train_dict.get_id('<pad>'),\n",
    "        'input_size': embedding_size,\n",
    "        'hidden_size': hidden_size,\n",
    "        'num_layers': num_layers,\n",
    "        'rnn_dropout': rnn_dropout,\n",
    "    }\n",
    "\n",
    "    \n",
    "    model = RNNLanguageModel(options).to(current_device)\n",
    "\n",
    "# same as previous nn based \n",
    "criterion = nn.CrossEntropyLoss(ignore_index=train_dict.get_id('<pad>'))\n",
    "\n",
    "model_parameters = [p for p in model.parameters() if p.requires_grad]\n",
    "optimizer = optim.Adam(model_parameters, lr=0.001)\n",
    "\n"
   ]
  },
  {
   "cell_type": "code",
   "execution_count": null,
   "metadata": {},
   "outputs": [],
   "source": [
    "# check model\n",
    "model"
   ]
  },
  {
   "cell_type": "code",
   "execution_count": null,
   "metadata": {},
   "outputs": [],
   "source": [
    "plot_cache = []\n",
    "\n",
    "for epoch_number in range(100):\n",
    "    avg_loss=0\n",
    "    if not load_pretrained:\n",
    "        model.train()\n",
    "        train_log_cache = []\n",
    "        for i, (inp, target) in enumerate(loaders['train']):\n",
    "            optimizer.zero_grad()\n",
    "            inp = inp.to(current_device)\n",
    "            target = target.to(current_device)\n",
    "            logits = model(inp)\n",
    "            \n",
    "            loss = criterion(logits.view(-1, logits.size(-1)), target.view(-1))\n",
    "            \n",
    "            loss.backward()\n",
    "            optimizer.step()\n",
    "            \n",
    "            train_log_cache.append(loss.item())\n",
    "            \n",
    "            if i % 100 == 0:\n",
    "                avg_loss = sum(train_log_cache)/len(train_log_cache)\n",
    "                print('Step {} avg train loss = {:.{prec}f}'.format(i, avg_loss, prec=4))\n",
    "                train_log_cache = []\n",
    "            \n",
    "    #do valid\n",
    "    valid_losses = []\n",
    "    model.eval()\n",
    "    with torch.no_grad():\n",
    "        for i, (inp, target) in enumerate(loaders['valid']):\n",
    "            inp = inp.to(current_device)\n",
    "            target = target.to(current_device)\n",
    "            logits = model(inp)\n",
    "\n",
    "            loss = criterion(logits.view(-1, logits.size(-1)), target.view(-1))\n",
    "            valid_losses.append(loss.item())\n",
    "        avg_val_loss = sum(valid_losses) / len(valid_losses)\n",
    "        print('Validation loss after {} epoch = {:.{prec}f}'.format(epoch_number, avg_val_loss, prec=4))\n",
    "        \n",
    "    plot_cache.append((avg_loss, avg_val_loss))\n",
    "\n",
    "    if load_pretrained:\n",
    "        break"
   ]
  },
  {
   "cell_type": "code",
   "execution_count": null,
   "metadata": {},
   "outputs": [],
   "source": [
    "epochs = np.array(list(range(len(plot_cache))))\n",
    "plt.plot(epochs, [2**(i[0]/np.log(2)) for i in plot_cache], label='Train ppl')\n",
    "plt.plot(epochs, [2**(i[1]/np.log(2)) for i in plot_cache], label='Valid ppl')\n",
    "\n",
    "plt.legend()\n",
    "plt.title('PPL curves of RNN baseline model')\n",
    "plt.show()"
   ]
  },
  {
   "cell_type": "markdown",
   "metadata": {},
   "source": [
    "### II.1 LSTM and Hyper-Parameters"
   ]
  },
  {
   "cell_type": "code",
   "execution_count": 18,
   "metadata": {
    "collapsed": true
   },
   "outputs": [],
   "source": [
    "from torch.nn import LSTM\n",
    "# input_size, hidden_size, num_layers. \n",
    "# Optional: bias = False, dropout = 0 (probability of dropout)\n",
    "# bidirectional = False. \n",
    "rnn = nn.LSTM(10, 20, 2)\n",
    "\n",
    "# input: tensor containing feature of the input sequence \n",
    "# shape: seq_len, batch, input_size\n",
    "input = torch.randn(5,3,10)\n",
    "\n",
    "#h0: tensor contain hidden state for t = seq_len\n",
    "# shape: num_layers * num*directions, batch, hidden_size\n",
    "h0 = torch.randn(2,3,20)\n",
    "\n",
    "#c0: tensor contain cell state for t = seq_length\n",
    "# shape: num_layers * num_directions, batch, hidden_size \n",
    "c0 = torch.randn(2,3,20)\n",
    "\n",
    "# output: shape (seq_len, batch, num_direction * hidden size)\n",
    "output, (hn,cn) = rnn(input, (h0,c0))"
   ]
  },
  {
   "cell_type": "code",
   "execution_count": 21,
   "metadata": {},
   "outputs": [
    {
     "data": {
      "text/plain": [
       "torch.Size([33178, 64])"
      ]
     },
     "execution_count": 21,
     "metadata": {},
     "output_type": "execute_result"
    }
   ],
   "source": [
    "# example embedding layer\n",
    "lookup = Embedding(num_embeddings=len(train_dict), embedding_dim=64, padding_idx=train_dict.get_id('<pad>'))\n",
    "lookup.weight.size()\n",
    "# train_dict = vocab size + 3"
   ]
  },
  {
   "cell_type": "code",
   "execution_count": 22,
   "metadata": {
    "collapsed": true
   },
   "outputs": [],
   "source": [
    "# From the baseline, we will stop the epoch around 20 \n",
    "class LSTMModel(nn.Module):\n",
    "    \"\"\"\n",
    "    This model combines embedding, rnn and projection layer into a single model\n",
    "    \"\"\"\n",
    "    def __init__(self, options):\n",
    "        super().__init__()\n",
    "        \n",
    "        # create each LM part here \n",
    "        self.lookup = nn.Embedding(num_embeddings=options['num_embeddings'], embedding_dim=options['embedding_dim'], padding_idx=options['padding_idx'])\n",
    "        self.lstm = nn.LSTM(options['input_size'], options['hidden_size'], options['num_layers'], \n",
    "                            dropout=options['lstm_dropout'], batch_first=True, bias = options['bias'],\n",
    "                           bidirectional = options['bid'])\n",
    "        self.projection = nn.Linear(options['hidden_size'], options['num_embeddings'])\n",
    "        \n",
    "    def forward(self, encoded_input_sequence):\n",
    "        \"\"\"\n",
    "        Forward method process the input from token ids to logits\n",
    "        \"\"\"\n",
    "        embeddings = self.lookup(encoded_input_sequence)\n",
    "        lstm_outputs = self.lstm(embeddings)\n",
    "        # project of outputs \n",
    "        # rnn_outputs: tupple with second element being last hidden state. \n",
    "        logits = self.projection(lstm_outputs[0])\n",
    "        \n",
    "        return logits"
   ]
  },
  {
   "cell_type": "code",
   "execution_count": 31,
   "metadata": {},
   "outputs": [],
   "source": [
    "load_pretrained = False\n",
    "\n",
    "num_gpus = torch.cuda.device_count()\n",
    "if num_gpus > 0:\n",
    "    current_device = 'cuda'\n",
    "else:\n",
    "    current_device = 'cpu'\n",
    "\n",
    "if load_pretrained:\n",
    "    if not os.path.exists('personachat_rnn_lm.pt'):\n",
    "        raise EOFError('Download pretrained model!')\n",
    "    model_dict = torch.load('personachat_rnn_lm.pt')\n",
    "    \n",
    "    options = model_dict['options']\n",
    "    model = LSTMModel(options).to(current_device)\n",
    "    model.load_state_dict(model_dict['model_dict'])\n",
    "    \n",
    "else:\n",
    "    embedding_size = 64\n",
    "    hidden_size = 128 # output of dimension \n",
    "    num_layers = 2\n",
    "    lstm_dropout = 0.1\n",
    "#     input_size = lookup.weight.size(1)\n",
    "    vocab_size = len(train_dict)\n",
    "    \n",
    "    options = {\n",
    "        'num_embeddings': len(train_dict),\n",
    "        'embedding_dim': embedding_size,\n",
    "        'padding_idx': train_dict.get_id('<pad>'),\n",
    "        'input_size': embedding_size,\n",
    "        'hidden_size': hidden_size,\n",
    "        'num_layers': num_layers,\n",
    "        'lstm_dropout': lstm_dropout,\n",
    "        'bias': True,\n",
    "        'bid': False \n",
    "    }\n",
    "\n",
    "    \n",
    "    model = LSTMModel(options).to(current_device)\n",
    "\n",
    "# same as previous nn based \n",
    "criterion = nn.CrossEntropyLoss(ignore_index=train_dict.get_id('<pad>'))\n",
    "\n",
    "model_parameters = [p for p in model.parameters() if p.requires_grad]\n",
    "optimizer = optim.Adam(model_parameters, lr=0.001)"
   ]
  },
  {
   "cell_type": "code",
   "execution_count": 32,
   "metadata": {},
   "outputs": [
    {
     "name": "stdout",
     "output_type": "stream",
     "text": [
      "Step 0 avg train loss = 10.4141\n",
      "Step 100 avg train loss = 7.8508\n",
      "Step 200 avg train loss = 7.1631\n",
      "Step 300 avg train loss = 7.0615\n",
      "Step 400 avg train loss = 6.9351\n",
      "Step 500 avg train loss = 6.8432\n",
      "Step 600 avg train loss = 6.7137\n",
      "Step 700 avg train loss = 6.6335\n",
      "Step 800 avg train loss = 6.5849\n",
      "Step 900 avg train loss = 6.4968\n",
      "Step 1000 avg train loss = 6.4613\n",
      "Step 1100 avg train loss = 6.4289\n",
      "Step 1200 avg train loss = 6.3595\n",
      "Step 1300 avg train loss = 6.3364\n",
      "Step 1400 avg train loss = 6.2780\n",
      "Step 1500 avg train loss = 6.2327\n",
      "Step 1600 avg train loss = 6.2201\n",
      "Step 1700 avg train loss = 6.2095\n",
      "Step 1800 avg train loss = 6.1694\n",
      "Step 1900 avg train loss = 6.1184\n",
      "Step 2000 avg train loss = 6.1127\n",
      "Step 2100 avg train loss = 6.0936\n",
      "Step 2200 avg train loss = 6.0831\n",
      "Step 2300 avg train loss = 6.0651\n",
      "Step 2400 avg train loss = 6.0419\n",
      "Validation loss after 0 epoch = 5.8386\n",
      "Saving best model at epoch 0\n",
      "Step 0 avg train loss = 5.9000\n",
      "Step 100 avg train loss = 5.9375\n",
      "Step 200 avg train loss = 5.9147\n",
      "Step 300 avg train loss = 5.9001\n",
      "Step 400 avg train loss = 5.8872\n",
      "Step 500 avg train loss = 5.8874\n",
      "Step 600 avg train loss = 5.8633\n",
      "Step 700 avg train loss = 5.8651\n",
      "Step 800 avg train loss = 5.8344\n",
      "Step 900 avg train loss = 5.8261\n",
      "Step 1000 avg train loss = 5.8202\n",
      "Step 1100 avg train loss = 5.7904\n",
      "Step 1200 avg train loss = 5.7700\n",
      "Step 1300 avg train loss = 5.7769\n",
      "Step 1400 avg train loss = 5.7582\n",
      "Step 1500 avg train loss = 5.7533\n",
      "Step 1600 avg train loss = 5.7442\n",
      "Step 1700 avg train loss = 5.7391\n",
      "Step 1800 avg train loss = 5.7037\n",
      "Step 1900 avg train loss = 5.6794\n",
      "Step 2000 avg train loss = 5.7077\n",
      "Step 2100 avg train loss = 5.6745\n",
      "Step 2200 avg train loss = 5.6902\n",
      "Step 2300 avg train loss = 5.6784\n",
      "Step 2400 avg train loss = 5.6717\n",
      "Validation loss after 1 epoch = 5.5503\n",
      "Saving best model at epoch 1\n",
      "Step 0 avg train loss = 5.6099\n",
      "Step 100 avg train loss = 5.5613\n",
      "Step 200 avg train loss = 5.5608\n",
      "Step 300 avg train loss = 5.5605\n",
      "Step 400 avg train loss = 5.5377\n",
      "Step 500 avg train loss = 5.5282\n",
      "Step 600 avg train loss = 5.5270\n",
      "Step 700 avg train loss = 5.5491\n",
      "Step 800 avg train loss = 5.5005\n",
      "Step 900 avg train loss = 5.5005\n",
      "Step 1000 avg train loss = 5.5137\n",
      "Step 1100 avg train loss = 5.5084\n",
      "Step 1200 avg train loss = 5.5035\n",
      "Step 1300 avg train loss = 5.4919\n",
      "Step 1400 avg train loss = 5.4756\n",
      "Step 1500 avg train loss = 5.5118\n",
      "Step 1600 avg train loss = 5.4895\n",
      "Step 1700 avg train loss = 5.4571\n",
      "Step 1800 avg train loss = 5.4632\n",
      "Step 1900 avg train loss = 5.4740\n",
      "Step 2000 avg train loss = 5.4506\n",
      "Step 2100 avg train loss = 5.4680\n",
      "Step 2200 avg train loss = 5.4469\n",
      "Step 2300 avg train loss = 5.4544\n",
      "Step 2400 avg train loss = 5.4340\n",
      "Validation loss after 2 epoch = 5.4199\n",
      "Saving best model at epoch 2\n",
      "Step 0 avg train loss = 5.3272\n",
      "Step 100 avg train loss = 5.3144\n",
      "Step 200 avg train loss = 5.3276\n",
      "Step 300 avg train loss = 5.3158\n",
      "Step 400 avg train loss = 5.3240\n",
      "Step 500 avg train loss = 5.3284\n",
      "Step 600 avg train loss = 5.3125\n",
      "Step 700 avg train loss = 5.3229\n",
      "Step 800 avg train loss = 5.3019\n",
      "Step 900 avg train loss = 5.3139\n",
      "Step 1000 avg train loss = 5.3261\n",
      "Step 1100 avg train loss = 5.3106\n",
      "Step 1200 avg train loss = 5.3171\n",
      "Step 1300 avg train loss = 5.3061\n",
      "Step 1400 avg train loss = 5.2929\n",
      "Step 1500 avg train loss = 5.2934\n",
      "Step 1600 avg train loss = 5.3050\n",
      "Step 1700 avg train loss = 5.2830\n",
      "Step 1800 avg train loss = 5.2886\n",
      "Step 1900 avg train loss = 5.2668\n",
      "Step 2000 avg train loss = 5.2880\n",
      "Step 2100 avg train loss = 5.2834\n",
      "Step 2200 avg train loss = 5.2632\n",
      "Step 2300 avg train loss = 5.2851\n",
      "Step 2400 avg train loss = 5.2756\n",
      "Validation loss after 3 epoch = 5.3477\n",
      "Saving best model at epoch 3\n",
      "Step 0 avg train loss = 5.2692\n",
      "Step 100 avg train loss = 5.1361\n",
      "Step 200 avg train loss = 5.1417\n",
      "Step 300 avg train loss = 5.1603\n",
      "Step 400 avg train loss = 5.1687\n",
      "Step 500 avg train loss = 5.1653\n",
      "Step 600 avg train loss = 5.1573\n",
      "Step 700 avg train loss = 5.1554\n",
      "Step 800 avg train loss = 5.1430\n",
      "Step 900 avg train loss = 5.1673\n",
      "Step 1000 avg train loss = 5.1362\n",
      "Step 1100 avg train loss = 5.1463\n",
      "Step 1200 avg train loss = 5.1547\n",
      "Step 1300 avg train loss = 5.1566\n",
      "Step 1400 avg train loss = 5.1558\n",
      "Step 1500 avg train loss = 5.1539\n",
      "Step 1600 avg train loss = 5.1503\n",
      "Step 1700 avg train loss = 5.1486\n",
      "Step 1800 avg train loss = 5.1521\n",
      "Step 1900 avg train loss = 5.1583\n",
      "Step 2000 avg train loss = 5.1562\n",
      "Step 2100 avg train loss = 5.1406\n",
      "Step 2200 avg train loss = 5.1174\n",
      "Step 2300 avg train loss = 5.1523\n",
      "Step 2400 avg train loss = 5.1254\n",
      "Validation loss after 4 epoch = 5.3046\n",
      "Saving best model at epoch 4\n",
      "Step 0 avg train loss = 4.9393\n",
      "Step 100 avg train loss = 5.0320\n",
      "Step 200 avg train loss = 4.9943\n",
      "Step 300 avg train loss = 5.0055\n",
      "Step 400 avg train loss = 5.0275\n",
      "Step 500 avg train loss = 5.0341\n",
      "Step 600 avg train loss = 5.0242\n",
      "Step 700 avg train loss = 5.0305\n",
      "Step 800 avg train loss = 5.0263\n",
      "Step 900 avg train loss = 5.0244\n",
      "Step 1000 avg train loss = 5.0100\n",
      "Step 1100 avg train loss = 5.0354\n",
      "Step 1200 avg train loss = 5.0263\n",
      "Step 1300 avg train loss = 5.0145\n",
      "Step 1400 avg train loss = 5.0379\n",
      "Step 1500 avg train loss = 5.0120\n",
      "Step 1600 avg train loss = 5.0281\n",
      "Step 1700 avg train loss = 5.0356\n",
      "Step 1800 avg train loss = 5.0294\n",
      "Step 1900 avg train loss = 5.0290\n",
      "Step 2000 avg train loss = 5.0446\n",
      "Step 2100 avg train loss = 5.0521\n",
      "Step 2200 avg train loss = 5.0494\n",
      "Step 2300 avg train loss = 5.0292\n",
      "Step 2400 avg train loss = 5.0193\n",
      "Validation loss after 5 epoch = 5.2855\n",
      "Saving best model at epoch 5\n",
      "Step 0 avg train loss = 4.9354\n",
      "Step 100 avg train loss = 4.8859\n",
      "Step 200 avg train loss = 4.9123\n",
      "Step 300 avg train loss = 4.9268\n",
      "Step 400 avg train loss = 4.9042\n",
      "Step 500 avg train loss = 4.9114\n",
      "Step 600 avg train loss = 4.8938\n",
      "Step 700 avg train loss = 4.9240\n",
      "Step 800 avg train loss = 4.9273\n",
      "Step 900 avg train loss = 4.9073\n",
      "Step 1000 avg train loss = 4.9307\n",
      "Step 1100 avg train loss = 4.9321\n",
      "Step 1200 avg train loss = 4.9222\n",
      "Step 1300 avg train loss = 4.9423\n",
      "Step 1400 avg train loss = 4.9274\n",
      "Step 1500 avg train loss = 4.9450\n",
      "Step 1600 avg train loss = 4.9356\n",
      "Step 1700 avg train loss = 4.9427\n",
      "Step 1800 avg train loss = 4.9310\n",
      "Step 1900 avg train loss = 4.9464\n",
      "Step 2000 avg train loss = 4.9334\n",
      "Step 2100 avg train loss = 4.9294\n",
      "Step 2200 avg train loss = 4.9258\n",
      "Step 2300 avg train loss = 4.9651\n",
      "Step 2400 avg train loss = 4.9371\n",
      "Validation loss after 6 epoch = 5.2811\n",
      "Saving best model at epoch 6\n",
      "Step 0 avg train loss = 4.7296\n",
      "Step 100 avg train loss = 4.8157\n",
      "Step 200 avg train loss = 4.8119\n",
      "Step 300 avg train loss = 4.8226\n",
      "Step 400 avg train loss = 4.8027\n",
      "Step 500 avg train loss = 4.8257\n",
      "Step 600 avg train loss = 4.8161\n",
      "Step 700 avg train loss = 4.8516\n",
      "Step 800 avg train loss = 4.8221\n",
      "Step 900 avg train loss = 4.8302\n",
      "Step 1000 avg train loss = 4.8275\n",
      "Step 1100 avg train loss = 4.8490\n",
      "Step 1200 avg train loss = 4.8689\n",
      "Step 1300 avg train loss = 4.8503\n",
      "Step 1400 avg train loss = 4.8512\n",
      "Step 1500 avg train loss = 4.8684\n",
      "Step 1600 avg train loss = 4.8422\n",
      "Step 1700 avg train loss = 4.8554\n",
      "Step 1800 avg train loss = 4.8568\n",
      "Step 1900 avg train loss = 4.8531\n",
      "Step 2000 avg train loss = 4.8486\n",
      "Step 2100 avg train loss = 4.8423\n",
      "Step 2200 avg train loss = 4.8509\n",
      "Step 2300 avg train loss = 4.8590\n",
      "Step 2400 avg train loss = 4.8427\n",
      "Validation loss after 7 epoch = 5.2844\n",
      "Step 0 avg train loss = 4.7504\n",
      "Step 100 avg train loss = 4.7194\n",
      "Step 200 avg train loss = 4.7513\n",
      "Step 300 avg train loss = 4.7483\n",
      "Step 400 avg train loss = 4.7497\n",
      "Step 500 avg train loss = 4.7561\n",
      "Step 600 avg train loss = 4.7481\n",
      "Step 700 avg train loss = 4.7573\n",
      "Step 800 avg train loss = 4.7684\n",
      "Step 900 avg train loss = 4.7611\n",
      "Step 1000 avg train loss = 4.7580\n",
      "Step 1100 avg train loss = 4.7722\n",
      "Step 1200 avg train loss = 4.7688\n",
      "Step 1300 avg train loss = 4.7825\n",
      "Step 1400 avg train loss = 4.7653\n",
      "Step 1500 avg train loss = 4.7579\n",
      "Step 1600 avg train loss = 4.7665\n",
      "Step 1700 avg train loss = 4.7697\n",
      "Step 1800 avg train loss = 4.7886\n",
      "Step 1900 avg train loss = 4.7959\n",
      "Step 2000 avg train loss = 4.7675\n",
      "Step 2100 avg train loss = 4.7932\n",
      "Step 2200 avg train loss = 4.7891\n",
      "Step 2300 avg train loss = 4.7956\n",
      "Step 2400 avg train loss = 4.7774\n",
      "Validation loss after 8 epoch = 5.2922\n",
      "Step 0 avg train loss = 4.6565\n",
      "Step 100 avg train loss = 4.6711\n",
      "Step 200 avg train loss = 4.6582\n"
     ]
    },
    {
     "name": "stdout",
     "output_type": "stream",
     "text": [
      "Step 300 avg train loss = 4.6730\n",
      "Step 400 avg train loss = 4.6779\n",
      "Step 500 avg train loss = 4.7050\n",
      "Step 600 avg train loss = 4.6557\n",
      "Step 700 avg train loss = 4.6833\n",
      "Step 800 avg train loss = 4.6821\n",
      "Step 900 avg train loss = 4.6994\n",
      "Step 1000 avg train loss = 4.6950\n",
      "Step 1100 avg train loss = 4.7171\n",
      "Step 1200 avg train loss = 4.7176\n",
      "Step 1300 avg train loss = 4.7203\n",
      "Step 1400 avg train loss = 4.6990\n",
      "Step 1500 avg train loss = 4.7214\n",
      "Step 1600 avg train loss = 4.7206\n",
      "Step 1700 avg train loss = 4.7008\n",
      "Step 1800 avg train loss = 4.7088\n",
      "Step 1900 avg train loss = 4.7180\n",
      "Step 2000 avg train loss = 4.7178\n",
      "Step 2100 avg train loss = 4.7240\n",
      "Step 2200 avg train loss = 4.7160\n",
      "Step 2300 avg train loss = 4.7438\n",
      "Step 2400 avg train loss = 4.7261\n",
      "Validation loss after 9 epoch = 5.3046\n",
      "Step 0 avg train loss = 4.6095\n",
      "Step 100 avg train loss = 4.6183\n",
      "Step 200 avg train loss = 4.5834\n",
      "Step 300 avg train loss = 4.6130\n",
      "Step 400 avg train loss = 4.6545\n",
      "Step 500 avg train loss = 4.6085\n",
      "Step 600 avg train loss = 4.6347\n",
      "Step 700 avg train loss = 4.6094\n",
      "Step 800 avg train loss = 4.6392\n",
      "Step 900 avg train loss = 4.6362\n",
      "Step 1000 avg train loss = 4.6387\n",
      "Step 1100 avg train loss = 4.6384\n",
      "Step 1200 avg train loss = 4.6408\n",
      "Step 1300 avg train loss = 4.6551\n",
      "Step 1400 avg train loss = 4.6489\n",
      "Step 1500 avg train loss = 4.6611\n",
      "Step 1600 avg train loss = 4.6441\n",
      "Step 1700 avg train loss = 4.6590\n",
      "Step 1800 avg train loss = 4.6622\n",
      "Step 1900 avg train loss = 4.6510\n",
      "Step 2000 avg train loss = 4.6843\n",
      "Step 2100 avg train loss = 4.6608\n",
      "Step 2200 avg train loss = 4.6702\n",
      "Step 2300 avg train loss = 4.6741\n",
      "Step 2400 avg train loss = 4.6638\n",
      "Validation loss after 10 epoch = 5.3227\n",
      "Step 0 avg train loss = 4.5460\n",
      "Step 100 avg train loss = 4.5314\n",
      "Step 200 avg train loss = 4.5529\n",
      "Step 300 avg train loss = 4.5542\n",
      "Step 400 avg train loss = 4.5635\n",
      "Step 500 avg train loss = 4.5833\n",
      "Step 600 avg train loss = 4.5691\n",
      "Step 700 avg train loss = 4.5804\n",
      "Step 800 avg train loss = 4.5787\n",
      "Step 900 avg train loss = 4.6035\n",
      "Step 1000 avg train loss = 4.5804\n",
      "Step 1100 avg train loss = 4.5954\n",
      "Step 1200 avg train loss = 4.5835\n",
      "Step 1300 avg train loss = 4.5948\n",
      "Step 1400 avg train loss = 4.5985\n",
      "Step 1500 avg train loss = 4.6134\n",
      "Step 1600 avg train loss = 4.6103\n",
      "Step 1700 avg train loss = 4.6201\n",
      "Step 1800 avg train loss = 4.6081\n",
      "Step 1900 avg train loss = 4.6136\n",
      "Step 2000 avg train loss = 4.6006\n",
      "Step 2100 avg train loss = 4.6215\n",
      "Step 2200 avg train loss = 4.6101\n",
      "Step 2300 avg train loss = 4.6120\n",
      "Step 2400 avg train loss = 4.6197\n",
      "Validation loss after 11 epoch = 5.3374\n",
      "Step 0 avg train loss = 4.3750\n",
      "Step 100 avg train loss = 4.4918\n",
      "Step 200 avg train loss = 4.4813\n",
      "Step 300 avg train loss = 4.5086\n",
      "Step 400 avg train loss = 4.5348\n",
      "Step 500 avg train loss = 4.5298\n",
      "Step 600 avg train loss = 4.5180\n",
      "Step 700 avg train loss = 4.5179\n",
      "Step 800 avg train loss = 4.5312\n",
      "Step 900 avg train loss = 4.5609\n",
      "Step 1000 avg train loss = 4.5344\n",
      "Step 1100 avg train loss = 4.5302\n",
      "Step 1200 avg train loss = 4.5585\n",
      "Step 1300 avg train loss = 4.5469\n",
      "Step 1400 avg train loss = 4.5299\n",
      "Step 1500 avg train loss = 4.5679\n",
      "Step 1600 avg train loss = 4.5625\n",
      "Step 1700 avg train loss = 4.5413\n",
      "Step 1800 avg train loss = 4.5764\n",
      "Step 1900 avg train loss = 4.5817\n",
      "Step 2000 avg train loss = 4.5571\n",
      "Step 2100 avg train loss = 4.5763\n",
      "Step 2200 avg train loss = 4.5787\n",
      "Step 2300 avg train loss = 4.5938\n",
      "Step 2400 avg train loss = 4.5557\n",
      "Validation loss after 12 epoch = 5.3528\n",
      "Step 0 avg train loss = 4.5474\n",
      "Step 100 avg train loss = 4.4385\n",
      "Step 200 avg train loss = 4.4417\n",
      "Step 300 avg train loss = 4.4786\n",
      "Step 400 avg train loss = 4.4658\n",
      "Step 500 avg train loss = 4.4739\n",
      "Step 600 avg train loss = 4.4697\n",
      "Step 700 avg train loss = 4.4891\n",
      "Step 800 avg train loss = 4.4548\n",
      "Step 900 avg train loss = 4.5000\n",
      "Step 1000 avg train loss = 4.4753\n",
      "Step 1100 avg train loss = 4.4853\n",
      "Step 1200 avg train loss = 4.5223\n",
      "Step 1300 avg train loss = 4.5028\n",
      "Step 1400 avg train loss = 4.5064\n",
      "Step 1500 avg train loss = 4.5314\n",
      "Step 1600 avg train loss = 4.5204\n",
      "Step 1700 avg train loss = 4.5035\n",
      "Step 1800 avg train loss = 4.5335\n",
      "Step 1900 avg train loss = 4.5210\n",
      "Step 2000 avg train loss = 4.5486\n",
      "Step 2100 avg train loss = 4.5383\n",
      "Step 2200 avg train loss = 4.5442\n",
      "Step 2300 avg train loss = 4.5397\n",
      "Step 2400 avg train loss = 4.5349\n",
      "Validation loss after 13 epoch = 5.3755\n",
      "Step 0 avg train loss = 4.4295\n",
      "Step 100 avg train loss = 4.3877\n",
      "Step 200 avg train loss = 4.4256\n",
      "Step 300 avg train loss = 4.4162\n",
      "Step 400 avg train loss = 4.4311\n",
      "Step 500 avg train loss = 4.4357\n",
      "Step 600 avg train loss = 4.4306\n",
      "Step 700 avg train loss = 4.4652\n",
      "Step 800 avg train loss = 4.4481\n",
      "Step 900 avg train loss = 4.4521\n",
      "Step 1000 avg train loss = 4.4594\n",
      "Step 1100 avg train loss = 4.4457\n",
      "Step 1200 avg train loss = 4.4683\n",
      "Step 1300 avg train loss = 4.4714\n",
      "Step 1400 avg train loss = 4.4705\n",
      "Step 1500 avg train loss = 4.4643\n",
      "Step 1600 avg train loss = 4.4894\n",
      "Step 1700 avg train loss = 4.4859\n",
      "Step 1800 avg train loss = 4.4990\n",
      "Step 1900 avg train loss = 4.4713\n",
      "Step 2000 avg train loss = 4.4901\n",
      "Step 2100 avg train loss = 4.4958\n",
      "Step 2200 avg train loss = 4.4872\n",
      "Step 2300 avg train loss = 4.4862\n",
      "Step 2400 avg train loss = 4.4803\n",
      "Validation loss after 14 epoch = 5.3947\n",
      "Step 0 avg train loss = 4.2424\n",
      "Step 100 avg train loss = 4.3874\n",
      "Step 200 avg train loss = 4.3632\n",
      "Step 300 avg train loss = 4.3755\n",
      "Step 400 avg train loss = 4.3927\n",
      "Step 500 avg train loss = 4.4182\n",
      "Step 600 avg train loss = 4.3824\n",
      "Step 700 avg train loss = 4.3983\n",
      "Step 800 avg train loss = 4.4168\n",
      "Step 900 avg train loss = 4.4195\n",
      "Step 1000 avg train loss = 4.4136\n",
      "Step 1100 avg train loss = 4.4158\n",
      "Step 1200 avg train loss = 4.4639\n",
      "Step 1300 avg train loss = 4.4287\n",
      "Step 1400 avg train loss = 4.4206\n",
      "Step 1500 avg train loss = 4.4134\n",
      "Step 1600 avg train loss = 4.4250\n",
      "Step 1700 avg train loss = 4.4337\n",
      "Step 1800 avg train loss = 4.4491\n",
      "Step 1900 avg train loss = 4.4355\n",
      "Step 2000 avg train loss = 4.4480\n",
      "Step 2100 avg train loss = 4.4658\n",
      "Step 2200 avg train loss = 4.4542\n",
      "Step 2300 avg train loss = 4.4839\n",
      "Step 2400 avg train loss = 4.4668\n",
      "Validation loss after 15 epoch = 5.4180\n",
      "Step 0 avg train loss = 4.3612\n",
      "Step 100 avg train loss = 4.3285\n",
      "Step 200 avg train loss = 4.3419\n",
      "Step 300 avg train loss = 4.3489\n",
      "Step 400 avg train loss = 4.3431\n",
      "Step 500 avg train loss = 4.3640\n",
      "Step 600 avg train loss = 4.3661\n",
      "Step 700 avg train loss = 4.3724\n",
      "Step 800 avg train loss = 4.3510\n",
      "Step 900 avg train loss = 4.3885\n",
      "Step 1000 avg train loss = 4.4001\n",
      "Step 1100 avg train loss = 4.4037\n",
      "Step 1200 avg train loss = 4.3875\n",
      "Step 1300 avg train loss = 4.3973\n",
      "Step 1400 avg train loss = 4.3981\n",
      "Step 1500 avg train loss = 4.4020\n",
      "Step 1600 avg train loss = 4.3918\n",
      "Step 1700 avg train loss = 4.4164\n",
      "Step 1800 avg train loss = 4.4158\n",
      "Step 1900 avg train loss = 4.4156\n",
      "Step 2000 avg train loss = 4.4154\n",
      "Step 2100 avg train loss = 4.4252\n",
      "Step 2200 avg train loss = 4.4220\n",
      "Step 2300 avg train loss = 4.4250\n",
      "Step 2400 avg train loss = 4.4082\n",
      "Validation loss after 16 epoch = 5.4396\n",
      "Step 0 avg train loss = 4.5305\n",
      "Step 100 avg train loss = 4.2852\n",
      "Step 200 avg train loss = 4.2960\n",
      "Step 300 avg train loss = 4.3257\n",
      "Step 400 avg train loss = 4.3051\n",
      "Step 500 avg train loss = 4.3468\n",
      "Step 600 avg train loss = 4.3366\n",
      "Step 700 avg train loss = 4.3266\n",
      "Step 800 avg train loss = 4.3208\n",
      "Step 900 avg train loss = 4.3294\n",
      "Step 1000 avg train loss = 4.3564\n",
      "Step 1100 avg train loss = 4.3460\n",
      "Step 1200 avg train loss = 4.3718\n",
      "Step 1300 avg train loss = 4.3650\n",
      "Step 1400 avg train loss = 4.3964\n",
      "Step 1500 avg train loss = 4.3652\n",
      "Step 1600 avg train loss = 4.3781\n",
      "Step 1700 avg train loss = 4.3790\n",
      "Step 1800 avg train loss = 4.3823\n",
      "Step 1900 avg train loss = 4.3878\n",
      "Step 2000 avg train loss = 4.3801\n",
      "Step 2100 avg train loss = 4.3807\n",
      "Step 2200 avg train loss = 4.3795\n",
      "Step 2300 avg train loss = 4.4105\n",
      "Step 2400 avg train loss = 4.4168\n",
      "Validation loss after 17 epoch = 5.4551\n",
      "Step 0 avg train loss = 4.3275\n",
      "Step 100 avg train loss = 4.2524\n",
      "Step 200 avg train loss = 4.2790\n",
      "Step 300 avg train loss = 4.2749\n",
      "Step 400 avg train loss = 4.2878\n",
      "Step 500 avg train loss = 4.3115\n",
      "Step 600 avg train loss = 4.2869\n",
      "Step 700 avg train loss = 4.2860\n",
      "Step 800 avg train loss = 4.2968\n",
      "Step 900 avg train loss = 4.3130\n",
      "Step 1000 avg train loss = 4.3308\n",
      "Step 1100 avg train loss = 4.3121\n"
     ]
    },
    {
     "name": "stdout",
     "output_type": "stream",
     "text": [
      "Step 1200 avg train loss = 4.3361\n",
      "Step 1300 avg train loss = 4.3317\n",
      "Step 1400 avg train loss = 4.3505\n",
      "Step 1500 avg train loss = 4.3344\n",
      "Step 1600 avg train loss = 4.3457\n",
      "Step 1700 avg train loss = 4.3524\n",
      "Step 1800 avg train loss = 4.3406\n",
      "Step 1900 avg train loss = 4.3630\n",
      "Step 2000 avg train loss = 4.3765\n",
      "Step 2100 avg train loss = 4.3786\n",
      "Step 2200 avg train loss = 4.3522\n",
      "Step 2300 avg train loss = 4.3823\n",
      "Step 2400 avg train loss = 4.3586\n",
      "Validation loss after 18 epoch = 5.4734\n",
      "Step 0 avg train loss = 4.0202\n",
      "Step 100 avg train loss = 4.2330\n",
      "Step 200 avg train loss = 4.2752\n",
      "Step 300 avg train loss = 4.2600\n",
      "Step 400 avg train loss = 4.2579\n",
      "Step 500 avg train loss = 4.2462\n",
      "Step 600 avg train loss = 4.2940\n",
      "Step 700 avg train loss = 4.2749\n",
      "Step 800 avg train loss = 4.2864\n",
      "Step 900 avg train loss = 4.2805\n",
      "Step 1000 avg train loss = 4.2625\n",
      "Step 1100 avg train loss = 4.3175\n",
      "Step 1200 avg train loss = 4.2914\n",
      "Step 1300 avg train loss = 4.2962\n",
      "Step 1400 avg train loss = 4.3077\n",
      "Step 1500 avg train loss = 4.3232\n",
      "Step 1600 avg train loss = 4.3127\n",
      "Step 1700 avg train loss = 4.3065\n",
      "Step 1800 avg train loss = 4.3210\n",
      "Step 1900 avg train loss = 4.3120\n",
      "Step 2000 avg train loss = 4.3172\n",
      "Step 2100 avg train loss = 4.3432\n",
      "Step 2200 avg train loss = 4.3374\n",
      "Step 2300 avg train loss = 4.3578\n",
      "Step 2400 avg train loss = 4.3525\n",
      "Validation loss after 19 epoch = 5.4917\n"
     ]
    }
   ],
   "source": [
    "#model = LSTMModel(options).to(current_device)\n",
    "plot_cache = []\n",
    "min_val_loss = 20 \n",
    "for epoch_number in range(20):\n",
    "    avg_loss=0\n",
    "    if not load_pretrained:\n",
    "        model.train()\n",
    "        train_log_cache = []\n",
    "        for i, (inp, target) in enumerate(loaders['train']):\n",
    "            optimizer.zero_grad()\n",
    "            inp = inp.to(current_device)\n",
    "            target = target.to(current_device)\n",
    "            logits = model(inp)\n",
    "            \n",
    "            loss = criterion(logits.view(-1, logits.size(-1)), target.view(-1))\n",
    "            \n",
    "            loss.backward()\n",
    "            optimizer.step()\n",
    "            \n",
    "            train_log_cache.append(loss.item())\n",
    "            \n",
    "            if i % 100 == 0:\n",
    "                avg_loss = sum(train_log_cache)/len(train_log_cache)\n",
    "                print('Step {} avg train loss = {:.{prec}f}'.format(i, avg_loss, prec=4))\n",
    "                train_log_cache = []\n",
    "            \n",
    "    #do valid\n",
    "    valid_losses = []\n",
    "    model.eval()\n",
    "    with torch.no_grad():\n",
    "        for i, (inp, target) in enumerate(loaders['valid']):\n",
    "            inp = inp.to(current_device)\n",
    "            target = target.to(current_device)\n",
    "            logits = model(inp)\n",
    "\n",
    "            loss = criterion(logits.view(-1, logits.size(-1)), target.view(-1))\n",
    "            valid_losses.append(loss.item())\n",
    "        avg_val_loss = sum(valid_losses) / len(valid_losses)\n",
    "        print('Validation loss after {} epoch = {:.{prec}f}'.format(epoch_number, avg_val_loss, prec=4))\n",
    "        best = avg_val_loss < min_val_loss\n",
    "        if best:\n",
    "            min_val_loss = avg_val_loss\n",
    "            torch.save(model.state_dict(), 'best_LSTM.pt')\n",
    "            print('Saving best model at epoch', epoch_number)\n",
    "            \n",
    "    plot_cache.append((avg_loss, avg_val_loss))\n",
    "\n",
    "    if load_pretrained:\n",
    "        break"
   ]
  },
  {
   "cell_type": "code",
   "execution_count": 36,
   "metadata": {},
   "outputs": [
    {
     "data": {
      "text/plain": [
       "[]"
      ]
     },
     "execution_count": 36,
     "metadata": {},
     "output_type": "execute_result"
    }
   ],
   "source": [
    "plot_cache"
   ]
  },
  {
   "cell_type": "code",
   "execution_count": 35,
   "metadata": {},
   "outputs": [
    {
     "data": {
      "image/png": "[encoded data removed]",
      "text/plain": [
       "<matplotlib.figure.Figure at 0x2af4817c6748>"
      ]
     },
     "metadata": {},
     "output_type": "display_data"
    }
   ],
   "source": [
    "epochs = np.array(list(range(len(plot_cache))))\n",
    "plt.plot(epochs, [2**(i[0]/np.log(2)) for i in plot_cache], label='Train ppl')\n",
    "plt.plot(epochs, [2**(i[1]/np.log(2)) for i in plot_cache], label='Valid ppl')\n",
    "\n",
    "plt.legend()\n",
    "plt.title('PPL curves of LSTM model')\n",
    "plt.show()"
   ]
  },
  {
   "cell_type": "code",
   "execution_count": 38,
   "metadata": {},
   "outputs": [
    {
     "data": {
      "text/plain": [
       "196.58600106203332"
      ]
     },
     "execution_count": 38,
     "metadata": {},
     "output_type": "execute_result"
    }
   ],
   "source": [
    "2**(5.2811/np.log(2))"
   ]
  },
  {
   "cell_type": "code",
   "execution_count": null,
   "metadata": {
    "collapsed": true
   },
   "outputs": [],
   "source": [
    "perp = np.array(2**(i[1]/np.log(2)) for i in plot_cache)\n",
    "# or \n",
    "print('The minimum validation loss occurred at {} and it is'.formate(perp.index(min(perp)),min(perp)))\n",
    "perp.index(min(perp))"
   ]
  },
  {
   "cell_type": "code",
   "execution_count": null,
   "metadata": {},
   "outputs": [],
   "source": [
    "min(2**(i[1]/np.log(2)) for i in plot_cache)\n",
    "np.argmin(perp)"
   ]
  },
  {
   "cell_type": "code",
   "execution_count": null,
   "metadata": {
    "collapsed": true
   },
   "outputs": [],
   "source": []
  },
  {
   "cell_type": "markdown",
   "metadata": {},
   "source": [
    "#### Results (LSTM vs. Baseline)"
   ]
  },
  {
   "cell_type": "code",
   "execution_count": null,
   "metadata": {
    "collapsed": true
   },
   "outputs": [],
   "source": []
  },
  {
   "cell_type": "markdown",
   "metadata": {},
   "source": [
    "#### Performance Variation Based on Hyperparameter Values"
   ]
  },
  {
   "cell_type": "code",
   "execution_count": null,
   "metadata": {
    "collapsed": true
   },
   "outputs": [],
   "source": []
  },
  {
   "cell_type": "markdown",
   "metadata": {},
   "source": [
    "### II.2 Learned Embeddings"
   ]
  },
  {
   "cell_type": "markdown",
   "metadata": {},
   "source": [
    "#### Utilities\n",
    "\n",
    "Below is code to use [UMAP](https://umap-learn.readthedocs.io/en/latest/) to find a 2-dimensional representation of a weight matrix, and plot the resulting 2-dimensional points that correspond to certain words.\n",
    "\n",
    "Use `!pip install umap-learn` to install UMAP."
   ]
  },
  {
   "cell_type": "code",
   "execution_count": 40,
   "metadata": {},
   "outputs": [
    {
     "data": {
      "text/plain": [
       "LSTMModel(\n",
       "  (lookup): Embedding(33178, 64, padding_idx=2)\n",
       "  (lstm): LSTM(64, 128, num_layers=2, batch_first=True, dropout=0.1)\n",
       "  (projection): Linear(in_features=128, out_features=33178, bias=True)\n",
       ")"
      ]
     },
     "execution_count": 40,
     "metadata": {},
     "output_type": "execute_result"
    }
   ],
   "source": [
    "# parameters:\n",
    "options = {\n",
    "        'num_embeddings': len(train_dict),\n",
    "        'embedding_dim': embedding_size,\n",
    "        'padding_idx': train_dict.get_id('<pad>'),\n",
    "        'input_size': embedding_size,\n",
    "        'hidden_size': hidden_size,\n",
    "        'num_layers': num_layers,\n",
    "        'lstm_dropout': lstm_dropout,\n",
    "        'bias': True,\n",
    "        'bid': False \n",
    "    }\n",
    "model = LSTMModel(options)\n",
    "model.load_state_dict(torch.load('best_LSTM.pt'))\n",
    "model.eval()\n",
    "\n"
   ]
  },
  {
   "cell_type": "code",
   "execution_count": 41,
   "metadata": {},
   "outputs": [
    {
     "name": "stdout",
     "output_type": "stream",
     "text": [
      "Populating the interactive namespace from numpy and matplotlib\n"
     ]
    },
    {
     "name": "stderr",
     "output_type": "stream",
     "text": [
      "/home/sl7085/.conda/envs/myenv/lib/python3.6/site-packages/IPython/core/magics/pylab.py:160: UserWarning: pylab import has clobbered these variables: ['split']\n",
      "`%matplotlib` prevents importing * from pylab and numpy\n",
      "  \"\\n`%matplotlib` prevents importing * from pylab and numpy\"\n"
     ]
    }
   ],
   "source": [
    "%pylab inline \n",
    "import umap\n",
    "import matplotlib.pyplot as plt\n",
    "\n",
    "def umap_plot(weight_matrix, word_ids, words):\n",
    "    \"\"\"Run UMAP on the entire Vxd `weight_matrix` (e.g. model.lookup.weight or model.projection.weight),\n",
    "    And plot the points corresponding to the given `word_ids`. \"\"\"\n",
    "    reduced = umap.UMAP(min_dist=0.0001).fit_transform(weight_matrix.detach().cpu().numpy()) \n",
    "    # transfer tensor back to cpu\n",
    "    plt.figure(figsize=(20,20))\n",
    "\n",
    "    to_plot = reduced[word_ids, :]\n",
    "    plt.scatter(to_plot[:, 0], to_plot[:, 1])\n",
    "    for i, word_id in enumerate(word_ids):\n",
    "        current_point = to_plot[i]\n",
    "        plt.annotate(words[i], (current_point[0], current_point[1]))\n",
    "\n",
    "    plt.grid()\n",
    "    plt.show()"
   ]
  },
  {
   "cell_type": "markdown",
   "metadata": {},
   "source": [
    "#### II.2.1 Word Similarity"
   ]
  },
  {
   "cell_type": "code",
   "execution_count": 109,
   "metadata": {},
   "outputs": [],
   "source": [
    "def cos_similarity(weight_matrix, words):\n",
    "#make sure at least appear in the text once \n",
    "    whole_word = list()\n",
    "    for word in words:\n",
    "        if word not in vocab:\n",
    "            raise NotImplementedError(\"selected token must appeared in the corpus once, please replace {}\".format(word))\n",
    "            \n",
    "    # define my cosine similarity. each input is 1 x 64. Therefore evaluate along x'axis returns a scalar \n",
    "    cos = nn.CosineSimilarity(dim = 0, eps = 1e-6)\n",
    "\n",
    "    dis_list = defaultdict(lambda: defaultdict(float))\n",
    "\n",
    "    for w in words:\n",
    "        wid = train_dict.get_id(w)\n",
    "        temp_list = list()\n",
    "        for i in range(len(weight_matrix)):\n",
    "            if i == wid:\n",
    "                continue\n",
    "            else: \n",
    "                dis = cos(weight_matrix[wid], weight_matrix[i])\n",
    "                temp_list.append(tuple((train_dict.get_token(i), dis.item())))\n",
    "        temp_list = sorted(temp_list, key = lambda x: x[-1])\n",
    "        dis_list[w]['worst'] = temp_list[:10]\n",
    "        dis_list[w]['best'] = temp_list[-10:]\n",
    "        worst_words = [x[0] for x in temp_list[:10]]\n",
    "        best_words = [x[0] for x in temp_list[-10:]]\n",
    "        whole_word += worst_words + best_words\n",
    "    return dis_list, whole_word + words"
   ]
  },
  {
   "cell_type": "markdown",
   "metadata": {},
   "source": [
    "#### II.2.2 Embedding Layer"
   ]
  },
  {
   "cell_type": "code",
   "execution_count": 110,
   "metadata": {},
   "outputs": [],
   "source": [
    "weight_matrix_lkup = model.lookup.weight\n",
    "words = ['productive', 'teenage','south','antelope','smart']\n",
    "# some verbs, and nouns\n",
    "proj_list, whole_words = cos_similarity(weight_matrix_proj, words)"
   ]
  },
  {
   "cell_type": "code",
   "execution_count": 112,
   "metadata": {},
   "outputs": [
    {
     "data": {
      "text/plain": [
       "[('Sognsvann', 0.41883814334869385),\n",
       " ('Hero', 0.4204072058200836),\n",
       " ('head', 0.4278274476528168),\n",
       " ('Hansen', 0.4294733703136444),\n",
       " ('Sundays', 0.4346746504306793),\n",
       " ('Kowang', 0.44530779123306274),\n",
       " ('Surf', 0.45279738306999207),\n",
       " ('quarter', 0.46572181582450867),\n",
       " ('Jammer', 0.47306203842163086),\n",
       " ('Player', 0.5170460343360901)]"
      ]
     },
     "execution_count": 112,
     "metadata": {},
     "output_type": "execute_result"
    }
   ],
   "source": [
    "proj_list['south']['best']"
   ]
  },
  {
   "cell_type": "code",
   "execution_count": 113,
   "metadata": {},
   "outputs": [
    {
     "data": {
      "text/plain": [
       "[('asks', -0.4493196904659271),\n",
       " ('Feeling', -0.4384562373161316),\n",
       " ('Describing', -0.43770161271095276),\n",
       " ('We', -0.43556010723114014),\n",
       " ('Jonas', -0.43024149537086487),\n",
       " ('Integrated', -0.4137445092201233),\n",
       " ('Marvin', -0.41330817341804504),\n",
       " ('gateway', -0.4120998680591583),\n",
       " ('undecided', -0.409074991941452),\n",
       " ('Gillian', -0.4073803722858429)]"
      ]
     },
     "execution_count": 113,
     "metadata": {},
     "output_type": "execute_result"
    }
   ],
   "source": [
    "proj_list['south']['worst']"
   ]
  },
  {
   "cell_type": "code",
   "execution_count": 111,
   "metadata": {},
   "outputs": [
    {
     "name": "stderr",
     "output_type": "stream",
     "text": [
      "/home/sl7085/.conda/envs/myenv/lib/python3.6/site-packages/numba/compiler.py:602: NumbaPerformanceWarning: \n",
      "The keyword argument 'parallel=True' was specified but no transformation for parallel execution was possible.\n",
      "\n",
      "To find out why, try turning on parallel diagnostics, see http://numba.pydata.org/numba-doc/latest/user/parallel.html#diagnostics for help.\n",
      "\n",
      "File \"../../.conda/envs/myenv/lib/python3.6/site-packages/umap/nndescent.py\", line 47:\n",
      "    @numba.njit(parallel=True)\n",
      "    def nn_descent(\n",
      "    ^\n",
      "\n",
      "  self.func_ir.loc))\n"
     ]
    },
    {
     "data": {
      "image/png": "[encoded data removed]",
      "text/plain": [
       "<matplotlib.figure.Figure at 0x2af4b9ded048>"
      ]
     },
     "metadata": {},
     "output_type": "display_data"
    }
   ],
   "source": [
    "whole_word_ids = train_dict.encode_token_seq(whole_words)   # e.g. use dictionary.get_id on a list of words\n",
    "\n",
    "umap_plot(weight_matrix_lkup, whole_word_ids, whole_words)"
   ]
  },
  {
   "cell_type": "markdown",
   "metadata": {},
   "source": [
    "#### II.2.3 Projection Layer"
   ]
  },
  {
   "cell_type": "code",
   "execution_count": 115,
   "metadata": {},
   "outputs": [],
   "source": [
    "weight_matrix_proj = model.projection.weight\n",
    "words = ['productive', 'teenage','south','antelope','smart']\n",
    "# some verbs, and nouns\n",
    "proj_list, whole_words = cos_similarity(weight_matrix_proj, words)"
   ]
  },
  {
   "cell_type": "code",
   "execution_count": 116,
   "metadata": {},
   "outputs": [
    {
     "name": "stderr",
     "output_type": "stream",
     "text": [
      "/home/sl7085/.conda/envs/myenv/lib/python3.6/site-packages/numba/compiler.py:602: NumbaPerformanceWarning: \n",
      "The keyword argument 'parallel=True' was specified but no transformation for parallel execution was possible.\n",
      "\n",
      "To find out why, try turning on parallel diagnostics, see http://numba.pydata.org/numba-doc/latest/user/parallel.html#diagnostics for help.\n",
      "\n",
      "File \"../../.conda/envs/myenv/lib/python3.6/site-packages/umap/nndescent.py\", line 47:\n",
      "    @numba.njit(parallel=True)\n",
      "    def nn_descent(\n",
      "    ^\n",
      "\n",
      "  self.func_ir.loc))\n"
     ]
    },
    {
     "data": {
      "image/png": "[encoded data removed]",
      "text/plain": [
       "<matplotlib.figure.Figure at 0x2af4b9bfa908>"
      ]
     },
     "metadata": {},
     "output_type": "display_data"
    }
   ],
   "source": [
    "whole_word_ids = train_dict.encode_token_seq(whole_words)   # e.g. use dictionary.get_id on a list of words\n",
    "umap_plot(weight_matrix_proj, whole_word_ids, whole_words)"
   ]
  },
  {
   "cell_type": "markdown",
   "metadata": {},
   "source": [
    " "
   ]
  },
  {
   "cell_type": "markdown",
   "metadata": {},
   "source": [
    "### II.3 Scoring"
   ]
  },
  {
   "cell_type": "code",
   "execution_count": null,
   "metadata": {
    "collapsed": true
   },
   "outputs": [],
   "source": []
  },
  {
   "cell_type": "markdown",
   "metadata": {},
   "source": [
    "#### II.3.2 Highest and Lowest scoring sequences"
   ]
  },
  {
   "cell_type": "code",
   "execution_count": null,
   "metadata": {
    "collapsed": true
   },
   "outputs": [],
   "source": []
  },
  {
   "cell_type": "markdown",
   "metadata": {},
   "source": [
    "#### II.3.3 Modified sequences"
   ]
  },
  {
   "cell_type": "code",
   "execution_count": null,
   "metadata": {
    "collapsed": true
   },
   "outputs": [],
   "source": []
  },
  {
   "cell_type": "markdown",
   "metadata": {},
   "source": [
    "### II.4 Sampling"
   ]
  },
  {
   "cell_type": "code",
   "execution_count": null,
   "metadata": {
    "collapsed": true
   },
   "outputs": [],
   "source": []
  },
  {
   "cell_type": "markdown",
   "metadata": {},
   "source": [
    "#### II.4.3 Number of unique tokens and sequence length \n",
    "\n",
    "(1,000 samples vs. 1,000 randomly selected validation-set sequences)"
   ]
  },
  {
   "cell_type": "code",
   "execution_count": null,
   "metadata": {
    "collapsed": true
   },
   "outputs": [],
   "source": []
  },
  {
   "cell_type": "markdown",
   "metadata": {},
   "source": [
    "#### II.4.4 Example Samples"
   ]
  },
  {
   "cell_type": "code",
   "execution_count": null,
   "metadata": {
    "collapsed": true
   },
   "outputs": [],
   "source": []
  }
 ],
 "metadata": {
  "kernelspec": {
   "display_name": "Python 3",
   "language": "python",
   "name": "python3"
  },
  "language_info": {
   "codemirror_mode": {
    "name": "ipython",
    "version": 3
   },
   "file_extension": ".py",
   "mimetype": "text/x-python",
   "name": "python",
   "nbconvert_exporter": "python",
   "pygments_lexer": "ipython3",
   "version": "3.6.2"
  }
 },
 "nbformat": 4,
 "nbformat_minor": 2
}
