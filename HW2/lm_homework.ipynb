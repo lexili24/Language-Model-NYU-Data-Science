{
  "nbformat": 4,
  "nbformat_minor": 0,
  "metadata": {
    "kernelspec": {
      "display_name": "Python 3",
      "language": "python",
      "name": "python3"
    },
    "language_info": {
      "codemirror_mode": {
        "name": "ipython",
        "version": 3
      },
      "file_extension": ".py",
      "mimetype": "text/x-python",
      "name": "python",
      "nbconvert_exporter": "python",
      "pygments_lexer": "ipython3",
      "version": "3.6.8"
    },
    "colab": {
      "name": "lm_homework.ipynb",
      "provenance": [],
      "collapsed_sections": []
    }
  },
  "cells": [
    {
      "cell_type": "markdown",
      "metadata": {
        "id": "sgZz1d0gYKxn",
        "colab_type": "text"
      },
      "source": [
        "# DS-GA 1011 Homework 2\n",
        "## N-Gram and Neural Language Modeling"
      ]
    },
    {
      "cell_type": "code",
      "metadata": {
        "id": "oUpYySfTYKxo",
        "colab_type": "code",
        "colab": {}
      },
      "source": [
        "import os\n",
        "import json\n",
        "import jsonlines\n",
        "import numpy as np\n",
        "from collections import defaultdict\n",
        "from tqdm import tqdm\n",
        "import numpy as np"
      ],
      "execution_count": 0,
      "outputs": []
    },
    {
      "cell_type": "markdown",
      "metadata": {
        "id": "VpnVCIhVYKxq",
        "colab_type": "text"
      },
      "source": [
        "## I. N-Gram Language Modeling"
      ]
    },
    {
      "cell_type": "markdown",
      "metadata": {
        "id": "igUUQhkFYKxr",
        "colab_type": "text"
      },
      "source": [
        "#### Utilities"
      ]
    },
    {
      "cell_type": "code",
      "metadata": {
        "id": "fDg01M5jYKxs",
        "colab_type": "code",
        "colab": {}
      },
      "source": [
        "def load_wikitext(filename='wikitext2-sentencized.json'):\n",
        "    if not os.path.exists(filename):\n",
        "        !wget \"https://nyu.box.com/shared/static/9kb7l7ci30hb6uahhbssjlq0kctr5ii4.json\" -O $filename\n",
        "    \n",
        "    datasets = json.load(open(filename, 'r'))\n",
        "    for name in datasets:\n",
        "        datasets[name] = [x.split() for x in datasets[name]]\n",
        "    vocab = list(set([t for ts in datasets['train'] for t in ts]))      \n",
        "    print(\"Vocab size: %d\" % (len(vocab)))\n",
        "    return datasets, vocab\n",
        "\n",
        "def perplexity(model, sequences):\n",
        "    n_total = 0\n",
        "    logp_total = 0\n",
        "    for sequence in sequences:\n",
        "        logp_total += model.sequence_logp(sequence)\n",
        "        n_total += len(sequence) + 1  \n",
        "    ppl = 2 ** (- (1.0 / n_total) * logp_total)  \n",
        "    return ppl"
      ],
      "execution_count": 0,
      "outputs": []
    },
    {
      "cell_type": "markdown",
      "metadata": {
        "id": "Hf9t1dDuYKxu",
        "colab_type": "text"
      },
      "source": [
        "### Additive Smoothing"
      ]
    },
    {
      "cell_type": "code",
      "metadata": {
        "id": "dns7tEEjYKxv",
        "colab_type": "code",
        "colab": {}
      },
      "source": [
        "class NGramAdditive(object):\n",
        "    def __init__(self, n, delta, vsize):\n",
        "        self.n = n\n",
        "        self.delta = delta\n",
        "        self.count = defaultdict(lambda: defaultdict(float))\n",
        "        self.total = defaultdict(float)\n",
        "        self.vsize = vsize\n",
        "    \n",
        "    def estimate(self, sequences):\n",
        "        for sequence in sequences:\n",
        "            padded_sequence = ['<bos>']*(self.n-1) + sequence + ['<eos>']\n",
        "            for i in range(len(padded_sequence) - self.n+1):\n",
        "                ngram = tuple(padded_sequence[i:i+self.n])\n",
        "                prefix, word = ngram[:-1], ngram[-1]\n",
        "                self.count[prefix][word] += 1\n",
        "                self.total[prefix] += 1\n",
        "                \n",
        "    def sequence_logp(self, sequence):\n",
        "        padded_sequence = ['<bos>']*(self.n-1) + sequence + ['<eos>']\n",
        "        total_logp = 0\n",
        "        for i in range(len(padded_sequence) - self.n+1):\n",
        "            ngram = tuple(padded_sequence[i:i+self.n])\n",
        "            total_logp += np.log2(self.ngram_prob(ngram))\n",
        "        return total_logp\n",
        "\n",
        "    def ngram_prob(self, ngram):\n",
        "        prefix = ngram[:-1]\n",
        "        word = ngram[-1]\n",
        "        prob = ((self.delta + self.count[prefix][word]) / \n",
        "                (self.total[prefix] + self.delta*self.vsize))\n",
        "        return prob"
      ],
      "execution_count": 0,
      "outputs": []
    },
    {
      "cell_type": "code",
      "metadata": {
        "id": "NNx_IrG5YKxx",
        "colab_type": "code",
        "colab": {
          "base_uri": "https://localhost:8080/",
          "height": 581
        },
        "outputId": "993b342c-292a-42b2-af3b-a0beb2ae1675"
      },
      "source": [
        "datasets, vocab = load_wikitext()\n",
        "\n",
        "delta = 0.0005\n",
        "for n in [2, 3, 4]:\n",
        "    lm = NGramAdditive(n=n, delta=delta, vsize=len(vocab)+1)  # +1 is for <eos>\n",
        "    lm.estimate(datasets['train'])\n",
        "\n",
        "    print(\"Baseline (Additive smoothing, n=%d, delta=%.4f)) Train Perplexity: %.3f\" % (n, delta, perplexity(lm, datasets['train'])))\n",
        "    print(\"Baseline (Additive smoothing, n=%d, delta=%.4f)) Valid Perplexity: %.3f\" % (n, delta, perplexity(lm, datasets['valid'])))"
      ],
      "execution_count": 8,
      "outputs": [
        {
          "output_type": "stream",
          "text": [
            "--2019-09-30 18:16:11--  https://nyu.box.com/shared/static/9kb7l7ci30hb6uahhbssjlq0kctr5ii4.json\n",
            "Resolving nyu.box.com (nyu.box.com)... 107.152.25.197, 107.152.24.197\n",
            "Connecting to nyu.box.com (nyu.box.com)|107.152.25.197|:443... connected.\n",
            "HTTP request sent, awaiting response... 301 Moved Permanently\n",
            "Location: /public/static/9kb7l7ci30hb6uahhbssjlq0kctr5ii4.json [following]\n",
            "--2019-09-30 18:16:11--  https://nyu.box.com/public/static/9kb7l7ci30hb6uahhbssjlq0kctr5ii4.json\n",
            "Reusing existing connection to nyu.box.com:443.\n",
            "HTTP request sent, awaiting response... 301 Moved Permanently\n",
            "Location: https://nyu.app.box.com/public/static/9kb7l7ci30hb6uahhbssjlq0kctr5ii4.json [following]\n",
            "--2019-09-30 18:16:11--  https://nyu.app.box.com/public/static/9kb7l7ci30hb6uahhbssjlq0kctr5ii4.json\n",
            "Resolving nyu.app.box.com (nyu.app.box.com)... 107.152.26.199, 107.152.27.199\n",
            "Connecting to nyu.app.box.com (nyu.app.box.com)|107.152.26.199|:443... connected.\n",
            "HTTP request sent, awaiting response... 302 Found\n",
            "Location: https://public.boxcloud.com/d/1/b1!WuFYrV43bM6uOxuN9YhmJu2n_4O4uIs9L2GViWXzcSP64zHAR8bIVO5-8iZqk4yO2SfVOhL3UMFxqoHAJoD5eltM4urnvLChnQ2nrxjfjGgwjYvR3bhOSqeFU9m92u3CxdlbZwshbYGycreg04Ds0LWd5B0iA43EUoXubKm5I8VMJru-meQ7bGA8tq9Ajcetd_nQzmgDZ-JLfuYPTyPz4QirfmuBoCvBurb8cA8_8PbP2NDtHfKmo5NVWBx1gZJPISJE_O9vRgdrRY1mEXTUJEt-h-pfnAqepNwkBFxgwJfqkWDfDkiLroPzMxCD9rC0eksGTlziJzlwg_LSD41nGq-mJ38WyzGgufJJ8BiEE8lwf8pWP1cSbKhQTMoI2Pa6u6ZH510ypo5-mMSHdveZAsLZnEC1epDJ2QkVBascIUr6zb_-fWX5DRvNruMxuFfK4q_foOyrt6tmSPVLJEQSKt-GWRamBbbwStUGzD6YLPn8iY5VD6Hb8x8t9EgTqFIxqA9WSYdQDSrJlPNPT3K4JnQ3v2EqBBCDsu3Xq6wneYMS3j1WBVUlMI1e1kfPp3MfDRolUuwMWpd2rFDJCHZV56nHNY0dDyx5jYgmUFAvVCaoEksdDxzEpU7e8Ne4CCi9Z_yE4fM-vZJFqHi1UOf5AdN45bsuHXUnHArTsFYUEI3S7oKOEfFS9y9LNThkW6XoTZO7XyZPm6g473CkYjWGvw7oF_z41h7FDAKoenPD3kfSIp8Da8KW5jmZEHBpvzJgDTWDgwFr6nhDrBBOO8x5qy64LR5JdZXuIx6TdUiL_7Zc_xW3LK1e5R6TifwXXqElmz5LaEkD71brgCpP1gLKSqYRf5rUL-bs2aMmIhRRUvKnARCSBAcJtRg1whpIn6Sd-SE5K5IJ3PnijEgNeUAJO2mW_C1C-da25iR0cqp19YM7oEumfVhYzGJ5AcreWPL19aiE4Jt4i2hEENiIqVP0R68dqlpR4YiwUdchF044woGx4UVeUYMMEUb2nQ4MuIVx4AcDxGwMgnOM0Cu9BhrYeMdySZxcbpKaPfvSI-7pzvgIuJLQu95Ki73fpSxY8lDa4JpeVKw2E2Z2RWuLcwAUctOQf0E3GVQnZGMhUQIGZm9QMJ-Gkfq7o13LdzcfAvFjXNJgMxLI57Ex7Zh_RqbbPFn6oEnILVixSSTVdfEOlQJ_5d3R-uFsus0Rgkw8EyYNKfF6eLRrEP3CCXv6W6CBUrxgXAUMtSGfIbB-C9_YEZO0m-8ooeIPuP0R5iWeFtIrS3omXv5XC1zcGSlhydHa3FzmrscdSmo0UDVZ8HU6Y7XwqvZhGg7HoVRdu8gW3crJ7y3u4RRIQ1lLM73HkR2qKo7-hRy4BTrGg8Tpyy05GsMLS4MZjNT_jbWLaDNRSGXgyYnw-c6QccVlPg../download [following]\n",
            "--2019-09-30 18:16:12--  https://public.boxcloud.com/d/1/b1!WuFYrV43bM6uOxuN9YhmJu2n_4O4uIs9L2GViWXzcSP64zHAR8bIVO5-8iZqk4yO2SfVOhL3UMFxqoHAJoD5eltM4urnvLChnQ2nrxjfjGgwjYvR3bhOSqeFU9m92u3CxdlbZwshbYGycreg04Ds0LWd5B0iA43EUoXubKm5I8VMJru-meQ7bGA8tq9Ajcetd_nQzmgDZ-JLfuYPTyPz4QirfmuBoCvBurb8cA8_8PbP2NDtHfKmo5NVWBx1gZJPISJE_O9vRgdrRY1mEXTUJEt-h-pfnAqepNwkBFxgwJfqkWDfDkiLroPzMxCD9rC0eksGTlziJzlwg_LSD41nGq-mJ38WyzGgufJJ8BiEE8lwf8pWP1cSbKhQTMoI2Pa6u6ZH510ypo5-mMSHdveZAsLZnEC1epDJ2QkVBascIUr6zb_-fWX5DRvNruMxuFfK4q_foOyrt6tmSPVLJEQSKt-GWRamBbbwStUGzD6YLPn8iY5VD6Hb8x8t9EgTqFIxqA9WSYdQDSrJlPNPT3K4JnQ3v2EqBBCDsu3Xq6wneYMS3j1WBVUlMI1e1kfPp3MfDRolUuwMWpd2rFDJCHZV56nHNY0dDyx5jYgmUFAvVCaoEksdDxzEpU7e8Ne4CCi9Z_yE4fM-vZJFqHi1UOf5AdN45bsuHXUnHArTsFYUEI3S7oKOEfFS9y9LNThkW6XoTZO7XyZPm6g473CkYjWGvw7oF_z41h7FDAKoenPD3kfSIp8Da8KW5jmZEHBpvzJgDTWDgwFr6nhDrBBOO8x5qy64LR5JdZXuIx6TdUiL_7Zc_xW3LK1e5R6TifwXXqElmz5LaEkD71brgCpP1gLKSqYRf5rUL-bs2aMmIhRRUvKnARCSBAcJtRg1whpIn6Sd-SE5K5IJ3PnijEgNeUAJO2mW_C1C-da25iR0cqp19YM7oEumfVhYzGJ5AcreWPL19aiE4Jt4i2hEENiIqVP0R68dqlpR4YiwUdchF044woGx4UVeUYMMEUb2nQ4MuIVx4AcDxGwMgnOM0Cu9BhrYeMdySZxcbpKaPfvSI-7pzvgIuJLQu95Ki73fpSxY8lDa4JpeVKw2E2Z2RWuLcwAUctOQf0E3GVQnZGMhUQIGZm9QMJ-Gkfq7o13LdzcfAvFjXNJgMxLI57Ex7Zh_RqbbPFn6oEnILVixSSTVdfEOlQJ_5d3R-uFsus0Rgkw8EyYNKfF6eLRrEP3CCXv6W6CBUrxgXAUMtSGfIbB-C9_YEZO0m-8ooeIPuP0R5iWeFtIrS3omXv5XC1zcGSlhydHa3FzmrscdSmo0UDVZ8HU6Y7XwqvZhGg7HoVRdu8gW3crJ7y3u4RRIQ1lLM73HkR2qKo7-hRy4BTrGg8Tpyy05GsMLS4MZjNT_jbWLaDNRSGXgyYnw-c6QccVlPg../download\n",
            "Resolving public.boxcloud.com (public.boxcloud.com)... 107.152.25.200\n",
            "Connecting to public.boxcloud.com (public.boxcloud.com)|107.152.25.200|:443... connected.\n",
            "HTTP request sent, awaiting response... 200 OK\n",
            "Length: 12714601 (12M) [application/octet-stream]\n",
            "Saving to: ‘wikitext2-sentencized.json’\n",
            "\n",
            "wikitext2-sentenciz 100%[===================>]  12.12M  18.3MB/s    in 0.7s    \n",
            "\n",
            "2019-09-30 18:16:13 (18.3 MB/s) - ‘wikitext2-sentencized.json’ saved [12714601/12714601]\n",
            "\n",
            "Vocab size: 33175\n",
            "Baseline (Additive smoothing, n=2, delta=0.0005)) Train Perplexity: 90.228\n",
            "Baseline (Additive smoothing, n=2, delta=0.0005)) Valid Perplexity: 525.825\n",
            "Baseline (Additive smoothing, n=3, delta=0.0005)) Train Perplexity: 26.768\n",
            "Baseline (Additive smoothing, n=3, delta=0.0005)) Valid Perplexity: 2577.128\n",
            "Baseline (Additive smoothing, n=4, delta=0.0005)) Train Perplexity: 19.947\n",
            "Baseline (Additive smoothing, n=4, delta=0.0005)) Valid Perplexity: 9570.901\n"
          ],
          "name": "stdout"
        }
      ]
    },
    {
      "cell_type": "markdown",
      "metadata": {
        "id": "9enysqSzYKx0",
        "colab_type": "text"
      },
      "source": [
        "### I.1 Interpolation"
      ]
    },
    {
      "cell_type": "code",
      "metadata": {
        "id": "bn6s2MMgYKx1",
        "colab_type": "code",
        "colab": {}
      },
      "source": [
        "class NGramInterpolation(object):\n",
        "    def __init__(self, n, lamb_list, vsize):\n",
        "        # lamb_list should be a list containing all lambda values for interpolation\n",
        "        self.n = n\n",
        "        self.count = defaultdict(lambda: defaultdict(float))\n",
        "        self.total = defaultdict(float)\n",
        "        self.vsize = vsize\n",
        "        self.word_count = defaultdict(float) # Count of every word\n",
        "        self.length = 0 # The total length of the dataset\n",
        "        \n",
        "        # Check if lambda fulfill our conditions\n",
        "        if len(lamb_list) != n + 1:\n",
        "            raise ValueError(\"Lambda list must have length n + 1\")\n",
        "        elif np.abs(np.sum(lamb_list) - 1) > 0.00001:\n",
        "            raise ValueError(\"Sum of lambdas must be 1\")\n",
        "        self.lamb_list = lamb_list\n",
        "\n",
        "    def estimate(self, sequences):\n",
        "        for sequence in sequences:\n",
        "            for w in sequence:\n",
        "                self.word_count[w] += 1\n",
        "                self.length += 1\n",
        "            for current_n in range(2, self.n + 1):\n",
        "                padded_sequence = ['<bos>']*(current_n-1) + sequence + ['<eos>']\n",
        "                for i in range(len(padded_sequence) - current_n+1):\n",
        "                    ngram = tuple(padded_sequence[i:i+current_n])\n",
        "                    prefix, word = ngram[:-1], ngram[-1]\n",
        "                    self.count[prefix][word] += 1\n",
        "                    self.total[prefix] += 1\n",
        "\n",
        "    def sequence_logp(self, sequence):\n",
        "        padded_sequence = ['<bos>']*(self.n-1) + sequence + ['<eos>']\n",
        "        total_logp = 0\n",
        "        for i in range(len(padded_sequence) - self.n+1):\n",
        "            ngram = tuple(padded_sequence[i:i+self.n])\n",
        "            total_logp += np.log2(self.ngram_prob(lamb_list[-1], ngram, self.n))\n",
        "        return total_logp\n",
        "    \n",
        "    def ngram_prob(self, lamb, ngram, order):\n",
        "        \"\"\"\n",
        "        lamb: a single value from the lambda list\n",
        "        order: means which index of lambda we are talking about, max and initial\n",
        "            order should be n\n",
        "        \"\"\"\n",
        "        \n",
        "        if order > n:\n",
        "            raise ValueError(\"Order can't exceed n\")\n",
        "        elif order == 0:\n",
        "            return lamb * (1 / self.vsize) # Since p_0 = 1 / |vocab|\n",
        "        elif order >= 1:\n",
        "            prefix = ngram[:-1]\n",
        "            word = ngram[-1]\n",
        "            if prefix: # Check if prefix is empty\n",
        "                if self.total[prefix] == 0:\n",
        "                    prob = 0\n",
        "                else:\n",
        "                    prob = self.count[prefix][word] / self.total[prefix]\n",
        "            else: # If prefix is empty, we are in lambda_1\n",
        "                prob = self.word_count[word] / self.length\n",
        "            \n",
        "            return lamb * prob + self.ngram_prob(self.lamb_list[order], \n",
        "                                                 ngram[1:], order - 1)\n",
        "            "
      ],
      "execution_count": 0,
      "outputs": []
    },
    {
      "cell_type": "code",
      "metadata": {
        "id": "VC0aMK3JiBUY",
        "colab_type": "code",
        "colab": {
          "base_uri": "https://localhost:8080/",
          "height": 119
        },
        "outputId": "a7369764-b906-47ff-a5d7-6453df3e7d22"
      },
      "source": [
        "for n in [2, 3, 4]:\n",
        "    if n == 2:\n",
        "        lamb_list = [0.2, 0.4, 0.4]\n",
        "    elif n == 3:\n",
        "        lamb_list = [0.2, 0.2, 0.3, 0.3]\n",
        "    else:\n",
        "        lamb_list = [0.1, 0.1, 0.2, 0.2, 0.4]\n",
        "    interp = NGramInterpolation(n=n, lamb_list = lamb_list, vsize=len(vocab)+1)  # +1 is for <eos>\n",
        "    interp.estimate(datasets['train'])\n",
        "\n",
        "    print(f\"Interpolation model, n = {n}, lambda = {lamb_list}, Train Perplexity = {perplexity(interp, datasets['train'])}\")\n",
        "    print(f\"Interpolation model, n = {n}, lambda = {lamb_list}, Validation Perplexity = {perplexity(interp, datasets['valid'])}\")"
      ],
      "execution_count": 48,
      "outputs": [
        {
          "output_type": "stream",
          "text": [
            "Interpolation model, n = 2, lambda = [0.2, 0.4, 0.4], Train Perplexity = 149.14058601187182\n",
            "Interpolation model, n = 2, lambda = [0.2, 0.4, 0.4], Validation Perplexity = 330.56932143293216\n",
            "Interpolation model, n = 3, lambda = [0.2, 0.2, 0.3, 0.3], Train Perplexity = 19.476557684727467\n",
            "Interpolation model, n = 3, lambda = [0.2, 0.2, 0.3, 0.3], Validation Perplexity = 283.3942638303449\n",
            "Interpolation model, n = 4, lambda = [0.1, 0.1, 0.2, 0.2, 0.4], Train Perplexity = 3.71422334002876\n",
            "Interpolation model, n = 4, lambda = [0.1, 0.1, 0.2, 0.2, 0.4], Validation Perplexity = 310.2176484896974\n"
          ],
          "name": "stdout"
        }
      ]
    },
    {
      "cell_type": "markdown",
      "metadata": {
        "id": "CKanZw6bYKx3",
        "colab_type": "text"
      },
      "source": [
        "#### Results (showing $\\lambda_0,\\ldots,\\lambda_n$ values):"
      ]
    },
    {
      "cell_type": "code",
      "metadata": {
        "id": "fFg5I5d9YKx4",
        "colab_type": "code",
        "colab": {
          "base_uri": "https://localhost:8080/",
          "height": 51
        },
        "outputId": "a6dfdb74-5625-4df3-c18c-a69305bef3df"
      },
      "source": [
        "for n in [4]:\n",
        "    if n == 2:\n",
        "        lamb_list = [0.2, 0.4, 0.4]\n",
        "    elif n == 3:\n",
        "        lamb_list = [0.2, 0.2, 0.3, 0.3]\n",
        "    else:\n",
        "        lamb_list = [0.05, 0.15, 0.2, 0.3, 0.3]\n",
        "    interp = NGramInterpolation(n=n, lamb_list = lamb_list, vsize=len(vocab)+1)  # +1 is for <eos>\n",
        "    interp.estimate(datasets['train'])\n",
        "\n",
        "    print(f\"Interpolation model, n = {n}, lambda = {lamb_list}, Train Perplexity = {perplexity(interp, datasets['train'])}\")\n",
        "    print(f\"Interpolation model, n = {n}, lambda = {lamb_list}, Validation Perplexity = {perplexity(interp, datasets['valid'])}\")"
      ],
      "execution_count": 54,
      "outputs": [
        {
          "output_type": "stream",
          "text": [
            "Interpolation model, n = 4, lambda = [0.05, 0.15, 0.2, 0.3, 0.3], Train Perplexity = 4.706373565940121\n",
            "Interpolation model, n = 4, lambda = [0.05, 0.15, 0.2, 0.3, 0.3], Validation Perplexity = 281.6049590165684\n"
          ],
          "name": "stdout"
        }
      ]
    },
    {
      "cell_type": "markdown",
      "metadata": {
        "id": "tM9cl4s5YKx6",
        "colab_type": "text"
      },
      "source": [
        "## II. Neural Language Modeling with a Recurrent Neural Network"
      ]
    },
    {
      "cell_type": "code",
      "metadata": {
        "id": "UBVcVIZLYKx7",
        "colab_type": "code",
        "colab": {}
      },
      "source": [
        "import torch\n",
        "import torch.nn as nn"
      ],
      "execution_count": 0,
      "outputs": []
    },
    {
      "cell_type": "markdown",
      "metadata": {
        "id": "6LUz5-TSYKx9",
        "colab_type": "text"
      },
      "source": [
        "#### Utilities\n",
        "\n",
        "(Hint: you can adopt the `Dictionary`, dataset loading, and training code from the lab for use here)"
      ]
    },
    {
      "cell_type": "code",
      "metadata": {
        "id": "mDCByCSKYKx9",
        "colab_type": "code",
        "colab": {}
      },
      "source": [
        ""
      ],
      "execution_count": 0,
      "outputs": []
    },
    {
      "cell_type": "markdown",
      "metadata": {
        "id": "vhjKFn8iYKyB",
        "colab_type": "text"
      },
      "source": [
        "### II.1 LSTM and Hyper-Parameters"
      ]
    },
    {
      "cell_type": "code",
      "metadata": {
        "id": "L19_F7ibYKyC",
        "colab_type": "code",
        "colab": {}
      },
      "source": [
        ""
      ],
      "execution_count": 0,
      "outputs": []
    },
    {
      "cell_type": "markdown",
      "metadata": {
        "id": "crDwk505YKyD",
        "colab_type": "text"
      },
      "source": [
        "#### Results (LSTM vs. Baseline)"
      ]
    },
    {
      "cell_type": "code",
      "metadata": {
        "id": "irhwrFc5YKyE",
        "colab_type": "code",
        "colab": {}
      },
      "source": [
        ""
      ],
      "execution_count": 0,
      "outputs": []
    },
    {
      "cell_type": "markdown",
      "metadata": {
        "id": "wLkRk9p4YKyG",
        "colab_type": "text"
      },
      "source": [
        "#### Performance Variation Based on Hyperparameter Values"
      ]
    },
    {
      "cell_type": "code",
      "metadata": {
        "id": "pmG6gceQYKyG",
        "colab_type": "code",
        "colab": {}
      },
      "source": [
        ""
      ],
      "execution_count": 0,
      "outputs": []
    },
    {
      "cell_type": "markdown",
      "metadata": {
        "id": "qoZhUcWIYKyJ",
        "colab_type": "text"
      },
      "source": [
        "### II.2 Learned Embeddings"
      ]
    },
    {
      "cell_type": "markdown",
      "metadata": {
        "id": "zhdqpkWEYKyJ",
        "colab_type": "text"
      },
      "source": [
        "#### Utilities\n",
        "\n",
        "Below is code to use [UMAP](https://umap-learn.readthedocs.io/en/latest/) to find a 2-dimensional representation of a weight matrix, and plot the resulting 2-dimensional points that correspond to certain words.\n",
        "\n",
        "Use `!pip install umap-learn` to install UMAP."
      ]
    },
    {
      "cell_type": "code",
      "metadata": {
        "id": "nUTbfJJpYKyK",
        "colab_type": "code",
        "colab": {},
        "outputId": "8468d5dd-6116-4bdb-d7fa-71c9f31902c9"
      },
      "source": [
        "%pylab inline \n",
        "import umap\n",
        "import matplotlib.pyplot as plt\n",
        "\n",
        "def umap_plot(weight_matrix, word_ids, words):\n",
        "    \"\"\"Run UMAP on the entire Vxd `weight_matrix` (e.g. model.lookup.weight or model.projection.weight),\n",
        "    And plot the points corresponding to the given `word_ids`. \"\"\"\n",
        "    reduced = umap.UMAP(min_dist=0.0001).fit_transform(weight_matrix.detach().cpu().numpy())\n",
        "    plt.figure(figsize=(20,20))\n",
        "\n",
        "    to_plot = reduced[word_ids, :]\n",
        "    plt.scatter(to_plot[:, 0], to_plot[:, 1])\n",
        "    for i, word_id in enumerate(word_ids):\n",
        "        current_point = to_plot[i]\n",
        "        plt.annotate(words[i], (current_point[0], current_point[1]))\n",
        "\n",
        "    plt.grid()\n",
        "    plt.show()"
      ],
      "execution_count": 0,
      "outputs": [
        {
          "output_type": "stream",
          "text": [
            "Populating the interactive namespace from numpy and matplotlib\n"
          ],
          "name": "stdout"
        }
      ]
    },
    {
      "cell_type": "code",
      "metadata": {
        "id": "9TUSyD5jYKyM",
        "colab_type": "code",
        "colab": {},
        "outputId": "511f9fb8-63ac-4fea-b122-b94e1e418287"
      },
      "source": [
        "Vsize = 100                                 # e.g. len(dictionary)\n",
        "d = 32                                      # e.g. model.lookup.weight.size(1) \n",
        "fake_weight_matrix = torch.randn(Vsize, d)  # e.g. model.lookup.weight\n",
        "\n",
        "words = ['the', 'dog', 'ran']\n",
        "word_ids = [4, 54, 20]                  # e.g. use dictionary.get_id on a list of words\n",
        "\n",
        "umap_plot(fake_weight_matrix, word_ids, words)"
      ],
      "execution_count": 0,
      "outputs": [
        {
          "output_type": "display_data",
          "data": {
            "image/png": "[encoded data removed]",
            "text/plain": [
              "<Figure size 1440x1440 with 1 Axes>"
            ]
          },
          "metadata": {
            "tags": [],
            "needs_background": "light"
          }
        }
      ]
    },
    {
      "cell_type": "markdown",
      "metadata": {
        "id": "flD8nPbMYKyO",
        "colab_type": "text"
      },
      "source": [
        "#### II.2.1 Word Similarity"
      ]
    },
    {
      "cell_type": "code",
      "metadata": {
        "id": "1-W_mKt_YKyP",
        "colab_type": "code",
        "colab": {}
      },
      "source": [
        ""
      ],
      "execution_count": 0,
      "outputs": []
    },
    {
      "cell_type": "markdown",
      "metadata": {
        "id": "YyVE3m1vYKyR",
        "colab_type": "text"
      },
      "source": [
        "#### II.2.2 Embedding Layer"
      ]
    },
    {
      "cell_type": "code",
      "metadata": {
        "id": "JNvovKiYYKyS",
        "colab_type": "code",
        "colab": {}
      },
      "source": [
        ""
      ],
      "execution_count": 0,
      "outputs": []
    },
    {
      "cell_type": "markdown",
      "metadata": {
        "id": "XDbOskHAYKyV",
        "colab_type": "text"
      },
      "source": [
        "#### II.2.3 Projection Layer"
      ]
    },
    {
      "cell_type": "code",
      "metadata": {
        "id": "5gh6k_mfYKyW",
        "colab_type": "code",
        "colab": {}
      },
      "source": [
        ""
      ],
      "execution_count": 0,
      "outputs": []
    },
    {
      "cell_type": "markdown",
      "metadata": {
        "id": "vTY54t9TYKya",
        "colab_type": "text"
      },
      "source": [
        " "
      ]
    },
    {
      "cell_type": "markdown",
      "metadata": {
        "id": "Qwv_ZngvYKyb",
        "colab_type": "text"
      },
      "source": [
        "### II.3 Scoring"
      ]
    },
    {
      "cell_type": "code",
      "metadata": {
        "id": "FWLzt9RMYKyc",
        "colab_type": "code",
        "colab": {}
      },
      "source": [
        ""
      ],
      "execution_count": 0,
      "outputs": []
    },
    {
      "cell_type": "markdown",
      "metadata": {
        "id": "UsnynuwkYKye",
        "colab_type": "text"
      },
      "source": [
        "#### II.3.2 Highest and Lowest scoring sequences"
      ]
    },
    {
      "cell_type": "code",
      "metadata": {
        "id": "i0DT0Nz4YKyf",
        "colab_type": "code",
        "colab": {}
      },
      "source": [
        ""
      ],
      "execution_count": 0,
      "outputs": []
    },
    {
      "cell_type": "markdown",
      "metadata": {
        "id": "CgDR3Vb7YKyh",
        "colab_type": "text"
      },
      "source": [
        "#### II.3.3 Modified sequences"
      ]
    },
    {
      "cell_type": "code",
      "metadata": {
        "id": "0lZnRuY3YKyi",
        "colab_type": "code",
        "colab": {}
      },
      "source": [
        ""
      ],
      "execution_count": 0,
      "outputs": []
    },
    {
      "cell_type": "markdown",
      "metadata": {
        "id": "WK87HIhUYKyl",
        "colab_type": "text"
      },
      "source": [
        "### II.4 Sampling"
      ]
    },
    {
      "cell_type": "code",
      "metadata": {
        "id": "MWAqFbF4YKyl",
        "colab_type": "code",
        "colab": {}
      },
      "source": [
        ""
      ],
      "execution_count": 0,
      "outputs": []
    },
    {
      "cell_type": "markdown",
      "metadata": {
        "id": "1lMTWi_IYKyn",
        "colab_type": "text"
      },
      "source": [
        "#### II.4.3 Number of unique tokens and sequence length \n",
        "\n",
        "(1,000 samples vs. 1,000 randomly selected validation-set sequences)"
      ]
    },
    {
      "cell_type": "code",
      "metadata": {
        "id": "cCJqPo1GYKyo",
        "colab_type": "code",
        "colab": {}
      },
      "source": [
        ""
      ],
      "execution_count": 0,
      "outputs": []
    },
    {
      "cell_type": "markdown",
      "metadata": {
        "id": "Hl6yiuQCYKyq",
        "colab_type": "text"
      },
      "source": [
        "#### II.4.4 Example Samples"
      ]
    },
    {
      "cell_type": "code",
      "metadata": {
        "id": "X3ASKYldYKyq",
        "colab_type": "code",
        "colab": {}
      },
      "source": [
        ""
      ],
      "execution_count": 0,
      "outputs": []
    }
  ]
}