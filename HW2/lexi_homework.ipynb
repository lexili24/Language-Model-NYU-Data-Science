<<<<<<< HEAD
{
 "cells": [
  {
   "cell_type": "markdown",
   "metadata": {},
   "source": [
    "# DS-GA 1011 Homework 2\n",
    "## N-Gram and Neural Language Modeling"
   ]
  },
  {
   "cell_type": "code",
   "execution_count": 10,
   "metadata": {
    "collapsed": true
   },
   "outputs": [],
   "source": [
    "import os\n",
    "import json\n",
    "import jsonlines\n",
    "import numpy as np\n",
    "from collections import defaultdict\n",
    "import itertools\n",
    "import operator\n",
    "from tqdm import tqdm\n",
    "import torch"
   ]
  },
  {
   "cell_type": "markdown",
   "metadata": {},
   "source": [
    "## I. N-Gram Language Modeling"
   ]
  },
  {
   "cell_type": "markdown",
   "metadata": {},
   "source": [
    "#### Utilities"
   ]
  },
  {
   "cell_type": "code",
   "execution_count": 11,
   "metadata": {
    "collapsed": true
   },
   "outputs": [],
   "source": [
    "def load_wikitext(filename='wikitext2-sentencized.json'):\n",
    "    if not os.path.exists(filename):\n",
    "        !wget \"https://nyu.box.com/shared/static/9kb7l7ci30hb6uahhbssjlq0kctr5ii4.json\" -O $filename\n",
    "    \n",
    "    datasets = json.load(open(filename, 'r'))\n",
    "    for name in datasets:\n",
    "        datasets[name] = [x.split() for x in datasets[name]]\n",
    "    vocab = list(set([t for ts in datasets['train'] for t in ts]))      \n",
    "    print(\"Vocab size: %d\" % (len(vocab)))\n",
    "    return datasets, vocab\n",
    "\n",
    "def perplexity(model, sequences):\n",
    "    n_total = 0\n",
    "    logp_total = 0\n",
    "    for sequence in sequences:\n",
    "        logp_total += model.sequence_logp(sequence)\n",
    "        n_total += len(sequence) + 1  \n",
    "    ppl = 2 ** (- (1.0 / n_total) * logp_total)  \n",
    "    return ppl"
   ]
  },
  {
   "cell_type": "code",
   "execution_count": 12,
   "metadata": {},
   "outputs": [
    {
     "name": "stdout",
     "output_type": "stream",
     "text": [
      "Vocab size: 33175\n"
     ]
    }
   ],
   "source": [
    "datasets, vocab = load_wikitext()"
   ]
  },
  {
   "cell_type": "markdown",
   "metadata": {},
   "source": [
    "### Additive Smoothing"
   ]
  },
  {
   "cell_type": "code",
   "execution_count": null,
   "metadata": {
    "collapsed": true
   },
   "outputs": [],
   "source": [
    "class NGramAdditive(object):\n",
    "    def __init__(self, n, delta, vsize):\n",
    "        self.n = n\n",
    "        self.delta = delta\n",
    "        self.count = defaultdict(lambda: defaultdict(float))\n",
    "        self.total = defaultdict(float)\n",
    "        self.vsize = vsize\n",
    "    \n",
    "    def estimate(self, sequences):\n",
    "        for sequence in sequences:\n",
    "            padded_sequence = ['<bos>']*(self.n-1) + sequence + ['<eos>']\n",
    "            for i in range(len(padded_sequence) - self.n+1):\n",
    "                ngram = tuple(padded_sequence[i:i+self.n])\n",
    "                prefix, word = ngram[:-1], ngram[-1]\n",
    "                self.count[prefix][word] += 1\n",
    "                self.total[prefix] += 1\n",
    "                \n",
    "    def sequence_logp(self, sequence):\n",
    "        padded_sequence = ['<bos>']*(self.n-1) + sequence + ['<eos>']\n",
    "        total_logp = 0\n",
    "        for i in range(len(padded_sequence) - self.n+1):\n",
    "            ngram = tuple(padded_sequence[i:i+self.n])\n",
    "            total_logp += np.log2(self.ngram_prob(ngram))\n",
    "        return total_logp\n",
    "\n",
    "    def ngram_prob(self, ngram):\n",
    "        prefix = ngram[:-1]\n",
    "        word = ngram[-1]\n",
    "        prob = ((self.delta + self.count[prefix][word]) / \n",
    "                (self.total[prefix] + self.delta*self.vsize))\n",
    "        return prob"
   ]
  },
  {
   "cell_type": "code",
   "execution_count": null,
   "metadata": {
    "collapsed": true
   },
   "outputs": [],
   "source": [
    "\n",
    "# delta = 0.0005\n",
    "# for n in [2, 3, 4]:\n",
    "#     lm = NGramAdditive(n=n, delta=delta, vsize=len(vocab)+1)  # +1 is for <eos>\n",
    "#     lm.estimate(datasets['train'])\n",
    "\n",
    "#     print(\"Baseline (Additive smoothing, n=%d, delta=%.4f)) Train Perplexity: %.3f\" % (n, delta, perplexity(lm, datasets['train'])))\n",
    "#     print(\"Baseline (Additive smoothing, n=%d, delta=%.4f)) Valid Perplexity: %.3f\" % (n, delta, perplexity(lm, datasets['valid'])))"
   ]
  },
  {
   "cell_type": "code",
   "execution_count": null,
   "metadata": {
    "collapsed": true
   },
   "outputs": [],
   "source": [
    "type(vocab)"
   ]
  },
  {
   "cell_type": "code",
   "execution_count": null,
   "metadata": {
    "collapsed": true
   },
   "outputs": [],
   "source": [
    "vocab[:10]"
   ]
  },
  {
   "cell_type": "code",
   "execution_count": null,
   "metadata": {
    "collapsed": true
   },
   "outputs": [],
   "source": [
    "'<unk>' in vocab"
   ]
  },
  {
   "cell_type": "markdown",
   "metadata": {},
   "source": [
    "### I.1 Interpolation"
   ]
  },
  {
   "cell_type": "code",
   "execution_count": null,
   "metadata": {
    "collapsed": true
   },
   "outputs": [],
   "source": [
    "class NGramInterpolation(object):\n",
    "    pass"
   ]
  },
  {
   "cell_type": "markdown",
   "metadata": {},
   "source": [
    "#### Results (showing $\\lambda_0,\\ldots,\\lambda_n$ values):"
   ]
  },
  {
   "cell_type": "code",
   "execution_count": null,
   "metadata": {
    "collapsed": true
   },
   "outputs": [],
   "source": []
  },
  {
   "cell_type": "markdown",
   "metadata": {},
   "source": [
    "## II. Neural Language Modeling with a Recurrent Neural Network"
   ]
  },
  {
   "cell_type": "code",
   "execution_count": 4,
   "metadata": {
    "collapsed": true
   },
   "outputs": [],
   "source": [
    "import torch\n",
    "import torch.nn as nn\n",
    "from torch.utils.data import Dataset, RandomSampler, SequentialSampler,DataLoader\n",
    "import matplotlib.pyplot as plt"
   ]
  },
  {
   "cell_type": "markdown",
   "metadata": {},
   "source": [
    "### Utilities"
   ]
  },
  {
   "cell_type": "code",
   "execution_count": 5,
   "metadata": {
    "collapsed": true
   },
   "outputs": [],
   "source": [
    "class Dictionary(object):\n",
    "    def __init__(self, datasets, include_valid=False):\n",
    "        self.tokens = []\n",
    "        self.ids = {}\n",
    "        self.counts = {}\n",
    "        \n",
    "        # add special tokens\n",
    "        self.add_token('<bos>')\n",
    "        self.add_token('<eos>')\n",
    "        self.add_token('<pad>')\n",
    "        self.add_token('<unk>') # validation token is not seen in the training dataset\n",
    "        \n",
    "        for line in tqdm(datasets['train']):\n",
    "            for w in line:\n",
    "                self.add_token(w)\n",
    "                    \n",
    "        if include_valid is True:\n",
    "            for line in tqdm(datasets['valid']):\n",
    "                for w in line:\n",
    "                    self.add_token(w)\n",
    "                            \n",
    "    def add_token(self, w):\n",
    "        if w not in self.tokens:\n",
    "            self.tokens.append(w)\n",
    "            _w_id = len(self.tokens) - 1\n",
    "            self.ids[w] = _w_id\n",
    "            self.counts[w] = 1\n",
    "        else:\n",
    "            self.counts[w] += 1\n",
    "\n",
    "    def get_id(self, w):\n",
    "        return self.ids[w]\n",
    "    \n",
    "    def get_token(self, idx):\n",
    "        return self.tokens[idx]\n",
    "    \n",
    "    def decode_idx_seq(self, l):\n",
    "        return [self.tokens[i] for i in l]\n",
    "    \n",
    "    def encode_token_seq(self, l):\n",
    "        return [self.ids[i] if i in self.ids else self.ids['<unk>'] for i in l]\n",
    "    \n",
    "    def __len__(self):\n",
    "        return len(self.tokens)"
   ]
  },
  {
   "cell_type": "code",
   "execution_count": 6,
   "metadata": {},
   "outputs": [
    {
     "name": "stderr",
     "output_type": "stream",
     "text": [
      "100%|██████████| 78274/78274 [02:27<00:00, 531.93it/s]"
     ]
    },
    {
     "name": "stdout",
     "output_type": "stream",
     "text": [
      "In 1929 , the residents of <unk> created a memorial to the veterans of World War I called Memory Lane .\n",
      "\n",
      " encoded - [632, 2252, 10, 6, 5485, 5, 3, 609, 20, 2283, 13, 6, 1759, 5, 1065, 64, 1291, 1137, 7538, 11174, 39]\n",
      "\n",
      " decoded - ['In', '1929', ',', 'the', 'residents', 'of', '<unk>', 'created', 'a', 'memorial', 'to', 'the', 'veterans', 'of', 'World', 'War', 'I', 'called', 'Memory', 'Lane', '.']\n",
      "length of train_dict is  33178\n",
      "unique words in training dataset is  33175\n"
     ]
    },
    {
     "name": "stderr",
     "output_type": "stream",
     "text": [
      "\n"
     ]
    }
   ],
   "source": [
    "train_dict=Dictionary(datasets) # excluding validation dataset #109\n",
    "#all_dict=Dictionary(datasets, include_valid = True)\n",
    "\n",
    "# example\n",
    "rand_int = np.random.randint(1, len(datasets['valid']))\n",
    "print(' '.join(datasets['valid'][rand_int]))\n",
    "encoded = train_dict.encode_token_seq(datasets['valid'][rand_int])\n",
    "print(f'\\n encoded - {encoded}')\n",
    "decoded = train_dict.decode_idx_seq(encoded)\n",
    "print(f'\\n decoded - {decoded}')\n",
    "\n",
    "# checking\n",
    "print('length of train_dict is ', len(train_dict)) # that's because <unk> is already in the dataset \n",
    "print('unique words in training dataset is ', len(vocab))"
   ]
  },
  {
   "cell_type": "code",
   "execution_count": 7,
   "metadata": {
    "collapsed": true
   },
   "outputs": [],
   "source": [
    "# given the dictionary from above, now write a function that tokenize the all datasets into id's\n",
    "def tokenize_dataset(datasets, dictionary, ngram_order=2):\n",
    "    tokenized_datasets = {}\n",
    "    for split, dataset in datasets.items():\n",
    "        _current_dictified = []\n",
    "        for l in tqdm(dataset):\n",
    "            l = ['<bos>']*(ngram_order-1) + l + ['<eos>']\n",
    "            encoded_l = dictionary.encode_token_seq(l)\n",
    "            _current_dictified.append(encoded_l)\n",
    "        tokenized_datasets[split] = _current_dictified\n",
    "        \n",
    "    return tokenized_datasets\n",
    "\n",
    "# Given a tokenzied dataset with ngram defined, slice the input sequences into n-grams \n",
    "# [0,1,2,3,4,5], 2 -> [0,1], [1,2], [2,3], [3,4], [4,5]\n",
    "def slice_sequences_given_order(tokenized_dataset_with_spec, ngram_order=2):\n",
    "    sliced_datasets = {}\n",
    "    for split, dataset in tokenized_dataset_with_spec.items():\n",
    "        _list_of_sliced_ngrams = []\n",
    "        for seq in tqdm(dataset):\n",
    "            ngrams = [seq[i:i+ngram_order] for i in range(len(seq)-ngram_order+1)]\n",
    "            _list_of_sliced_ngrams.extend(ngrams)\n",
    "        sliced_datasets[split] = _list_of_sliced_ngrams\n",
    "\n",
    "    return sliced_datasets\n",
    "\n",
    "# # Now we create a dataset\n",
    "class NgramDataset(Dataset):\n",
    "    def __init__(self, sliced_dataset_split):\n",
    "        super().__init__()\n",
    "\n",
    "        # for each sample: [:-1] is input, [-1] is target\n",
    "        self.sequences = [torch.tensor(i, dtype=torch.long) for i in sliced_dataset_split]\n",
    "    \n",
    "    def __getitem__(self, i):\n",
    "        sample = self.sequences[i]\n",
    "        return sample\n",
    "\n",
    "    def __len__(self):\n",
    "        return len(self.sequences)\n",
    "\n",
    "def batchify(list_minibatch):\n",
    "    inp_list = [i[:-1] for i in list_minibatch]\n",
    "    tar_list = [i[-1] for i in list_minibatch]\n",
    "\n",
    "    inp_tensor = torch.stack(inp_list, dim=0) # list of tensors and create a new tensor a u-dimension specified by dim\n",
    "    tar_tensor = torch.stack(tar_list, dim=0)\n",
    "    # cat: take a list of tensors and use existing dimension to concatent. Cannot create a new u-dimension speicfied. \n",
    "\n",
    "    return inp_tensor, tar_tensor"
   ]
  },
  {
   "cell_type": "code",
   "execution_count": 8,
   "metadata": {},
   "outputs": [
    {
     "name": "stderr",
     "output_type": "stream",
     "text": [
      "100%|██████████| 78274/78274 [00:00<00:00, 93730.85it/s] \n",
      "100%|██████████| 8464/8464 [00:00<00:00, 108105.62it/s]\n",
      "100%|██████████| 9708/9708 [00:00<00:00, 111933.58it/s]\n",
      "100%|██████████| 78274/78274 [00:02<00:00, 34490.35it/s]\n",
      "100%|██████████| 8464/8464 [00:00<00:00, 128737.27it/s]\n",
      "100%|██████████| 9708/9708 [00:00<00:00, 23955.37it/s]\n"
     ]
    },
    {
     "name": "stdout",
     "output_type": "stream",
     "text": [
      "\n",
      " decoded with spec - ['<bos>', 'The', 'Nataraja', 'and', 'Ardhanarishvara', 'sculptures', 'are', 'also', 'attributed', 'to', 'the', 'Rashtrakutas', '.', '<eos>']\n"
     ]
    }
   ],
   "source": [
    "#  returns dictionary of three items with 'train', 'valid' and 'test' with lists of token ids \n",
    "tokenized_ngram = tokenize_dataset(datasets, train_dict, ngram_order=2)\n",
    "\n",
    "# returns dictionary of three and lists of sliced n-grams\n",
    "sliced_ngram = slice_sequences_given_order(tokenized_ngram, ngram_order=2)\n",
    "\n",
    "# check that the sentence is encoded with (n-1)<bos> and can be decoded back to tokens \n",
    "decoded_with_spec = train_dict.decode_idx_seq(tokenized_ngram['train'][3010])\n",
    "print(f'\\n decoded with spec - {decoded_with_spec}')\n",
    "\n",
    "ngram_datasets = {}\n",
    "ngram_loaders = {}\n",
    "for split, dataset_sliced in sliced_ngram.items():\n",
    "    if split == 'train':\n",
    "        shuffle_ = True\n",
    "    else:\n",
    "        shuffle_ = False\n",
    "    dataset_ = NgramDataset(dataset_sliced)\n",
    "    ngram_datasets[split] = dataset_\n",
    "    ngram_loaders[split] = DataLoader(dataset_, batch_size=2048, shuffle=shuffle_, collate_fn=batchify)"
   ]
  },
  {
   "cell_type": "code",
   "execution_count": 9,
   "metadata": {},
   "outputs": [
    {
     "name": "stdout",
     "output_type": "stream",
     "text": [
      "The length of original training dataset is:  78274\n",
      "The length of tokenzied training dataset is:  78274\n",
      "Slided_ngram for training dataset now has length of  2003028\n"
     ]
    }
   ],
   "source": [
    "print('The length of original training dataset is: ', len(datasets['train']))\n",
    "print('The length of tokenzied training dataset is: ', len(tokenized_ngram['train']))\n",
    "print('Slided_ngram for training dataset now has length of ', len(sliced_ngram['train']))"
   ]
  },
  {
   "cell_type": "code",
   "execution_count": 10,
   "metadata": {},
   "outputs": [
    {
     "name": "stdout",
     "output_type": "stream",
     "text": [
      "[0, 504, 1506, 7106, 741, 459, 20, 140, 98, 432, 19366, 10, 150, 15605, 13, 260, 3748, 955, 1826, 1384, 1145, 98, 1722, 4303, 39, 1]\n",
      "['<bos>', 'This', 'may', 'occur', 'several', 'times', 'a', 'year', 'for', 'young', 'lobsters', ',', 'but', 'decreases', 'to', 'once', 'every', '1', '–', '2', 'years', 'for', 'larger', 'animals', '.', '<eos>']\n"
     ]
    }
   ],
   "source": [
    "print(tokenized_ngram['valid'][10])\n",
    "print(train_dict.decode_idx_seq(tokenized_ngram['valid'][10]))"
   ]
  },
  {
   "cell_type": "code",
   "execution_count": 11,
   "metadata": {
    "collapsed": true
   },
   "outputs": [],
   "source": [
    "class TensoredDataset(Dataset):\n",
    "    def __init__(self, list_of_lists_of_tokens):\n",
    "        self.input_tensors = []\n",
    "        self.target_tensors = []\n",
    "        \n",
    "        for sample in list_of_lists_of_tokens:\n",
    "            self.input_tensors.append(torch.tensor([sample[:-1]], dtype=torch.long))\n",
    "            self.target_tensors.append(torch.tensor([sample[1:]], dtype=torch.long))\n",
    "    \n",
    "    def __len__(self):\n",
    "        return len(self.input_tensors)\n",
    "    \n",
    "    def __getitem__(self, idx):\n",
    "        # return a (input, target) tuple\n",
    "        return (self.input_tensors[idx], self.target_tensors[idx])\n",
    "    \n",
    "def pad_list_of_tensors(list_of_tensors, pad_token):\n",
    "    max_length = max([t.size(-1) for t in list_of_tensors])\n",
    "    padded_list = []\n",
    "    \n",
    "    for t in list_of_tensors:\n",
    "        padded_tensor = torch.cat([t, torch.tensor([[pad_token]*(max_length - t.size(-1))], dtype=torch.long)], dim = -1)\n",
    "        padded_list.append(padded_tensor)\n",
    "        \n",
    "    padded_tensor = torch.cat(padded_list, dim=0)\n",
    "    \n",
    "    return padded_tensor\n",
    "\n",
    "def pad_collate_fn(batch):\n",
    "    # batch is a list of sample tuples\n",
    "    input_list = [s[0] for s in batch]\n",
    "    target_list = [s[1] for s in batch]\n",
    "    \n",
    "    #pad_token = persona_dict.get_id('<pad>')\n",
    "    pad_token = 2\n",
    "    \n",
    "    input_tensor = pad_list_of_tensors(input_list, pad_token)\n",
    "    target_tensor = pad_list_of_tensors(target_list, pad_token)\n",
    "    \n",
    "    return input_tensor, target_tensor\n",
    "\n"
   ]
  },
  {
   "cell_type": "code",
   "execution_count": 12,
   "metadata": {},
   "outputs": [
    {
     "data": {
      "text/plain": [
       "(tensor([[  0, 282,  13, 283, 181, 194, 195, 284,  13,  20, 285, 286,  39]]),\n",
       " tensor([[282,  13, 283, 181, 194, 195, 284,  13,  20, 285, 286,  39,   1]]))"
      ]
     },
     "execution_count": 12,
     "metadata": {},
     "output_type": "execute_result"
    }
   ],
   "source": [
    "tensor_dataset = {}\n",
    "\n",
    "for split, listoflists in tokenized_ngram.items():\n",
    "    tensor_dataset[split] = TensoredDataset(listoflists)\n",
    "    \n",
    "# check the first example\n",
    "tensor_dataset['train'][24]"
   ]
  },
  {
   "cell_type": "code",
   "execution_count": 13,
   "metadata": {
    "collapsed": true
   },
   "outputs": [],
   "source": [
    "loaders = {}\n",
    "batch_size = 32\n",
    "for split, dataset in tensor_dataset.items():\n",
    "    loaders[split] = DataLoader(dataset, batch_size=batch_size, shuffle=True, collate_fn=pad_collate_fn)"
   ]
  },
  {
   "cell_type": "markdown",
   "metadata": {},
   "source": [
    "### Baseline Model: RNN"
   ]
  },
  {
   "cell_type": "code",
   "execution_count": 14,
   "metadata": {
    "collapsed": true
   },
   "outputs": [],
   "source": [
    "from torch.nn import RNNBase, RNN\n",
    "from torch.nn import Embedding\n",
    "from torch.nn import Linear, functional\n",
    "import torch.optim as optim"
   ]
  },
  {
   "cell_type": "code",
   "execution_count": null,
   "metadata": {
    "collapsed": true
   },
   "outputs": [],
   "source": [
    "# example embedding layer\n",
    "lookup = Embedding(num_embeddings=len(train_dict), embedding_dim=64, padding_idx=train_dict.get_id('<pad>'))\n",
    "lookup.weight.size()\n",
    "# train_dict = vocab size + 4"
   ]
  },
  {
   "cell_type": "code",
   "execution_count": null,
   "metadata": {
    "collapsed": true
   },
   "outputs": [],
   "source": [
    "# Example input\n",
    "input_ = train_dict.encode_token_seq('hello world'.split(' '))\n",
    "print(f'discrete input: {[input_]}')\n",
    "\n",
    "input_continious = lookup(torch.tensor([input_], dtype=torch.long))\n",
    "print(f'continious input size: {input_continious.size()}')"
   ]
  },
  {
   "cell_type": "code",
   "execution_count": null,
   "metadata": {
    "collapsed": true
   },
   "outputs": [],
   "source": [
    "lookup = nn.Embedding(num_embeddings=options['num_embeddings'], embedding_dim=options['embedding_dim'], padding_idx=options['padding_idx'])\n",
    "# before nn.RNN is hidden\n",
    "# Now: you do lookup table, and returns the tensors of sequence. No need of concat, becuase RNN naturally takes care of this\n",
    "# RNN natrually takes multi sentence inputs and outputs hidden_size \n",
    "rnn = nn.RNN(options['input_size'], options['hidden_size'], options['num_layers'], dropout=options['rnn_dropout'], batch_first=True)\n",
    "projection = nn.Linear(options['hidden_size'], options['num_embeddings'])"
   ]
  },
  {
   "cell_type": "code",
   "execution_count": null,
   "metadata": {
    "collapsed": true
   },
   "outputs": [],
   "source": [
    "import torch.nn as nn\n",
    "\n",
    "class RNNLanguageModel(nn.Module):\n",
    "    \"\"\"\n",
    "    This model combines embedding, rnn and projection layer into a single model\n",
    "    \"\"\"\n",
    "    def __init__(self, options):\n",
    "        super().__init__()\n",
    "        \n",
    "        # create each LM part here \n",
    "        self.lookup = nn.Embedding(num_embeddings=options['num_embeddings'], embedding_dim=options['embedding_dim'], padding_idx=options['padding_idx'])\n",
    "        # before nn.RNN is hidden\n",
    "        # Now: you do lookup table, and returns the tensors of sequence. No need of concat, becuase RNN naturally takes care of this\n",
    "        # RNN natrually takes multi sentence inputs and outputs hidden_size \n",
    "        self.rnn = nn.RNN(options['input_size'], options['hidden_size'], options['num_layers'], dropout=options['rnn_dropout'], batch_first=True)\n",
    "        self.projection = nn.Linear(options['hidden_size'], options['num_embeddings'])\n",
    "        \n",
    "    def forward(self, encoded_input_sequence):\n",
    "        \"\"\"\n",
    "        Forward method process the input from token ids to logits\n",
    "        \"\"\"\n",
    "        embeddings = self.lookup(encoded_input_sequence)\n",
    "        rnn_outputs = self.rnn(embeddings)\n",
    "        # project of outputs \n",
    "        # rnn_outputs: tupple with second element being last hidden state. \n",
    "        logits = self.projection(rnn_outputs[0])\n",
    "        \n",
    "        return logits"
   ]
  },
  {
   "cell_type": "code",
   "execution_count": null,
   "metadata": {
    "collapsed": true
   },
   "outputs": [],
   "source": [
    "load_pretrained = False\n",
    "\n",
    "num_gpus = torch.cuda.device_count()\n",
    "if num_gpus > 0:\n",
    "    current_device = 'cuda'\n",
    "else:\n",
    "    current_device = 'cpu'\n",
    "\n",
    "if load_pretrained:\n",
    "    if not os.path.exists('personachat_rnn_lm.pt'):\n",
    "        raise EOFError('Download pretrained model!')\n",
    "    model_dict = torch.load('personachat_rnn_lm.pt')\n",
    "    \n",
    "    options = model_dict['options']\n",
    "    model = RNNLanguageModel(options).to(current_device)\n",
    "    model.load_state_dict(model_dict['model_dict'])\n",
    "    \n",
    "else:\n",
    "    embedding_size = 64\n",
    "    hidden_size = 128 # output of dimension \n",
    "    num_layers = 2\n",
    "    rnn_dropout = 0.1\n",
    "    input_size = lookup.weight.size(1)\n",
    "    vocab_size = lookup.weight.size(0)\n",
    "    \n",
    "    options = {\n",
    "        'num_embeddings': len(train_dict),\n",
    "        'embedding_dim': embedding_size,\n",
    "        'padding_idx': train_dict.get_id('<pad>'),\n",
    "        'input_size': embedding_size,\n",
    "        'hidden_size': hidden_size,\n",
    "        'num_layers': num_layers,\n",
    "        'rnn_dropout': rnn_dropout,\n",
    "    }\n",
    "\n",
    "    \n",
    "    model = RNNLanguageModel(options).to(current_device)\n",
    "\n",
    "# same as previous nn based \n",
    "criterion = nn.CrossEntropyLoss(ignore_index=train_dict.get_id('<pad>'))\n",
    "\n",
    "model_parameters = [p for p in model.parameters() if p.requires_grad]\n",
    "optimizer = optim.Adam(model_parameters, lr=0.001)\n",
    "\n"
   ]
  },
  {
   "cell_type": "code",
   "execution_count": null,
   "metadata": {
    "collapsed": true
   },
   "outputs": [],
   "source": [
    "# check model\n",
    "model"
   ]
  },
  {
   "cell_type": "code",
   "execution_count": null,
   "metadata": {
    "collapsed": true
   },
   "outputs": [],
   "source": [
    "plot_cache = []\n",
    "min_val_loss = 30\n",
    "\n",
    "for epoch_number in range(30):\n",
    "    avg_loss=0\n",
    "    \n",
    "    if not load_pretrained:\n",
    "        model.train()\n",
    "        train_log_cache = []\n",
    "        for i, (inp, target) in enumerate(loaders['train']):\n",
    "            optimizer.zero_grad()\n",
    "            inp = inp.to(current_device)\n",
    "            target = target.to(current_device)\n",
    "            logits = model(inp)\n",
    "            \n",
    "            loss = criterion(logits.view(-1, logits.size(-1)), target.view(-1))\n",
    "            \n",
    "            loss.backward()\n",
    "            optimizer.step()\n",
    "            \n",
    "            train_log_cache.append(loss.item())\n",
    "            \n",
    "            if i % 100 == 0:\n",
    "                avg_loss = sum(train_log_cache)/len(train_log_cache)\n",
    "                print('Step {} avg train loss = {:.{prec}f}'.format(i, avg_loss, prec=4))\n",
    "                train_log_cache = []\n",
    "            \n",
    "    #do valid\n",
    "    valid_losses = []\n",
    "    model.eval()\n",
    "    with torch.no_grad():\n",
    "        for i, (inp, target) in enumerate(loaders['valid']):\n",
    "            inp = inp.to(current_device)\n",
    "            target = target.to(current_device)\n",
    "            logits = model(inp)\n",
    "\n",
    "            loss = criterion(logits.view(-1, logits.size(-1)), target.view(-1))\n",
    "            valid_losses.append(loss.item())\n",
    "        avg_val_loss = sum(valid_losses) / len(valid_losses)\n",
    "        print('Validation loss after {} epoch = {:.{prec}f}'.format(epoch_number, avg_val_loss, prec=4))\n",
    "        \n",
    "    best = avg_val_loss < min_val_loss\n",
    "    if best:\n",
    "        min_val_loss = avg_val_loss\n",
    "        best_model = model\n",
    "\n",
    "    plot_cache.append((avg_loss, avg_val_loss))\n",
    "\n",
    "    if load_pretrained:\n",
    "        break\n",
    "    \n",
    "print('Saving best model...')\n",
    "torch.save({\n",
    "'options': options,\n",
    "'loss_cache': plot_cache,\n",
    "'model_dict': best_model.state_dict()\n",
    "        }, './baseline_RNN.pt')\n",
    "\n"
   ]
  },
  {
   "cell_type": "code",
   "execution_count": null,
   "metadata": {
    "collapsed": true
   },
   "outputs": [],
   "source": [
    "plot_cache = torch.load('baseline_RNN.pt')['loss_cache']"
   ]
  },
  {
   "cell_type": "code",
   "execution_count": null,
   "metadata": {
    "collapsed": true
   },
   "outputs": [],
   "source": [
    "epochs = np.array(list(range(len(plot_cache))))\n",
    "plt.plot(epochs, [2**(i[0]/np.log(2)) for i in plot_cache], label='Train ppl')\n",
    "plt.plot(epochs, [2**(i[1]/np.log(2)) for i in plot_cache], label='Valid ppl')\n",
    "\n",
    "plt.legend()\n",
    "plt.title('PPL curves of RNN baseline model')\n",
    "plt.show()"
   ]
  },
  {
   "cell_type": "code",
   "execution_count": null,
   "metadata": {
    "collapsed": true
   },
   "outputs": [],
   "source": [
    "perp_rnn = [2**(i[1]/np.log(2)) for i in plot_cache] \n",
    "print('The minimum validation loss occurred at {} and it is {}'.format(perp_rnn.index(min(perp_rnn)),min(perp_rnn)))"
   ]
  },
  {
   "cell_type": "markdown",
   "metadata": {},
   "source": [
    "### II.1 LSTM and Hyper-Parameters"
   ]
  },
  {
   "cell_type": "code",
   "execution_count": 15,
   "metadata": {
    "collapsed": true
   },
   "outputs": [],
   "source": [
    "from torch.nn import LSTM\n",
    "# input_size, hidden_size, num_layers. \n",
    "# Optional: bias = False, dropout = 0 (probability of dropout)\n",
    "# bidirectional = False. \n",
    "rnn = nn.LSTM(10, 20, 2)\n",
    "\n",
    "# input: tensor containing feature of the input sequence \n",
    "# shape: seq_len, batch, input_size\n",
    "input = torch.randn(5,3,10)\n",
    "\n",
    "#h0: tensor contain hidden state for t = seq_len\n",
    "# shape: num_layers * num*directions, batch, hidden_size\n",
    "h0 = torch.randn(2,3,20)\n",
    "\n",
    "#c0: tensor contain cell state for t = seq_length\n",
    "# shape: num_layers * num_directions, batch, hidden_size \n",
    "c0 = torch.randn(2,3,20)\n",
    "\n",
    "# output: shape (seq_len, batch, num_direction * hidden size)\n",
    "output, (hn,cn) = rnn(input, (h0,c0))"
   ]
  },
  {
   "cell_type": "code",
   "execution_count": null,
   "metadata": {
    "collapsed": true
   },
   "outputs": [],
   "source": [
    "# example embedding layer\n",
    "lookup = Embedding(num_embeddings=len(train_dict), embedding_dim=64, padding_idx=train_dict.get_id('<pad>'))\n",
    "lookup.weight.size()\n",
    "# train_dict = vocab size + 3"
   ]
  },
  {
   "cell_type": "code",
   "execution_count": 16,
   "metadata": {
    "collapsed": true
   },
   "outputs": [],
   "source": [
    "# From the baseline, we will stop the epoch around 20 \n",
    "class LSTMModel(nn.Module):\n",
    "    \"\"\"\n",
    "    This model combines embedding, rnn and projection layer into a single model\n",
    "    \"\"\"\n",
    "    def __init__(self, options):\n",
    "        super().__init__()\n",
    "        \n",
    "        # create each LM part here \n",
    "        self.lookup = nn.Embedding(num_embeddings=options['num_embeddings'], embedding_dim=options['embedding_dim'], padding_idx=options['padding_idx'])\n",
    "        self.lstm = nn.LSTM(options['input_size'], options['hidden_size'], options['num_layers'], \n",
    "                            dropout=options['lstm_dropout'], batch_first=True, bias = options['bias'],\n",
    "                           bidirectional = options['bid'])\n",
    "        self.projection = nn.Linear(options['hidden_size'], options['num_embeddings'])\n",
    "        \n",
    "    def forward(self, encoded_input_sequence):\n",
    "        \"\"\"\n",
    "        Forward method process the input from token ids to logits\n",
    "        \"\"\"\n",
    "        embeddings = self.lookup(encoded_input_sequence)\n",
    "        lstm_outputs = self.lstm(embeddings)\n",
    "        # project of outputs \n",
    "        # rnn_outputs: tupple with second element being last hidden state. \n",
    "        logits = self.projection(lstm_outputs[0])\n",
    "        \n",
    "        return logits"
   ]
  },
  {
   "cell_type": "code",
   "execution_count": null,
   "metadata": {
    "collapsed": true
   },
   "outputs": [],
   "source": [
    "load_pretrained = False\n",
    "\n",
    "num_gpus = torch.cuda.device_count()\n",
    "if num_gpus > 0:\n",
    "    current_device = 'cuda'\n",
    "else:\n",
    "    current_device = 'cpu'\n",
    "\n",
    "if load_pretrained:\n",
    "    if not os.path.exists('personachat_rnn_lm.pt'):\n",
    "        raise EOFError('Download pretrained model!')\n",
    "    model_dict = torch.load('personachat_rnn_lm.pt')\n",
    "    \n",
    "    options = model_dict['options']\n",
    "    model = LSTMModel(options).to(current_device)\n",
    "    model.load_state_dict(model_dict['model_dict'])\n",
    "    \n",
    "else:\n",
    "    embedding_size = 64\n",
    "    hidden_size = 128 # output of dimension \n",
    "    num_layers = 2\n",
    "    lstm_dropout = 0.1\n",
    "#     input_size = lookup.weight.size(1)\n",
    "    vocab_size = len(train_dict)\n",
    "    \n",
    "    options = {\n",
    "        'num_embeddings': len(train_dict),\n",
    "        'embedding_dim': embedding_size,\n",
    "        'padding_idx': train_dict.get_id('<pad>'),\n",
    "        'input_size': embedding_size,\n",
    "        'hidden_size': hidden_size,\n",
    "        'num_layers': num_layers,\n",
    "        'lstm_dropout': lstm_dropout,\n",
    "        'bias': True,\n",
    "        'bid': False \n",
    "    }\n",
    "\n",
    "    \n",
    "    model = LSTMModel(options).to(current_device)\n",
    "\n",
    "# same as previous nn based \n",
    "criterion = nn.CrossEntropyLoss(ignore_index=train_dict.get_id('<pad>'))\n",
    "\n",
    "model_parameters = [p for p in model.parameters() if p.requires_grad]\n",
    "optimizer = optim.Adam(model_parameters, lr=0.001)"
   ]
  },
  {
   "cell_type": "code",
   "execution_count": null,
   "metadata": {
    "collapsed": true
   },
   "outputs": [],
   "source": [
    "#model = LSTMModel(options).to(current_device)\n",
    "\n",
    "plot_cache = []\n",
    "min_val_loss = 20 \n",
    "for epoch_number in range(20):\n",
    "    avg_loss=0\n",
    "    if not load_pretrained:\n",
    "        model.train()\n",
    "        train_log_cache = []\n",
    "        for i, (inp, target) in enumerate(loaders['train']):\n",
    "            optimizer.zero_grad()\n",
    "            inp = inp.to(current_device)\n",
    "            target = target.to(current_device)\n",
    "            logits = model(inp) # we are initializing hidden layer to zeros in each batch \n",
    "            \n",
    "            loss = criterion(logits.view(-1, logits.size(-1)), target.view(-1))\n",
    "            \n",
    "            loss.backward()\n",
    "            optimizer.step()\n",
    "            \n",
    "            train_log_cache.append(loss.item())\n",
    "            \n",
    "            if i % 100 == 0:\n",
    "                avg_loss = sum(train_log_cache)/len(train_log_cache)\n",
    "                print('Step {} avg train loss = {:.{prec}f}'.format(i, avg_loss, prec=4))\n",
    "                train_log_cache = []\n",
    "            \n",
    "    #do valid\n",
    "    valid_losses = []\n",
    "    model.eval()\n",
    "    with torch.no_grad():\n",
    "        for i, (inp, target) in enumerate(loaders['valid']):\n",
    "            inp = inp.to(current_device)\n",
    "            target = target.to(current_device)\n",
    "            logits = model(inp)\n",
    "\n",
    "            loss = criterion(logits.view(-1, logits.size(-1)), target.view(-1))\n",
    "            valid_losses.append(loss.item())\n",
    "        avg_val_loss = sum(valid_losses) / len(valid_losses)\n",
    "        print('Validation loss after {} epoch = {:.{prec}f}'.format(epoch_number, avg_val_loss, prec=4))\n",
    "        best = avg_val_loss < min_val_loss\n",
    "        if best:\n",
    "            min_val_loss = avg_val_loss\n",
    "            best_model = model\n",
    "           \n",
    "    plot_cache.append((avg_loss, avg_val_loss))\n",
    "\n",
    "    if load_pretrained:\n",
    "        break\n",
    "        \n",
    "print('Saving best model...')\n",
    "torch.save({\n",
    "'options': options,\n",
    "'loss_cache': plot_cache,\n",
    "'model_dict': best_model.state_dict()\n",
    "        }, './LSTM_baseline.pt')\n",
    "\n"
   ]
  },
  {
   "cell_type": "code",
   "execution_count": null,
   "metadata": {
    "collapsed": true
   },
   "outputs": [],
   "source": [
    "best_model.parameters()"
   ]
  },
  {
   "cell_type": "code",
   "execution_count": null,
   "metadata": {
    "collapsed": true
   },
   "outputs": [],
   "source": [
    "epochs = np.array(list(range(len(plot_cache))))\n",
    "plt.plot(epochs, [2**(i[0]/np.log(2)) for i in plot_cache], label='Train ppl')\n",
    "plt.plot(epochs, [2**(i[1]/np.log(2)) for i in plot_cache], label='Valid ppl')\n",
    "\n",
    "plt.legend()\n",
    "plt.title('PPL curves of LSTM model')\n",
    "plt.show()"
   ]
  },
  {
   "cell_type": "code",
   "execution_count": null,
   "metadata": {
    "collapsed": true
   },
   "outputs": [],
   "source": [
    "perp = [2**(i[1]/np.log(2)) for i in plot_cache] \n",
    "print('The minimum validation loss occurred at {} and it is {}'.format(perp.index(min(perp)),min(perp)))"
   ]
  },
  {
   "cell_type": "markdown",
   "metadata": {},
   "source": [
    "#### Results (LSTM vs. Baseline)"
   ]
  },
  {
   "cell_type": "code",
   "execution_count": null,
   "metadata": {
    "collapsed": true
   },
   "outputs": [],
   "source": [
    "import torch\n",
    "import matplotlib.pyplot as plt\n",
    "import numpy as np"
   ]
  },
  {
   "cell_type": "code",
   "execution_count": null,
   "metadata": {
    "collapsed": true
   },
   "outputs": [],
   "source": [
    "# RNN\n",
    "baseline = torch.load('baseline_RNN.pt')['loss_cache']\n",
    "perp_rnn = [2**(i[1]/np.log(2)) for i in baseline] \n",
    "print('The minimum perplexity of RNN model occurred at {} and it is {}'.format(perp_rnn.index(min(perp_rnn)),min(perp_rnn)))\n",
    "\n",
    "#LSTM\n",
    "lstm_loss = torch.load('finetune_LSTM.pt')['loss_cache']\n",
    "perp_lstm = [2**(i[1]/np.log(2)) for i in lstm_loss] \n",
    "print('The minimum perplexity of LSTM model occurred at {} and it is {}'.format(perp_lstm.index(min(perp_lstm)),min(perp_lstm)))\n"
   ]
  },
  {
   "cell_type": "code",
   "execution_count": null,
   "metadata": {
    "collapsed": true
   },
   "outputs": [],
   "source": [
    "torch.load('finetune_LSTM.pt');"
   ]
  },
  {
   "cell_type": "markdown",
   "metadata": {},
   "source": [
    "#### Performance Variation Based on Hyperparameter Values"
   ]
  },
  {
   "cell_type": "code",
   "execution_count": null,
   "metadata": {
    "collapsed": true
   },
   "outputs": [],
   "source": []
  },
  {
   "cell_type": "markdown",
   "metadata": {},
   "source": [
    "### II.2 Learned Embeddings"
   ]
  },
  {
   "cell_type": "markdown",
   "metadata": {},
   "source": [
    "#### Utilities\n",
    "\n",
    "Below is code to use [UMAP](https://umap-learn.readthedocs.io/en/latest/) to find a 2-dimensional representation of a weight matrix, and plot the resulting 2-dimensional points that correspond to certain words.\n",
    "\n",
    "Use `!pip install umap-learn` to install UMAP."
   ]
  },
  {
   "cell_type": "code",
   "execution_count": 17,
   "metadata": {},
   "outputs": [
    {
     "data": {
      "text/plain": [
       "LSTMModel(\n",
       "  (lookup): Embedding(33178, 300, padding_idx=2)\n",
       "  (lstm): LSTM(300, 300, num_layers=2, batch_first=True, dropout=0.1)\n",
       "  (projection): Linear(in_features=300, out_features=33178, bias=True)\n",
       ")"
      ]
     },
     "execution_count": 17,
     "metadata": {},
     "output_type": "execute_result"
    }
   ],
   "source": [
    "# best parameter: \n",
    "options = {'bias': True,\n",
    "  'bid': False,\n",
    "  'embedding_dim': 300,\n",
    "  'hidden_size': 300,\n",
    "  'input_size': 300,\n",
    "  'lstm_dropout': 0.1,\n",
    "  'num_embeddings': 33178,\n",
    "  'num_layers': 2,\n",
    "  'padding_idx': 2}\n",
    "    \n",
    "model = LSTMModel(options)\n",
    "model.load_state_dict(torch.load('finetune_LSTM.pt')['model_dict'])\n",
    "model.eval()"
   ]
  },
  {
   "cell_type": "code",
   "execution_count": 35,
   "metadata": {
    "collapsed": true
   },
   "outputs": [],
   "source": [
    "# weight_matrix = weight_matrix_proj\n",
    "# word_ids = proj_id_list"
   ]
  },
  {
   "cell_type": "code",
   "execution_count": null,
   "metadata": {
    "collapsed": true
   },
   "outputs": [],
   "source": [
    "import sys\n",
    "!{sys.executable} -m pip  install adjustText"
   ]
  },
  {
   "cell_type": "code",
   "execution_count": 29,
   "metadata": {},
   "outputs": [
    {
     "name": "stdout",
     "output_type": "stream",
     "text": [
      "Populating the interactive namespace from numpy and matplotlib\n"
     ]
    }
   ],
   "source": [
    "%pylab inline \n",
    "import umap\n",
    "import matplotlib.pyplot as plt\n",
    "from adjustText import adjust_text\n",
    "\n",
    "## having some fun time\n",
    "colors = ['red','gold','limegreen','cornflowerblue','mediumpurple',\n",
    "          'darkred','lightcoral',\n",
    "          'darkgoldenrod','wheat',\n",
    "         'darkgreen','lightgreen',\n",
    "          'midnightblue','lightsteelblue',\n",
    "         'indigo','thistle']\n",
    "\n",
    "def umap_plot(weight_matrix, word_ids):\n",
    "    # darker color indicates best, \n",
    "    # light color indicates worst\n",
    "    reduced = umap.UMAP(min_dist=0.0001).fit_transform(weight_matrix.detach().cpu().numpy()) \n",
    "    # transfer tensor back to cpu\n",
    "    plt.figure(figsize=(20,20))\n",
    "    texts = []\n",
    "    for i, iid in enumerate(word_ids): \n",
    "        token = train_dict.get_token(iid)\n",
    "        to_plot = reduced[iid, :]\n",
    "        plt.scatter(to_plot[0], to_plot[1], color = colors[i],marker = '*', s = 350)\n",
    "        texts.append(plt.annotate(token, (to_plot[0], to_plot[1])))\n",
    "        for j, word_list in enumerate([word_ids[iid]['best'],word_ids[iid]['worst']]):\n",
    "            to_plot = reduced[word_list, :]\n",
    "            plt.scatter(to_plot[:, 0], to_plot[:, 1], color = colors[5+i+j])\n",
    "            # now annotate:\n",
    "            for k,w in enumerate(word_list):\n",
    "                current_point = to_plot[k]\n",
    "                texts.append(plt.annotate(train_dict.get_token(w), (current_point[0], current_point[1])))\n",
    "    adjust_text(texts, force_text=0.05, arrowprops=dict(arrowstyle=\"-|>\",\n",
    "                                                    color='r', alpha=0.5))\n",
    "    plt.grid()\n",
    "    plt.show()\n",
    "    adjust_test(texts)"
   ]
  },
  {
   "cell_type": "markdown",
   "metadata": {},
   "source": [
    "#### II.2.1 Word Similarity"
   ]
  },
  {
   "cell_type": "code",
   "execution_count": 20,
   "metadata": {
    "collapsed": true
   },
   "outputs": [],
   "source": [
    "def cos_similarity(weight_matrix, words):\n",
    "#make sure at least appear in the text once \n",
    "    for word in words:\n",
    "        if word not in vocab:\n",
    "            raise NotImplementedError(\"selected token must appeared in the corpus once, please replace {}\".format(word))\n",
    "\n",
    "    # define my cosine similarity. each input is 1 x emb_dim. Therefore evaluate along x'axis returns a scalar \n",
    "    cos = nn.CosineSimilarity(dim = 0, eps = 1e-6)\n",
    "\n",
    "    token_list = defaultdict(lambda: defaultdict(float))\n",
    "    id_list = defaultdict(lambda: defaultdict(float))\n",
    "\n",
    "    for w in words:\n",
    "        wid = train_dict.get_id(w)\n",
    "        temp_list = list()\n",
    "        for i in range(len(weight_matrix)):\n",
    "            if i == wid:\n",
    "                continue\n",
    "            else: \n",
    "                dis = cos(weight_matrix[wid], weight_matrix[i])\n",
    "                temp_list.append(tuple((i, dis.item())))\n",
    "        temp_list = sorted(temp_list, key = lamb#### II.2.2 Embedding Layerda x: x[-1])\n",
    "        id_list[wid]['worst'] = [x[0] for x in temp_list[:10]]\n",
    "        id_list[wid]['best'] = [x[0] for x in temp_list[-10:]]\n",
    "        token_list[w]['worst'] = [tuple((train_dict.get_token(x[0]) , x[1])) for x in temp_list[:10]]\n",
    "        token_list[w]['best'] = [tuple((train_dict.get_token(x[0]) , x[1] )) for x in temp_list[-10:]]\n",
    "    return id_list, token_list"
   ]
  },
  {
   "cell_type": "markdown",
   "metadata": {},
   "source": [
    "#### II.2.2 Embedding Layer"
   ]
  },
  {
   "cell_type": "code",
   "execution_count": 21,
   "metadata": {
    "collapsed": true
   },
   "outputs": [],
   "source": [
    "weight_matrix_lkup = model.lookup.weight\n",
    "input_words = ['productive', 'teenage','south','antelope','smart']\n",
    "# some verbs, and nouns\n",
    "lkup_id_list, lkup_token_list = cos_similarity(weight_matrix_lkup, input_words)"
   ]
  },
  {
   "cell_type": "code",
   "execution_count": 22,
   "metadata": {},
   "outputs": [
    {
     "data": {
      "text/plain": [
       "[('love', 0.19118165969848633),\n",
       " ('Stanisław', 0.19365374743938446),\n",
       " ('Margin', 0.19520533084869385),\n",
       " ('LeSportsac', 0.1973406970500946),\n",
       " ('flocked', 0.19879211485385895),\n",
       " ('1738', 0.19965456426143646),\n",
       " ('Mariah', 0.2014589011669159),\n",
       " ('Giuseppe', 0.20242197811603546),\n",
       " ('disregard', 0.20253124833106995),\n",
       " ('greenish', 0.2212100774049759)]"
      ]
     },
     "execution_count": 22,
     "metadata": {},
     "output_type": "execute_result"
    }
   ],
   "source": [
    "lkup_token_list['productive']['best']"
   ]
  },
  {
   "cell_type": "code",
   "execution_count": 24,
   "metadata": {},
   "outputs": [
    {
     "name": "stderr",
     "output_type": "stream",
     "text": [
      "/home/sl7085/.conda/envs/myenv/lib/python3.6/site-packages/numba/compiler.py:602: NumbaPerformanceWarning: \n",
      "The keyword argument 'parallel=True' was specified but no transformation for parallel execution was possible.\n",
      "\n",
      "To find out why, try turning on parallel diagnostics, see http://numba.pydata.org/numba-doc/latest/user/parallel.html#diagnostics for help.\n",
      "\n",
      "File \"../../.conda/envs/myenv/lib/python3.6/site-packages/umap/rp_tree.py\", line 135:\n",
      "@numba.njit(fastmath=True, nogil=True, parallel=True)\n",
      "def euclidean_random_projection_split(data, indices, rng_state):\n",
      "^\n",
      "\n",
      "  self.func_ir.loc))\n",
      "/home/sl7085/.conda/envs/myenv/lib/python3.6/site-packages/umap/nndescent.py:92: NumbaPerformanceWarning: \n",
      "The keyword argument 'parallel=True' was specified but no transformation for parallel execution was possible.\n",
      "\n",
      "To find out why, try turning on parallel diagnostics, see http://numba.pydata.org/numba-doc/latest/user/parallel.html#diagnostics for help.\n",
      "\n",
      "File \"../../.conda/envs/myenv/lib/python3.6/site-packages/umap/utils.py\", line 409:\n",
      "@numba.njit(parallel=True)\n",
      "def build_candidates(current_graph, n_vertices, n_neighbors, max_candidates, rng_state):\n",
      "^\n",
      "\n",
      "  current_graph, n_vertices, n_neighbors, max_candidates, rng_state\n",
      "/home/sl7085/.conda/envs/myenv/lib/python3.6/site-packages/numba/compiler.py:602: NumbaPerformanceWarning: \n",
      "The keyword argument 'parallel=True' was specified but no transformation for parallel execution was possible.\n",
      "\n",
      "To find out why, try turning on parallel diagnostics, see http://numba.pydata.org/numba-doc/latest/user/parallel.html#diagnostics for help.\n",
      "\n",
      "File \"../../.conda/envs/myenv/lib/python3.6/site-packages/umap/nndescent.py\", line 47:\n",
      "    @numba.njit(parallel=True)\n",
      "    def nn_descent(\n",
      "    ^\n",
      "\n",
      "  self.func_ir.loc))\n"
     ]
    },
    {
     "data": {
      "image/png": "iVBORw0KGgoAAAANSUhEUgAABIAAAAReCAYAAACvnEsFAAAABHNCSVQICAgIfAhkiAAAAAlwSFlz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\n9wdj6sIn+Oz72AAAAABJRU5ErkJggg==\n",
      "text/plain": [
       "<Figure size 1440x1440 with 1 Axes>"
      ]
     },
     "metadata": {},
     "output_type": "display_data"
    }
   ],
   "source": [
    "umap_plot(weight_matrix_lkup, lkup_id_list)"
   ]
  },
  {
   "cell_type": "markdown",
   "metadata": {},
   "source": [
    "#### II.2.3 Projection Layer"
   ]
  },
  {
   "cell_type": "code",
   "execution_count": 25,
   "metadata": {
    "collapsed": true
   },
   "outputs": [],
   "source": [
    "weight_matrix_proj = model.projection.weight\n",
    "words = ['productive', 'teenage','south','antelope','smart']\n",
    "# some verbs, and nouns\n",
    "proj_id_list, proj_token_list = cos_similarity(weight_matrix_proj, input_words)"
   ]
  },
  {
   "cell_type": "code",
   "execution_count": 26,
   "metadata": {},
   "outputs": [
    {
     "data": {
      "text/plain": [
       "[('760', 0.5613622069358826),\n",
       " ('Text', 0.5618151426315308),\n",
       " ('M4', 0.5642557144165039),\n",
       " ('inland', 0.5960940718650818),\n",
       " ('<pad>', 0.5999826192855835),\n",
       " ('<bos>', 0.6068246960639954),\n",
       " ('southeast', 0.6182494759559631),\n",
       " ('northeast', 0.6421924233436584),\n",
       " ('east', 0.7251694202423096),\n",
       " ('north', 0.7630549073219299)]"
      ]
     },
     "execution_count": 26,
     "metadata": {},
     "output_type": "execute_result"
    }
   ],
   "source": [
    "proj_token_list['south']['best']"
   ]
  },
  {
   "cell_type": "code",
   "execution_count": 27,
   "metadata": {},
   "outputs": [
    {
     "data": {
      "text/plain": [
       "[('deliberately', 0.16700315475463867),\n",
       " ('repeatedly', 0.17614781856536865),\n",
       " ('of', 0.18152759969234467),\n",
       " ('triangle', 0.1911519467830658),\n",
       " ('Utah', 0.1929181069135666),\n",
       " ('triggered', 0.20502281188964844),\n",
       " ('Knight', 0.20585858821868896),\n",
       " ('blacks', 0.2063133865594864),\n",
       " ('spun', 0.20835702121257782),\n",
       " ('viewed', 0.2097426950931549)]"
      ]
     },
     "execution_count": 27,
     "metadata": {},
     "output_type": "execute_result"
    }
   ],
   "source": [
    "proj_token_list['south']['worst']"
   ]
  },
  {
   "cell_type": "code",
   "execution_count": 30,
   "metadata": {},
   "outputs": [
    {
     "name": "stderr",
     "output_type": "stream",
     "text": [
      "/home/sl7085/.conda/envs/myenv/lib/python3.6/site-packages/numba/compiler.py:602: NumbaPerformanceWarning: \n",
      "The keyword argument 'parallel=True' was specified but no transformation for parallel execution was possible.\n",
      "\n",
      "To find out why, try turning on parallel diagnostics, see http://numba.pydata.org/numba-doc/latest/user/parallel.html#diagnostics for help.\n",
      "\n",
      "File \"../../.conda/envs/myenv/lib/python3.6/site-packages/umap/nndescent.py\", line 47:\n",
      "    @numba.njit(parallel=True)\n",
      "    def nn_descent(\n",
      "    ^\n",
      "\n",
      "  self.func_ir.loc))\n"
     ]
    },
    {
     "data": {
      "image/png": "iVBORw0KGgoAAAANSUhEUgAABIAAAAReCAYAAACvnEsFAAAABHNCSVQICAgIfAhkiAAAAAlwSFlz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\nRK5CYII=\n",
      "text/plain": [
       "<Figure size 1440x1440 with 1 Axes>"
      ]
     },
     "metadata": {},
     "output_type": "display_data"
    }
   ],
   "source": [
    "umap_plot(weight_matrix_proj, proj_id_list)"
   ]
  },
  {
   "cell_type": "markdown",
   "metadata": {},
   "source": [
    "From the graph we can see that the embedding and projection layer visualizations are significantly different. The embedding layer cannot really differentiate each word, therefore no cluster is really formed as all words are scattered in the graph. However in the projection layer, words are clustered into groups. Taken for an example, we see a group of 'Utah, Bright, Tokyo, Kansas, Aden, and Oregon', which to me are ideally as the model seems to correctly seperates objectives with location names. However, not all best, worst of words selected are interpretable. For a full list of words produced from a list of words we chose from, reference below: "
   ]
  },
  {
   "cell_type": "code",
   "execution_count": null,
   "metadata": {
    "collapsed": true
   },
   "outputs": [],
   "source": [
    "print('Five words we chose are: ', words)\n",
    "print('The words we selected from embedding layers are', whole_words_lkup)\n",
    "print('The words we selected from project layers are', whole_words_proj)"
   ]
  },
  {
   "cell_type": "markdown",
   "metadata": {},
   "source": [
    "### II.3 Scoring"
   ]
  },
  {
   "cell_type": "code",
   "execution_count": null,
   "metadata": {
    "collapsed": true
   },
   "outputs": [],
   "source": []
  },
  {
   "cell_type": "markdown",
   "metadata": {},
   "source": [
    "#### II.3.2 Highest and Lowest scoring sequences"
   ]
  },
  {
   "cell_type": "code",
   "execution_count": null,
   "metadata": {
    "collapsed": true
   },
   "outputs": [],
   "source": []
  },
  {
   "cell_type": "markdown",
   "metadata": {},
   "source": [
    "#### II.3.3 Modified sequences"
   ]
  },
  {
   "cell_type": "code",
   "execution_count": null,
   "metadata": {
    "collapsed": true
   },
   "outputs": [],
   "source": []
  },
  {
   "cell_type": "markdown",
   "metadata": {},
   "source": [
    "### II.4 Sampling"
   ]
  },
  {
   "cell_type": "code",
   "execution_count": null,
   "metadata": {
    "collapsed": true
   },
   "outputs": [],
   "source": [
    "class LSTMModelHidden(nn.Module):\n",
    "    \"\"\"\n",
    "    This model Integrate from the previous LSTM model and has a hidden layer as input\n",
    "    \"\"\"\n",
    "    def __init__(self, options):\n",
    "        super().__init__()\n",
    "        \n",
    "        # create each LM part here \n",
    "        self.lookup = nn.Embedding(num_embeddings=options['num_embeddings'], embedding_dim=options['embedding_dim'], padding_idx=options['padding_idx'])\n",
    "        self.lstm = nn.LSTM(options['input_size'], options['hidden_size'], options['num_layers'], \n",
    "                            dropout=options['lstm_dropout'], batch_first=True, bias = options['bias'],\n",
    "                           bidirectional = options['bid'])\n",
    "        self.projection = nn.Linear(options['hidden_size'], options['num_embeddings'])\n",
    "        \n",
    "    def forward(self, encoded_input_sequence, hidden):\n",
    "        \"\"\"\n",
    "        Forward method process the input from token ids to logits\n",
    "        \"\"\"\n",
    "        embeddings = self.lookup(encoded_input_sequence)\n",
    "        lstm_outputs,hidden = self.lstm(embeddings,hidden)\n",
    "        # project of outputs \n",
    "        # rnn_outputs: tupple with second element being last hidden state. \n",
    "        logits = self.projection(lstm_outputs)\n",
    "        \n",
    "        return logits, hidden"
   ]
  },
  {
   "cell_type": "code",
   "execution_count": null,
   "metadata": {
    "collapsed": true
   },
   "outputs": [],
   "source": [
    "# Load the best model\n",
    "num_gpus = torch.cuda.device_count()\n",
    "if num_gpus > 0:\n",
    "    current_device = 'cuda'\n",
    "else:\n",
    "    current_device = 'cpu'\n",
    "\n",
    "options = {'bias': True,\n",
    "  'bid': False,\n",
    "  'embedding_dim': 300,\n",
    "  'hidden_size': 300,\n",
    "  'input_size': 300,\n",
    "  'lstm_dropout': 0.1,\n",
    "  'num_embeddings': 33178,\n",
    "  'num_layers': 2,\n",
    "  'padding_idx': 2}\n",
    "    \n",
    "model = LSTMModelHidden(options)\n",
    "model.load_state_dict(torch.load('finetune_LSTM.pt')['model_dict'])\n",
    "model.eval()"
   ]
  },
  {
   "cell_type": "code",
   "execution_count": null,
   "metadata": {
    "collapsed": true
   },
   "outputs": [],
   "source": [
    "#from torch.distributions.multinomial import Multinomial\n",
    "\n",
    "def generate_sentence():\n",
    "    # We always begin with <bos> and end at <eos>\n",
    "    begin_id = torch.tensor(train_dict.get_id('<bos>'))\n",
    "    end_id = torch.tensor(train_dict.get_id('<eos>'))\n",
    "\n",
    "    # this is the initialized hidden layer with all zeros\n",
    "    h = torch.zeros(options['num_layers'],1,options['hidden_size'])\n",
    "    c = torch.zeros(options['num_layers'],1,options['hidden_size'])\n",
    "\n",
    "    next_word = begin_id\n",
    "    tokens = list()\n",
    "    tokens.append(next_word)\n",
    "\n",
    "    while next_word != end_id:  # make sure both are type tensor\n",
    "        # Feeding in the hidden states at each state\n",
    "        output, (h,c) = model.forward(next_word.view(1,-1), (h,c)) \n",
    "        \n",
    "        # initialize a softmax function\n",
    "        m = nn.Softmax(dim=-1)\n",
    "        prob = m(output.view(-1))\n",
    "\n",
    "        # use multinomial to predict the next token\n",
    "        next_word = torch.multinomial(prob,1)\n",
    "        \n",
    "        tokens.append(next_word.item())\n",
    "\n",
    "    sentence = train_dict.decode_idx_seq(tokens)\n",
    "    return ' '.join(sentence)"
   ]
  },
  {
   "cell_type": "code",
   "execution_count": null,
   "metadata": {
    "collapsed": true
   },
   "outputs": [],
   "source": [
    "sentences = list()\n",
    "for _ in range(1000):\n",
    "    st = generate_sentence()\n",
    "    sentences.append(st)"
   ]
  },
  {
   "cell_type": "code",
   "execution_count": null,
   "metadata": {
    "collapsed": true
   },
   "outputs": [],
   "source": [
    "item = np.random.randint(1000)\n",
    "sentences[item]"
   ]
  },
  {
   "cell_type": "markdown",
   "metadata": {},
   "source": [
    "#### II.4.3 Compare with sequences from validation datasets"
   ]
  },
  {
   "cell_type": "code",
   "execution_count": null,
   "metadata": {
    "collapsed": true
   },
   "outputs": [],
   "source": [
    "# find the first 1000 sentences from validation samples\n",
    "valid_sentences = []\n",
    "samples = np.arange(len(datasets['valid']))\n",
    "np.random.shuffle(samples)\n",
    "for i in range(1000):\n",
    "    valid_sentences.append('<bos> '+' '.join(datasets['valid'][samples[i]])+' <eos>')"
   ]
  },
  {
   "cell_type": "code",
   "execution_count": null,
   "metadata": {
    "collapsed": true
   },
   "outputs": [],
   "source": [
    "# unique set of validation sample\n",
    "unique_valid = len(set(' '.join(valid_sentences)))\n",
    "print('Number of unique words in the validation sequences is ', unique_valid)\n",
    "unique_generate = len(set(' '.join(sentences)))\n",
    "print('Number of unique words from sampling sequences is ', unique_generate)"
   ]
  },
  {
   "cell_type": "code",
   "execution_count": null,
   "metadata": {
    "collapsed": true
   },
   "outputs": [],
   "source": [
    "print('Avg length of validation sequences is ', sum([len(i) for i in valid_sentences])/len(valid_sentences))\n",
    "print('Avg length of sampling sequences is', sum([len(i) for i in sentences])/len(sentences))"
   ]
  },
  {
   "cell_type": "markdown",
   "metadata": {},
   "source": [
    "From the comparision we can see that for both unique words and average length, validation and sampling sequences are almost similar, although average validation sequence length and number of unique words are lower than sampling sequences overall. "
   ]
  },
  {
   "cell_type": "markdown",
   "metadata": {},
   "source": [
    "#### II.4.4 Example Samples"
   ]
  },
  {
   "cell_type": "code",
   "execution_count": null,
   "metadata": {
    "collapsed": true
   },
   "outputs": [],
   "source": [
    "samples = np.arange(1000)\n",
    "np.random.shuffle(samples)\n",
    "print(sentences[samples[0]])\n",
    "print(sentences[samples[1]])\n",
    "print(sentences[samples[2]])"
   ]
  },
  {
   "cell_type": "markdown",
   "metadata": {},
   "source": [
    "From those samples above, although the property of unique word and sentence length are consistent with human-generated sentences, but I can still tell that there are model generated since they hardly stay on topic, although they seem to be grammatically correct as the position of the word make sense. "
   ]
  }
 ],
 "metadata": {
  "kernelspec": {
   "display_name": "Python 3",
   "language": "python",
   "name": "python3"
  },
  "language_info": {
   "codemirror_mode": {
    "name": "ipython",
    "version": 3
   },
   "file_extension": ".py",
   "mimetype": "text/x-python",
   "name": "python",
   "nbconvert_exporter": "python",
   "pygments_lexer": "ipython3",
   "version": "3.6.2"
  }
 },
 "nbformat": 4,
 "nbformat_minor": 2
}
=======
{"nbformat":4,"nbformat_minor":0,"metadata":{"kernelspec":{"name":"python3","display_name":"Python 3"},"language_info":{"codemirror_mode":{"name":"ipython","version":3},"file_extension":".py","mimetype":"text/x-python","name":"python","nbconvert_exporter":"python","pygments_lexer":"ipython3","version":"3.6.8"},"colab":{"name":"lm_homework.ipynb","provenance":[],"collapsed_sections":[]},"accelerator":"GPU"},"cells":[{"cell_type":"markdown","metadata":{"id":"sgZz1d0gYKxn","colab_type":"text"},"source":["# DS-GA 1011 Homework 2\n","## N-Gram and Neural Language Modeling"]},{"cell_type":"code","metadata":{"id":"BbM1b9SxHavi","colab_type":"code","colab":{"base_uri":"https://localhost:8080/","height":122},"outputId":"fe67aa68-1330-4bb6-b68c-84d1e120c5ad","executionInfo":{"status":"ok","timestamp":1570552394408,"user_tz":240,"elapsed":5338,"user":{"displayName":"Xiao Li","photoUrl":"","userId":"17628369663427228897"}}},"source":["import sys\n","!{sys.executable} -m pip install jsonlines"],"execution_count":3,"outputs":[{"output_type":"stream","text":["Collecting jsonlines\n","  Downloading https://files.pythonhosted.org/packages/4f/9a/ab96291470e305504aa4b7a2e0ec132e930da89eb3ca7a82fbe03167c131/jsonlines-1.2.0-py2.py3-none-any.whl\n","Requirement already satisfied: six in /usr/local/lib/python3.6/dist-packages (from jsonlines) (1.12.0)\n","Installing collected packages: jsonlines\n","Successfully installed jsonlines-1.2.0\n"],"name":"stdout"}]},{"cell_type":"code","metadata":{"id":"oUpYySfTYKxo","colab_type":"code","colab":{}},"source":["import os\n","import json\n","import jsonlines\n","import numpy as np\n","from collections import defaultdict\n","from tqdm import tqdm\n","import numpy as np"],"execution_count":0,"outputs":[]},{"cell_type":"markdown","metadata":{"id":"VpnVCIhVYKxq","colab_type":"text"},"source":["## I. N-Gram Language Modeling"]},{"cell_type":"markdown","metadata":{"id":"igUUQhkFYKxr","colab_type":"text"},"source":["#### Utilities"]},{"cell_type":"code","metadata":{"id":"fDg01M5jYKxs","colab_type":"code","colab":{}},"source":["def load_wikitext(filename='wikitext2-sentencized.json'):\n","    if not os.path.exists(filename):\n","        !wget \"https://nyu.box.com/shared/static/9kb7l7ci30hb6uahhbssjlq0kctr5ii4.json\" -O $filename\n","    \n","    datasets = json.load(open(filename, 'r'))\n","    for name in datasets:\n","        datasets[name] = [x.split() for x in datasets[name]]\n","    vocab = list(set([t for ts in datasets['train'] for t in ts]))      \n","    print(\"Vocab size: %d\" % (len(vocab)))\n","    return datasets, vocab\n","\n","def perplexity(model, sequences):\n","    n_total = 0\n","    logp_total = 0\n","    for sequence in sequences:\n","        logp_total += model.sequence_logp(sequence)\n","        n_total += len(sequence) + 1  \n","    ppl = 2 ** (- (1.0 / n_total) * logp_total)  \n","    return ppl"],"execution_count":0,"outputs":[]},{"cell_type":"markdown","metadata":{"id":"Hf9t1dDuYKxu","colab_type":"text"},"source":["### Additive Smoothing"]},{"cell_type":"code","metadata":{"id":"dns7tEEjYKxv","colab_type":"code","colab":{}},"source":["class NGramAdditive(object):\n","    def __init__(self, n, delta, vsize):\n","        self.n = n\n","        self.delta = delta\n","        self.count = defaultdict(lambda: defaultdict(float))\n","        self.total = defaultdict(float)\n","        self.vsize = vsize\n","    \n","    def estimate(self, sequences):\n","        for sequence in sequences:\n","            padded_sequence = ['<bos>']*(self.n-1) + sequence + ['<eos>']\n","            for i in range(len(padded_sequence) - self.n+1):\n","                ngram = tuple(padded_sequence[i:i+self.n])\n","                prefix, word = ngram[:-1], ngram[-1]\n","                self.count[prefix][word] += 1\n","                self.total[prefix] += 1\n","                \n","    def sequence_logp(self, sequence):\n","        padded_sequence = ['<bos>']*(self.n-1) + sequence + ['<eos>']\n","        total_logp = 0\n","        for i in range(len(padded_sequence) - self.n+1):\n","            ngram = tuple(padded_sequence[i:i+self.n])\n","            total_logp += np.log2(self.ngram_prob(ngram))\n","        return total_logp\n","\n","    def ngram_prob(self, ngram):\n","        prefix = ngram[:-1]\n","        word = ngram[-1]\n","        prob = ((self.delta + self.count[prefix][word]) / \n","                (self.total[prefix] + self.delta*self.vsize))\n","        return prob"],"execution_count":0,"outputs":[]},{"cell_type":"code","metadata":{"id":"NNx_IrG5YKxx","colab_type":"code","colab":{"base_uri":"https://localhost:8080/","height":581},"outputId":"9a4859c4-95ca-484f-f5d9-c5c9493d34c2","executionInfo":{"status":"ok","timestamp":1570552445493,"user_tz":240,"elapsed":39366,"user":{"displayName":"Xiao Li","photoUrl":"","userId":"17628369663427228897"}}},"source":["datasets, vocab = load_wikitext()\n","\n","delta = 0.0005\n","for n in [2, 3, 4]:\n","    lm = NGramAdditive(n=n, delta=delta, vsize=len(vocab)+1)  # +1 is for <eos>\n","    lm.estimate(datasets['train'])\n","\n","    print(\"Baseline (Additive smoothing, n=%d, delta=%.4f)) Train Perplexity: %.3f\" % (n, delta, perplexity(lm, datasets['train'])))\n","    print(\"Baseline (Additive smoothing, n=%d, delta=%.4f)) Valid Perplexity: %.3f\" % (n, delta, perplexity(lm, datasets['valid'])))"],"execution_count":7,"outputs":[{"output_type":"stream","text":["--2019-10-08 16:33:27--  https://nyu.box.com/shared/static/9kb7l7ci30hb6uahhbssjlq0kctr5ii4.json\n","Resolving nyu.box.com (nyu.box.com)... 185.235.236.197\n","Connecting to nyu.box.com (nyu.box.com)|185.235.236.197|:443... connected.\n","HTTP request sent, awaiting response... 301 Moved Permanently\n","Location: /public/static/9kb7l7ci30hb6uahhbssjlq0kctr5ii4.json [following]\n","--2019-10-08 16:33:27--  https://nyu.box.com/public/static/9kb7l7ci30hb6uahhbssjlq0kctr5ii4.json\n","Reusing existing connection to nyu.box.com:443.\n","HTTP request sent, awaiting response... 301 Moved Permanently\n","Location: https://nyu.app.box.com/public/static/9kb7l7ci30hb6uahhbssjlq0kctr5ii4.json [following]\n","--2019-10-08 16:33:27--  https://nyu.app.box.com/public/static/9kb7l7ci30hb6uahhbssjlq0kctr5ii4.json\n","Resolving nyu.app.box.com (nyu.app.box.com)... 185.235.236.199\n","Connecting to nyu.app.box.com (nyu.app.box.com)|185.235.236.199|:443... connected.\n","HTTP request sent, awaiting response... 302 Found\n","Location: https://public.boxcloud.com/d/1/b1!kssI4EYI3njo_nLvtqXX6fKwPRCFXoD4Re3_b3VbPTrP6AAwgqSUnqZe5vK509bhtoWmyOHiuUzqT5LjzZ56HUUAN1W77CuYKFcL0VY1pXJuYs5rQoNtCy85rgk637w54yhptYSNsaJq7clcdobFTn1ffG68wqC35bmo6ktrKZyBtcc_Sit-ZQbJpL6yEr30VjZe4ZHFH2C_MN0wKQD_5QYhhec2CkBhoJgsJNA9kH-8uNicYIzMlai4pf5HAWIAxsui2AfhFFFpxyF8oRLr9u94T-eC6ot5ebxSfpd5LKAKAPRs8z4B0p3NAFfzmK34_ZKOVus79vsKcvgN-lz6II9W0I23amHM8FcaHO9_INGBXNHRgtGWyddn-dJ-Gvpu3do2rCp8Ahoq6UnqpGbfEut6mvWr2QL4kNrA3tO5LVWqx4MLHZzqMjcp4P-J_qblko9pD3SCYrrE6u7swnU2Unf1N281kmh5MG7Rl9AlMerG-BZJcxBMjto-kdCmytqc_Jkj-zlwMRVmlCbPlJL9CFh7h8IT29QnVy1ObDYNPR5JG-QlfydWRN7tKkVN4DVKB3Ep7ZjPolT9zQzMevXMKcBMwxrkSs4_M7Dm0wHNNCu82vl8YtdyyK2Oz8JTYb6ekW5NQUX0Ey8z--cR_DpQ_9WUS9EY8vGjwVRoN7xqlkYIMX0gOALxr3PsERrziwFaOhD0c7GzjHf0MMfSAmlfucBaL6zLHT2YOXv5Idp01OPBF7sfhjZ402HP_ysXyMrJPok5ZCDAluaSj7RId2wws9SUOVm9K4IQu15501ecFuBiVziwWAUkpbMbjWdTkQXh-Ag_m7vexgxlELIzMm1jnIbYyGI0p4SZfzPMk_GGWDftsofK0Wssld5jmYb-8KnvL8bOc2wC5pEQzAjGeBFIj_VT_sj2Wz-cZJ0CAUmiBlcobO08GkiLKj-6DzZObXCjolCypIAYbQyjaG0krrZyfENpCxzrN7ypbNHlXVGwl1eW5tZOTTuNI4ih3uBdzTnPb6zUierjhzj8HuSStWOsKDc_RSfIdyfx7FO-5KkymgiRX7U1dXGZQKq13L9GfYe4HMXGGk4hRn__Y3XfTRQ1iIGoY4eMSLbvFGUZnlew2eh1bzfNluDFHJ07DWsqZDS-wzYkaMiLxRhSQXvEDLCmz1IBY2z-sQflMS91uMW0qql3gubH2PvLhIyV9ZLq5xWmQUqM3Li19g5KBEFIgCI8S32L-brnkwnuIyEE6qcSDswYvnxEr1Yyl07XnH7_WKwAM9DGKWQUOPIDetFaH8LEFIzicQnvBfxJ5LsWThcQsEN7--oA2_lHDf6vxvMN-Uaf_Eh52bsXdMZ02rLiG3FXeiwxg28TYRs9GdoXL5rUjAD5Nsi2Cbk6OQt590-iUJs2Vy1JnVeBm9QPdOs./download [following]\n","--2019-10-08 16:33:28--  https://public.boxcloud.com/d/1/b1!kssI4EYI3njo_nLvtqXX6fKwPRCFXoD4Re3_b3VbPTrP6AAwgqSUnqZe5vK509bhtoWmyOHiuUzqT5LjzZ56HUUAN1W77CuYKFcL0VY1pXJuYs5rQoNtCy85rgk637w54yhptYSNsaJq7clcdobFTn1ffG68wqC35bmo6ktrKZyBtcc_Sit-ZQbJpL6yEr30VjZe4ZHFH2C_MN0wKQD_5QYhhec2CkBhoJgsJNA9kH-8uNicYIzMlai4pf5HAWIAxsui2AfhFFFpxyF8oRLr9u94T-eC6ot5ebxSfpd5LKAKAPRs8z4B0p3NAFfzmK34_ZKOVus79vsKcvgN-lz6II9W0I23amHM8FcaHO9_INGBXNHRgtGWyddn-dJ-Gvpu3do2rCp8Ahoq6UnqpGbfEut6mvWr2QL4kNrA3tO5LVWqx4MLHZzqMjcp4P-J_qblko9pD3SCYrrE6u7swnU2Unf1N281kmh5MG7Rl9AlMerG-BZJcxBMjto-kdCmytqc_Jkj-zlwMRVmlCbPlJL9CFh7h8IT29QnVy1ObDYNPR5JG-QlfydWRN7tKkVN4DVKB3Ep7ZjPolT9zQzMevXMKcBMwxrkSs4_M7Dm0wHNNCu82vl8YtdyyK2Oz8JTYb6ekW5NQUX0Ey8z--cR_DpQ_9WUS9EY8vGjwVRoN7xqlkYIMX0gOALxr3PsERrziwFaOhD0c7GzjHf0MMfSAmlfucBaL6zLHT2YOXv5Idp01OPBF7sfhjZ402HP_ysXyMrJPok5ZCDAluaSj7RId2wws9SUOVm9K4IQu15501ecFuBiVziwWAUkpbMbjWdTkQXh-Ag_m7vexgxlELIzMm1jnIbYyGI0p4SZfzPMk_GGWDftsofK0Wssld5jmYb-8KnvL8bOc2wC5pEQzAjGeBFIj_VT_sj2Wz-cZJ0CAUmiBlcobO08GkiLKj-6DzZObXCjolCypIAYbQyjaG0krrZyfENpCxzrN7ypbNHlXVGwl1eW5tZOTTuNI4ih3uBdzTnPb6zUierjhzj8HuSStWOsKDc_RSfIdyfx7FO-5KkymgiRX7U1dXGZQKq13L9GfYe4HMXGGk4hRn__Y3XfTRQ1iIGoY4eMSLbvFGUZnlew2eh1bzfNluDFHJ07DWsqZDS-wzYkaMiLxRhSQXvEDLCmz1IBY2z-sQflMS91uMW0qql3gubH2PvLhIyV9ZLq5xWmQUqM3Li19g5KBEFIgCI8S32L-brnkwnuIyEE6qcSDswYvnxEr1Yyl07XnH7_WKwAM9DGKWQUOPIDetFaH8LEFIzicQnvBfxJ5LsWThcQsEN7--oA2_lHDf6vxvMN-Uaf_Eh52bsXdMZ02rLiG3FXeiwxg28TYRs9GdoXL5rUjAD5Nsi2Cbk6OQt590-iUJs2Vy1JnVeBm9QPdOs./download\n","Resolving public.boxcloud.com (public.boxcloud.com)... 185.235.236.200\n","Connecting to public.boxcloud.com (public.boxcloud.com)|185.235.236.200|:443... connected.\n","HTTP request sent, awaiting response... 200 OK\n","Length: 12714601 (12M) [application/octet-stream]\n","Saving to: ‘wikitext2-sentencized.json’\n","\n","wikitext2-sentenciz 100%[===================>]  12.12M  8.05MB/s    in 1.5s    \n","\n","2019-10-08 16:33:30 (8.05 MB/s) - ‘wikitext2-sentencized.json’ saved [12714601/12714601]\n","\n","Vocab size: 33175\n","Baseline (Additive smoothing, n=2, delta=0.0005)) Train Perplexity: 90.228\n","Baseline (Additive smoothing, n=2, delta=0.0005)) Valid Perplexity: 525.825\n","Baseline (Additive smoothing, n=3, delta=0.0005)) Train Perplexity: 26.768\n","Baseline (Additive smoothing, n=3, delta=0.0005)) Valid Perplexity: 2577.128\n","Baseline (Additive smoothing, n=4, delta=0.0005)) Train Perplexity: 19.947\n","Baseline (Additive smoothing, n=4, delta=0.0005)) Valid Perplexity: 9570.901\n"],"name":"stdout"}]},{"cell_type":"markdown","metadata":{"id":"9enysqSzYKx0","colab_type":"text"},"source":["### I.1 Interpolation"]},{"cell_type":"code","metadata":{"id":"bn6s2MMgYKx1","colab_type":"code","colab":{}},"source":["class NGramInterpolation(object):\n","    def __init__(self, n, lamb_list, vsize):\n","        # lamb_list should be a list containing all lambda values for interpolation\n","        self.n = n\n","        self.count = defaultdict(lambda: defaultdict(float))\n","        self.total = defaultdict(float)\n","        self.vsize = vsize\n","        self.word_count = defaultdict(float) # Count of every word\n","        self.length = 0 # The total length of the dataset\n","        \n","        # Check if lambda fulfill our conditions\n","        if len(lamb_list) != n + 1:\n","            raise ValueError(\"Lambda list must have length n + 1\")\n","        elif np.abs(np.sum(lamb_list) - 1) > 0.00001:\n","            raise ValueError(\"Sum of lambdas must be 1\")\n","        self.lamb_list = lamb_list\n","\n","    def estimate(self, sequences):\n","        for sequence in sequences:\n","            for w in sequence:\n","                self.word_count[w] += 1\n","                self.length += 1\n","            for current_n in range(2, self.n + 1):\n","                padded_sequence = ['<bos>']*(current_n-1) + sequence + ['<eos>']\n","                for i in range(len(padded_sequence) - current_n+1):\n","                    ngram = tuple(padded_sequence[i:i+current_n])\n","                    prefix, word = ngram[:-1], ngram[-1]\n","                    self.count[prefix][word] += 1\n","                    self.total[prefix] += 1\n","\n","    def sequence_logp(self, sequence):\n","        padded_sequence = ['<bos>']*(self.n-1) + sequence + ['<eos>']\n","        total_logp = 0\n","        for i in range(len(padded_sequence) - self.n+1):\n","            ngram = tuple(padded_sequence[i:i+self.n])\n","            total_logp += np.log2(self.ngram_prob(lamb_list[-1], ngram, self.n))\n","        return total_logp\n","    \n","    def ngram_prob(self, lamb, ngram, order):\n","        \"\"\"\n","        lamb: a single value from the lambda list\n","        order: means which index of lambda we are talking about, max and initial\n","            order should be n\n","        \"\"\"\n","        \n","        if order > n:\n","            raise ValueError(\"Order can't exceed n\")\n","        elif order == 0:\n","            return lamb * (1 / self.vsize) # Since p_0 = 1 / |vocab|\n","        elif order >= 1:\n","            prefix = ngram[:-1]\n","            word = ngram[-1]\n","            if prefix: # Check if prefix is empty\n","                if self.total[prefix] == 0:\n","                    prob = 0\n","                else:\n","                    prob = self.count[prefix][word] / self.total[prefix]\n","            else: # If prefix is empty, we are in lambda_1\n","                prob = self.word_count[word] / self.length\n","            \n","            return lamb * prob + self.ngram_prob(self.lamb_list[order], \n","                                                 ngram[1:], order - 1)\n","            "],"execution_count":0,"outputs":[]},{"cell_type":"code","metadata":{"id":"VC0aMK3JiBUY","colab_type":"code","colab":{"base_uri":"https://localhost:8080/","height":119},"outputId":"a7369764-b906-47ff-a5d7-6453df3e7d22","executionInfo":{"status":"ok","timestamp":1569875414776,"user_tz":240,"elapsed":81525,"user":{"displayName":"Xiao Li","photoUrl":"","userId":"17628369663427228897"}}},"source":["for n in [2, 3, 4]:\n","    if n == 2:\n","        lamb_list = [0.2, 0.4, 0.4]\n","    elif n == 3:\n","        lamb_list = [0.2, 0.2, 0.3, 0.3]\n","    else:\n","        lamb_list = [0.1, 0.1, 0.2, 0.2, 0.4]\n","    interp = NGramInterpolation(n=n, lamb_list = lamb_list, vsize=len(vocab)+1)  # +1 is for <eos>\n","    interp.estimate(datasets['train'])\n","\n","    print(f\"Interpolation model, n = {n}, lambda = {lamb_list}, Train Perplexity = {perplexity(interp, datasets['train'])}\")\n","    print(f\"Interpolation model, n = {n}, lambda = {lamb_list}, Validation Perplexity = {perplexity(interp, datasets['valid'])}\")"],"execution_count":48,"outputs":[{"output_type":"stream","text":["Interpolation model, n = 2, lambda = [0.2, 0.4, 0.4], Train Perplexity = 149.14058601187182\n","Interpolation model, n = 2, lambda = [0.2, 0.4, 0.4], Validation Perplexity = 330.56932143293216\n","Interpolation model, n = 3, lambda = [0.2, 0.2, 0.3, 0.3], Train Perplexity = 19.476557684727467\n","Interpolation model, n = 3, lambda = [0.2, 0.2, 0.3, 0.3], Validation Perplexity = 283.3942638303449\n","Interpolation model, n = 4, lambda = [0.1, 0.1, 0.2, 0.2, 0.4], Train Perplexity = 3.71422334002876\n","Interpolation model, n = 4, lambda = [0.1, 0.1, 0.2, 0.2, 0.4], Validation Perplexity = 310.2176484896974\n"],"name":"stdout"}]},{"cell_type":"markdown","metadata":{"id":"CKanZw6bYKx3","colab_type":"text"},"source":["#### Results (showing $\\lambda_0,\\ldots,\\lambda_n$ values):"]},{"cell_type":"code","metadata":{"id":"fFg5I5d9YKx4","colab_type":"code","colab":{"base_uri":"https://localhost:8080/","height":119},"outputId":"719b86bf-5ba3-4103-9d00-ea0cf4d992e6","executionInfo":{"status":"ok","timestamp":1570552550059,"user_tz":240,"elapsed":67598,"user":{"displayName":"Xiao Li","photoUrl":"","userId":"17628369663427228897"}}},"source":["for n in [2, 3, 4]:\n","    if n == 2:\n","        lamb_list = [0.2, 0.4, 0.4]\n","    elif n == 3:\n","        lamb_list = [0.2, 0.2, 0.3, 0.3]\n","    else:\n","        lamb_list = [0.05, 0.15, 0.2, 0.3, 0.3]\n","    interp = NGramInterpolation(n=n, lamb_list = lamb_list, vsize=len(vocab)+1)  # +1 is for <eos>\n","    interp.estimate(datasets['train'])\n","\n","    print(f\"Interpolation model, n = {n}, lambda = {lamb_list}, Train Perplexity = {perplexity(interp, datasets['train'])}\")\n","    print(f\"Interpolation model, n = {n}, lambda = {lamb_list}, Validation Perplexity = {perplexity(interp, datasets['valid'])}\")"],"execution_count":9,"outputs":[{"output_type":"stream","text":["Interpolation model, n = 2, lambda = [0.2, 0.4, 0.4], Train Perplexity = 149.14058601187182\n","Interpolation model, n = 2, lambda = [0.2, 0.4, 0.4], Validation Perplexity = 330.56932143293216\n","Interpolation model, n = 3, lambda = [0.2, 0.2, 0.3, 0.3], Train Perplexity = 19.476557684727467\n","Interpolation model, n = 3, lambda = [0.2, 0.2, 0.3, 0.3], Validation Perplexity = 283.3942638303449\n","Interpolation model, n = 4, lambda = [0.05, 0.15, 0.2, 0.3, 0.3], Train Perplexity = 4.706373565940121\n","Interpolation model, n = 4, lambda = [0.05, 0.15, 0.2, 0.3, 0.3], Validation Perplexity = 281.6049590165684\n"],"name":"stdout"}]},{"cell_type":"markdown","metadata":{"id":"ru0GZ9GkJ8me","colab_type":"text"},"source":["### I.3. Kneser-Ney Smoothing"]},{"cell_type":"code","metadata":{"id":"Q9qnBis4J95a","colab_type":"code","colab":{}},"source":["import pickle\n","from google.colab import files\n","\n","class KN_Smoothing(object):\n","    def __init__(self, n, vsize):\n","        self.n = n\n","        self.vsize = vsize\n","        self.count = defaultdict(lambda: defaultdict(float))\n","        self.total = defaultdict(float)\n","        self.word_count = defaultdict(float) # Count of every word\n","        self.length = 0 # The total length of the dataset\n","        self.discounting_dict = defaultdict(lambda: defaultdict(float))\n","        # N_l dict has N1,N2,N3+ values for every possible prefix\n","        self.N_l = defaultdict(list)\n","\n","    def estimate(self, sequences):\n","        for which_gram in range(2, self.n + 1):\n","            n_dict = defaultdict(list)\n","            count = 0\n","            for sequence in sequences:\n","                for w in sequence:\n","                    self.word_count[w] += 1\n","                    self.length += 1\n","                padded_sequence = ['<bos>']*(which_gram-1) + sequence + ['<eos>']\n","                for i in range(len(padded_sequence) - which_gram+1):\n","                    ngram = tuple(padded_sequence[i:i+which_gram])\n","                    prefix, word = ngram[:-1], ngram[-1]\n","                    self.count[prefix][word] += 1\n","                    self.total[prefix] += 1\n","                    # Find n_k which is the number of ngram that happens exactly\n","                    # k times, we only consder k = 1, 2, and 3+\n","                    found = False\n","                    for j in reversed(range(1, 5)):\n","                        if ngram in n_dict[j]:\n","                            n_dict[j].remove(ngram)\n","                            n_dict[j+1].append(ngram)\n","                            found = True\n","                            break\n","                    if found == False and ngram not in n_dict[5]:\n","                        n_dict[1].append(ngram)\n","                count += 1\n","                if count % 10000 == 0:\n","                    print(f\"{count} sequence process finished for {which_gram}-gram\")\n","            n_list = []\n","            for i in range(1, 4 + 1):\n","                n_list.append(len(set(n_dict[i]))) # Count to find n_k\n","            # Calculating Y\n","            Y = n_list[0] / (n_list[0] + 2 * n_list[1])\n","            # Calculating discouting factors for this level of gram\n","            D_list = [0]\n","            for i in range(1, 4):\n","                D_i = i - (i+1) * Y * n_list[i] / n_list[i - 1]\n","                if D_i < 0:\n","                    print(D_i)\n","                D_list.append(D_i)\n","            self.discounting_dict[which_gram] = D_list\n","            print(\"Save discounting dict\")\n","            with open('discouting_d.pickle', 'wb') as handle:\n","                saved_dd = self.discounting_dict.copy()\n","                pickle.dump(dict(saved_dd), handle, protocol=pickle.HIGHEST_PROTOCOL)\n","            files.download(\"discouting_d.pickle\")\n","\n","            print(f\"discouting factors for {which_gram}-gram calculated\")\n","                    \n","        # Now we use self.count to derive self.N_l\n","        for prefix in self.total:\n","            N_1, N_2, N_3 = 0, 0, 0\n","            for word in self.count[prefix]:\n","                if self.count[prefix][word] == 1:\n","                    N_1 += 1\n","                elif self.count[prefix][word] == 2:\n","                    N_2 += 1\n","                else:\n","                    N_3 += 1\n","            self.N_l[prefix] = [N_1, N_2, N_3]\n","        print(\"Save N_l dict\")\n","        with open('N_l.pickle', 'wb') as handle:\n","            pickle.dump(self.N_l, handle, protocol=pickle.HIGHEST_PROTOCOL)\n","        files.download(\"N_l.pickle\")\n","        print(\"Training finished\")\n","\n","    def sequence_logp(self, sequence):\n","        padded_sequence = ['<bos>']*(self.n-1) + sequence + ['<eos>']\n","        total_logp = 0\n","        for i in range(len(padded_sequence) - self.n+1):\n","            ngram = tuple(padded_sequence[i:i+self.n])\n","            result = self.ngram_prob(ngram, self.n)\n","            total_logp += np.log2(self.ngram_prob(ngram, self.n))\n","        return total_logp\n","    \n","    def alpha(self, prefix, word, order):\n","        if prefix not in self.N_l:\n","            return 1 / self.vsize\n","        else:\n","            if len(prefix) == 0:\n","                count = self.word_count[word]\n","                if count >= 3:\n","                    D_index = 3\n","                else:\n","                    D_index = int(count)\n","                return np.max(count - self.discounting_dict[order][D_index], 0) / self.length\n","            else:\n","                count = self.count[prefix][word]\n","                if count >= 3:\n","                    D_index = 3\n","                else:\n","                    D_index = int(count)\n","                return np.max(count - self.discounting_dict[order][D_index], 0) / self.total[prefix]\n","    \n","    def gamma(self, prefix, word, order):\n","        if prefix not in self.N_l:\n","            return 1 / self.vsize\n","        else:\n","            numerator = 0\n","            for i in range(1, 4):\n","                numerator += self.discounting_dict[order][i] * self.N_l[prefix][i - 1]\n","            return numerator / self.total[prefix]\n","            \n","    \n","    def ngram_prob(self, ngram, order):\n","        \"\"\"\n","        ngram: the n gram we are considering\n","        order: means which gram we are doing, e.g., bi-gram, tri-gram...\n","        \"\"\"\n","\n","        if order == 1:\n","            prefix = ngram[:-1]\n","            word = ngram[-1]\n","            return self.alpha(prefix, word, order) + 1 / self.vsize\n","        else:\n","            prefix = ngram[:-1]\n","            word = ngram[-1]\n","            return self.alpha(prefix, word, order) + self.gamma(prefix, word, order) * self.ngram_prob(ngram[1:], order - 1)\n","            "],"execution_count":0,"outputs":[]},{"cell_type":"code","metadata":{"id":"XNptFmvCneuM","colab_type":"code","colab":{"base_uri":"https://localhost:8080/","height":68},"outputId":"1169ac35-2bbd-46a8-ee23-6abdd9d68f24"},"source":["for n in [2, 3, 4]:\n","\n","    kn_smooth = KN_Smoothing(n = n, vsize=len(vocab)+1)\n","    kn_smooth.estimate(datasets['train'])\n","\n","    print(f\"Kneser-Ney smoothing model, n = {n}, Train Perplexity = {perplexity(kn_smooth, datasets['train'])}\")\n","    print(f\"Kneser-Ney smoothing model, n = {n}, Validation Perplexity = {perplexity(kn_smooth, datasets['valid'])}\")"],"execution_count":0,"outputs":[{"output_type":"stream","text":["10000 sequence process finished for 2-gram\n","20000 sequence process finished for 2-gram\n","30000 sequence process finished for 2-gram\n"],"name":"stdout"}]},{"cell_type":"code","metadata":{"id":"a2i3Nz4INif2","colab_type":"code","colab":{"base_uri":"https://localhost:8080/","height":34},"outputId":"c05d82bd-c895-47ae-db8a-3c042ae30dd9","executionInfo":{"status":"ok","timestamp":1570485239011,"user_tz":240,"elapsed":1064,"user":{"displayName":"Xiao Li","photoUrl":"","userId":"17628369663427228897"}}},"source":["np.log2((1 / (len(vocab)+1)) ** 32)"],"execution_count":169,"outputs":[{"output_type":"execute_result","data":{"text/plain":["-480.5712746209908"]},"metadata":{"tags":[]},"execution_count":169}]},{"cell_type":"markdown","metadata":{"id":"tM9cl4s5YKx6","colab_type":"text"},"source":["## II. Neural Language Modeling with a Recurrent Neural Network"]},{"cell_type":"code","metadata":{"id":"UBVcVIZLYKx7","colab_type":"code","colab":{}},"source":["import torch\n","import torch.nn as nn"],"execution_count":0,"outputs":[]},{"cell_type":"markdown","metadata":{"id":"6LUz5-TSYKx9","colab_type":"text"},"source":["#### Utilities\n","\n","(Hint: you can adopt the `Dictionary`, dataset loading, and training code from the lab for use here)"]},{"cell_type":"code","metadata":{"id":"mDCByCSKYKx9","colab_type":"code","colab":{}},"source":[""],"execution_count":0,"outputs":[]},{"cell_type":"markdown","metadata":{"id":"vhjKFn8iYKyB","colab_type":"text"},"source":["### II.1 LSTM and Hyper-Parameters"]},{"cell_type":"code","metadata":{"id":"L19_F7ibYKyC","colab_type":"code","colab":{}},"source":[""],"execution_count":0,"outputs":[]},{"cell_type":"markdown","metadata":{"id":"crDwk505YKyD","colab_type":"text"},"source":["#### Results (LSTM vs. Baseline)"]},{"cell_type":"code","metadata":{"id":"irhwrFc5YKyE","colab_type":"code","colab":{}},"source":[""],"execution_count":0,"outputs":[]},{"cell_type":"markdown","metadata":{"id":"wLkRk9p4YKyG","colab_type":"text"},"source":["#### Performance Variation Based on Hyperparameter Values"]},{"cell_type":"code","metadata":{"id":"pmG6gceQYKyG","colab_type":"code","colab":{}},"source":[""],"execution_count":0,"outputs":[]},{"cell_type":"markdown","metadata":{"id":"qoZhUcWIYKyJ","colab_type":"text"},"source":["### II.2 Learned Embeddings"]},{"cell_type":"markdown","metadata":{"id":"zhdqpkWEYKyJ","colab_type":"text"},"source":["#### Utilities\n","\n","Below is code to use [UMAP](https://umap-learn.readthedocs.io/en/latest/) to find a 2-dimensional representation of a weight matrix, and plot the resulting 2-dimensional points that correspond to certain words.\n","\n","Use `!pip install umap-learn` to install UMAP."]},{"cell_type":"code","metadata":{"id":"nUTbfJJpYKyK","colab_type":"code","colab":{},"outputId":"8468d5dd-6116-4bdb-d7fa-71c9f31902c9"},"source":["%pylab inline \n","import umap\n","import matplotlib.pyplot as plt\n","\n","def umap_plot(weight_matrix, word_ids, words):\n","    \"\"\"Run UMAP on the entire Vxd `weight_matrix` (e.g. model.lookup.weight or model.projection.weight),\n","    And plot the points corresponding to the given `word_ids`. \"\"\"\n","    reduced = umap.UMAP(min_dist=0.0001).fit_transform(weight_matrix.detach().cpu().numpy())\n","    plt.figure(figsize=(20,20))\n","\n","    to_plot = reduced[word_ids, :]\n","    plt.scatter(to_plot[:, 0], to_plot[:, 1])\n","    for i, word_id in enumerate(word_ids):\n","        current_point = to_plot[i]\n","        plt.annotate(words[i], (current_point[0], current_point[1]))\n","\n","    plt.grid()\n","    plt.show()"],"execution_count":0,"outputs":[{"output_type":"stream","text":["Populating the interactive namespace from numpy and matplotlib\n"],"name":"stdout"}]},{"cell_type":"code","metadata":{"id":"9TUSyD5jYKyM","colab_type":"code","colab":{},"outputId":"511f9fb8-63ac-4fea-b122-b94e1e418287"},"source":["Vsize = 100                                 # e.g. len(dictionary)\n","d = 32                                      # e.g. model.lookup.weight.size(1) \n","fake_weight_matrix = torch.randn(Vsize, d)  # e.g. model.lookup.weight\n","\n","words = ['the', 'dog', 'ran']\n","word_ids = [4, 54, 20]                  # e.g. use dictionary.get_id on a list of words\n","\n","umap_plot(fake_weight_matrix, word_ids, words)"],"execution_count":0,"outputs":[{"output_type":"display_data","data":{"image/png":"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\n","text/plain":["<Figure size 1440x1440 with 1 Axes>"]},"metadata":{"tags":[],"needs_background":"light"}}]},{"cell_type":"markdown","metadata":{"id":"flD8nPbMYKyO","colab_type":"text"},"source":["#### II.2.1 Word Similarity"]},{"cell_type":"code","metadata":{"id":"1-W_mKt_YKyP","colab_type":"code","colab":{}},"source":[""],"execution_count":0,"outputs":[]},{"cell_type":"markdown","metadata":{"id":"YyVE3m1vYKyR","colab_type":"text"},"source":["#### II.2.2 Embedding Layer"]},{"cell_type":"code","metadata":{"id":"JNvovKiYYKyS","colab_type":"code","colab":{}},"source":[""],"execution_count":0,"outputs":[]},{"cell_type":"markdown","metadata":{"id":"XDbOskHAYKyV","colab_type":"text"},"source":["#### II.2.3 Projection Layer"]},{"cell_type":"code","metadata":{"id":"5gh6k_mfYKyW","colab_type":"code","colab":{}},"source":[""],"execution_count":0,"outputs":[]},{"cell_type":"markdown","metadata":{"id":"vTY54t9TYKya","colab_type":"text"},"source":[" "]},{"cell_type":"markdown","metadata":{"id":"Qwv_ZngvYKyb","colab_type":"text"},"source":["### II.3 Scoring"]},{"cell_type":"code","metadata":{"id":"FWLzt9RMYKyc","colab_type":"code","colab":{}},"source":[""],"execution_count":0,"outputs":[]},{"cell_type":"markdown","metadata":{"id":"UsnynuwkYKye","colab_type":"text"},"source":["#### II.3.2 Highest and Lowest scoring sequences"]},{"cell_type":"code","metadata":{"id":"i0DT0Nz4YKyf","colab_type":"code","colab":{}},"source":[""],"execution_count":0,"outputs":[]},{"cell_type":"markdown","metadata":{"id":"CgDR3Vb7YKyh","colab_type":"text"},"source":["#### II.3.3 Modified sequences"]},{"cell_type":"code","metadata":{"id":"0lZnRuY3YKyi","colab_type":"code","colab":{}},"source":[""],"execution_count":0,"outputs":[]},{"cell_type":"markdown","metadata":{"id":"WK87HIhUYKyl","colab_type":"text"},"source":["### II.4 Sampling"]},{"cell_type":"code","metadata":{"id":"MWAqFbF4YKyl","colab_type":"code","colab":{}},"source":[""],"execution_count":0,"outputs":[]},{"cell_type":"markdown","metadata":{"id":"1lMTWi_IYKyn","colab_type":"text"},"source":["#### II.4.3 Number of unique tokens and sequence length \n","\n","(1,000 samples vs. 1,000 randomly selected validation-set sequences)"]},{"cell_type":"code","metadata":{"id":"cCJqPo1GYKyo","colab_type":"code","colab":{}},"source":[""],"execution_count":0,"outputs":[]},{"cell_type":"markdown","metadata":{"id":"Hl6yiuQCYKyq","colab_type":"text"},"source":["#### II.4.4 Example Samples"]},{"cell_type":"code","metadata":{"id":"X3ASKYldYKyq","colab_type":"code","colab":{}},"source":[""],"execution_count":0,"outputs":[]}]}
>>>>>>> master
