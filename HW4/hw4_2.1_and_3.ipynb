{
 "cells": [
  {
   "cell_type": "markdown",
   "metadata": {
    "colab_type": "text",
    "id": "Hd5joPrEfeTO"
   },
   "source": [
    "# Homework 4: Conversation Modeling and decoding"
   ]
  },
  {
   "cell_type": "markdown",
   "metadata": {
    "colab_type": "text",
    "id": "dnq-52tzfeTP"
   },
   "source": [
    "# Part 1 Modeling"
   ]
  },
  {
   "cell_type": "markdown",
   "metadata": {
    "colab_type": "text",
    "id": "Ly_vMsyZfeTQ"
   },
   "source": [
    "## 1.1 Attention visulization"
   ]
  },
  {
   "cell_type": "code",
   "execution_count": 0,
   "metadata": {
    "colab": {},
    "colab_type": "code",
    "id": "lMfR42QffeTR"
   },
   "outputs": [],
   "source": [
    "### set up the model and complete the corresponding task\n",
    "\n",
    "### the pretrained model was trained in ~2 hours, i.e. you can expect attention maps\n",
    "### to look quite 'hard' (less soft spreading) i.e. attending to some particular token in the input"
   ]
  },
  {
   "cell_type": "markdown",
   "metadata": {
    "colab_type": "text",
    "id": "IFWGbGjPfeTT"
   },
   "source": [
    "### You present here:"
   ]
  },
  {
   "cell_type": "code",
   "execution_count": 0,
   "metadata": {
    "colab": {},
    "colab_type": "code",
    "id": "S-GGbhdZfeTU"
   },
   "outputs": [],
   "source": [
    "# this is some example attention map here, \n",
    "# *make sure you add text tokens on the axes to make it readable!*"
   ]
  },
  {
   "cell_type": "markdown",
   "metadata": {
    "colab_type": "text",
    "id": "UGaiODLcfeTW"
   },
   "source": [
    "![Imgur](https://i.imgur.com/xodciCU.png)"
   ]
  },
  {
   "cell_type": "markdown",
   "metadata": {
    "colab_type": "text",
    "id": "V1d0Z7fTfeTX"
   },
   "source": [
    "## 1.2 Encoder Transformer"
   ]
  },
  {
   "cell_type": "code",
   "execution_count": 0,
   "metadata": {
    "colab": {},
    "colab_type": "code",
    "id": "HtjEANgMfeTX"
   },
   "outputs": [],
   "source": [
    "### add transformer encoder as optional encoder in seq2seq model.\n",
    "\n",
    "# code below can help you to start it, but feel free to start from scratch\n",
    "\n",
    "class EncoderTransformer(nn.Module):\n",
    "     def __init__(self):\n",
    "        \n",
    "        # you need to add more things here\n",
    "        \n",
    "        self.position_embed = nn.Embedding()\n",
    "        encoder_layer = nn.TransformerEncoderLayer()\n",
    "        self.transformer = nn.TransformerEncoder(encoder_layer, num_layers=1)\n",
    "\n",
    "    def forward(self, text_vec):\n",
    "        # some helpful directions below, check the MLM lab for more details\n",
    "        \n",
    "        # embedded = pos_embedded + embedded  # apply pos embedding\n",
    "        # attention_mask = ...\n",
    "        # output = self.transformer(embedded, src_key_padding_mask=attention_mask)\n",
    "        return None\n",
    "        "
   ]
  },
  {
   "cell_type": "markdown",
   "metadata": {
    "colab_type": "text",
    "id": "1XtAUIb1feTZ"
   },
   "source": [
    "## You present here:"
   ]
  },
  {
   "cell_type": "code",
   "execution_count": 0,
   "metadata": {
    "colab": {},
    "colab_type": "code",
    "id": "GZBKzjjVfeTa"
   },
   "outputs": [],
   "source": [
    "# check pdf to see what you expected to present"
   ]
  },
  {
   "cell_type": "code",
   "execution_count": 0,
   "metadata": {
    "colab": {},
    "colab_type": "code",
    "id": "GaFG961KfeTc"
   },
   "outputs": [],
   "source": []
  },
  {
   "cell_type": "markdown",
   "metadata": {
    "colab_type": "text",
    "id": "Ab3ULUTNfeTe"
   },
   "source": [
    "# Part 2 Decoding"
   ]
  },
  {
   "cell_type": "markdown",
   "metadata": {
    "colab_type": "text",
    "id": "E0rjI3dTfeTf"
   },
   "source": [
    "# 2.1 Nucleus Sampling"
   ]
  },
  {
   "cell_type": "code",
   "execution_count": 0,
   "metadata": {
    "colab": {},
    "colab_type": "code",
    "id": "kavDSEtPajJP"
   },
   "outputs": [],
   "source": [
    "import re\n",
    "from collections import Counter\n",
    "from tqdm import tqdm\n",
    "import json\n",
    "from torch.utils.data import Dataset, DataLoader\n",
    "import torch"
   ]
  },
  {
   "cell_type": "code",
   "execution_count": 0,
   "metadata": {
    "colab": {},
    "colab_type": "code",
    "id": "-RVddpWZamPx"
   },
   "outputs": [],
   "source": [
    "class ChatDictionary(object):\n",
    "    \"\"\"\n",
    "    Simple dict loader\n",
    "    \"\"\"\n",
    "    def __init__(self, dict_file_path):\n",
    "        self.word2ind = {}  # word:index\n",
    "        self.ind2word = {}  # index:word\n",
    "        self.counts = {}  # word:count\n",
    "\n",
    "        dict_raw = open(dict_file_path, 'r').readlines()\n",
    "        \n",
    "        for i, w in enumerate(dict_raw):\n",
    "            _word, _count = w.strip().split('\\t')\n",
    "            if _word == '\\\\n':\n",
    "                _word = '\\n'\n",
    "            self.word2ind[_word] = i\n",
    "            self.ind2word[i] = _word\n",
    "            self.counts[_word] = _count\n",
    "            \n",
    "    def t2v(self, tokenized_text):\n",
    "        return [self.word2ind[w] if w in self.counts else self.word2ind['__unk__'] for w in tokenized_text]\n",
    "\n",
    "    def v2t(self, list_ids):\n",
    "        return ' '.join([self.ind2word[i] for i in list_ids])\n",
    "    \n",
    "    def pred2text(self, tensor):\n",
    "        result = []\n",
    "        for i in range(tensor.size(0)):\n",
    "            if tensor[i].item() == '__end__'  or tensor[i].item() == '__null__':  # null is pad\n",
    "                break\n",
    "            else:\n",
    "                result.append(self.ind2word[tensor[i].item()])\n",
    "        return ' '.join(result)\n",
    "    \n",
    "    def __len__(self):\n",
    "        return len(self.counts)"
   ]
  },
  {
   "cell_type": "code",
   "execution_count": 0,
   "metadata": {
    "colab": {},
    "colab_type": "code",
    "id": "1YZzWjOZawpp"
   },
   "outputs": [],
   "source": [
    "RETOK = re.compile(r'\\w+|[^\\w\\s]|\\n', re.UNICODE)\n",
    "class ChatDataset(Dataset):\n",
    "    \"\"\"\n",
    "    Json dataset wrapper\n",
    "    \"\"\"\n",
    "    \n",
    "    def __init__(self, dataset_file_path, dictionary, dt='train'):\n",
    "        super().__init__()\n",
    "        \n",
    "        json_text = open(dataset_file_path, 'r').readlines()\n",
    "        self.samples = []\n",
    "        \n",
    "        for sample in tqdm(json_text):\n",
    "            sample = sample.rstrip()\n",
    "            sample = json.loads(sample)\n",
    "            _inp_toked = RETOK.findall(sample['text'])\n",
    "            _inp_toked_id = dictionary.t2v(_inp_toked)\n",
    "\n",
    "            sample['text_vec'] = torch.tensor(_inp_toked_id, dtype=torch.long)\n",
    "            \n",
    "            # train and valid have different key names for target\n",
    "            if dt == 'train':\n",
    "                _tar_toked = RETOK.findall(sample['labels'][0]) + ['__end__']\n",
    "            elif dt == 'valid':\n",
    "                _tar_toked = RETOK.findall(sample['eval_labels'][0]) + ['__end__']\n",
    "                \n",
    "            _tar_toked_id = dictionary.t2v(_tar_toked)\n",
    "            \n",
    "            sample['target_vec'] = torch.tensor(_tar_toked_id, dtype=torch.long)\n",
    "            \n",
    "            self.samples.append(sample)\n",
    "            \n",
    "    def __getitem__(self, i):\n",
    "        return self.samples[i]['text_vec'], self.samples[i]['target_vec']\n",
    "    \n",
    "    def __len__(self):\n",
    "        return len(self.samples)"
   ]
  },
  {
   "cell_type": "code",
   "execution_count": 0,
   "metadata": {
    "colab": {},
    "colab_type": "code",
    "id": "6qxoBJ9Za3mx"
   },
   "outputs": [],
   "source": [
    "def pad_tensor(tensors, sort=True, pad_token=0):\n",
    "    rows = len(tensors)\n",
    "    lengths = [len(i) for i in tensors]\n",
    "    max_t = max(lengths)\n",
    "        \n",
    "    output = tensors[0].new(rows, max_t)\n",
    "    output.fill_(pad_token)  # 0 is a pad token here\n",
    "    \n",
    "    for i, (tensor, length) in enumerate(zip(tensors, lengths)):\n",
    "        output[i,:length] = tensor\n",
    "\n",
    "    return output, lengths\n",
    "\n",
    "def argsort(keys, *lists, descending=False):\n",
    "    \"\"\"Reorder each list in lists by the (descending) sorted order of keys.\n",
    "    :param iter keys: Keys to order by.\n",
    "    :param list[list] lists: Lists to reordered by keys's order.\n",
    "                             Correctly handles lists and 1-D tensors.\n",
    "    :param bool descending: Use descending order if true.\n",
    "    :returns: The reordered items.\n",
    "    \"\"\"\n",
    "    ind_sorted = sorted(range(len(keys)), key=lambda k: keys[k])\n",
    "    if descending:\n",
    "        ind_sorted = list(reversed(ind_sorted))\n",
    "    output = []\n",
    "    for lst in lists:\n",
    "        if isinstance(lst, torch.Tensor):\n",
    "            output.append(lst[ind_sorted])\n",
    "        else:\n",
    "            output.append([lst[i] for i in ind_sorted])\n",
    "    return output\n",
    "\n",
    "def batchify(batch):\n",
    "    inputs = [i[0] for i in batch]\n",
    "    labels = [i[1] for i in batch]\n",
    "    \n",
    "    input_vecs, input_lens = pad_tensor(inputs)\n",
    "    label_vecs, label_lens = pad_tensor(labels)\n",
    "    \n",
    "    # sort only wrt inputs here for encoder packinng\n",
    "    input_vecs, input_lens, label_vecs, label_lens = argsort(input_lens, input_vecs, input_lens, label_vecs, label_lens, descending=True)\n",
    "\n",
    "    return {\n",
    "        \"text_vecs\": input_vecs,\n",
    "        \"text_lens\": input_lens,\n",
    "        \"target_vecs\": label_vecs,\n",
    "        \"target_lens\": label_lens,\n",
    "        'use_packed': True\n",
    "    }"
   ]
  },
  {
   "cell_type": "code",
   "execution_count": 6,
   "metadata": {
    "colab": {
     "base_uri": "https://localhost:8080/",
     "height": 1000
    },
    "colab_type": "code",
    "executionInfo": {
     "elapsed": 40392,
     "status": "ok",
     "timestamp": 1573601925164,
     "user": {
      "displayName": "Xiao Li",
      "photoUrl": "",
      "userId": "17628369663427228897"
     },
     "user_tz": 300
    },
    "id": "HU85v4Sla8v5",
    "outputId": "97719b4d-40aa-489e-84a3-281e1306f908"
   },
   "outputs": [
    {
     "name": "stdout",
     "output_type": "stream",
     "text": [
      "--2019-11-12 23:33:20--  https://nyu.box.com/shared/static/sj9f87tofpicll89xbc154pmbztu5q4h\n",
      "Resolving nyu.box.com (nyu.box.com)... 107.152.27.197, 107.152.26.197\n",
      "Connecting to nyu.box.com (nyu.box.com)|107.152.27.197|:443... connected.\n",
      "HTTP request sent, awaiting response... 301 Moved Permanently\n",
      "Location: /public/static/sj9f87tofpicll89xbc154pmbztu5q4h [following]\n",
      "--2019-11-12 23:33:25--  https://nyu.box.com/public/static/sj9f87tofpicll89xbc154pmbztu5q4h\n",
      "Reusing existing connection to nyu.box.com:443.\n",
      "HTTP request sent, awaiting response... 301 Moved Permanently\n",
      "Location: https://nyu.app.box.com/public/static/sj9f87tofpicll89xbc154pmbztu5q4h [following]\n",
      "--2019-11-12 23:33:25--  https://nyu.app.box.com/public/static/sj9f87tofpicll89xbc154pmbztu5q4h\n",
      "Resolving nyu.app.box.com (nyu.app.box.com)... 107.152.26.199, 107.152.27.199\n",
      "Connecting to nyu.app.box.com (nyu.app.box.com)|107.152.26.199|:443... connected.\n",
      "HTTP request sent, awaiting response... 302 Found\n",
      "Location: https://public.boxcloud.com/d/1/b1!1k-fAUednIkgGNFRT8QEFQFlIU0TkVF9_fR7svelV0wJdcKZw8D0BXT_H9pKKjNkwfOcoq4I0dLv9VNzVSH9eCeJmnRY1FmyTik3DHq-SoyWQPO58WpsCFPD2wRfvvdxark1UBRer5m0CRPxfgiq8zsq7_9xx_N-PiJAAEiGLrKedq-px7Zzr2byuTristcBVVJcIbxbpgs-3WJpsZ-LpN17PwxRJtPjYUht9FHQ3nXdVIvPS5hZTSCYq22_fdEDUKepcwwZwzipWClk2x5FlY9liyC3MXf56aCoRHRvCJeoneMSLkcavMIlAX3PShTDuEaXW9zWS7B0N02PC26E7li71xFYM4ZmZKfnnvfPoM2ZdcSqSvUzteRizJmmAao8uItUN5-QRwpC1tfbmgJ1J5vF9rPfmnoBb_yiR-2yk1yCdCoS4-0FHOWvez-VvUEADfufafxvDpHTabolXi4jQ2lZUyJXg-6G6dpljIyhAnkW2woA11dYGNXpCorgG084_sQu1HKgieEPkcsUJAzqs0q3KkEKblxH_-g2Q311LPKjxnEl3IKmdUVSPrK2Lw1sBWhyyhRZdF4u6SRDooPTykyu_VbLTGFgFFAiJtX2i0bc-Ayz8TFAVqiEr9c9s2LZEcTn8LBGP-ed7lUv5g5G860ESQV6m9OaIVcG5zuDC7BtwKR9OtRpl2t0kjLIDzcfRefTppem0W1qz4BmUldsqGB3OqwcVOX59KF5ClqSNzNhVSyKcXEFs_Rj-niTy1co6JlFvLVwoRhRKjwIr220DuayhSCIaAUNJi9hSk96zahqABgTjx8ggzCBiobUhQpmuEyxWdh0JVNUMvczhV-X8a6pzK4prCx2pMq8V5n8L1T4idRdsOrko6rWc_-b02TSUpoRV6E1CoplP3QiQJqcK1K5yz3v9OPIMFVnnL7bdtbdIwK6KYa-46bWpQHZ06MxGA75W3S002hH0jE2nZKQtNyXPjaaaYvehgFmTprk_Ez1VQfu4h-pY_2fzHJtoDoCB1Zu5UGwFmSBqYUsFVj3C149RGdd2cKd5K69DP1Km0BD59vqyWjVnLnrqI-txonX7P6pHVAR-tRx8z8AMPSNlSpUcPg3LJgxtKDVE-ta0RBdhZFKYRW-mSS19oyvmQOAG6SlhYJyatkfbghYLFLF8ICkgJACq4mzE1JNkcoZPqwHUXx5YyDctMCm6LreW8RmNqN9hPapVPvZRGnq5v_Mz1PWfR2yHSUpQu8T6qIpO6gafTsmbUKWqOfJdnb_VLfSUMJ2moAMpdQ7ehye-in5fC3Sj3eCTjdFeLwToL3ntp_04TDrXDgUmN1zuBKhjGF6Ctl4_x9Vb6mNTaBRWouuWdojmm1WQj-Yj2i-bjOz_wDGZ3M./download [following]\n",
      "--2019-11-12 23:33:26--  https://public.boxcloud.com/d/1/b1!1k-fAUednIkgGNFRT8QEFQFlIU0TkVF9_fR7svelV0wJdcKZw8D0BXT_H9pKKjNkwfOcoq4I0dLv9VNzVSH9eCeJmnRY1FmyTik3DHq-SoyWQPO58WpsCFPD2wRfvvdxark1UBRer5m0CRPxfgiq8zsq7_9xx_N-PiJAAEiGLrKedq-px7Zzr2byuTristcBVVJcIbxbpgs-3WJpsZ-LpN17PwxRJtPjYUht9FHQ3nXdVIvPS5hZTSCYq22_fdEDUKepcwwZwzipWClk2x5FlY9liyC3MXf56aCoRHRvCJeoneMSLkcavMIlAX3PShTDuEaXW9zWS7B0N02PC26E7li71xFYM4ZmZKfnnvfPoM2ZdcSqSvUzteRizJmmAao8uItUN5-QRwpC1tfbmgJ1J5vF9rPfmnoBb_yiR-2yk1yCdCoS4-0FHOWvez-VvUEADfufafxvDpHTabolXi4jQ2lZUyJXg-6G6dpljIyhAnkW2woA11dYGNXpCorgG084_sQu1HKgieEPkcsUJAzqs0q3KkEKblxH_-g2Q311LPKjxnEl3IKmdUVSPrK2Lw1sBWhyyhRZdF4u6SRDooPTykyu_VbLTGFgFFAiJtX2i0bc-Ayz8TFAVqiEr9c9s2LZEcTn8LBGP-ed7lUv5g5G860ESQV6m9OaIVcG5zuDC7BtwKR9OtRpl2t0kjLIDzcfRefTppem0W1qz4BmUldsqGB3OqwcVOX59KF5ClqSNzNhVSyKcXEFs_Rj-niTy1co6JlFvLVwoRhRKjwIr220DuayhSCIaAUNJi9hSk96zahqABgTjx8ggzCBiobUhQpmuEyxWdh0JVNUMvczhV-X8a6pzK4prCx2pMq8V5n8L1T4idRdsOrko6rWc_-b02TSUpoRV6E1CoplP3QiQJqcK1K5yz3v9OPIMFVnnL7bdtbdIwK6KYa-46bWpQHZ06MxGA75W3S002hH0jE2nZKQtNyXPjaaaYvehgFmTprk_Ez1VQfu4h-pY_2fzHJtoDoCB1Zu5UGwFmSBqYUsFVj3C149RGdd2cKd5K69DP1Km0BD59vqyWjVnLnrqI-txonX7P6pHVAR-tRx8z8AMPSNlSpUcPg3LJgxtKDVE-ta0RBdhZFKYRW-mSS19oyvmQOAG6SlhYJyatkfbghYLFLF8ICkgJACq4mzE1JNkcoZPqwHUXx5YyDctMCm6LreW8RmNqN9hPapVPvZRGnq5v_Mz1PWfR2yHSUpQu8T6qIpO6gafTsmbUKWqOfJdnb_VLfSUMJ2moAMpdQ7ehye-in5fC3Sj3eCTjdFeLwToL3ntp_04TDrXDgUmN1zuBKhjGF6Ctl4_x9Vb6mNTaBRWouuWdojmm1WQj-Yj2i-bjOz_wDGZ3M./download\n",
      "Resolving public.boxcloud.com (public.boxcloud.com)... 107.152.24.200\n",
      "Connecting to public.boxcloud.com (public.boxcloud.com)|107.152.24.200|:443... connected.\n",
      "HTTP request sent, awaiting response... 200 OK\n",
      "Length: 190210 (186K) [application/octet-stream]\n",
      "Saving to: ‘./dict’\n",
      "\n",
      "./dict              100%[===================>] 185.75K   890KB/s    in 0.2s    \n",
      "\n",
      "2019-11-12 23:33:27 (890 KB/s) - ‘./dict’ saved [190210/190210]\n",
      "\n",
      "--2019-11-12 23:33:27--  https://nyu.box.com/shared/static/aqp0jyjaixjmukm5asasivq2bcfze075.jsonl\n",
      "Resolving nyu.box.com (nyu.box.com)... 107.152.27.197, 107.152.26.197\n",
      "Connecting to nyu.box.com (nyu.box.com)|107.152.27.197|:443... connected.\n",
      "HTTP request sent, awaiting response... 301 Moved Permanently\n",
      "Location: /public/static/aqp0jyjaixjmukm5asasivq2bcfze075.jsonl [following]\n",
      "--2019-11-12 23:33:27--  https://nyu.box.com/public/static/aqp0jyjaixjmukm5asasivq2bcfze075.jsonl\n",
      "Reusing existing connection to nyu.box.com:443.\n",
      "HTTP request sent, awaiting response... 301 Moved Permanently\n",
      "Location: https://nyu.app.box.com/public/static/aqp0jyjaixjmukm5asasivq2bcfze075.jsonl [following]\n",
      "--2019-11-12 23:33:28--  https://nyu.app.box.com/public/static/aqp0jyjaixjmukm5asasivq2bcfze075.jsonl\n",
      "Resolving nyu.app.box.com (nyu.app.box.com)... 107.152.26.199, 107.152.27.199\n",
      "Connecting to nyu.app.box.com (nyu.app.box.com)|107.152.26.199|:443... connected.\n",
      "HTTP request sent, awaiting response... 302 Found\n",
      "Location: https://public.boxcloud.com/d/1/b1!LASqGKFi-2YrnYd1Mr83hPzXEio2zz4XSyl0GVWTSP_mG8JKDcwFTMuQR0uk2aXNvzQkCD49e6nQkd3L_umgRscfmrbHhfNUEWf081cnVyPoYqQFKdULRGoji2IkuhsjTpUPxlxGlTztQdWVTh6MEo3ZcJZU1hoLjuIzLELWITSd4oVfuVnn1_C-ilRMqtdtnw1dqrSJ9Bb1MzL-EhqUOM43OFGwYNLZwGEOL3Zx6XQy6RRyDoZdos6_UohYeSu8kLam2QJXgj4zQR-CCPI2s4guOEaTk5RT18y6tEwAzJ6e-_h2LIc9hyDu8iNLSDht_qQ-NCt1Ga7IlR9iVqFGQkRiYTIpw2HtROxDntSaTwasVCZiZzhgTnBoieZD-v_CPdP1ImFpFUx7Q_eDdd30gj1AqHU9ksDeT9u8cEF68495rJy85zEgAbdq152hAH6mauWM78jFGgMwHVTfhMjd4opHQk_gW8DXZcbguU6X8ArbhsQc1ZJkVRtuf7XIypskWp5ppYPCV5PooX5Qu6F4NLSLT5n0sh_-rKjgQDdo8KXJOjWhkwnAUwC8jhAJ-IUGyReW7GKnJe7xhSYx1Dv9LXM4HSf0FDMfytOz0HhaxYdGGKyCQOyQKUHbxIGILR8QvvmMvfDsGINymLt9ci2hjtZaM_OaTWsUS2Sqnge9PCrZpfeVrnBzHEm2Wx0TScYyvmSA-I9bkQmmEweog40D-1mMGu4mpMVTooxy4uoaJyT50ZnuuH58IPMc26a7DyREkokPrUdUuG91CRKIW9Koi2pJl2Qx9bQ7Ub8bPBW5lsPlr_f4CzlGUD_SxdjETdbGYv7q1flv_wkMJ08BEUb-SEkd5SD7z_Ei7mvYhmZPn9izz6okMxHxVs2N0PEh6Y6S9aBt4glLF2MqPghV-7bC4PCo7fAkL5U-yktHQwpa5tZ30K8HYAMBZSC7lZjsxqZQBxDo1X4tn3m30XGnYv9hb2mG8oESddm-QAtRGanxH21aeTWKPSDigU-M_hQf-qfc3JDtX-7GA3AGcYv28X3T3fTnc1dHQrZfXA906N5qbxN_lVnrhInPB0FS762uIdGHCi0mi-eGaemo3a1QhlrC6fas6MKe7R_7-lUbhVulhHmA03onv3ZjbWmYl-O1l_W8DvDATk8HP9Tyd3fxpkgwfUfCrqWHeYyWTm4X-GOI0JpBN_HHr7hOAaKw4ohbsxHUgveEfomqIrzzIq4DTR_pyxLoDwqfgAiVES783zSDFHN3zGFH3jftJqJM58V0Nob2oMR2xlbeOdnSNWF4crt5LxDNfZd9QYBToa1i4YziHq413wo18l6Fbbzpq2aZmnFBrquirzDj_Ehh6oMFFQMngNBIAnQux6PRw722QuXNCaLutZ1Vtcefg-AqyA../download [following]\n",
      "--2019-11-12 23:33:28--  https://public.boxcloud.com/d/1/b1!LASqGKFi-2YrnYd1Mr83hPzXEio2zz4XSyl0GVWTSP_mG8JKDcwFTMuQR0uk2aXNvzQkCD49e6nQkd3L_umgRscfmrbHhfNUEWf081cnVyPoYqQFKdULRGoji2IkuhsjTpUPxlxGlTztQdWVTh6MEo3ZcJZU1hoLjuIzLELWITSd4oVfuVnn1_C-ilRMqtdtnw1dqrSJ9Bb1MzL-EhqUOM43OFGwYNLZwGEOL3Zx6XQy6RRyDoZdos6_UohYeSu8kLam2QJXgj4zQR-CCPI2s4guOEaTk5RT18y6tEwAzJ6e-_h2LIc9hyDu8iNLSDht_qQ-NCt1Ga7IlR9iVqFGQkRiYTIpw2HtROxDntSaTwasVCZiZzhgTnBoieZD-v_CPdP1ImFpFUx7Q_eDdd30gj1AqHU9ksDeT9u8cEF68495rJy85zEgAbdq152hAH6mauWM78jFGgMwHVTfhMjd4opHQk_gW8DXZcbguU6X8ArbhsQc1ZJkVRtuf7XIypskWp5ppYPCV5PooX5Qu6F4NLSLT5n0sh_-rKjgQDdo8KXJOjWhkwnAUwC8jhAJ-IUGyReW7GKnJe7xhSYx1Dv9LXM4HSf0FDMfytOz0HhaxYdGGKyCQOyQKUHbxIGILR8QvvmMvfDsGINymLt9ci2hjtZaM_OaTWsUS2Sqnge9PCrZpfeVrnBzHEm2Wx0TScYyvmSA-I9bkQmmEweog40D-1mMGu4mpMVTooxy4uoaJyT50ZnuuH58IPMc26a7DyREkokPrUdUuG91CRKIW9Koi2pJl2Qx9bQ7Ub8bPBW5lsPlr_f4CzlGUD_SxdjETdbGYv7q1flv_wkMJ08BEUb-SEkd5SD7z_Ei7mvYhmZPn9izz6okMxHxVs2N0PEh6Y6S9aBt4glLF2MqPghV-7bC4PCo7fAkL5U-yktHQwpa5tZ30K8HYAMBZSC7lZjsxqZQBxDo1X4tn3m30XGnYv9hb2mG8oESddm-QAtRGanxH21aeTWKPSDigU-M_hQf-qfc3JDtX-7GA3AGcYv28X3T3fTnc1dHQrZfXA906N5qbxN_lVnrhInPB0FS762uIdGHCi0mi-eGaemo3a1QhlrC6fas6MKe7R_7-lUbhVulhHmA03onv3ZjbWmYl-O1l_W8DvDATk8HP9Tyd3fxpkgwfUfCrqWHeYyWTm4X-GOI0JpBN_HHr7hOAaKw4ohbsxHUgveEfomqIrzzIq4DTR_pyxLoDwqfgAiVES783zSDFHN3zGFH3jftJqJM58V0Nob2oMR2xlbeOdnSNWF4crt5LxDNfZd9QYBToa1i4YziHq413wo18l6Fbbzpq2aZmnFBrquirzDj_Ehh6oMFFQMngNBIAnQux6PRw722QuXNCaLutZ1Vtcefg-AqyA../download\n",
      "Resolving public.boxcloud.com (public.boxcloud.com)... 107.152.24.200\n",
      "Connecting to public.boxcloud.com (public.boxcloud.com)|107.152.24.200|:443... connected.\n",
      "HTTP request sent, awaiting response... 200 OK\n",
      "Length: 93166014 (89M) [application/octet-stream]\n",
      "Saving to: ‘./train.jsonl’\n",
      "\n",
      "./train.jsonl       100%[===================>]  88.85M  27.8MB/s    in 3.5s    \n",
      "\n",
      "2019-11-12 23:33:32 (25.2 MB/s) - ‘./train.jsonl’ saved [93166014/93166014]\n",
      "\n",
      "--2019-11-12 23:33:33--  https://nyu.box.com/shared/static/eg4ivddtqib2hkf1k8rkxnmzmo0cq27p.jsonl\n",
      "Resolving nyu.box.com (nyu.box.com)... 107.152.27.197, 107.152.26.197\n",
      "Connecting to nyu.box.com (nyu.box.com)|107.152.27.197|:443... connected.\n",
      "HTTP request sent, awaiting response... 301 Moved Permanently\n",
      "Location: /public/static/eg4ivddtqib2hkf1k8rkxnmzmo0cq27p.jsonl [following]\n",
      "--2019-11-12 23:33:33--  https://nyu.box.com/public/static/eg4ivddtqib2hkf1k8rkxnmzmo0cq27p.jsonl\n",
      "Reusing existing connection to nyu.box.com:443.\n",
      "HTTP request sent, awaiting response... 301 Moved Permanently\n",
      "Location: https://nyu.app.box.com/public/static/eg4ivddtqib2hkf1k8rkxnmzmo0cq27p.jsonl [following]\n",
      "--2019-11-12 23:33:33--  https://nyu.app.box.com/public/static/eg4ivddtqib2hkf1k8rkxnmzmo0cq27p.jsonl\n",
      "Resolving nyu.app.box.com (nyu.app.box.com)... 107.152.26.199, 107.152.27.199\n",
      "Connecting to nyu.app.box.com (nyu.app.box.com)|107.152.26.199|:443... connected.\n",
      "HTTP request sent, awaiting response... 302 Found\n",
      "Location: https://public.boxcloud.com/d/1/b1!GRzkLHTjmYXf683KiaYH7TfaCD0J6n0wv2jmMgrJI_wBayRS27b02qHJYczhJUahhYFaUc5kI5vvsC1S4JHVkafkRgyX2uNesInWz__aavHas9OmqwevOxUzfWM7EPPx4IQlvEfugtIYSpe1wDNaJp7TwbW_U4EWFvbLoGR7HH1Y4HZ_aaD0Qqjm3Sq7nehUqVilxnPGOlnPZV42xBIQvmD-AUOnWsf_qXE_dJ21t-Cd5Lcfdg5CEqjBFqXCsf_9rPmZSP26Zxrdn3MtgPwJFeFtAFfYmXblwAgLaP2EUEmWvGgHf6Fm5QxS7Ukva363PaJT6E8mR9F0Yt53ulOUpQjk347HLqLzS2jmGnPwaCTQ1b24zOTvQ3sxMOhnS3r6ovtB2QoiVigpNAAI_QPwgfXomM2RqblJTOvkLxcjBMhVNGBky-WpVOPWwQJ-Lt5TpncCrKBhvTQxcKrlgENwANVN3jC9e2k4ujTwx01NnHTZtmcT_IRZOFRtryRW8AaZKejnUIHPwdj4VARmJ5yjtfn4Rqk_IlQps3DJzs71E4qeqUvoQil0JUzLMeWsFUowpC0fnaMuVdoS7eobe6cLKLLopmcZQy3zaTE68kBejiQDYV15WhObPsocHj0Ok3dZruTL6Ok8ppseFPNY3oSlE6GGA8gLGCSz8-Qi0JM5pMkBx1c_l0FHYS5tsKPbcCh1AZe-BcqjNahCxCKA6Al-yb_OBHou6kK91NGSrGzqGwepXegw3U91ud3OQTVqdMhcwWqCdZTBQHhStQdUWx6udYaEsOa1Xi5tC_7lBJtc5ZvHWThu6KSpi_EqCiht6fhN6P1hgXJf6WsrWxjD52yic2sCfjc7soVOWWiBfZQSFiJ6FYLBejyeYPrWcToUx2hLMWcc6DUW0QhbFQGyvX1J002e0Ze-S4SANKOMcxlHAFh1t6bxg8ESgiYzRpRVhGmfxn3dkpxPFg-Bd2KRo2bnXpiWl2x0Ez9nkYWtWkeC0AZxq-kpi3pD74sgVn0ccGk6YunsBmWhEVOu3CnPaJnlLW99ffzWz1YCs32N55qQxeKtsbqnR5hg-_UcD4zSnnM1QH6oFSiWd_Cb7c1bnjQLza756_MSvIMBijjYIVaQHLBdjUhZxaEXw1sFMolF8HvGHxV9LwyMx3hu0__xGswQoqb-IrsS_8-B0pwjujmfGtQoPIGwkuZ-sl8AZxkLv9gVYflba01wU44zYqWFJlxMfTyCP-zw1btVuJ-B-Bg0iE3Ay8cQAdgU1WwyPfeuAdJV-EWmflvg365e8U982LeemQ1SR0SQrGy3t8Ubzw9o8dUvV3QubxPDHVcgUq7pX9Fl8GrN4182FIw_0rYLAQyc_MWb-7646YrndkCqIZ5y--YBRcPnpAuFveMofg../download [following]\n",
      "--2019-11-12 23:33:34--  https://public.boxcloud.com/d/1/b1!GRzkLHTjmYXf683KiaYH7TfaCD0J6n0wv2jmMgrJI_wBayRS27b02qHJYczhJUahhYFaUc5kI5vvsC1S4JHVkafkRgyX2uNesInWz__aavHas9OmqwevOxUzfWM7EPPx4IQlvEfugtIYSpe1wDNaJp7TwbW_U4EWFvbLoGR7HH1Y4HZ_aaD0Qqjm3Sq7nehUqVilxnPGOlnPZV42xBIQvmD-AUOnWsf_qXE_dJ21t-Cd5Lcfdg5CEqjBFqXCsf_9rPmZSP26Zxrdn3MtgPwJFeFtAFfYmXblwAgLaP2EUEmWvGgHf6Fm5QxS7Ukva363PaJT6E8mR9F0Yt53ulOUpQjk347HLqLzS2jmGnPwaCTQ1b24zOTvQ3sxMOhnS3r6ovtB2QoiVigpNAAI_QPwgfXomM2RqblJTOvkLxcjBMhVNGBky-WpVOPWwQJ-Lt5TpncCrKBhvTQxcKrlgENwANVN3jC9e2k4ujTwx01NnHTZtmcT_IRZOFRtryRW8AaZKejnUIHPwdj4VARmJ5yjtfn4Rqk_IlQps3DJzs71E4qeqUvoQil0JUzLMeWsFUowpC0fnaMuVdoS7eobe6cLKLLopmcZQy3zaTE68kBejiQDYV15WhObPsocHj0Ok3dZruTL6Ok8ppseFPNY3oSlE6GGA8gLGCSz8-Qi0JM5pMkBx1c_l0FHYS5tsKPbcCh1AZe-BcqjNahCxCKA6Al-yb_OBHou6kK91NGSrGzqGwepXegw3U91ud3OQTVqdMhcwWqCdZTBQHhStQdUWx6udYaEsOa1Xi5tC_7lBJtc5ZvHWThu6KSpi_EqCiht6fhN6P1hgXJf6WsrWxjD52yic2sCfjc7soVOWWiBfZQSFiJ6FYLBejyeYPrWcToUx2hLMWcc6DUW0QhbFQGyvX1J002e0Ze-S4SANKOMcxlHAFh1t6bxg8ESgiYzRpRVhGmfxn3dkpxPFg-Bd2KRo2bnXpiWl2x0Ez9nkYWtWkeC0AZxq-kpi3pD74sgVn0ccGk6YunsBmWhEVOu3CnPaJnlLW99ffzWz1YCs32N55qQxeKtsbqnR5hg-_UcD4zSnnM1QH6oFSiWd_Cb7c1bnjQLza756_MSvIMBijjYIVaQHLBdjUhZxaEXw1sFMolF8HvGHxV9LwyMx3hu0__xGswQoqb-IrsS_8-B0pwjujmfGtQoPIGwkuZ-sl8AZxkLv9gVYflba01wU44zYqWFJlxMfTyCP-zw1btVuJ-B-Bg0iE3Ay8cQAdgU1WwyPfeuAdJV-EWmflvg365e8U982LeemQ1SR0SQrGy3t8Ubzw9o8dUvV3QubxPDHVcgUq7pX9Fl8GrN4182FIw_0rYLAQyc_MWb-7646YrndkCqIZ5y--YBRcPnpAuFveMofg../download\n",
      "Resolving public.boxcloud.com (public.boxcloud.com)... 107.152.24.200\n",
      "Connecting to public.boxcloud.com (public.boxcloud.com)|107.152.24.200|:443... connected.\n",
      "HTTP request sent, awaiting response... 200 OK\n",
      "Length: 6044784 (5.8M) [application/octet-stream]\n",
      "Saving to: ‘./valid.jsonl’\n",
      "\n",
      "./valid.jsonl       100%[===================>]   5.76M  9.20MB/s    in 0.6s    \n",
      "\n",
      "2019-11-12 23:33:35 (9.20 MB/s) - ‘./valid.jsonl’ saved [6044784/6044784]\n",
      "\n",
      "--2019-11-12 23:33:36--  https://nyu.box.com/shared/static/24zsynuks8nzg7530tgakzh8o62id9xa.pt\n",
      "Resolving nyu.box.com (nyu.box.com)... 107.152.27.197, 107.152.26.197\n",
      "Connecting to nyu.box.com (nyu.box.com)|107.152.27.197|:443... connected.\n",
      "HTTP request sent, awaiting response... 301 Moved Permanently\n",
      "Location: /public/static/24zsynuks8nzg7530tgakzh8o62id9xa.pt [following]\n",
      "--2019-11-12 23:33:36--  https://nyu.box.com/public/static/24zsynuks8nzg7530tgakzh8o62id9xa.pt\n",
      "Reusing existing connection to nyu.box.com:443.\n",
      "HTTP request sent, awaiting response... 301 Moved Permanently\n",
      "Location: https://nyu.app.box.com/public/static/24zsynuks8nzg7530tgakzh8o62id9xa.pt [following]\n",
      "--2019-11-12 23:33:36--  https://nyu.app.box.com/public/static/24zsynuks8nzg7530tgakzh8o62id9xa.pt\n",
      "Resolving nyu.app.box.com (nyu.app.box.com)... 107.152.26.199, 107.152.27.199\n",
      "Connecting to nyu.app.box.com (nyu.app.box.com)|107.152.26.199|:443... connected.\n",
      "HTTP request sent, awaiting response... 302 Found\n",
      "Location: https://public.boxcloud.com/d/1/b1!Vyi0YBIIZTEu7j7fsCGyUfX3yifLjvmJAiJYb20sNUBiBQaSRlqwKN1Kuf8MPJpyb35CicxFFMvYDMoi5USkuvdikCgQQjpuIKZH_ZhnrFcbDf85_ZQV1j0ORij8nWmoNFWMSgB_Q5j7eHXo3-irHvfD_S0kbL3gatQvITkB74uWmdy08kVbbtOAim5FNqomwvmWsonKyO-7krFFbXEZWMeVMV7S-b_Cead6UvTuOyaaaZlan3Tb7byRkmQNSZMYZDTere8FVUIk6mm89C1Kg44ffsq6mfnn6Z4fiaZjqu92JpA988_ED1PUcqZ0z5ZZAEHKJDMhHNnlo36MKt4h6pfV-21l_6tjn0exkM5O8zUcLMiwQEckzIWwQV7o7kByf6CmpgEYsO4Cpd_DR5uOeCt0qyqWfZXGfN3e8yHwwGPc7OVMYF8fwHwabgc5IZuirxxRN6PjX8c_dL0N4DmlENNsjLEIElXBBG85alhP-3deTBqFehtpQr3ilkwL2lFF6TKka5ONGwlKf_FCkS8d-dZ52iFjhh0WXlPphp0oO0aiQKZCY11vKVZ88FwTJtdPVGZn3IUGxMxn8g067Ir74sCgVNRZNggozDH_ezb3eQsZQHNZo5cAaxVg7NnCxtiCp1o0P7aKcAMjD5t_yG1svUcHxKCHC7H8TLSraeBz9Js52H046oBj59cTxg75kMyQu_3Ok8j5om4zZigZFZXP54s5xAeVUBfDEiQ2fJlMs9_go3EUOES6wZCW4vzj9DPFHTNXWNHS9-nlitK7umkYqXaSWG7gKBDEVLiU8sPPgFK6sGZkC9kgeCAcrOpSLJF4Ov08-pYo2I52wVnOCYQX6u_gZ-jTXO5lQZ56GLgKHVyVi0iVYNQH4xFDm-KPi0RWDw7tJJWCN3uSmXb3w2ibiXSGioFBXpZ4Y0zO-kIa3gveLgqtAQNbNvOi-LkBsO_i9xOObOz2OUTIJHJtbfaGSwse6KBY26qi0ve7pQh30DnHzUV6IVb50sDtCDa9-4ePtztLrHUC4Is3cpP_LvadeE0NW7UUnG1K8g1sSl6b0kTyJo_AVwdAq-o75D8vE74F_2MUBhZo3QYRGrUcFoGKtilcKbeZf4eUfGJvyr7zxFc4uCcmcbaZb4JB-B4jOxWZhzr0GMdXstFBPnfIkX7azud_mWmmOyO87Z-D1uLkTORZxCKL3z8GVmwlPd2oynH8idwEw0SirTPKqd1xPP5L7myxusPP6WTpPNcrsFjpbSioCptiYW3zpUgw7JfEmI_bOR0zjQ0xAxl3p9QW7kFa0hzU81B3XorZManQOSSdvPHj18Y_u2pr-j9kAG8HnRtGnxhQ00nrxsCf4iyUXVP0TVXxcNjXg7EOKflZrWYr3E1L7LRGdf2lUq_VvP_w1U0XS11druo./download [following]\n",
      "--2019-11-12 23:33:37--  https://public.boxcloud.com/d/1/b1!Vyi0YBIIZTEu7j7fsCGyUfX3yifLjvmJAiJYb20sNUBiBQaSRlqwKN1Kuf8MPJpyb35CicxFFMvYDMoi5USkuvdikCgQQjpuIKZH_ZhnrFcbDf85_ZQV1j0ORij8nWmoNFWMSgB_Q5j7eHXo3-irHvfD_S0kbL3gatQvITkB74uWmdy08kVbbtOAim5FNqomwvmWsonKyO-7krFFbXEZWMeVMV7S-b_Cead6UvTuOyaaaZlan3Tb7byRkmQNSZMYZDTere8FVUIk6mm89C1Kg44ffsq6mfnn6Z4fiaZjqu92JpA988_ED1PUcqZ0z5ZZAEHKJDMhHNnlo36MKt4h6pfV-21l_6tjn0exkM5O8zUcLMiwQEckzIWwQV7o7kByf6CmpgEYsO4Cpd_DR5uOeCt0qyqWfZXGfN3e8yHwwGPc7OVMYF8fwHwabgc5IZuirxxRN6PjX8c_dL0N4DmlENNsjLEIElXBBG85alhP-3deTBqFehtpQr3ilkwL2lFF6TKka5ONGwlKf_FCkS8d-dZ52iFjhh0WXlPphp0oO0aiQKZCY11vKVZ88FwTJtdPVGZn3IUGxMxn8g067Ir74sCgVNRZNggozDH_ezb3eQsZQHNZo5cAaxVg7NnCxtiCp1o0P7aKcAMjD5t_yG1svUcHxKCHC7H8TLSraeBz9Js52H046oBj59cTxg75kMyQu_3Ok8j5om4zZigZFZXP54s5xAeVUBfDEiQ2fJlMs9_go3EUOES6wZCW4vzj9DPFHTNXWNHS9-nlitK7umkYqXaSWG7gKBDEVLiU8sPPgFK6sGZkC9kgeCAcrOpSLJF4Ov08-pYo2I52wVnOCYQX6u_gZ-jTXO5lQZ56GLgKHVyVi0iVYNQH4xFDm-KPi0RWDw7tJJWCN3uSmXb3w2ibiXSGioFBXpZ4Y0zO-kIa3gveLgqtAQNbNvOi-LkBsO_i9xOObOz2OUTIJHJtbfaGSwse6KBY26qi0ve7pQh30DnHzUV6IVb50sDtCDa9-4ePtztLrHUC4Is3cpP_LvadeE0NW7UUnG1K8g1sSl6b0kTyJo_AVwdAq-o75D8vE74F_2MUBhZo3QYRGrUcFoGKtilcKbeZf4eUfGJvyr7zxFc4uCcmcbaZb4JB-B4jOxWZhzr0GMdXstFBPnfIkX7azud_mWmmOyO87Z-D1uLkTORZxCKL3z8GVmwlPd2oynH8idwEw0SirTPKqd1xPP5L7myxusPP6WTpPNcrsFjpbSioCptiYW3zpUgw7JfEmI_bOR0zjQ0xAxl3p9QW7kFa0hzU81B3XorZManQOSSdvPHj18Y_u2pr-j9kAG8HnRtGnxhQ00nrxsCf4iyUXVP0TVXxcNjXg7EOKflZrWYr3E1L7LRGdf2lUq_VvP_w1U0XS11druo./download\n",
      "Resolving public.boxcloud.com (public.boxcloud.com)... 107.152.24.200\n",
      "Connecting to public.boxcloud.com (public.boxcloud.com)|107.152.24.200|:443... connected.\n",
      "HTTP request sent, awaiting response... 200 OK\n",
      "Length: 69267718 (66M) [application/octet-stream]\n",
      "Saving to: ‘./chat_model_best_22.pt’\n",
      "\n",
      "./chat_model_best_2 100%[===================>]  66.06M  18.8MB/s    in 3.9s    \n",
      "\n",
      "2019-11-12 23:33:41 (17.1 MB/s) - ‘./chat_model_best_22.pt’ saved [69267718/69267718]\n",
      "\n"
     ]
    },
    {
     "name": "stderr",
     "output_type": "stream",
     "text": [
      "100%|██████████| 131438/131438 [00:16<00:00, 8026.46it/s]\n",
      "100%|██████████| 7801/7801 [00:00<00:00, 8771.09it/s]\n"
     ]
    }
   ],
   "source": [
    "# loading datasets and dictionary\n",
    "\n",
    "# downloading pretrained models and data\n",
    "\n",
    "### DOWNLOADING THE FILES\n",
    "import os\n",
    "\n",
    "### persona chat dataset\n",
    "if not os.path.exists('./dict'):\n",
    "    !wget \"https://nyu.box.com/shared/static/sj9f87tofpicll89xbc154pmbztu5q4h\" -O './dict'\n",
    "if not os.path.exists('./train.jsonl'):\n",
    "    !wget \"https://nyu.box.com/shared/static/aqp0jyjaixjmukm5asasivq2bcfze075.jsonl\" -O './train.jsonl'\n",
    "if not os.path.exists('./valid.jsonl'):\n",
    "    !wget \"https://nyu.box.com/shared/static/eg4ivddtqib2hkf1k8rkxnmzmo0cq27p.jsonl\" -O './valid.jsonl'\n",
    "\n",
    "if not os.path.exists('./chat_model_best_22.pt'):\n",
    "    !wget \"https://nyu.box.com/shared/static/24zsynuks8nzg7530tgakzh8o62id9xa.pt\" -O './chat_model_best_22.pt'\n",
    "\n",
    "chat_dict = ChatDictionary('./dict')\n",
    "train_dataset = ChatDataset('./train.jsonl', chat_dict)\n",
    "valid_dataset = ChatDataset('./valid.jsonl', chat_dict, 'valid')"
   ]
  },
  {
   "cell_type": "code",
   "execution_count": 0,
   "metadata": {
    "colab": {},
    "colab_type": "code",
    "id": "qBMylZprbgo1"
   },
   "outputs": [],
   "source": [
    "train_loader = DataLoader(train_dataset, shuffle=True, collate_fn=batchify, batch_size=256)\n",
    "valid_loader = DataLoader(valid_dataset, shuffle=False, collate_fn=batchify, batch_size=256)"
   ]
  },
  {
   "cell_type": "code",
   "execution_count": 0,
   "metadata": {
    "colab": {},
    "colab_type": "code",
    "id": "efLrBG9zdHW0"
   },
   "outputs": [],
   "source": [
    "import torch.nn as nn\n",
    "from torch.nn.utils.rnn import pack_padded_sequence, pad_packed_sequence\n",
    "\n",
    "class EncoderRNN(nn.Module):\n",
    "    \"\"\"Encodes the input context.\"\"\"\n",
    "\n",
    "    def __init__(self, vocab_size, embed_size, hidden_size, num_layers, pad_idx=0, dropout=0, shared_lt=None):\n",
    "        super().__init__()\n",
    "        self.vocab_size = vocab_size\n",
    "        self.embed_size = embed_size\n",
    "        self.hidden_size = hidden_size\n",
    "        self.num_layers = num_layers\n",
    "        self.dropout = nn.Dropout(p=dropout)\n",
    "        self.pad_idx = pad_idx\n",
    "        \n",
    "        if shared_lt is None:\n",
    "            self.embedding = nn.Embedding(self.vocab_size, self.embed_size, pad_idx)\n",
    "        else:\n",
    "            self.embedding = shared_lt\n",
    "            \n",
    "        self.gru = nn.GRU(\n",
    "            self.embed_size, self.hidden_size, num_layers=self.num_layers, batch_first=True, dropout=dropout if num_layers > 1 else 0,\n",
    "        )\n",
    "        \n",
    "        \n",
    "    def forward(self, text_vec, text_lens, hidden=None, use_packed=True):\n",
    "        embedded = self.embedding(text_vec)\n",
    "        attention_mask = text_vec.ne(self.pad_idx) # ne function calculates not equal to element-wise\n",
    "        \n",
    "        embedded = self.dropout(embedded)\n",
    "        if use_packed is True:\n",
    "            embedded = pack_padded_sequence(embedded, text_lens, batch_first=True)\n",
    "        output, hidden = self.gru(embedded, hidden)\n",
    "        if use_packed is True:\n",
    "            output, output_lens = pad_packed_sequence(output, batch_first=True)\n",
    "        \n",
    "        return output, hidden, attention_mask\n",
    "\n",
    "    \n",
    "class DecoderRNN(nn.Module):\n",
    "    \"\"\"Generates a sequence of tokens in response to context.\"\"\"\n",
    "\n",
    "    def __init__(self, vocab_size, embed_size, hidden_size, num_layers, dropout=0):\n",
    "        super().__init__()\n",
    "        self.vocab_size = vocab_size\n",
    "        self.embed_size = embed_size\n",
    "        self.hidden_size = hidden_size\n",
    "        self.num_layers = num_layers\n",
    "        self.dropout = nn.Dropout(p=dropout)\n",
    "        \n",
    "        self.embedding = nn.Embedding(self.vocab_size, self.embed_size, 0)\n",
    "        \n",
    "        self.gru = nn.GRU(\n",
    "            self.embed_size, self.hidden_size, num_layers=self.num_layers, batch_first=True, dropout=dropout if num_layers > 1 else 0,\n",
    "        )\n",
    "        \n",
    "        self.attention = AttentionLayer(self.hidden_size, self.embed_size)\n",
    "\n",
    "        self.out = nn.Linear(self.hidden_size, self.vocab_size)\n",
    "        self.longest_label = 100\n",
    "\n",
    "    def forward(self, text_vec, decoder_hidden, encoder_states):\n",
    "        emb = self.embedding(text_vec)\n",
    "        emb = self.dropout(emb)\n",
    "        seqlen = text_vec.size(1)\n",
    "        encoder_output, encoder_hidden, attention_mask = encoder_states\n",
    "        \n",
    "        decoder_hidden = decoder_hidden\n",
    "        output = []\n",
    "        attn_w_log = []\n",
    "\n",
    "        for i in range(seqlen):\n",
    "            decoder_output, decoder_hidden = self.gru(emb[:,i,:].unsqueeze(1), decoder_hidden)\n",
    "            \n",
    "            # compute attention at each time step\n",
    "            decoder_output_attended, attn_weights = self.attention(decoder_output, decoder_hidden, encoder_output, attention_mask)\n",
    "            output.append(decoder_output_attended)\n",
    "            attn_w_log.append(attn_weights)\n",
    "            \n",
    "        output = torch.cat(output, dim=1).to(text_vec.device)\n",
    "        scores = self.out(output)\n",
    "        \n",
    "        return scores, decoder_hidden, attn_w_log\n",
    "    \n",
    "    def decode_forced(self, ys, encoder_states, xs_lens):\n",
    "        encoder_output, encoder_hidden, attention_mask = encoder_states\n",
    "        \n",
    "        batch_size = ys.size(0)\n",
    "        target_length = ys.size(1)\n",
    "        longest_label = max(target_length, self.longest_label)\n",
    "        \n",
    "        starts = torch.Tensor([1]).long().to(self.embedding.weight.device).expand(batch_size, 1).long()  # expand to batch size\n",
    "        \n",
    "        # Teacher forcing: Feed the target as the next input\n",
    "        y_in = ys.narrow(1, 0, ys.size(1) - 1)\n",
    "        decoder_input = torch.cat([starts, y_in], 1)\n",
    "        decoder_output, decoder_hidden, attn_w_log = self.forward(decoder_input, encoder_hidden, encoder_states)\n",
    "        _, preds = decoder_output.max(dim=2)\n",
    "        \n",
    "        return decoder_output, preds, attn_w_log\n",
    "    \n",
    "    \n",
    "class AttentionLayer(nn.Module):\n",
    "\n",
    "    def __init__(self, hidden_size, embedding_size):\n",
    "        super().__init__()\n",
    "        input_dim = hidden_size\n",
    "\n",
    "        self.linear_out = nn.Linear(hidden_size+input_dim, input_dim, bias=False)\n",
    "        self.softmax = nn.Softmax(dim=-1)\n",
    "        self.tanh = nn.Tanh()\n",
    "\n",
    "    def forward(self, decoder_output, decoder_hidden, encoder_output, attention_mask):\n",
    "\n",
    "        batch_size, seq_length, hidden_size = encoder_output.size()\n",
    "\n",
    "        encoder_output_t = encoder_output.transpose(1,2)\n",
    "        \n",
    "        attention_scores = torch.bmm(decoder_output, encoder_output_t).squeeze(1)\n",
    "\n",
    "        attention_scores.masked_fill_((~attention_mask), -10e5)\n",
    "        attention_weights = self.softmax(attention_scores)\n",
    "\n",
    "        mix = torch.bmm(attention_weights.unsqueeze(1), encoder_output)\n",
    "\n",
    "        combined = torch.cat((decoder_output.squeeze(1), mix.squeeze(1)), dim=1)\n",
    "\n",
    "        output = self.linear_out(combined).unsqueeze(1)\n",
    "        output = self.tanh(output)\n",
    "\n",
    "        return output, attention_weights\n",
    "    \n",
    "    \n",
    "class seq2seq(nn.Module):\n",
    "    \"\"\"\n",
    "    Generic seq2seq model with attention mechanism.\n",
    "    \"\"\"\n",
    "    def __init__(self, opts):\n",
    "\n",
    "        super().__init__()\n",
    "        self.opts = opts\n",
    "        \n",
    "        self.decoder = DecoderRNN(\n",
    "                                    vocab_size=self.opts['vocab_size'],\n",
    "                                    embed_size=self.opts['embedding_size'],\n",
    "                                    hidden_size=self.opts['hidden_size'],\n",
    "                                    num_layers=self.opts['num_layers_dec'],\n",
    "                                    dropout=self.opts['dropout'],\n",
    "                                )\n",
    "        \n",
    "        self.encoder = EncoderRNN(\n",
    "                                    vocab_size=self.opts['vocab_size'],\n",
    "                                    embed_size=self.opts['embedding_size'],\n",
    "                                    hidden_size=self.opts['hidden_size'],\n",
    "                                    num_layers=self.opts['num_layers_enc'],\n",
    "                                    dropout=self.opts['dropout'],\n",
    "                                    shared_lt=self.decoder.embedding\n",
    "        )\n",
    "        \n",
    "    def train(self):\n",
    "        self.encoder.train()\n",
    "        self.decoder.train()\n",
    "        \n",
    "    def eval(self):\n",
    "        self.encoder.eval()\n",
    "        self.decoder.eval()"
   ]
  },
  {
   "cell_type": "code",
   "execution_count": 0,
   "metadata": {
    "colab": {},
    "colab_type": "code",
    "id": "B-gh2sDSbkYD"
   },
   "outputs": [],
   "source": [
    "num_gpus = torch.cuda.device_count()\n",
    "if num_gpus > 0:\n",
    "    current_device = 'cuda'\n",
    "else:\n",
    "    current_device = 'cpu'\n",
    "\n",
    "load_pretrained = True\n",
    "    \n",
    "if load_pretrained is True:\n",
    "    if current_device == 'cuda':\n",
    "        model_pt = torch.load('./chat_model_best_22.pt')\n",
    "    else:\n",
    "        model_pt = torch.load('./chat_model_best_22.pt', map_location=torch.device('cpu'))\n",
    "    opts = model_pt['opts']\n",
    "    \n",
    "    model = seq2seq(opts)\n",
    "    model.load_state_dict(model_pt['state_dict'])\n",
    "    model.to(current_device)"
   ]
  },
  {
   "cell_type": "code",
   "execution_count": 0,
   "metadata": {
    "colab": {},
    "colab_type": "code",
    "id": "IJwxLf6lfeTg"
   },
   "outputs": [],
   "source": [
    "# implement nucleus sampling here.\n",
    "# you must cite any code you use from other sources!\n",
    "import numpy as np\n",
    "\n",
    "def nucleus_sampling(model, batch, batch_size, prob_thre):\n",
    "    \"\"\"\n",
    "    batch: the input batch which we want to sample the output on\n",
    "    batch_size: the relative batch size\n",
    "    prob_thre: the probability threshold to choose top p next token\n",
    "    \"\"\"\n",
    "    model.eval()\n",
    "    with torch.no_grad():\n",
    "        text_vecs = batch['text_vecs'].to(current_device)\n",
    "        encoded = model.encoder(text_vecs, batch['text_lens'], use_packed=batch['use_packed'])\n",
    "        encoder_output, encoder_hidden, attention_mask = encoded\n",
    "\n",
    "        # First define __start__ as the starting point of our sampling\n",
    "        starts = torch.Tensor([1]).long().to(model.decoder.embedding.weight.device).expand(batch_size, 1).long()  # expand to batch size\n",
    "        decoder_hidden = encoder_hidden\n",
    "\n",
    "        # Start sampling\n",
    "        samp = [starts]\n",
    "        probs_selecting = []\n",
    "\n",
    "        # We want to stop when every sequence has 2 as their ends (2 == __end__)\n",
    "        finish_mask = torch.Tensor([0]*batch_size).byte().to(model.decoder.embedding.weight.device)\n",
    "        current_sequences = starts\n",
    "        _attn_w_log = []\n",
    "\n",
    "        def find_indices(sorted_prob, prob_thre): \n",
    "            # Given a sorted probs, return the number of probs and sum of probs that could add up to >= threshold     \n",
    "            sum_now = 0\n",
    "            count = 0\n",
    "            while sum_now < prob_thre:\n",
    "                sum_now += sorted_prob[count].item()\n",
    "                count += 1\n",
    "            return count, sum_now\n",
    "\n",
    "        for time_step in range(1000):\n",
    "            decoder_output, decoder_hidden, attn_w_log = model.decoder(current_sequences, decoder_hidden, encoded)\n",
    "            all_probs = torch.softmax(decoder_output, dim=-1)\n",
    "            new_samp_all = []\n",
    "            new_prob_list = []\n",
    "            for i in range(batch_size):\n",
    "                single_next = all_probs[i, :, :].squeeze()\n",
    "                _probs, _indices = torch.sort(single_next, descending=True)\n",
    "                count, sum_p = find_indices(_probs, prob_thre)\n",
    "                new_probs = _probs[:count] / sum_p\n",
    "                _indices = _indices[:count]\n",
    "                # Now sample an index from the new conditional distribution\n",
    "                new_pred = _indices[torch.multinomial(new_probs, 1)].view(-1, 1).long()\n",
    "                prob_for_this_token = _probs[new_pred.item()].view(-1, 1)\n",
    "                #new_pred = torch.Tensor([np.random.choice(_indices, p = _probs)]).view(-1, 1).long()\n",
    "                new_samp_all.append(new_pred)\n",
    "                new_prob_list.append(prob_for_this_token)\n",
    "\n",
    "            _samp = torch.cat(new_samp_all, dim=1).to(model.decoder.embedding.weight.device)\n",
    "            prob_batch = torch.cat(new_prob_list, dim=1).to(model.decoder.embedding.weight.device)\n",
    "            samp.append(_samp)\n",
    "            probs_selecting.append(prob_batch)\n",
    "            _attn_w_log.append(attn_w_log)\n",
    "\n",
    "            finish_mask += (_samp == 2).byte().view(-1)\n",
    "            \n",
    "            if not (torch.any(~finish_mask.bool())): # ~ is invert\n",
    "                break\n",
    "            \n",
    "            current_sequences = _samp\n",
    "        \n",
    "        samp = torch.cat(samp, dim=-1)\n",
    "        probs_selecting = torch.cat(probs_selecting, dim=-1)\n",
    "            \n",
    "    return samp, probs_selecting"
   ]
  },
  {
   "cell_type": "code",
   "execution_count": 11,
   "metadata": {
    "colab": {
     "base_uri": "https://localhost:8080/",
     "height": 51
    },
    "colab_type": "code",
    "executionInfo": {
     "elapsed": 512,
     "status": "ok",
     "timestamp": 1573601935583,
     "user": {
      "displayName": "Xiao Li",
      "photoUrl": "",
      "userId": "17628369663427228897"
     },
     "user_tz": 300
    },
    "id": "SpkzyUlbxn-Q",
    "outputId": "1d415474-acc2-453b-b3fe-8d309f8a7260"
   },
   "outputs": [
    {
     "name": "stdout",
     "output_type": "stream",
     "text": [
      "__start__ i am from california , where are you from ? __end__\n",
      "-7.423248277044979\n"
     ]
    }
   ],
   "source": [
    "# A test run\n",
    "inputs = RETOK.findall(\"your persona: i live in texas.\\n hello , where are you ? ?\")\n",
    "\n",
    "test_batch = {\n",
    "    'text_vecs': torch.tensor([chat_dict.t2v(inputs)], dtype=torch.long, device=model.decoder.embedding.weight.device),\n",
    "    'text_lens': torch.tensor([len(inputs)], dtype=torch.long),\n",
    "    'use_packed': True,\n",
    "}\n",
    "\n",
    "sample, probs = nucleus_sampling(model, test_batch, 1, 0.1)#.tolist()\n",
    "print(chat_dict.v2t(*sample.tolist()))\n",
    "print(np.average(np.log(probs.tolist())))"
   ]
  },
  {
   "cell_type": "markdown",
   "metadata": {
    "colab_type": "text",
    "id": "N03fFFhOfeTi"
   },
   "source": [
    "## You present here:"
   ]
  },
  {
   "cell_type": "code",
   "execution_count": 77,
   "metadata": {
    "colab": {
     "base_uri": "https://localhost:8080/",
     "height": 366
    },
    "colab_type": "code",
    "executionInfo": {
     "elapsed": 36564,
     "status": "ok",
     "timestamp": 1573591755797,
     "user": {
      "displayName": "Xiao Li",
      "photoUrl": "",
      "userId": "17628369663427228897"
     },
     "user_tz": 300
    },
    "id": "athOySwpfeTj",
    "outputId": "2ad872b4-2018-4ad2-a024-a6945599763e"
   },
   "outputs": [
    {
     "name": "stdout",
     "output_type": "stream",
     "text": [
      "Our input is: your persona : i read twenty books a year . \n",
      " your persona : i ' m a stunt double as my second job . \n",
      " your persona : i only eat __unk__ . \n",
      " your persona : i was raised in a single parent household . \n",
      " hello what are doing today ?\n"
     ]
    },
    {
     "data": {
      "image/png": "[encoded data removed]",
      "text/plain": [
       "<Figure size 432x288 with 1 Axes>"
      ]
     },
     "metadata": {
      "tags": []
     },
     "output_type": "display_data"
    }
   ],
   "source": [
    "# Section 2.1\n",
    "# Q2 and Q3\n",
    "import matplotlib.pyplot as plt\n",
    "\n",
    "number_decodings = 100\n",
    "prob_thre_list = [0.1, 0.5, 0.9]\n",
    "# Selecting a single input from the validation set\n",
    "index = 0\n",
    "valid_input = valid_dataset[index][0]\n",
    "print(f\"Our input is: {chat_dict.v2t(valid_input.tolist())}\")\n",
    "test_input = {\n",
    "    'text_vecs': valid_input.view(1, -1).to(model.decoder.embedding.weight.device),\n",
    "    'text_lens': torch.tensor([len(valid_input)], dtype=torch.long),\n",
    "    'use_packed': True,\n",
    "}\n",
    "\n",
    "# Compute the average log-probability of generated sequences for each value of prob_thre\n",
    "# Also store the samples\n",
    "log_p_dict = {}\n",
    "all_samples = {}\n",
    "for thre in prob_thre_list:\n",
    "    log_p_dict[thre] = []\n",
    "    all_samples[thre] = []\n",
    "    for i in range(number_decodings):\n",
    "        sample, probs = nucleus_sampling(model, test_input, 1, thre)\n",
    "        # Store the sample\n",
    "        all_samples[thre].append(*sample.tolist())\n",
    "        # Compute log_p and add them up\n",
    "        log_p_total = torch.mean(torch.log(probs))\n",
    "        log_p_dict[thre].append(log_p_total)\n",
    "\n",
    "avg_log_p = [np.mean(log_p_dict[i]) for i in log_p_dict]\n",
    "plt.plot(prob_thre_list, avg_log_p)\n",
    "plt.title(\"Average Log Probability vs. Probability threshold\")\n",
    "plt.xticks([0.1, 0.5, 0.9])\n",
    "plt.show()"
   ]
  },
  {
   "cell_type": "code",
   "execution_count": 78,
   "metadata": {
    "colab": {
     "base_uri": "https://localhost:8080/",
     "height": 281
    },
    "colab_type": "code",
    "executionInfo": {
     "elapsed": 779,
     "status": "ok",
     "timestamp": 1573591840279,
     "user": {
      "displayName": "Xiao Li",
      "photoUrl": "",
      "userId": "17628369663427228897"
     },
     "user_tz": 300
    },
    "id": "U8W1aCZHfeTl",
    "outputId": "86bb9e72-b411-4537-df5e-8d9d621a20e1"
   },
   "outputs": [
    {
     "data": {
      "image/png": "[encoded data removed]",
      "text/plain": [
       "<Figure size 432x288 with 1 Axes>"
      ]
     },
     "metadata": {
      "tags": []
     },
     "output_type": "display_data"
    }
   ],
   "source": [
    "# Q3's plot\n",
    "unique_token_count = []\n",
    "for thre in all_samples:\n",
    "    all_tokens = []\n",
    "    [all_tokens.extend(l) for l in all_samples[thre]]\n",
    "    unique_token_count.append(len(set(all_tokens)))\n",
    "\n",
    "# Plot\n",
    "plt.plot(prob_thre_list, unique_token_count)\n",
    "plt.title(\"Unique tokens count for different prob. threshold\")\n",
    "plt.xticks([0.1, 0.5, 0.9])\n",
    "plt.show()"
   ]
  },
  {
   "cell_type": "markdown",
   "metadata": {
    "colab_type": "text",
    "id": "Iu4RgTJbfeTn"
   },
   "source": [
    "## 2.2 N-Gram blocking"
   ]
  },
  {
   "cell_type": "code",
   "execution_count": 0,
   "metadata": {
    "colab": {},
    "colab_type": "code",
    "id": "grYLFlVUfeTo",
    "outputId": "d3feb183-83f8-433e-9692-61a36fe448b7"
   },
   "outputs": [
    {
     "name": "stdout",
     "output_type": "stream",
     "text": [
      "(5, 6)\n",
      "[4]\n"
     ]
    }
   ],
   "source": [
    "# implement n-gram blocking\n",
    "# carefully read instructions in pdf\n",
    "\n",
    "# we give you some small hint code here which can be helpful\n",
    "\n",
    "l = [1,2,3,4,5,6,4,5,6]\n",
    "\n",
    "history = tuple(l[-2:])\n",
    "\n",
    "print(history)\n",
    "\n",
    "banned = []\n",
    "\n",
    "for ngram in zip(*[l[i:] for i in range(3)]):\n",
    "    if ngram[:-1] == history:\n",
    "        banned.append(ngram[-1])\n",
    "        \n",
    "print(banned)"
   ]
  },
  {
   "cell_type": "markdown",
   "metadata": {
    "colab_type": "text",
    "id": "LojppHLhfeTr"
   },
   "source": [
    "## You present here:"
   ]
  },
  {
   "cell_type": "code",
   "execution_count": 0,
   "metadata": {
    "colab": {},
    "colab_type": "code",
    "id": "mNG0agwffeTr"
   },
   "outputs": [],
   "source": [
    "# check pdf to see what you expected to present"
   ]
  },
  {
   "cell_type": "code",
   "execution_count": 0,
   "metadata": {
    "colab": {},
    "colab_type": "code",
    "id": "Z-FKFRKyfeTt"
   },
   "outputs": [],
   "source": []
  },
  {
   "cell_type": "markdown",
   "metadata": {
    "colab_type": "text",
    "id": "ezklc-zwfeTv"
   },
   "source": [
    "# Part 3 Interactive chat"
   ]
  },
  {
   "cell_type": "code",
   "execution_count": 0,
   "metadata": {
    "colab": {},
    "colab_type": "code",
    "id": "T8t1J0lkfeTy"
   },
   "outputs": [],
   "source": [
    "# implement logic for interactive chat here\n",
    "# the easiest is to just use python input functionality\n",
    "\n",
    "def transfer(input):\n",
    "    # Transfer an input to a tensor\n",
    "    _inp_tokened = RETOK.findall(input)\n",
    "    _inp_tokened_id = chat_dict.t2v(_inp_tokened)\n",
    "    tensor_input = torch.tensor(_inp_tokened_id, dtype=torch.long)\n",
    "    return tensor_input\n",
    "\n",
    "def make_it_batch(model, input_tensor):\n",
    "    # Make a input tensor a batch\n",
    "    device_now = model.decoder.embedding.weight.device\n",
    "    return {\n",
    "        'text_vecs': input_tensor.view(1, -1).to(device_now),\n",
    "        'text_lens': torch.tensor([len(input_tensor)], dtype=torch.long),\n",
    "        'use_packed': True}\n",
    "\n",
    "def logging(chat_history):\n",
    "    print(\"\\n\")\n",
    "    print(\"Here's the full dialog history\")\n",
    "    print(chat_dict.v2t(chat_history.tolist()))\n",
    "    return None\n",
    "\n",
    "# Now we start to implement chat function\n",
    "def chat(model, chat_history, start = True):\n",
    "    new_input = input(\"What do you want to say next\\n\")\n",
    "    if new_input == \"\": # If the user don't want to continue the chat\n",
    "        logging(chat_history)\n",
    "        return None\n",
    "    else:\n",
    "        if start:\n",
    "            chat_history = transfer(chat_history)\n",
    "        new_line_id = torch.tensor(chat_dict.t2v([\"\\n\"]), dtype=torch.long)\n",
    "        # Add user's input to chat history\n",
    "        # TODO\n",
    "        chat_history = torch.cat([chat_history, new_line_id, transfer(new_input)])\n",
    "        # Now do the sampling\n",
    "        input_for_samp = make_it_batch(model, chat_history)\n",
    "        output, probs = nucleus_sampling(model, input_for_samp, 1, 0.5)\n",
    "        output = output.squeeze()[1:-1]\n",
    "        print(f\"The model says: {chat_dict.v2t(output.tolist())} \\n\")\n",
    "        new_chat = torch.cat([chat_history, new_line_id, output])\n",
    "        return chat(model, new_chat, start = False)\n"
   ]
  },
  {
   "cell_type": "markdown",
   "metadata": {
    "colab_type": "text",
    "id": "rK0ryIsXfeT0"
   },
   "source": [
    "## You present here:"
   ]
  },
  {
   "cell_type": "code",
   "execution_count": 16,
   "metadata": {
    "colab": {
     "base_uri": "https://localhost:8080/",
     "height": 799
    },
    "colab_type": "code",
    "executionInfo": {
     "elapsed": 111113,
     "status": "ok",
     "timestamp": 1573602192619,
     "user": {
      "displayName": "Xiao Li",
      "photoUrl": "",
      "userId": "17628369663427228897"
     },
     "user_tz": 300
    },
    "id": "MFSRxmAXamsQ",
    "outputId": "21c1e134-db8d-4302-d9a4-f21971973e3d"
   },
   "outputs": [
    {
     "name": "stdout",
     "output_type": "stream",
     "text": [
      "What do you want to say next\n",
      "hi, where do you live?\n",
      "The model says: i live in the mountains so i ' m a country trainer \n",
      "\n",
      "What do you want to say next\n",
      "do you like climb mountains?\n",
      "The model says: i do not . i am not sure about them \n",
      "\n",
      "What do you want to say next\n",
      "where are you from?\n",
      "The model says: i am from new york city \n",
      "\n",
      "What do you want to say next\n",
      "how many children do you have?\n",
      "The model says: i have three kids , and you ? \n",
      "\n",
      "What do you want to say next\n",
      "I do not have any kids. do you like school?\n",
      "The model says: i do . what do you do for a living ? \n",
      "\n",
      "What do you want to say next\n",
      "i drive cars. do you like cars?\n",
      "The model says: i do . i ' m a huge fan of guns \n",
      "\n",
      "What do you want to say next\n",
      "\n",
      "\n",
      "\n",
      "Here's the full dialog history\n",
      "your persona : i love disneyland and mickey mouse . \n",
      " your persona : i love to spend time with my family . \n",
      " your persona : i ' m a baby delivery nurse . \n",
      " your persona : i walk three miles every day . \n",
      " \n",
      " hi , where do you live ? \n",
      " i live in the mountains so i ' m a country trainer \n",
      " do you like climb mountains ? \n",
      " i do not . i am not sure about them \n",
      " where are you from ? \n",
      " i am from new york city \n",
      " how many children do you have ? \n",
      " i have three kids , and you ? \n",
      " __unk__ do not have any kids . do you like school ? \n",
      " i do . what do you do for a living ? \n",
      " i drive cars . do you like cars ? \n",
      " i do . i ' m a huge fan of guns\n"
     ]
    }
   ],
   "source": [
    "# Dialogue sample\n",
    "# First pick a persona\n",
    "index = 20\n",
    "sample = valid_dataset[index][0]\n",
    "persona_list = chat_dict.v2t(sample.tolist()).split(\"\\n\")\n",
    "persona = \"\"\n",
    "for item in persona_list:\n",
    "    if \"your persona\" in item:\n",
    "        persona += item\n",
    "        persona += \"\\n\"\n",
    "\n",
    "# If we want to self input persona, uncooment next line        \n",
    "# persona = \"your persona: i am from china.\\nyour persona: i currently live in jersey.\\nyour persona: i come from a small town.\\nyour persona: my favorite drink is coke.\\nyour persona: i am very bad at homework.\"\n",
    "chat(model, persona)"
   ]
  },
  {
   "cell_type": "code",
   "execution_count": 18,
   "metadata": {
    "colab": {
     "base_uri": "https://localhost:8080/",
     "height": 884
    },
    "colab_type": "code",
    "executionInfo": {
     "elapsed": 89981,
     "status": "ok",
     "timestamp": 1573602325233,
     "user": {
      "displayName": "Xiao Li",
      "photoUrl": "",
      "userId": "17628369663427228897"
     },
     "user_tz": 300
    },
    "id": "lkwXHUVJfeT3",
    "outputId": "8be969f8-c750-455b-df18-d761659430a9"
   },
   "outputs": [
    {
     "name": "stdout",
     "output_type": "stream",
     "text": [
      "your persona : i have two dogs . \n",
      " your persona : i like to work on vintage cars . \n",
      " your persona : my favorite music is country . \n",
      " your persona : i own two vintage mustangs . \n",
      "\n",
      "What do you want to say next\n",
      "how are you?\n",
      "The model says: i am good . just got back from my shift at a beach . \n",
      "\n",
      "What do you want to say next\n",
      "do you have any dogs?\n",
      "The model says: no , i am a dog person . \n",
      "\n",
      "What do you want to say next\n",
      "how many dogs do you have?\n",
      "The model says: i have a husky . we have a couple dogs . \n",
      "\n",
      "What do you want to say next\n",
      "do you like music?\n",
      "The model says: i like all music . i love to listen to rock music . \n",
      "\n",
      "What do you want to say next\n",
      "do you drive cars?\n",
      "The model says: i do . i have been everywhere . \n",
      "\n",
      "What do you want to say next\n",
      "do you have any vintage car?\n",
      "The model says: i have a job at a small town . \n",
      "\n",
      "What do you want to say next\n",
      "\n",
      "\n",
      "\n",
      "Here's the full dialog history\n",
      "your persona : i have two dogs . \n",
      " your persona : i like to work on vintage cars . \n",
      " your persona : my favorite music is country . \n",
      " your persona : i own two vintage mustangs . \n",
      " \n",
      " how are you ? \n",
      " i am good . just got back from my shift at a beach . \n",
      " do you have any dogs ? \n",
      " no , i am a dog person . \n",
      " how many dogs do you have ? \n",
      " i have a husky . we have a couple dogs . \n",
      " do you like music ? \n",
      " i like all music . i love to listen to rock music . \n",
      " do you drive cars ? \n",
      " i do . i have been everywhere . \n",
      " do you have any vintage car ? \n",
      " i have a job at a small town .\n"
     ]
    }
   ],
   "source": [
    "# Dialogue sample\n",
    "index = 12\n",
    "sample = valid_dataset[index][0]\n",
    "persona_list = chat_dict.v2t(sample.tolist()).split(\"\\n\")\n",
    "persona = \"\"\n",
    "for item in persona_list:\n",
    "    if \"your persona\" in item:\n",
    "        persona += item\n",
    "        persona += \"\\n\"\n",
    "print(persona)\n",
    "\n",
    "chat(model, persona)"
   ]
  },
  {
   "cell_type": "code",
   "execution_count": 19,
   "metadata": {
    "colab": {
     "base_uri": "https://localhost:8080/",
     "height": 884
    },
    "colab_type": "code",
    "executionInfo": {
     "elapsed": 89774,
     "status": "ok",
     "timestamp": 1573602433548,
     "user": {
      "displayName": "Xiao Li",
      "photoUrl": "",
      "userId": "17628369663427228897"
     },
     "user_tz": 300
    },
    "id": "-yrTqhAqAHqf",
    "outputId": "fc193c48-c497-44fa-94e9-88c5489de3f0"
   },
   "outputs": [
    {
     "name": "stdout",
     "output_type": "stream",
     "text": [
      "your persona : i ' m a little girl . \n",
      " your persona : i ' ve superpowers . \n",
      " your persona : i like to make time stop . \n",
      " your persona : i live in the cloud . \n",
      "\n",
      "What do you want to say next\n",
      "how are you?\n",
      "The model says: i am doing good , thanks . how are you ? \n",
      "\n",
      "What do you want to say next\n",
      "i am ok. where do you live?\n",
      "The model says: i live in the suburbs . i love to surf . \n",
      "\n",
      "What do you want to say next\n",
      "are you boy or girl?\n",
      "The model says: i ' m not sure what that ' s . \n",
      "\n",
      "What do you want to say next\n",
      "do you like superpowers?\n",
      "The model says: yes , i ' ve not . i ' m very shy . \n",
      "\n",
      "What do you want to say next\n",
      "so you are a shy girl.\n",
      "The model says: yes , i am in high school . \n",
      "\n",
      "What do you want to say next\n",
      "do you have any hobby?\n",
      "The model says: no , i don ' t . i like to hike . \n",
      "\n",
      "What do you want to say next\n",
      "\n",
      "\n",
      "\n",
      "Here's the full dialog history\n",
      "your persona : i ' m a little girl . \n",
      " your persona : i ' ve superpowers . \n",
      " your persona : i like to make time stop . \n",
      " your persona : i live in the cloud . \n",
      " \n",
      " how are you ? \n",
      " i am doing good , thanks . how are you ? \n",
      " i am ok . where do you live ? \n",
      " i live in the suburbs . i love to surf . \n",
      " are you boy or girl ? \n",
      " i ' m not sure what that ' s . \n",
      " do you like superpowers ? \n",
      " yes , i ' ve not . i ' m very shy . \n",
      " so you are a shy girl . \n",
      " yes , i am in high school . \n",
      " do you have any hobby ? \n",
      " no , i don ' t . i like to hike .\n"
     ]
    }
   ],
   "source": [
    "# Dialogue sample\n",
    "index = 35\n",
    "sample = valid_dataset[index][0]\n",
    "persona_list = chat_dict.v2t(sample.tolist()).split(\"\\n\")\n",
    "persona = \"\"\n",
    "for item in persona_list:\n",
    "    if \"your persona\" in item:\n",
    "        persona += item\n",
    "        persona += \"\\n\"\n",
    "print(persona)\n",
    "\n",
    "chat(model, persona)"
   ]
  },
  {
   "cell_type": "code",
   "execution_count": 0,
   "metadata": {
    "colab": {},
    "colab_type": "code",
    "id": "sQfIzySYAjrh"
   },
   "outputs": [],
   "source": []
  }
 ],
 "metadata": {
  "colab": {
   "collapsed_sections": [],
   "name": "hw4.ipynb",
   "provenance": []
  },
  "kernelspec": {
   "display_name": "Python 3",
   "language": "python",
   "name": "python3"
  },
  "language_info": {
   "codemirror_mode": {
    "name": "ipython",
    "version": 3
   },
   "file_extension": ".py",
   "mimetype": "text/x-python",
   "name": "python",
   "nbconvert_exporter": "python",
   "pygments_lexer": "ipython3",
   "version": "3.6.8"
  }
 },
 "nbformat": 4,
 "nbformat_minor": 1
}
