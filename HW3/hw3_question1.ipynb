{
 "cells": [
  {
   "cell_type": "code",
   "execution_count": 1,
   "metadata": {},
   "outputs": [],
   "source": [
    "def check_grad(model_ft):\n",
    "    print(\"Parameters to learn:\")\n",
    "    params_to_update = []\n",
    "    total_params = 0\n",
    "    total_trainable_params = 0\n",
    "    for name,param in model_ft.named_parameters():\n",
    "        total_params+=param.numel()\n",
    "        if param.requires_grad == True:\n",
    "            params_to_update.append(param)\n",
    "            total_trainable_params += param.numel()\n",
    "            print(\"\\t\",name)\n",
    "    print(f'{total_params:,} total parameters.')\n",
    "    print(f'{total_trainable_params:,} training parameters.')\n",
    "    return params_to_update"
   ]
  },
  {
   "cell_type": "code",
   "execution_count": 2,
   "metadata": {},
   "outputs": [],
   "source": [
    "from torchvision.models.resnet import ResNet, BasicBlock\n",
    "from torchvision.datasets import MNIST\n",
    "from tqdm import tqdm\n",
    "from sklearn.metrics import precision_score, recall_score, f1_score, accuracy_score\n",
    "import inspect\n",
    "import time\n",
    "from torch import nn, optim\n",
    "import torch\n",
    "from torchvision.transforms import Compose, ToTensor, Normalize, Resize\n",
    "from torch.utils.data import DataLoader\n",
    "import time\n",
    "import copy\n",
    "from torch.nn import functional as F\n",
    "import os\n",
    "import csv\n",
    "import io\n",
    "from collections import Counter\n",
    "import numpy as np\n",
    "import pandas as pd\n",
    "import matplotlib.pyplot as plt\n",
    "import seaborn as sns\n",
    "sns.set(style=\"darkgrid\")"
   ]
  },
  {
   "cell_type": "markdown",
   "metadata": {},
   "source": [
    "---   \n",
    "# HW3 - Transfer learning\n",
    "\n",
    "#### Due October 30, 2019\n",
    "\n",
    "In this assignment you will learn about transfer learning. This technique is perhaps one of the most important techniques for industry. When a problem you want to solve does not have enough data, we use a different (larger) dataset to learn representations which can help us solve our task using the smaller task.\n",
    "\n",
    "The general steps to transfer learning are as follows:\n",
    "\n",
    "1. Find a huge dataset with similar characteristics to the problem you are interested in.\n",
    "2. Choose a model powerful enough to extract meaningful representations from the huge dataset.\n",
    "3. Train this model on the huge dataset.\n",
    "4. Use this model to train on the smaller dataset.\n",
    "\n",
    "\n",
    "### This homework has the following sections:\n",
    "1. Question 1: MNIST fine-tuning (Parts A, B, C, D).\n",
    "2. Question 2: Pretrain on Wikitext2 (Part A, B, C, D)\n",
    "3. Question 3: Finetune on MNLI (Part A, B, C, D)\n",
    "4. Question 4: Finetune using pretrained BERT (Part A, B, C)"
   ]
  },
  {
   "cell_type": "markdown",
   "metadata": {},
   "source": [
    "---   \n",
    "## Question 1 (MNIST transfer learning)\n",
    "To grasp the high-level approach to transfer learning, let's first do a simple example using computer vision. \n",
    "\n",
    "The torchvision library has pretrained models (resnets, vggnets, etc) on the Imagenet dataset. Imagenet is a dataset\n",
    "with 1.3 million images covering over 1000 classes of objects. When you use one of these models, the weights of the model initialize\n",
    "with the weights saved from training on imagenet.\n",
    "\n",
    "In this task we will:\n",
    "1. Choose a pretrained model.\n",
    "2. Freeze the model so that the weights don't change.\n",
    "3. Fine-tune on a few labels of MNIST.   "
   ]
  },
  {
   "cell_type": "markdown",
   "metadata": {},
   "source": [
    "#### Choose a model\n",
    "Here we pick any of the models from torchvision"
   ]
  },
  {
   "cell_type": "code",
   "execution_count": 3,
   "metadata": {},
   "outputs": [
    {
     "name": "stdout",
     "output_type": "stream",
     "text": [
      "0.4.1.post2\n"
     ]
    }
   ],
   "source": [
    "import torchvision\n",
    "print(torchvision.__version__)"
   ]
  },
  {
   "cell_type": "code",
   "execution_count": 4,
   "metadata": {},
   "outputs": [],
   "source": [
    "import torch\n",
    "import torchvision.models as models\n",
    "from torch import nn as nn\n",
    "class Identity(torch.nn.Module):\n",
    "    def __init__(self):\n",
    "        super(Identity, self).__init__()\n",
    "        \n",
    "    def forward(self, x):\n",
    "        return x\n",
    "\n",
    "# init the pretrained feature extractor\n",
    "pretrained_resnet18 = models.resnet18(pretrained=True)\n",
    "\n",
    "# we don't want the built in last layer, we're going to modify it ourselves\n",
    "pretrained_resnet18.fc = Identity()"
   ]
  },
  {
   "cell_type": "code",
   "execution_count": 30,
   "metadata": {
    "collapsed": true
   },
   "outputs": [
    {
     "data": {
      "text/plain": [
       "ResNet(\n",
       "  (conv1): Conv2d(3, 64, kernel_size=(7, 7), stride=(2, 2), padding=(3, 3), bias=False)\n",
       "  (bn1): BatchNorm2d(64, eps=1e-05, momentum=0.1, affine=True, track_running_stats=True)\n",
       "  (relu): ReLU(inplace=True)\n",
       "  (maxpool): MaxPool2d(kernel_size=3, stride=2, padding=1, dilation=1, ceil_mode=False)\n",
       "  (layer1): Sequential(\n",
       "    (0): BasicBlock(\n",
       "      (conv1): Conv2d(64, 64, kernel_size=(3, 3), stride=(1, 1), padding=(1, 1), bias=False)\n",
       "      (bn1): BatchNorm2d(64, eps=1e-05, momentum=0.1, affine=True, track_running_stats=True)\n",
       "      (relu): ReLU(inplace=True)\n",
       "      (conv2): Conv2d(64, 64, kernel_size=(3, 3), stride=(1, 1), padding=(1, 1), bias=False)\n",
       "      (bn2): BatchNorm2d(64, eps=1e-05, momentum=0.1, affine=True, track_running_stats=True)\n",
       "    )\n",
       "    (1): BasicBlock(\n",
       "      (conv1): Conv2d(64, 64, kernel_size=(3, 3), stride=(1, 1), padding=(1, 1), bias=False)\n",
       "      (bn1): BatchNorm2d(64, eps=1e-05, momentum=0.1, affine=True, track_running_stats=True)\n",
       "      (relu): ReLU(inplace=True)\n",
       "      (conv2): Conv2d(64, 64, kernel_size=(3, 3), stride=(1, 1), padding=(1, 1), bias=False)\n",
       "      (bn2): BatchNorm2d(64, eps=1e-05, momentum=0.1, affine=True, track_running_stats=True)\n",
       "    )\n",
       "  )\n",
       "  (layer2): Sequential(\n",
       "    (0): BasicBlock(\n",
       "      (conv1): Conv2d(64, 128, kernel_size=(3, 3), stride=(2, 2), padding=(1, 1), bias=False)\n",
       "      (bn1): BatchNorm2d(128, eps=1e-05, momentum=0.1, affine=True, track_running_stats=True)\n",
       "      (relu): ReLU(inplace=True)\n",
       "      (conv2): Conv2d(128, 128, kernel_size=(3, 3), stride=(1, 1), padding=(1, 1), bias=False)\n",
       "      (bn2): BatchNorm2d(128, eps=1e-05, momentum=0.1, affine=True, track_running_stats=True)\n",
       "      (downsample): Sequential(\n",
       "        (0): Conv2d(64, 128, kernel_size=(1, 1), stride=(2, 2), bias=False)\n",
       "        (1): BatchNorm2d(128, eps=1e-05, momentum=0.1, affine=True, track_running_stats=True)\n",
       "      )\n",
       "    )\n",
       "    (1): BasicBlock(\n",
       "      (conv1): Conv2d(128, 128, kernel_size=(3, 3), stride=(1, 1), padding=(1, 1), bias=False)\n",
       "      (bn1): BatchNorm2d(128, eps=1e-05, momentum=0.1, affine=True, track_running_stats=True)\n",
       "      (relu): ReLU(inplace=True)\n",
       "      (conv2): Conv2d(128, 128, kernel_size=(3, 3), stride=(1, 1), padding=(1, 1), bias=False)\n",
       "      (bn2): BatchNorm2d(128, eps=1e-05, momentum=0.1, affine=True, track_running_stats=True)\n",
       "    )\n",
       "  )\n",
       "  (layer3): Sequential(\n",
       "    (0): BasicBlock(\n",
       "      (conv1): Conv2d(128, 256, kernel_size=(3, 3), stride=(2, 2), padding=(1, 1), bias=False)\n",
       "      (bn1): BatchNorm2d(256, eps=1e-05, momentum=0.1, affine=True, track_running_stats=True)\n",
       "      (relu): ReLU(inplace=True)\n",
       "      (conv2): Conv2d(256, 256, kernel_size=(3, 3), stride=(1, 1), padding=(1, 1), bias=False)\n",
       "      (bn2): BatchNorm2d(256, eps=1e-05, momentum=0.1, affine=True, track_running_stats=True)\n",
       "      (downsample): Sequential(\n",
       "        (0): Conv2d(128, 256, kernel_size=(1, 1), stride=(2, 2), bias=False)\n",
       "        (1): BatchNorm2d(256, eps=1e-05, momentum=0.1, affine=True, track_running_stats=True)\n",
       "      )\n",
       "    )\n",
       "    (1): BasicBlock(\n",
       "      (conv1): Conv2d(256, 256, kernel_size=(3, 3), stride=(1, 1), padding=(1, 1), bias=False)\n",
       "      (bn1): BatchNorm2d(256, eps=1e-05, momentum=0.1, affine=True, track_running_stats=True)\n",
       "      (relu): ReLU(inplace=True)\n",
       "      (conv2): Conv2d(256, 256, kernel_size=(3, 3), stride=(1, 1), padding=(1, 1), bias=False)\n",
       "      (bn2): BatchNorm2d(256, eps=1e-05, momentum=0.1, affine=True, track_running_stats=True)\n",
       "    )\n",
       "  )\n",
       "  (layer4): Sequential(\n",
       "    (0): BasicBlock(\n",
       "      (conv1): Conv2d(256, 512, kernel_size=(3, 3), stride=(2, 2), padding=(1, 1), bias=False)\n",
       "      (bn1): BatchNorm2d(512, eps=1e-05, momentum=0.1, affine=True, track_running_stats=True)\n",
       "      (relu): ReLU(inplace=True)\n",
       "      (conv2): Conv2d(512, 512, kernel_size=(3, 3), stride=(1, 1), padding=(1, 1), bias=False)\n",
       "      (bn2): BatchNorm2d(512, eps=1e-05, momentum=0.1, affine=True, track_running_stats=True)\n",
       "      (downsample): Sequential(\n",
       "        (0): Conv2d(256, 512, kernel_size=(1, 1), stride=(2, 2), bias=False)\n",
       "        (1): BatchNorm2d(512, eps=1e-05, momentum=0.1, affine=True, track_running_stats=True)\n",
       "      )\n",
       "    )\n",
       "    (1): BasicBlock(\n",
       "      (conv1): Conv2d(512, 512, kernel_size=(3, 3), stride=(1, 1), padding=(1, 1), bias=False)\n",
       "      (bn1): BatchNorm2d(512, eps=1e-05, momentum=0.1, affine=True, track_running_stats=True)\n",
       "      (relu): ReLU(inplace=True)\n",
       "      (conv2): Conv2d(512, 512, kernel_size=(3, 3), stride=(1, 1), padding=(1, 1), bias=False)\n",
       "      (bn2): BatchNorm2d(512, eps=1e-05, momentum=0.1, affine=True, track_running_stats=True)\n",
       "    )\n",
       "  )\n",
       "  (avgpool): AdaptiveAvgPool2d(output_size=(1, 1))\n",
       "  (fc): Identity()\n",
       ")"
      ]
     },
     "execution_count": 30,
     "metadata": {},
     "output_type": "execute_result"
    }
   ],
   "source": [
    "pretrained_resnet18"
   ]
  },
  {
   "cell_type": "markdown",
   "metadata": {},
   "source": [
    "#### Freeze the model\n",
    "Here we freeze the weights of the model. Freezing means the gradients will not backpropagate\n",
    "into these weights.\n",
    "\n",
    "By doing this you can think about the model as a feature extractor. This feature extractor outputs\n",
    "a **representation** of an input. This representation is a matrix that encodes information about the input."
   ]
  },
  {
   "cell_type": "code",
   "execution_count": 5,
   "metadata": {},
   "outputs": [],
   "source": [
    "def freeze_model(model):\n",
    "    for param in model.parameters():\n",
    "        param.requires_grad = False\n",
    "        \n",
    "def unfreeze_model(model):\n",
    "    for param in model.parameters():\n",
    "        param.requires_grad = True\n",
    "        \n",
    "freeze_model(pretrained_resnet18)"
   ]
  },
  {
   "cell_type": "code",
   "execution_count": 6,
   "metadata": {},
   "outputs": [
    {
     "name": "stdout",
     "output_type": "stream",
     "text": [
      "Parameters to learn:\n",
      "11,176,512 total parameters.\n",
      "0 training parameters.\n"
     ]
    }
   ],
   "source": [
    "_ = check_grad(pretrained_resnet18)"
   ]
  },
  {
   "cell_type": "markdown",
   "metadata": {},
   "source": [
    "#### Init target dataset\n",
    "Here we define the dataset we are actually interested in."
   ]
  },
  {
   "cell_type": "code",
   "execution_count": 7,
   "metadata": {
    "collapsed": true
   },
   "outputs": [
    {
     "name": "stderr",
     "output_type": "stream",
     "text": [
      "  0%|          | 0/9912422 [00:00<?, ?it/s]"
     ]
    },
    {
     "name": "stdout",
     "output_type": "stream",
     "text": [
      "Downloading http://yann.lecun.com/exdb/mnist/train-images-idx3-ubyte.gz to /Users/lexili24/Fall2019/CourseNLP/submission/HW3/MNIST/raw/train-images-idx3-ubyte.gz\n"
     ]
    },
    {
     "name": "stderr",
     "output_type": "stream",
     "text": [
      "9920512it [00:03, 3074731.94it/s]                             \n"
     ]
    },
    {
     "name": "stdout",
     "output_type": "stream",
     "text": [
      "Extracting /Users/lexili24/Fall2019/CourseNLP/submission/HW3/MNIST/raw/train-images-idx3-ubyte.gz to /Users/lexili24/Fall2019/CourseNLP/submission/HW3/MNIST/raw\n"
     ]
    },
    {
     "name": "stderr",
     "output_type": "stream",
     "text": [
      "32768it [00:00, 503286.38it/s]\n",
      "  1%|          | 16384/1648877 [00:00<00:11, 146899.58it/s]"
     ]
    },
    {
     "name": "stdout",
     "output_type": "stream",
     "text": [
      "Downloading http://yann.lecun.com/exdb/mnist/train-labels-idx1-ubyte.gz to /Users/lexili24/Fall2019/CourseNLP/submission/HW3/MNIST/raw/train-labels-idx1-ubyte.gz\n",
      "Extracting /Users/lexili24/Fall2019/CourseNLP/submission/HW3/MNIST/raw/train-labels-idx1-ubyte.gz to /Users/lexili24/Fall2019/CourseNLP/submission/HW3/MNIST/raw\n",
      "Downloading http://yann.lecun.com/exdb/mnist/t10k-images-idx3-ubyte.gz to /Users/lexili24/Fall2019/CourseNLP/submission/HW3/MNIST/raw/t10k-images-idx3-ubyte.gz\n"
     ]
    },
    {
     "name": "stderr",
     "output_type": "stream",
     "text": [
      "1654784it [00:01, 1373741.29it/s]                             \n",
      "8192it [00:00, 141863.39it/s]\n"
     ]
    },
    {
     "name": "stdout",
     "output_type": "stream",
     "text": [
      "Extracting /Users/lexili24/Fall2019/CourseNLP/submission/HW3/MNIST/raw/t10k-images-idx3-ubyte.gz to /Users/lexili24/Fall2019/CourseNLP/submission/HW3/MNIST/raw\n",
      "Downloading http://yann.lecun.com/exdb/mnist/t10k-labels-idx1-ubyte.gz to /Users/lexili24/Fall2019/CourseNLP/submission/HW3/MNIST/raw/t10k-labels-idx1-ubyte.gz\n",
      "Extracting /Users/lexili24/Fall2019/CourseNLP/submission/HW3/MNIST/raw/t10k-labels-idx1-ubyte.gz to /Users/lexili24/Fall2019/CourseNLP/submission/HW3/MNIST/raw\n",
      "Processing...\n",
      "Done!\n"
     ]
    }
   ],
   "source": [
    "import os\n",
    "from torchvision import transforms\n",
    "from torchvision.datasets import  MNIST\n",
    "from torch.utils.data import DataLoader, random_split\n",
    "import torch.nn.functional as F\n",
    "\n",
    "\n",
    "#  train/val  split\n",
    "mnist_dataset = MNIST(os.getcwd(), train=True, download=True, \n",
    "                      transform = transforms.Compose([\n",
    "                          transforms.Resize((256,256)),\n",
    "                          transforms.Grayscale(3),\n",
    "                          transforms.ToTensor(),\n",
    "                         transforms.Normalize((0.485, 0.456, 0.406), \n",
    "                                              (0.229, 0.224, 0.225))]))\n",
    "mnist_train, mnist_val = random_split(mnist_dataset, [55000, 5000])\n",
    "\n",
    "mnist_train = DataLoader(mnist_train, batch_size=32,shuffle=True)\n",
    "mnist_val = DataLoader(mnist_val, batch_size=32,shuffle=True)\n",
    "\n",
    "# test split\n",
    "mnist_test = DataLoader(MNIST(os.getcwd(), train=False, download=True, \n",
    "                              transform=transforms.Compose([\n",
    "                                transforms.Resize((256,256)),\n",
    "                                transforms.Grayscale(3),\n",
    "                                transforms.ToTensor(),\n",
    "                                transforms.Normalize((0.485, 0.456, 0.406), \n",
    "                                              (0.229, 0.224, 0.225))])\n",
    "                             ), \n",
    "                        batch_size=32,\n",
    "                        shuffle=False)\n",
    "\n",
    "dataloaders = dict()\n",
    "dataloaders['train'] = mnist_train\n",
    "dataloaders['val'] = mnist_val\n"
   ]
  },
  {
   "cell_type": "code",
   "execution_count": 8,
   "metadata": {},
   "outputs": [
    {
     "name": "stdout",
     "output_type": "stream",
     "text": [
      "Image batch dimensions: torch.Size([32, 3, 256, 256])\n",
      "Image label dimensions: torch.Size([32])\n"
     ]
    }
   ],
   "source": [
    "# check dataset\n",
    "for images, targets in mnist_train:\n",
    "    print('Image batch dimensions:', images.shape)\n",
    "    print('Image label dimensions:', targets.shape)\n",
    "    break"
   ]
  },
  {
   "cell_type": "code",
   "execution_count": 9,
   "metadata": {},
   "outputs": [
    {
     "name": "stdout",
     "output_type": "stream",
     "text": [
      "Image batch dimensions: torch.Size([32, 3, 256, 256])\n",
      "Image label dimensions: torch.Size([32])\n"
     ]
    }
   ],
   "source": [
    "for images, targets in mnist_test:\n",
    "    print('Image batch dimensions:', images.shape)\n",
    "    print('Image label dimensions:', targets.shape)\n",
    "    break"
   ]
  },
  {
   "cell_type": "markdown",
   "metadata": {},
   "source": [
    "### Part A (init fine-tune model)\n",
    "decide what model to use for fine-tuning"
   ]
  },
  {
   "cell_type": "code",
   "execution_count": 10,
   "metadata": {},
   "outputs": [],
   "source": [
    "# ResNet\n",
    "def conv3x3(in_planes, out_planes, stride=1, groups=1, dilation=1):\n",
    "    \"\"\"3x3 convolution with padding\"\"\"\n",
    "    return nn.Conv2d(in_planes, out_planes, kernel_size=3, stride=stride,\n",
    "                     padding=dilation, groups=groups, bias=False, dilation=dilation)\n",
    "\n",
    "def conv1x1(in_planes, out_planes, stride=1):\n",
    "    \"\"\"1x1 convolution\"\"\"\n",
    "    return nn.Conv2d(in_planes, out_planes, kernel_size=1, stride=stride, bias=False)\n",
    "\n",
    "class BasicBlock(nn.Module):\n",
    "    expansion = 1\n",
    "\n",
    "    def __init__(self, inplanes, planes, stride=1, downsample=None):\n",
    "        super(BasicBlock, self).__init__()\n",
    "        self.conv1 = conv3x3(inplanes, planes, stride)\n",
    "        self.bn1 = nn.BatchNorm2d(planes)\n",
    "        self.relu = nn.ReLU(inplace=True)\n",
    "        \n",
    "        self.conv2 = conv3x3(planes, planes)\n",
    "        self.bn2 = nn.BatchNorm2d(planes)\n",
    "        self.downsample = downsample\n",
    "        self.stride = stride\n",
    "\n",
    "    def forward(self, x):\n",
    "        residual = x\n",
    "\n",
    "        out = self.conv1(x)\n",
    "        out = self.bn1(out)\n",
    "        out = self.relu(out)\n",
    "\n",
    "        out = self.conv2(out)\n",
    "        out = self.bn2(out)\n",
    "\n",
    "        if self.downsample is not None:\n",
    "            residual = self.downsample(x)\n",
    "\n",
    "        out += residual\n",
    "        out = self.relu(out)\n",
    "\n",
    "        return out\n",
    "\n",
    "class finetune_resnet(nn.Module):\n",
    "    def __init__(self, input_size, n_classes, block, inplanes=512, planes = 1024, blocks = 2, stride=1, norm_layer=None):\n",
    "        super(finetune_resnet, self).__init__()\n",
    "        if norm_layer is None:\n",
    "            self._norm_layer = nn.BatchNorm2d\n",
    "            \n",
    "        self.layer5 = self._make_layer(block, inplanes, planes, blocks , stride=2) \n",
    "        self.avgpool = nn.AdaptiveAvgPool2d((1, 1)) ## new \n",
    "        self.fc = nn.Linear(planes * block.expansion, n_classes)\n",
    "        self.softmax = nn.LogSoftmax(dim=1)\n",
    "\n",
    "    def _make_layer(self, block, inplanes, planes, blocks, stride=1):\n",
    "        norm_layer = self._norm_layer\n",
    "        downsample = None\n",
    "        if stride != 1 or inplanes != planes * block.expansion:\n",
    "            downsample = nn.Sequential(\n",
    "                conv1x1(inplanes, planes * block.expansion, stride),\n",
    "                norm_layer(planes * block.expansion),\n",
    "            )\n",
    "           # print(downsample)\n",
    "        layers = []\n",
    "        layers.append(block(inplanes, planes, stride, downsample))\n",
    "        inplanes = planes * block.expansion\n",
    "        for _ in range(1, blocks):\n",
    "            layers.append(block(inplanes, planes, stride=1,downsample=None))\n",
    "\n",
    "        return nn.Sequential(*layers)\n",
    "    \n",
    "    def forward(self, x):\n",
    "        x = self.layer5(x)\n",
    "        x = self.avgpool(x)\n",
    "        x = torch.flatten(x, 1)\n",
    "        x = self.fc(x)\n",
    "        x = self.softmax(x)\n",
    "        return x \n",
    "\n",
    "def init_fine_tune_model_resnet():\n",
    "    return finetune_resnet(input_size= 512, n_classes=10, block=BasicBlock)"
   ]
  },
  {
   "cell_type": "code",
   "execution_count": 11,
   "metadata": {},
   "outputs": [],
   "source": [
    "pretrained_resnet18_s = nn.Sequential(*list(pretrained_resnet18.children())[:-2])"
   ]
  },
  {
   "cell_type": "markdown",
   "metadata": {},
   "source": [
    "### Part B (Fine-tune (Frozen))\n",
    "\n",
    "The actual problem we care about solving likely has a different number of classes or is a different task altogether. Fine-tuning is the process of using the extracted representations (features) to solve this downstream task  (the task you're interested in).\n",
    "\n",
    "To illustrate this, we'll use our pretrained model (on Imagenet), to solve the MNIST classification task.\n",
    "\n",
    "There are two types of finetuning. \n",
    "\n",
    "#### 1. Frozen feature_extractor\n",
    "In the first type we pretrain with the FROZEN feature_extractor and NEVER unfreeze it during finetuning.\n",
    "\n",
    "\n",
    "#### 2. Unfrozen feature_extractor\n",
    "In the second, we finetune with a FROZEN feature_extractor for a few epochs, then unfreeze the feature extractor and finish training.\n",
    "\n",
    "\n",
    "In this part we will use the first version"
   ]
  },
  {
   "cell_type": "code",
   "execution_count": 15,
   "metadata": {
    "collapsed": true
   },
   "outputs": [],
   "source": [
    "def train_val(model_ft, optimizer, criterion, dataloaders, device, num_epochs, save_location): \n",
    "    '''\n",
    "    This model takes input of multiple models and return trianing and validation losses \n",
    "    '''\n",
    "    train_acc_history, val_acc_history = [], []\n",
    "    best_acc = 0.0\n",
    "    since = time.time()\n",
    "    \n",
    "    for epoch in range(num_epochs):\n",
    "        print('Epoch {}/{}'.format(epoch, num_epochs - 1))\n",
    "        print('-' * 40)\n",
    "\n",
    "        # Each epoch has a training and validation phase\n",
    "        for phase, dataloader in dataloaders.items():\n",
    "            if phase == 'train':\n",
    "                model_ft.train()\n",
    "            else:\n",
    "                model_ft.eval()\n",
    "                \n",
    "            running_loss = 0.0\n",
    "            running_corrects = 0\n",
    "\n",
    "            # Iterate over data\n",
    "            for inputs, labels in dataloader:\n",
    "                inputs = inputs.to(device)\n",
    "                labels = labels.to(device)\n",
    "                \n",
    "                # why is it necessary?? \n",
    "                inputs.requires_grad = True\n",
    "                \n",
    "                # zero the parameter gradients\n",
    "                optimizer.zero_grad()\n",
    "\n",
    "                with torch.set_grad_enabled(phase == 'train'):\n",
    "                \n",
    "                    outputs = model_ft(inputs)\n",
    "                    loss = criterion(outputs, labels)\n",
    "                    preds = torch.max(outputs, 1)[1]\n",
    "\n",
    "                    # backward + optimize only if in training phase\n",
    "                    if phase == 'train':\n",
    "                        loss.backward()\n",
    "                        optimizer.step()\n",
    "\n",
    "                    # statistics\n",
    "                running_loss += loss.item() * inputs.size(0)\n",
    "                running_corrects += torch.sum(preds == labels.data)\n",
    "                \n",
    "            epoch_loss = running_loss / len(dataloaders[phase].dataset)\n",
    "            epoch_acc = running_corrects.double() / len(dataloaders[phase].dataset)\n",
    "            print('{} Loss: {:.4f} Acc: {:.4f}'.format(phase, epoch_loss, epoch_acc))\n",
    "\n",
    "            # deep copy the model\n",
    "            if phase == 'val' and epoch_acc > best_acc:\n",
    "                best_acc = epoch_acc\n",
    "                best_model_ft_dict = copy.deepcopy(model_ft.state_dict())\n",
    "                best_model_ft = model_ft\n",
    "            if phase == 'val':\n",
    "                val_acc_history.append(epoch_acc.item())\n",
    "            if phase == 'train':\n",
    "                train_acc_history.append(epoch_acc.item())\n",
    "            \n",
    "            \n",
    "        _ = calculate_mnist_test_accuracy(model_ft)\n",
    "    time_elapsed = time.time() - since\n",
    "    print('Training complete in {:.0f}m {:.0f}s'.format(time_elapsed // 60, time_elapsed % 60))\n",
    "    print('Best val Acc: {:4f}'.format(best_acc))\n",
    "    \n",
    "    print('Saving best model at {}'.format(save_location))\n",
    "    torch.save({\n",
    "    'train_loss': train_acc_history,\n",
    "    'val_loss': val_acc_history,\n",
    "    'model_dict': best_model_ft_dict\n",
    "            }, './{}.pt'.format(save_location))\n",
    "    \n",
    "    return best_model_ft, train_acc_history, val_acc_history"
   ]
  },
  {
   "cell_type": "code",
   "execution_count": 16,
   "metadata": {
    "collapsed": true
   },
   "outputs": [],
   "source": [
    "## abbrev version\n",
    "def FROZEN_fine_tune_mnist(feature_extractor, fine_tune_model, dataloaders, num_epochs, location):\n",
    "    \"\"\"\n",
    "    model is a feature extractor (resnet).\n",
    "    Create a new model which uses those features to finetune on MNIST\n",
    "    \n",
    "    return the fine_tune model\n",
    "    \"\"\"         \n",
    "    n_inputs = models.resnet18(pretrained=True).fc.in_features\n",
    "    n_classes = 10\n",
    "\n",
    "    # cpu/gpu\n",
    "    device = torch.device('cuda:0' if torch.cuda.is_available() else 'cpu')\n",
    "    \n",
    "    # put model on device\n",
    "    fine_tune_model = fine_tune_model()\n",
    "    feature_extractor.fc = fine_tune_model\n",
    "    feature_extractor.to(device)\n",
    "    print('Training on', device)  \n",
    "    params_to_update= check_grad(feature_extractor)  \n",
    "\n",
    "    optimizer = optim.SGD(params_to_update, lr=0.001, momentum=0.9)\n",
    "\n",
    "    criterion = nn.CrossEntropyLoss()\n",
    "\n",
    "    print('Frozen feature extractor and train fine tune for {} epochs on {}'.format(num_epochs, device)) \n",
    "    \n",
    "    \n",
    "    best_model_ft, train_acc_history, val_acc_history = train_val(feature_extractor, \n",
    "                                                                     optimizer, \n",
    "                                                                     criterion, dataloaders,\n",
    "                                                                      device,\n",
    "                                                                     num_epochs, location)   \n",
    "\n",
    "    \n",
    "    \n",
    "    return best_model_ft, train_acc_history, val_acc_history"
   ]
  },
  {
   "cell_type": "code",
   "execution_count": 17,
   "metadata": {
    "collapsed": true
   },
   "outputs": [],
   "source": [
    "def UNFROZEN_fine_tune_mnist(feature_extractor, fine_tune_model, dataloaders, num_epochs, location):\n",
    "    \"\"\"\n",
    "    model is a feature extractor (resnet).\n",
    "    Create a new model which uses those features to finetune on MNIST\n",
    "    \n",
    "    return the fine_tune model\n",
    "    \"\"\"     \n",
    "    # INSERT YOUR CODE:\n",
    "    n_inputs = models.resnet18(pretrained=True).fc.in_features\n",
    "    n_classes = 10\n",
    "    device = torch.device('cuda:0' if torch.cuda.is_available() else 'cpu')\n",
    "    \n",
    "    fine_tune_model = fine_tune_model()\n",
    "\n",
    "    criterion = nn.CrossEntropyLoss()\n",
    "    \n",
    "    # Frozen First \n",
    "    model_fr = feature_extractor\n",
    "    freeze_model(model_fr)\n",
    "    model_fr.fc = fine_tune_model\n",
    "    model_fr.to(device)\n",
    "    print('Frist freeze feature extractor and only train finetune model for {} epochs on {}'.format(num_epochs, device)) \n",
    "    params_to_update = check_grad(model_fr)\n",
    "    optimizer = optim.SGD(params_to_update, lr=0.001, momentum=0.9)\n",
    "    best_model_ft, train_acc_history_f, val_acc_history_f = train_val(model_fr, \n",
    "                                                                     optimizer, \n",
    "                                                                     criterion, dataloaders,\n",
    "                                                                     device, num_epochs,\n",
    "                                                                     location)\n",
    "\n",
    "\n",
    "    \n",
    "    # Train on the all model\n",
    "    unfreeze_model(best_model_ft)\n",
    "    best_model_ft.to(device)\n",
    "    print('Next unfreeze feature extractor and train both models for {} epochs on {}'.format(num_epochs, device)) \n",
    "    params_to_update = check_grad(best_model_ft) # make sure all grads are now require_grad\n",
    "    optimizer = optim.SGD(params_to_update, lr=0.001, momentum=0.9) # update the trainable parameters\n",
    "    best_model_ft, train_acc_history_unf, val_acc_history_unf = train_val(best_model_ft, \n",
    "                                                                     optimizer, \n",
    "                                                                     criterion, dataloaders,\n",
    "                                                                     device, num_epochs,\n",
    "                                                                     location)\n",
    "\n",
    "\n",
    "    return best_model_ft, train_acc_history_f+train_acc_history_unf, val_acc_history_f + val_acc_history_unf\n"
   ]
  },
  {
   "cell_type": "markdown",
   "metadata": {},
   "source": [
    "### Part C (compute test accuracy)\n",
    "Compute the test accuracy of fine-tuned model on MNIST"
   ]
  },
  {
   "cell_type": "code",
   "execution_count": 12,
   "metadata": {},
   "outputs": [],
   "source": [
    "def calculate_mnist_test_accuracy(feature_extractor, fine_tune_model = None):\n",
    "    \n",
    "    test_correct = 0 # YOUR CODE HERE...\n",
    "    test_loss = 0\n",
    "    \n",
    "    device = torch.device('cuda:0' if torch.cuda.is_available() else 'cpu')\n",
    "    \n",
    "    if fine_tune_model:\n",
    "        feature_extractor.fc = fine_tune_model()   \n",
    "        \n",
    "    feature_extractor.to(device)\n",
    "    feature_extractor.eval()\n",
    "\n",
    "    criterion = nn.CrossEntropyLoss()\n",
    "    \n",
    "    for inputs, labels in mnist_test:\n",
    "        inputs = inputs.to(device)\n",
    "        labels = labels.to(device)\n",
    "\n",
    "        logits = feature_extractor(inputs)\n",
    "\n",
    "        outputs = F.softmax(logits, dim =1)\n",
    "\n",
    "        preds = torch.max(outputs, 1)[1]\n",
    "        loss = criterion(outputs, labels)\n",
    "\n",
    "        # statistics\n",
    "        test_loss += loss.item() * labels.size(0)\n",
    "        test_correct += preds.eq(labels.view_as(preds).to(device)).sum().item()\n",
    "\n",
    "    epoch_loss = test_loss / len(mnist_test.dataset)\n",
    "    epoch_acc = test_correct / len(mnist_test.dataset)\n",
    "    print('Test Loss: {:.4f} Acc: {:.4f}'.format(epoch_loss, epoch_acc))\n",
    "\n",
    "    return epoch_acc, epoch_loss"
   ]
  },
  {
   "cell_type": "markdown",
   "metadata": {},
   "source": [
    "### Grade!\n",
    "Let's see how you did"
   ]
  },
  {
   "cell_type": "code",
   "execution_count": 19,
   "metadata": {},
   "outputs": [
    {
     "name": "stdout",
     "output_type": "stream",
     "text": [
      "Training on cuda:0\n",
      "Parameters to learn:\n",
      "\t fc.layer5.0.conv1.weight\n",
      "\t fc.layer5.0.bn1.weight\n",
      "\t fc.layer5.0.bn1.bias\n",
      "\t fc.layer5.0.conv2.weight\n",
      "\t fc.layer5.0.bn2.weight\n",
      "\t fc.layer5.0.bn2.bias\n",
      "\t fc.layer5.0.downsample.0.weight\n",
      "\t fc.layer5.0.downsample.1.weight\n",
      "\t fc.layer5.0.downsample.1.bias\n",
      "\t fc.layer5.1.conv1.weight\n",
      "\t fc.layer5.1.bn1.weight\n",
      "\t fc.layer5.1.bn1.bias\n",
      "\t fc.layer5.1.conv2.weight\n",
      "\t fc.layer5.1.bn2.weight\n",
      "\t fc.layer5.1.bn2.bias\n",
      "\t fc.fc.weight\n",
      "\t fc.fc.bias\n",
      "44,751,434 total parameters.\n",
      "33,574,922 training parameters.\n",
      "Frozen feature extractor and train fine tune for 6 epochs on cuda:0\n",
      "Epoch 0/5\n",
      "----------------------------------------\n",
      "train Loss: 0.1340 Acc: 0.9609\n",
      "val Loss: 0.0484 Acc: 0.9848\n",
      "Test Loss: 1.6358 Acc: 0.8786\n",
      "Epoch 1/5\n",
      "----------------------------------------\n",
      "train Loss: 0.0393 Acc: 0.9880\n",
      "val Loss: 0.0364 Acc: 0.9892\n",
      "Test Loss: 1.6099 Acc: 0.8879\n",
      "Epoch 2/5\n",
      "----------------------------------------\n",
      "train Loss: 0.0204 Acc: 0.9940\n",
      "val Loss: 0.0357 Acc: 0.9892\n",
      "Test Loss: 1.6161 Acc: 0.8833\n",
      "Epoch 3/5\n",
      "----------------------------------------\n",
      "train Loss: 0.0105 Acc: 0.9972\n",
      "val Loss: 0.0367 Acc: 0.9900\n",
      "Test Loss: 1.6017 Acc: 0.8900\n",
      "Epoch 4/5\n",
      "----------------------------------------\n",
      "train Loss: 0.0071 Acc: 0.9983\n",
      "val Loss: 0.0340 Acc: 0.9904\n",
      "Test Loss: 1.5587 Acc: 0.9343\n",
      "Epoch 5/5\n",
      "----------------------------------------\n",
      "train Loss: 0.0050 Acc: 0.9989\n",
      "val Loss: 0.0327 Acc: 0.9900\n",
      "Test Loss: 1.5671 Acc: 0.9188\n",
      "Training complete in 28m 41s\n",
      "Best val Acc: 0.990400\n",
      "Saving best model at best_frozen_resnet\n",
      "Test Loss: 1.5671 Acc: 0.9188\n"
     ]
    }
   ],
   "source": [
    "def grade_mnist_frozen():\n",
    "    freeze_model(pretrained_resnet18_s)\n",
    "\n",
    "    # run the transfer learning routine\n",
    "    #model_frozen, train_froz, val_froz = FROZEN_fine_tune_mnist(pretrained_resnet18, init_fine_tune_model, \n",
    "    #                                                            dataloaders, num_epochs= 10, location='best_frozen_mlp')\n",
    "    model_frozen, train_froz, val_froz = FROZEN_fine_tune_mnist(pretrained_resnet18_s, init_fine_tune_model_resnet,\n",
    "                                                                dataloaders, num_epochs=6, location='best_frozen_resnet')\n",
    "    # calculate test accuracy\n",
    "    test_accuracy, test_loss = calculate_mnist_test_accuracy(model_frozen)\n",
    "    \n",
    "    # the real threshold will be released by Oct 11 \n",
    "    assert test_accuracy > 80.0, 'your accuracy is too low...'\n",
    "    \n",
    "    return test_accuracy\n",
    "    \n",
    "frozen_test_accuracy = grade_mnist_frozen()\n"
   ]
  },
  {
   "cell_type": "code",
   "execution_count": 1,
   "metadata": {},
   "outputs": [],
   "source": [
    "# MD5 (best_frozen_resnet.pt) = 64818c86bb6992a675b40b269361dcc2"
   ]
  },
  {
   "cell_type": "markdown",
   "metadata": {},
   "source": [
    "### Part D (Fine-tune Unfrozen)\n",
    "Now we'll learn how to train using the \"unfrozen\" approach.\n",
    "\n",
    "In this approach we'll:\n",
    "1. keep the feature_extract frozen for a few epochs (10)\n",
    "2. Unfreeze it.\n",
    "3. Finish training"
   ]
  },
  {
   "cell_type": "markdown",
   "metadata": {},
   "source": [
    "### Grade UNFROZEN\n",
    "Let's see if there's a difference in accuracy!"
   ]
  },
  {
   "cell_type": "code",
   "execution_count": 20,
   "metadata": {},
   "outputs": [
    {
     "name": "stdout",
     "output_type": "stream",
     "text": [
      "Frist freeze feature extractor and only train finetune model for 10 epochs on cuda:0\n",
      "Parameters to learn:\n",
      "\t fc.layer5.0.conv1.weight\n",
      "\t fc.layer5.0.bn1.weight\n",
      "\t fc.layer5.0.bn1.bias\n",
      "\t fc.layer5.0.conv2.weight\n",
      "\t fc.layer5.0.bn2.weight\n",
      "\t fc.layer5.0.bn2.bias\n",
      "\t fc.layer5.0.downsample.0.weight\n",
      "\t fc.layer5.0.downsample.1.weight\n",
      "\t fc.layer5.0.downsample.1.bias\n",
      "\t fc.layer5.1.conv1.weight\n",
      "\t fc.layer5.1.bn1.weight\n",
      "\t fc.layer5.1.bn1.bias\n",
      "\t fc.layer5.1.conv2.weight\n",
      "\t fc.layer5.1.bn2.weight\n",
      "\t fc.layer5.1.bn2.bias\n",
      "\t fc.fc.weight\n",
      "\t fc.fc.bias\n",
      "44,751,434 total parameters.\n",
      "33,574,922 training parameters.\n",
      "Epoch 0/9\n",
      "----------------------------------------\n",
      "train Loss: 0.1327 Acc: 0.9614\n",
      "val Loss: 0.0532 Acc: 0.9834\n",
      "Test Loss: 1.6837 Acc: 0.8296\n",
      "Epoch 1/9\n",
      "----------------------------------------\n",
      "train Loss: 0.0391 Acc: 0.9878\n",
      "val Loss: 0.0404 Acc: 0.9880\n",
      "Test Loss: 1.5906 Acc: 0.9129\n",
      "Epoch 2/9\n",
      "----------------------------------------\n",
      "train Loss: 0.0200 Acc: 0.9940\n",
      "val Loss: 0.0371 Acc: 0.9892\n",
      "Test Loss: 1.5833 Acc: 0.9151\n",
      "Epoch 3/9\n",
      "----------------------------------------\n",
      "train Loss: 0.0100 Acc: 0.9975\n",
      "val Loss: 0.0356 Acc: 0.9894\n",
      "Test Loss: 1.5756 Acc: 0.9156\n",
      "Epoch 4/9\n",
      "----------------------------------------\n",
      "train Loss: 0.0074 Acc: 0.9981\n",
      "val Loss: 0.0364 Acc: 0.9902\n",
      "Test Loss: 1.5584 Acc: 0.9325\n",
      "Epoch 5/9\n",
      "----------------------------------------\n",
      "train Loss: 0.0057 Acc: 0.9987\n",
      "val Loss: 0.0313 Acc: 0.9908\n",
      "Test Loss: 1.5627 Acc: 0.9290\n",
      "Epoch 6/9\n",
      "----------------------------------------\n",
      "train Loss: 0.0040 Acc: 0.9991\n",
      "val Loss: 0.0294 Acc: 0.9910\n",
      "Test Loss: 1.5664 Acc: 0.9222\n",
      "Epoch 7/9\n",
      "----------------------------------------\n",
      "train Loss: 0.0031 Acc: 0.9995\n",
      "val Loss: 0.0388 Acc: 0.9896\n",
      "Test Loss: 1.5564 Acc: 0.9281\n",
      "Epoch 8/9\n",
      "----------------------------------------\n",
      "train Loss: 0.0020 Acc: 0.9997\n",
      "val Loss: 0.0308 Acc: 0.9914\n",
      "Test Loss: 1.5655 Acc: 0.9206\n",
      "Epoch 9/9\n",
      "----------------------------------------\n",
      "train Loss: 0.0015 Acc: 0.9998\n",
      "val Loss: 0.0324 Acc: 0.9906\n",
      "Test Loss: 1.5628 Acc: 0.9212\n",
      "Training complete in 47m 50s\n",
      "Best val Acc: 0.991400\n",
      "Saving best model at best_unfrozen_resnet\n",
      "Next unfreeze feature extractor and train both models for 10 epochs on cuda:0\n",
      "Parameters to learn:\n",
      "\t 0.weight\n",
      "\t 1.weight\n",
      "\t 1.bias\n",
      "\t 4.0.conv1.weight\n",
      "\t 4.0.bn1.weight\n",
      "\t 4.0.bn1.bias\n",
      "\t 4.0.conv2.weight\n",
      "\t 4.0.bn2.weight\n",
      "\t 4.0.bn2.bias\n",
      "\t 4.1.conv1.weight\n",
      "\t 4.1.bn1.weight\n",
      "\t 4.1.bn1.bias\n",
      "\t 4.1.conv2.weight\n",
      "\t 4.1.bn2.weight\n",
      "\t 4.1.bn2.bias\n",
      "\t 5.0.conv1.weight\n",
      "\t 5.0.bn1.weight\n",
      "\t 5.0.bn1.bias\n",
      "\t 5.0.conv2.weight\n",
      "\t 5.0.bn2.weight\n",
      "\t 5.0.bn2.bias\n",
      "\t 5.0.downsample.0.weight\n",
      "\t 5.0.downsample.1.weight\n",
      "\t 5.0.downsample.1.bias\n",
      "\t 5.1.conv1.weight\n",
      "\t 5.1.bn1.weight\n",
      "\t 5.1.bn1.bias\n",
      "\t 5.1.conv2.weight\n",
      "\t 5.1.bn2.weight\n",
      "\t 5.1.bn2.bias\n",
      "\t 6.0.conv1.weight\n",
      "\t 6.0.bn1.weight\n",
      "\t 6.0.bn1.bias\n",
      "\t 6.0.conv2.weight\n",
      "\t 6.0.bn2.weight\n",
      "\t 6.0.bn2.bias\n",
      "\t 6.0.downsample.0.weight\n",
      "\t 6.0.downsample.1.weight\n",
      "\t 6.0.downsample.1.bias\n",
      "\t 6.1.conv1.weight\n",
      "\t 6.1.bn1.weight\n",
      "\t 6.1.bn1.bias\n",
      "\t 6.1.conv2.weight\n",
      "\t 6.1.bn2.weight\n",
      "\t 6.1.bn2.bias\n",
      "\t 7.0.conv1.weight\n",
      "\t 7.0.bn1.weight\n",
      "\t 7.0.bn1.bias\n",
      "\t 7.0.conv2.weight\n",
      "\t 7.0.bn2.weight\n",
      "\t 7.0.bn2.bias\n",
      "\t 7.0.downsample.0.weight\n",
      "\t 7.0.downsample.1.weight\n",
      "\t 7.0.downsample.1.bias\n",
      "\t 7.1.conv1.weight\n",
      "\t 7.1.bn1.weight\n",
      "\t 7.1.bn1.bias\n",
      "\t 7.1.conv2.weight\n",
      "\t 7.1.bn2.weight\n",
      "\t 7.1.bn2.bias\n",
      "\t fc.layer5.0.conv1.weight\n",
      "\t fc.layer5.0.bn1.weight\n",
      "\t fc.layer5.0.bn1.bias\n",
      "\t fc.layer5.0.conv2.weight\n",
      "\t fc.layer5.0.bn2.weight\n",
      "\t fc.layer5.0.bn2.bias\n",
      "\t fc.layer5.0.downsample.0.weight\n",
      "\t fc.layer5.0.downsample.1.weight\n",
      "\t fc.layer5.0.downsample.1.bias\n",
      "\t fc.layer5.1.conv1.weight\n",
      "\t fc.layer5.1.bn1.weight\n",
      "\t fc.layer5.1.bn1.bias\n",
      "\t fc.layer5.1.conv2.weight\n",
      "\t fc.layer5.1.bn2.weight\n",
      "\t fc.layer5.1.bn2.bias\n",
      "\t fc.fc.weight\n",
      "\t fc.fc.bias\n",
      "44,751,434 total parameters.\n",
      "44,751,434 training parameters.\n",
      "Epoch 0/9\n",
      "----------------------------------------\n",
      "train Loss: 0.0484 Acc: 0.9867\n",
      "val Loss: 0.0216 Acc: 0.9928\n",
      "Test Loss: 1.4713 Acc: 0.9925\n",
      "Epoch 1/9\n",
      "----------------------------------------\n",
      "train Loss: 0.0142 Acc: 0.9954\n",
      "val Loss: 0.0223 Acc: 0.9942\n",
      "Test Loss: 1.4683 Acc: 0.9943\n",
      "Epoch 2/9\n",
      "----------------------------------------\n",
      "train Loss: 0.0073 Acc: 0.9977\n",
      "val Loss: 0.0190 Acc: 0.9938\n",
      "Test Loss: 1.4677 Acc: 0.9943\n",
      "Epoch 3/9\n",
      "----------------------------------------\n",
      "train Loss: 0.0037 Acc: 0.9989\n",
      "val Loss: 0.0172 Acc: 0.9956\n",
      "Test Loss: 1.4665 Acc: 0.9956\n",
      "Epoch 4/9\n",
      "----------------------------------------\n",
      "train Loss: 0.0025 Acc: 0.9992\n",
      "val Loss: 0.0178 Acc: 0.9948\n",
      "Test Loss: 1.4668 Acc: 0.9950\n",
      "Epoch 5/9\n",
      "----------------------------------------\n",
      "train Loss: 0.0016 Acc: 0.9996\n",
      "val Loss: 0.0215 Acc: 0.9952\n",
      "Test Loss: 1.4677 Acc: 0.9943\n",
      "Epoch 6/9\n",
      "----------------------------------------\n",
      "train Loss: 0.0010 Acc: 0.9998\n",
      "val Loss: 0.0147 Acc: 0.9962\n",
      "Test Loss: 1.4660 Acc: 0.9963\n",
      "Epoch 7/9\n",
      "----------------------------------------\n",
      "train Loss: 0.0006 Acc: 0.9999\n",
      "val Loss: 0.0172 Acc: 0.9962\n",
      "Test Loss: 1.4665 Acc: 0.9948\n",
      "Epoch 8/9\n",
      "----------------------------------------\n",
      "train Loss: 0.0004 Acc: 1.0000\n",
      "val Loss: 0.0163 Acc: 0.9966\n",
      "Test Loss: 1.4661 Acc: 0.9956\n",
      "Epoch 9/9\n",
      "----------------------------------------\n",
      "train Loss: 0.0003 Acc: 0.9999\n",
      "val Loss: 0.0166 Acc: 0.9960\n",
      "Test Loss: 1.4662 Acc: 0.9958\n",
      "Training complete in 54m 52s\n",
      "Best val Acc: 0.996600\n",
      "Saving best model at best_unfrozen_resnet\n",
      "Test Loss: 1.4662 Acc: 0.9958\n"
     ]
    }
   ],
   "source": [
    "def grade_mnist_unfrozen(frozen_test_accuracy = 80):\n",
    "    \n",
    "    # run the transfer learning routine\n",
    "    best_unfroz, train_unfroz, val_unfroz = UNFROZEN_fine_tune_mnist(pretrained_resnet18_s, \n",
    "                                                                    init_fine_tune_model_resnet, \n",
    "                                                                     dataloaders, num_epochs=10, \n",
    "                                                                     location='best_unfrozen_resnet')\n",
    "    \n",
    "    # calculate test accuracy\n",
    "    test_accuracy, test_loss = calculate_mnist_test_accuracy(best_unfroz)\n",
    "    \n",
    "    # the real threshold will be released by Oct 11 \n",
    "    assert test_accuracy > frozen_test_accuracy, 'your accuracy is too low...'\n",
    "    \n",
    "    return test_accuracy\n",
    "    \n",
    "unfrozen_test_accuracy = grade_mnist_unfrozen(frozen_test_accuracy)"
   ]
  },
  {
   "cell_type": "code",
   "execution_count": 21,
   "metadata": {
    "collapsed": true
   },
   "outputs": [],
   "source": [
    "assert unfrozen_test_accuracy > frozen_test_accuracy, 'the unfrozen model should be better'"
   ]
  },
  {
   "cell_type": "code",
   "execution_count": 2,
   "metadata": {},
   "outputs": [],
   "source": [
    "# MD5 (best_unfrozen_resnet.pt) = fccf6b708d2c1bd595e55688c7a47582"
   ]
  },
  {
   "cell_type": "code",
   "execution_count": 14,
   "metadata": {},
   "outputs": [
    {
     "name": "stdout",
     "output_type": "stream",
     "text": [
      "Test Loss: 1.4753 Acc: 0.9893\n"
     ]
    }
   ],
   "source": [
    "fine_tune_model = init_fine_tune_model_resnet()\n",
    "model = pretrained_resnet18_s\n",
    "model.fc = fine_tune_model\n",
    "\n",
    "model.load_state_dict(torch.load('best_frozen_resnet.pt',map_location=lambda storage, loc: storage)['model_dict'])\n",
    "model.eval()\n",
    "\n",
    "test_acc, test_loss = calculate_mnist_test_accuracy(model)"
   ]
  },
  {
   "cell_type": "code",
   "execution_count": null,
   "metadata": {},
   "outputs": [],
   "source": [
    "fine_tune_model = init_fine_tune_model_resnet()\n",
    "model = pretrained_resnet18_s\n",
    "model.fc = fine_tune_model\n",
    "\n",
    "model.load_state_dict(torch.load('best_unfrozen_resnet.pt',map_location=lambda storage, loc: storage)['model_dict'])\n",
    "model.eval()\n",
    "\n",
    "test_acc, test_loss = calculate_mnist_test_accuracy(model)"
   ]
  },
  {
   "cell_type": "code",
   "execution_count": null,
   "metadata": {},
   "outputs": [],
   "source": [
    "plt.imshow(inputs[0].numpy()[:, :, 2].astype(np.float32), cmap=plt.get_cmap('gray'))"
   ]
  },
  {
   "cell_type": "code",
   "execution_count": 25,
   "metadata": {},
   "outputs": [
    {
     "data": {
      "text/plain": [
       "<matplotlib.legend.Legend at 0x1a22e1aa20>"
      ]
     },
     "execution_count": 25,
     "metadata": {},
     "output_type": "execute_result"
    },
    {
     "data": {
      "image/png": "[encoded data removed]",
      "text/plain": [
       "<Figure size 432x288 with 1 Axes>"
      ]
     },
     "metadata": {
      "needs_background": "light"
     },
     "output_type": "display_data"
    }
   ],
   "source": [
    "frozen_train_acc = torch.load('best_frozen_resnet.pt',map_location=lambda storage, loc: storage)['train_loss']\n",
    "frozen_val_acc = torch.load('best_frozen_resnet.pt',map_location=lambda storage, loc: storage)['val_loss']\n",
    "\n",
    "fig = plt.figure()\n",
    "ax = plt.axes()\n",
    "\n",
    "x = np.linspace(1, len(frozen_train_acc), len(frozen_train_acc))\n",
    "ax.plot(x, frozen_train_acc, label = 'train');\n",
    "ax.plot(x, frozen_val_acc, label = 'val');\n",
    "plt.title(\"Accuracy curve\")\n",
    "plt.xlabel('epoch')\n",
    "plt.ylabel('accuracy')\n",
    "plt.legend()"
   ]
  },
  {
   "cell_type": "code",
   "execution_count": 26,
   "metadata": {},
   "outputs": [
    {
     "data": {
      "text/plain": [
       "<matplotlib.legend.Legend at 0x1a22eb5780>"
      ]
     },
     "execution_count": 26,
     "metadata": {},
     "output_type": "execute_result"
    },
    {
     "data": {
      "image/png": "[encoded data removed]",
      "text/plain": [
       "<Figure size 432x288 with 1 Axes>"
      ]
     },
     "metadata": {
      "needs_background": "light"
     },
     "output_type": "display_data"
    }
   ],
   "source": [
    "unfrozen_train_acc = torch.load('best_unfrozen_resnet.pt',map_location=lambda storage, loc: storage)['train_loss']\n",
    "unfrozen_val_acc = torch.load('best_unfrozen_resnet.pt',map_location=lambda storage, loc: storage)['val_loss']\n",
    "\n",
    "fig = plt.figure()\n",
    "ax = plt.axes()\n",
    "\n",
    "x = np.linspace(1, len(unfrozen_train_acc), len(unfrozen_train_acc))\n",
    "ax.plot(x, unfrozen_train_acc, label = 'train');\n",
    "ax.plot(x, unfrozen_val_acc, label = 'val');\n",
    "plt.title(\"Accuracy curve\")\n",
    "plt.xlabel('epoch')\n",
    "plt.ylabel('accuracy')\n",
    "plt.legend()"
   ]
  },
  {
   "cell_type": "code",
   "execution_count": null,
   "metadata": {},
   "outputs": [],
   "source": []
  }
 ],
 "metadata": {
  "kernelspec": {
   "display_name": "Python 3",
   "language": "python",
   "name": "python3"
  },
  "language_info": {
   "codemirror_mode": {
    "name": "ipython",
    "version": 3
   },
   "file_extension": ".py",
   "mimetype": "text/x-python",
   "name": "python",
   "nbconvert_exporter": "python",
   "pygments_lexer": "ipython3",
   "version": "3.7.1"
  }
 },
 "nbformat": 4,
 "nbformat_minor": 4
}
